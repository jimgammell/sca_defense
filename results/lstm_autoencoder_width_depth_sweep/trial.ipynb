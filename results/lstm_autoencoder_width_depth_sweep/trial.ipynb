{
 "cells": [
  {
   "cell_type": "code",
   "execution_count": 1,
   "id": "c1fd6b75",
   "metadata": {},
   "outputs": [],
   "source": [
    "import os\n",
    "os.chdir('./../..')\n",
    "from tqdm import tqdm\n",
    "import numpy as np\n",
    "import torch\n",
    "from matplotlib import pyplot as plt\n",
    "from torch import nn, optim\n",
    "from torch.utils.data import DataLoader\n",
    "from datasets.ascad_datasets import AscadDataset\n",
    "from models.lstm import LstmModel"
   ]
  },
  {
   "cell_type": "code",
   "execution_count": 2,
   "id": "be7a5605",
   "metadata": {},
   "outputs": [],
   "source": [
    "train_dataset = AscadDataset(train=True)\n",
    "train_dataloader = DataLoader(train_dataset, batch_size=64, shuffle=True)\n",
    "test_dataset = AscadDataset(train=False)\n",
    "test_dataloader = DataLoader(test_dataset, batch_size=64)\n",
    "loss_fn = nn.MSELoss()"
   ]
  },
  {
   "cell_type": "code",
   "execution_count": 3,
   "id": "3c163f1d",
   "metadata": {},
   "outputs": [
    {
     "name": "stdout",
     "output_type": "stream",
     "text": [
      "Width: 64 Depth: 1\n"
     ]
    },
    {
     "name": "stderr",
     "output_type": "stream",
     "text": [
      "100%|███████████████████████████████████████████████████████████████████████████████████████████████████████████████████████████████████████████████████████████████████████| 100/100 [32:48<00:00, 19.69s/it]\n"
     ]
    },
    {
     "name": "stdout",
     "output_type": "stream",
     "text": [
      "Width: 64 Depth: 2\n"
     ]
    },
    {
     "name": "stderr",
     "output_type": "stream",
     "text": [
      "  4%|██████▊                                                                                                                                                                  | 4/100 [02:10<52:21, 32.73s/it]\n"
     ]
    },
    {
     "ename": "KeyboardInterrupt",
     "evalue": "",
     "output_type": "error",
     "traceback": [
      "\u001b[0;31m---------------------------------------------------------------------------\u001b[0m",
      "\u001b[0;31mKeyboardInterrupt\u001b[0m                         Traceback (most recent call last)",
      "\u001b[0;32m/tmp/ipykernel_11363/845545580.py\u001b[0m in \u001b[0;36m<module>\u001b[0;34m\u001b[0m\n\u001b[1;32m     24\u001b[0m                 \u001b[0mloss\u001b[0m \u001b[0;34m=\u001b[0m \u001b[0mloss_fn\u001b[0m\u001b[0;34m(\u001b[0m\u001b[0mlogits\u001b[0m\u001b[0;34m,\u001b[0m \u001b[0mtrace\u001b[0m\u001b[0;34m)\u001b[0m\u001b[0;34m\u001b[0m\u001b[0;34m\u001b[0m\u001b[0m\n\u001b[1;32m     25\u001b[0m                 \u001b[0moptimizer\u001b[0m\u001b[0;34m.\u001b[0m\u001b[0mzero_grad\u001b[0m\u001b[0;34m(\u001b[0m\u001b[0;34m)\u001b[0m\u001b[0;34m\u001b[0m\u001b[0;34m\u001b[0m\u001b[0m\n\u001b[0;32m---> 26\u001b[0;31m                 \u001b[0mloss\u001b[0m\u001b[0;34m.\u001b[0m\u001b[0mbackward\u001b[0m\u001b[0;34m(\u001b[0m\u001b[0;34m)\u001b[0m\u001b[0;34m\u001b[0m\u001b[0;34m\u001b[0m\u001b[0m\n\u001b[0m\u001b[1;32m     27\u001b[0m                 \u001b[0mnn\u001b[0m\u001b[0;34m.\u001b[0m\u001b[0mutils\u001b[0m\u001b[0;34m.\u001b[0m\u001b[0mclip_grad_norm_\u001b[0m\u001b[0;34m(\u001b[0m\u001b[0mmodel\u001b[0m\u001b[0;34m.\u001b[0m\u001b[0mparameters\u001b[0m\u001b[0;34m(\u001b[0m\u001b[0;34m)\u001b[0m\u001b[0;34m,\u001b[0m \u001b[0mmax_norm\u001b[0m\u001b[0;34m=\u001b[0m\u001b[0;36m1.0\u001b[0m\u001b[0;34m,\u001b[0m \u001b[0mnorm_type\u001b[0m\u001b[0;34m=\u001b[0m\u001b[0;36m2\u001b[0m\u001b[0;34m)\u001b[0m\u001b[0;34m\u001b[0m\u001b[0;34m\u001b[0m\u001b[0m\n\u001b[1;32m     28\u001b[0m                 \u001b[0moptimizer\u001b[0m\u001b[0;34m.\u001b[0m\u001b[0mstep\u001b[0m\u001b[0;34m(\u001b[0m\u001b[0;34m)\u001b[0m\u001b[0;34m\u001b[0m\u001b[0;34m\u001b[0m\u001b[0m\n",
      "\u001b[0;32m~/anaconda3/envs/sca_defense/lib/python3.8/site-packages/torch/tensor.py\u001b[0m in \u001b[0;36mbackward\u001b[0;34m(self, gradient, retain_graph, create_graph, inputs)\u001b[0m\n\u001b[1;32m    243\u001b[0m                 \u001b[0mcreate_graph\u001b[0m\u001b[0;34m=\u001b[0m\u001b[0mcreate_graph\u001b[0m\u001b[0;34m,\u001b[0m\u001b[0;34m\u001b[0m\u001b[0;34m\u001b[0m\u001b[0m\n\u001b[1;32m    244\u001b[0m                 inputs=inputs)\n\u001b[0;32m--> 245\u001b[0;31m         \u001b[0mtorch\u001b[0m\u001b[0;34m.\u001b[0m\u001b[0mautograd\u001b[0m\u001b[0;34m.\u001b[0m\u001b[0mbackward\u001b[0m\u001b[0;34m(\u001b[0m\u001b[0mself\u001b[0m\u001b[0;34m,\u001b[0m \u001b[0mgradient\u001b[0m\u001b[0;34m,\u001b[0m \u001b[0mretain_graph\u001b[0m\u001b[0;34m,\u001b[0m \u001b[0mcreate_graph\u001b[0m\u001b[0;34m,\u001b[0m \u001b[0minputs\u001b[0m\u001b[0;34m=\u001b[0m\u001b[0minputs\u001b[0m\u001b[0;34m)\u001b[0m\u001b[0;34m\u001b[0m\u001b[0;34m\u001b[0m\u001b[0m\n\u001b[0m\u001b[1;32m    246\u001b[0m \u001b[0;34m\u001b[0m\u001b[0m\n\u001b[1;32m    247\u001b[0m     \u001b[0;32mdef\u001b[0m \u001b[0mregister_hook\u001b[0m\u001b[0;34m(\u001b[0m\u001b[0mself\u001b[0m\u001b[0;34m,\u001b[0m \u001b[0mhook\u001b[0m\u001b[0;34m)\u001b[0m\u001b[0;34m:\u001b[0m\u001b[0;34m\u001b[0m\u001b[0;34m\u001b[0m\u001b[0m\n",
      "\u001b[0;32m~/anaconda3/envs/sca_defense/lib/python3.8/site-packages/torch/autograd/__init__.py\u001b[0m in \u001b[0;36mbackward\u001b[0;34m(tensors, grad_tensors, retain_graph, create_graph, grad_variables, inputs)\u001b[0m\n\u001b[1;32m    143\u001b[0m         \u001b[0mretain_graph\u001b[0m \u001b[0;34m=\u001b[0m \u001b[0mcreate_graph\u001b[0m\u001b[0;34m\u001b[0m\u001b[0;34m\u001b[0m\u001b[0m\n\u001b[1;32m    144\u001b[0m \u001b[0;34m\u001b[0m\u001b[0m\n\u001b[0;32m--> 145\u001b[0;31m     Variable._execution_engine.run_backward(\n\u001b[0m\u001b[1;32m    146\u001b[0m         \u001b[0mtensors\u001b[0m\u001b[0;34m,\u001b[0m \u001b[0mgrad_tensors_\u001b[0m\u001b[0;34m,\u001b[0m \u001b[0mretain_graph\u001b[0m\u001b[0;34m,\u001b[0m \u001b[0mcreate_graph\u001b[0m\u001b[0;34m,\u001b[0m \u001b[0minputs\u001b[0m\u001b[0;34m,\u001b[0m\u001b[0;34m\u001b[0m\u001b[0;34m\u001b[0m\u001b[0m\n\u001b[1;32m    147\u001b[0m         allow_unreachable=True, accumulate_grad=True)  # allow_unreachable flag\n",
      "\u001b[0;31mKeyboardInterrupt\u001b[0m: "
     ]
    }
   ],
   "source": [
    "train_loss_vals = {}\n",
    "test_loss_vals = {}\n",
    "train_max_dist = {}\n",
    "test_max_dist = {}\n",
    "\n",
    "n_epochs = 100\n",
    "delay = 1\n",
    "\n",
    "for width in [64, 128, 256, 512, 1024]:\n",
    "    for depth in [1, 2, 3]:\n",
    "        print('Width:', width, 'Depth:', depth)\n",
    "        model = LstmModel(width, depth, delay=delay).cuda()\n",
    "        optimizer = optim.Adam(model.parameters(), lr=2e-4)\n",
    "        train_loss_vals.update({(width, depth): []})\n",
    "        test_loss_vals.update({(width, depth): []})\n",
    "        train_max_dist.update({(width, depth): []})\n",
    "        test_max_dist.update({(width, depth): []})\n",
    "        \n",
    "        for epoch in tqdm(range(n_epochs)):\n",
    "            for batch in train_dataloader:\n",
    "                trace, _ = batch\n",
    "                trace = trace.cuda()\n",
    "                logits = model(trace)\n",
    "                loss = loss_fn(logits, trace)\n",
    "                optimizer.zero_grad()\n",
    "                loss.backward()\n",
    "                nn.utils.clip_grad_norm_(model.parameters(), max_norm=1.0, norm_type=2)\n",
    "                optimizer.step()\n",
    "                train_loss_vals[(width, depth)].append(loss.detach().cpu().numpy())\n",
    "                max_dist = np.mean(np.max(np.abs(trace.detach().cpu().numpy()-logits.detach().cpu().numpy()), axis=1))\n",
    "                train_max_dist[(width, depth)].append(max_dist)\n",
    "            with torch.no_grad():\n",
    "                for batch in test_dataloader:\n",
    "                    trace, _ = batch\n",
    "                    trace = trace.cuda()\n",
    "                    logits = model(trace)\n",
    "                    loss = loss_fn(logits, trace)\n",
    "                    test_loss_vals[(width, depth)].append(loss.cpu().numpy())\n",
    "                    max_dist = np.mean(np.max(np.abs(trace.cpu().numpy()-logits.cpu().numpy()), axis=1))\n",
    "                    test_max_dist[(width, depth)].append(max_dist)\n",
    "            train_loss_vals[(width, depth)][epoch] = np.mean(train_loss_vals[(width, depth)][epoch:])\n",
    "            train_max_dist[(width, depth)][epoch] = np.mean(train_max_dist[(width, depth)][epoch:])\n",
    "            test_loss_vals[(width, depth)][epoch] = np.mean(test_loss_vals[(width, depth)][epoch:])\n",
    "            test_max_dist[(width, depth)][epoch] = np.mean(test_max_dist[(width, depth)][epoch:])\n",
    "            del train_loss_vals[(width, depth)][epoch+1:]\n",
    "            del train_max_dist[(width, depth)][epoch+1:]\n",
    "            del test_loss_vals[(width, depth)][epoch+1:]\n",
    "            del test_max_dist[(width, depth)][epoch+1:]"
   ]
  },
  {
   "cell_type": "code",
   "execution_count": null,
   "id": "8ecc898d",
   "metadata": {},
   "outputs": [],
   "source": [
    "import pickle\n",
    "import os\n",
    "\n",
    "with open(os.path.join('.', 'results', 'lstm_autoencoder_width_depth_sweep', 'data.pickle'), 'wb') as F:\n",
    "    pickle.dump({\n",
    "        'train_l2_dists': train_loss_vals,\n",
    "        'test_l2_dists': test_loss_vals,\n",
    "        'train_sup_dists': train_max_dist,\n",
    "        'test_sup_dists': test_max_dist\n",
    "    }, F)"
   ]
  },
  {
   "cell_type": "code",
   "execution_count": null,
   "id": "42c0d849",
   "metadata": {},
   "outputs": [],
   "source": [
    "depths = [1, 2, 3]\n",
    "widths = [1, 2, 4, 8, 16, 32, 64, 128]\n",
    "train_losses = {d: [] for d in depths}\n",
    "test_losses = {d: [] for d in depths}\n",
    "train_dists = {d: [] for d in depths}\n",
    "test_dists = {d: [] for d in depths}\n",
    "for d in depths:\n",
    "    for w in widths:\n",
    "        train_losses[d].append(np.min(train_loss_vals[(w, d)]))\n",
    "        test_losses[d].append(np.min(test_loss_vals[(w, d)]))\n",
    "        train_dists[d].append(np.min(train_max_dist[(w, d)]))\n",
    "        test_dists[d].append(np.min(test_max_dist[(w, d)]))\n",
    "\n",
    "(fig, axes) = plt.subplots(1, 2, figsize=(12, 6), sharex=True, sharey=True)\n",
    "for depth, color in zip(depths, ['red', 'blue', 'green']):\n",
    "    axes[0].plot(widths, train_losses[depth], linestyle='--', color=color)\n",
    "    axes[0].plot(widths, test_losses[depth], linestyle='-', color=color, label='Depth: %d'%(depth))\n",
    "    axes[1].plot(widths, train_dists[depth], linestyle='--', color=color)\n",
    "    axes[1].plot(widths, test_dists[depth], linestyle='-', color=color, label='Depth: %d'%(depth))\n",
    "axes[0].set_xscale('log')\n",
    "axes[1].set_xscale('log')\n",
    "axes[0].set_yscale('log')\n",
    "axes[1].set_yscale('log')\n",
    "axes[0].set_xlabel('Width')\n",
    "axes[1].set_xlabel('Width')\n",
    "axes[0].set_ylabel('Best loss')\n",
    "axes[1].set_ylabel('Best distance')\n",
    "axes[0].set_title('MSE btwn reconstruction, ground truth')\n",
    "axes[1].set_title('Sup-norm distance btwn reconstruction, ground truth')\n",
    "axes[0].legend()\n",
    "axes[1].legend()\n",
    "axes[0].grid(True)\n",
    "axes[1].grid(True)\n",
    "axes[0].set_xlim(1, 128)\n",
    "axes[1].set_xlim(1, 128)\n",
    "axes[0].set_xticks(widths)\n",
    "axes[1].set_xticks(widths)\n",
    "axes[0].set_xticklabels(widths)\n",
    "axes[1].set_xticklabels(widths)\n",
    "fig.suptitle('LSTM Autoencoder Efficacy w/ varying Width, Depth (%d-sample delay, %d epochs)'%(delay, n_epochs))\n",
    "plt.tight_layout()\n",
    "fig.savefig(os.path.join('.', 'results', 'lstm_autoencoder_width_depth_sweep', 'sweep.pdf'))"
   ]
  },
  {
   "cell_type": "code",
   "execution_count": null,
   "id": "0a78e5f9",
   "metadata": {},
   "outputs": [],
   "source": [
    "(fig, axes) = plt.subplots(1, 2, figsize=(12, 6), sharex=True, sharey=True)\n",
    "epochs = np.arange(1, 21)\n",
    "for width in widths:\n",
    "    for depth, color in zip(depths, ['red', 'blue', 'green']):\n",
    "        axes[0].plot(epochs, train_loss_vals[(width, depth)], color=color, linestyle='--')\n",
    "        axes[0].plot(epochs, test_loss_vals[(width, depth)], color=color, linestyle='-')\n",
    "        axes[1].plot(epochs, train_max_dist[(width, depth)], color=color, linestyle='--')\n",
    "        axes[1].plot(epochs, test_max_dist[(width, depth)], color=color, linestyle='-')\n",
    "axes[0].set_yscale('log')\n",
    "axes[1].set_yscale('log')\n",
    "axes[0].set_xlabel('Epoch')\n",
    "axes[1].set_xlabel('Epoch')\n",
    "axes[0].set_ylabel('Smallest distance')\n",
    "axes[1].set_ylabel('Smallest distance')\n",
    "axes[0].set_title('MSE btwn reconstruction, ground truth')\n",
    "axes[1].set_title('Sup-norm distance btwn reconstruction, ground truth')\n",
    "axes[0].grid(True)\n",
    "axes[1].grid(True)\n",
    "axes[0].set_xticks(epochs)\n",
    "axes[1].set_xticks(epochs)\n",
    "axes[0].set_xticklabels(epochs)\n",
    "axes[1].set_xticklabels(epochs)\n",
    "fig.suptitle('LSTM Autoencoder Efficacy w/ varying Width, Depth (10-sample delay)')\n",
    "plt.tight_layout()\n",
    "fig.savefig(os.path.join('.', 'results', 'lstm_autoencoder_delay_sweep', 'training_curves.pdf'))"
   ]
  }
 ],
 "metadata": {
  "kernelspec": {
   "display_name": "Python 3 (ipykernel)",
   "language": "python",
   "name": "python3"
  },
  "language_info": {
   "codemirror_mode": {
    "name": "ipython",
    "version": 3
   },
   "file_extension": ".py",
   "mimetype": "text/x-python",
   "name": "python",
   "nbconvert_exporter": "python",
   "pygments_lexer": "ipython3",
   "version": "3.8.8"
  }
 },
 "nbformat": 4,
 "nbformat_minor": 5
}
