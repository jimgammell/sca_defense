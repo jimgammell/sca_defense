{
 "cells": [
  {
   "cell_type": "code",
   "execution_count": 1,
   "id": "02cbe46c",
   "metadata": {},
   "outputs": [
    {
     "name": "stdout",
     "output_type": "stream",
     "text": [
      "[0, 1, 2, 3]\n"
     ]
    }
   ],
   "source": [
    "import os\n",
    "import pickle\n",
    "\n",
    "results_dir = os.path.join('.', 'results', 'discrimination_baseline', 'trial_0')\n",
    "with open(os.path.join(results_dir, 'training_metrics.pickle'), 'rb') as F:\n",
    "    training_metrics = pickle.load(F)"
   ]
  },
  {
   "cell_type": "code",
   "execution_count": 3,
   "id": "ed71f231",
   "metadata": {},
   "outputs": [],
   "source": [
    "import numpy as np\n",
    "\n",
    "epochs = [k for k in training_metrics.keys()]\n",
    "epochs.sort()\n",
    "training_loss = []\n",
    "testing_loss = []\n",
    "\n",
    "for epoch_idx in epochs:\n",
    "    training_results = training_metrics[epoch_idx]['train']\n",
    "    testing_results = training_metrics[epoch_idx]['test']\n",
    "    training_loss.append(np.mean(training_results['loss']))\n",
    "    testing_loss.append(np.mean(testing_results['loss']))"
   ]
  },
  {
   "cell_type": "code",
   "execution_count": 4,
   "id": "1f2a77d4",
   "metadata": {},
   "outputs": [
    {
     "data": {
      "text/plain": [
       "[<matplotlib.lines.Line2D at 0x7f9734fbf3d0>]"
      ]
     },
     "execution_count": 4,
     "metadata": {},
     "output_type": "execute_result"
    },
    {
     "data": {
      "image/png": "[encoded data removed]",
      "text/plain": [
       "<Figure size 432x288 with 1 Axes>"
      ]
     },
     "metadata": {
      "needs_background": "light"
     },
     "output_type": "display_data"
    }
   ],
   "source": [
    "from matplotlib import pyplot as plt\n",
    "\n",
    "plt.plot(epochs, training_loss, color='blue', linestyle='--')\n",
    "plt.plot(epochs, testing_loss, color='blue', linestyle='-')"
   ]
  }
 ],
 "metadata": {
  "kernelspec": {
   "display_name": "Python 3 (ipykernel)",
   "language": "python",
   "name": "python3"
  },
  "language_info": {
   "codemirror_mode": {
    "name": "ipython",
    "version": 3
   },
   "file_extension": ".py",
   "mimetype": "text/x-python",
   "name": "python",
   "nbconvert_exporter": "python",
   "pygments_lexer": "ipython3",
   "version": "3.8.8"
  }
 },
 "nbformat": 4,
 "nbformat_minor": 5
}
