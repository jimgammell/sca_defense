{
 "cells": [
  {
   "cell_type": "code",
   "execution_count": 2,
   "id": "58774af6",
   "metadata": {},
   "outputs": [],
   "source": [
    "import numpy as np\n",
    "import torch"
   ]
  },
  {
   "cell_type": "code",
   "execution_count": 8,
   "id": "51b1dab6",
   "metadata": {},
   "outputs": [
    {
     "name": "stdout",
     "output_type": "stream",
     "text": [
      "Logits:\n",
      "tensor([[ 0.1000,  0.2000,  0.0100,  0.8000,  0.5000],\n",
      "        [ 0.7000,  0.6000,  0.3000,  0.0100,  0.0040],\n",
      "        [-0.1000, -0.8000, -0.0500, -0.2000, -0.2500]])\n",
      "\n",
      "Labels:\n",
      "tensor([3, 1, 2])\n",
      "\n",
      "OH Labels:\n",
      "tensor([[0., 0., 0., 1., 0.],\n",
      "        [0., 1., 0., 0., 0.],\n",
      "        [0., 0., 1., 0., 0.]])\n",
      "\n",
      "Comp labels:\n",
      "tensor([[1., 1., 1., 0., 1.],\n",
      "        [1., 0., 1., 1., 1.],\n",
      "        [1., 1., 0., 1., 1.]])\n",
      "\n"
     ]
    }
   ],
   "source": [
    "logits = torch.tensor([[.1, .2, .01, .8, .5],\n",
    "                       [.7, .6, .3, .01, .004],\n",
    "                       [-.1, -.8, -.05, -.2, -.25]])\n",
    "print('Logits:')\n",
    "print(logits)\n",
    "print()\n",
    "labels = torch.tensor([3, 1, 2])\n",
    "print('Labels:')\n",
    "print(labels)\n",
    "print()\n",
    "one_hot_labels = torch.nn.functional.one_hot(labels, 5).to(torch.float)\n",
    "complement_labels = 1.-one_hot_labels\n",
    "print('OH Labels:')\n",
    "print(one_hot_labels)\n",
    "print()\n",
    "print('Comp labels:')\n",
    "print(complement_labels)\n",
    "print()"
   ]
  },
  {
   "cell_type": "code",
   "execution_count": 24,
   "id": "cebeab1f",
   "metadata": {},
   "outputs": [
    {
     "name": "stdout",
     "output_type": "stream",
     "text": [
      "Logits range:\n",
      "tensor([0.7900, 0.6960, 0.7500]) torch.Size([3]) torch.Size([3, 5])\n",
      "\n",
      "Logits max:\n",
      "tensor([[ 0.1000,  0.2000,  0.0100,  0.0100,  0.5000],\n",
      "        [ 0.7000, -0.0960,  0.3000,  0.0100,  0.0040],\n",
      "        [-0.1000, -0.8000, -0.8000, -0.2000, -0.2500]])\n",
      "\n",
      "Incorrect labels:\n",
      "tensor([4, 0, 0])\n",
      "\n"
     ]
    }
   ],
   "source": [
    "logits_rng = torch.max(logits, dim=1)[0] - torch.min(logits, dim=1)[0]\n",
    "print('Logits range:')\n",
    "print(logits_rng)\n",
    "print()\n",
    "logits_max = logits - logits_rng[:, None]*one_hot_labels\n",
    "print('Logits max:')\n",
    "print(logits_max)\n",
    "print()\n",
    "incorrect_labels = torch.argmax(logits_max, dim=1)\n",
    "print('Incorrect labels:')\n",
    "print(incorrect_labels)\n",
    "print()"
   ]
  },
  {
   "cell_type": "code",
   "execution_count": 25,
   "id": "af884e1b",
   "metadata": {},
   "outputs": [
    {
     "name": "stdout",
     "output_type": "stream",
     "text": [
      "Logits range:\n",
      "tensor([0.7900, 0.6960, 0.7500])\n",
      "\n",
      "Logits min:\n",
      "tensor([[ 0.1000,  0.2000,  0.0100,  1.5900,  0.5000],\n",
      "        [ 0.7000,  1.2960,  0.3000,  0.0100,  0.0040],\n",
      "        [-0.1000, -0.8000,  0.7000, -0.2000, -0.2500]])\n",
      "\n",
      "Incorrect labels:\n",
      "tensor([2, 4, 1])\n",
      "\n"
     ]
    }
   ],
   "source": [
    "logits_rng = torch.max(logits, dim=1)[0] - torch.min(logits, dim=1)[0]\n",
    "print('Logits range:')\n",
    "print(logits_rng)\n",
    "print()\n",
    "logits_min = logits + logits_rng[:, None]*one_hot_labels\n",
    "print('Logits min:')\n",
    "print(logits_min)\n",
    "print()\n",
    "incorrect_labels = torch.argmin(logits_min, dim=1)\n",
    "print('Incorrect labels:')\n",
    "print(incorrect_labels)\n",
    "print()"
   ]
  }
 ],
 "metadata": {
  "kernelspec": {
   "display_name": "Python 3 (ipykernel)",
   "language": "python",
   "name": "python3"
  },
  "language_info": {
   "codemirror_mode": {
    "name": "ipython",
    "version": 3
   },
   "file_extension": ".py",
   "mimetype": "text/x-python",
   "name": "python",
   "nbconvert_exporter": "python",
   "pygments_lexer": "ipython3",
   "version": "3.8.8"
  }
 },
 "nbformat": 4,
 "nbformat_minor": 5
}
