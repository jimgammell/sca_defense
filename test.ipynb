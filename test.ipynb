{
 "cells": [
  {
   "cell_type": "code",
   "execution_count": 1,
   "id": "1b179567",
   "metadata": {},
   "outputs": [],
   "source": [
    "from datasets.ascad import AscadDataset\n",
    "from datasets.transforms import ToTensor\n",
    "\n",
    "dataset = AscadDataset(transform=ToTensor())"
   ]
  },
  {
   "cell_type": "code",
   "execution_count": 2,
   "id": "8541fe59",
   "metadata": {},
   "outputs": [
    {
     "name": "stdout",
     "output_type": "stream",
     "text": [
      "MlpBest(\n",
      "  (model): Sequential(\n",
      "    (0): Linear(in_features=700, out_features=200, bias=True)\n",
      "    (1): ReLU()\n",
      "    (2): Linear(in_features=200, out_features=200, bias=True)\n",
      "    (3): ReLU()\n",
      "    (4): Linear(in_features=200, out_features=200, bias=True)\n",
      "    (5): ReLU()\n",
      "    (6): Linear(in_features=200, out_features=200, bias=True)\n",
      "    (7): ReLU()\n",
      "    (8): Linear(in_features=200, out_features=200, bias=True)\n",
      "    (9): ReLU()\n",
      "    (10): Linear(in_features=200, out_features=200, bias=True)\n",
      "    (11): ReLU()\n",
      "    (12): Linear(in_features=200, out_features=256, bias=True)\n",
      "  )\n",
      ")\n",
      "torch.Size([1, 700, 1]) -> torch.Size([1, 256, 1])\n",
      "Parameter count: 392656 (392656 trainable, 0 untrainable)\n"
     ]
    }
   ],
   "source": [
    "from models.ascad import MlpBest\n",
    "from models.common import get_parameter_count\n",
    "\n",
    "mlp_model = MlpBest(dataset.input_shape, dataset.output_shape)\n",
    "print(mlp_model)\n",
    "eg_input, _, _ = dataset[0]\n",
    "eg_input = eg_input.unsqueeze(0)\n",
    "print(eg_input.shape, '->', mlp_model(eg_input).shape)\n",
    "print('Parameter count: {} ({} trainable, {} untrainable)'.format(\n",
    "    get_parameter_count(mlp_model),\n",
    "    get_parameter_count(mlp_model, True, False),\n",
    "    get_parameter_count(mlp_model, False, True)))"
   ]
  },
  {
   "cell_type": "code",
   "execution_count": 3,
   "id": "2765954e",
   "metadata": {},
   "outputs": [
    {
     "name": "stdout",
     "output_type": "stream",
     "text": [
      "CnnBest(\n",
      "  (feature_extractor): Sequential(\n",
      "    (block1): Sequential(\n",
      "      (block1_conv): Conv1d(1, 64, kernel_size=(11,), stride=(2,), padding=(5,))\n",
      "      (block1_relu): ReLU()\n",
      "      (block1_pool): AvgPool1d(kernel_size=(2,), stride=(2,), padding=(0,))\n",
      "    )\n",
      "    (block2): Sequential(\n",
      "      (block2_conv): Conv1d(64, 128, kernel_size=(11,), stride=(1,), padding=(5,))\n",
      "      (block2_relu): ReLU()\n",
      "      (block2_pool): AvgPool1d(kernel_size=(2,), stride=(2,), padding=(0,))\n",
      "    )\n",
      "    (block3): Sequential(\n",
      "      (block3_conv): Conv1d(128, 256, kernel_size=(11,), stride=(1,), padding=(5,))\n",
      "      (block3_relu): ReLU()\n",
      "      (block3_pool): AvgPool1d(kernel_size=(2,), stride=(2,), padding=(0,))\n",
      "    )\n",
      "    (block4): Sequential(\n",
      "      (block4_conv): Conv1d(256, 512, kernel_size=(11,), stride=(1,), padding=(5,))\n",
      "      (block4_relu): ReLU()\n",
      "      (block4_pool): AvgPool1d(kernel_size=(2,), stride=(2,), padding=(0,))\n",
      "    )\n",
      "    (block5): Sequential(\n",
      "      (block5_conv): Conv1d(512, 512, kernel_size=(11,), stride=(1,), padding=(5,))\n",
      "      (block5_relu): ReLU()\n",
      "      (block5_pool): AvgPool1d(kernel_size=(2,), stride=(2,), padding=(0,))\n",
      "    )\n",
      "  )\n",
      "  (fc): Sequential(\n",
      "    (block1): Sequential(\n",
      "      (block1_linear): Linear(in_features=5120, out_features=4096, bias=True)\n",
      "      (block1_relu): ReLU()\n",
      "    )\n",
      "    (block2): Sequential(\n",
      "      (block2_linear): Linear(in_features=4096, out_features=4096, bias=True)\n",
      "      (block2_relu): ReLU()\n",
      "    )\n",
      "    (block3): Sequential(\n",
      "      (block3_linear): Linear(in_features=4096, out_features=256, bias=True)\n",
      "    )\n",
      "  )\n",
      ")\n",
      "torch.Size([1, 700, 1]) -> torch.Size([1, 256, 1])\n",
      "Parameter count: 43583872 (43583872 trainable, 0 untrainable)\n"
     ]
    }
   ],
   "source": [
    "from models.ascad import CnnBest\n",
    "from models.common import get_parameter_count\n",
    "\n",
    "cnn_model = CnnBest(dataset.input_shape, dataset.output_shape)\n",
    "print(cnn_model)\n",
    "eg_input, _, _ = dataset[0]\n",
    "eg_input = eg_input.unsqueeze(0)\n",
    "print(eg_input.shape, '->', cnn_model(eg_input).shape)\n",
    "print('Parameter count: {} ({} trainable, {} untrainable)'.format(\n",
    "    get_parameter_count(cnn_model),\n",
    "    get_parameter_count(cnn_model, True, False),\n",
    "    get_parameter_count(cnn_model, False, True)))"
   ]
  },
  {
   "cell_type": "code",
   "execution_count": 4,
   "id": "3d288764",
   "metadata": {},
   "outputs": [
    {
     "name": "stdout",
     "output_type": "stream",
     "text": [
      "LstmModel(\n",
      "  (recurrent_layers): ModuleList(\n",
      "    (0): LSTMCell(1, 64)\n",
      "    (1): LSTMCell(64, 64)\n",
      "    (2): LSTMCell(64, 64)\n",
      "    (3): Linear(in_features=64, out_features=1, bias=True)\n",
      "  )\n",
      ")\n",
      "torch.Size([1, 700, 1]) -> torch.Size([700, 1])\n",
      "Parameter count: 83777 (83777 trainable, 0 untrainable)\n"
     ]
    }
   ],
   "source": [
    "from models.recurrent import LstmModel\n",
    "from models.common import get_parameter_count\n",
    "\n",
    "lstm_model = LstmModel()\n",
    "print(lstm_model)\n",
    "eg_input, _, _ = dataset[0]\n",
    "eg_input = eg_input.unsqueeze(0)\n",
    "print(eg_input.shape, '->', lstm_model(eg_input).shape)\n",
    "print('Parameter count: {} ({} trainable, {} untrainable)'.format(\n",
    "    get_parameter_count(lstm_model),\n",
    "    get_parameter_count(lstm_model, True, False),\n",
    "    get_parameter_count(lstm_model, False, True)))"
   ]
  }
 ],
 "metadata": {
  "kernelspec": {
   "display_name": "Python 3 (ipykernel)",
   "language": "python",
   "name": "python3"
  },
  "language_info": {
   "codemirror_mode": {
    "name": "ipython",
    "version": 3
   },
   "file_extension": ".py",
   "mimetype": "text/x-python",
   "name": "python",
   "nbconvert_exporter": "python",
   "pygments_lexer": "ipython3",
   "version": "3.8.8"
  }
 },
 "nbformat": 4,
 "nbformat_minor": 5
}
