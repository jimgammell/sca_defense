{
 "cells": [
  {
   "cell_type": "code",
   "execution_count": 1,
   "id": "17b231be",
   "metadata": {},
   "outputs": [
    {
     "name": "stderr",
     "output_type": "stream",
     "text": [
      "\u001b[34m\u001b[1mwandb\u001b[0m: Currently logged in as: \u001b[33mjgammell\u001b[0m. Use \u001b[1m`wandb login --relogin`\u001b[0m to force relogin\n"
     ]
    },
    {
     "data": {
      "text/plain": [
       "True"
      ]
     },
     "execution_count": 1,
     "metadata": {},
     "output_type": "execute_result"
    }
   ],
   "source": [
    "import wandb\n",
    "wandb.login()"
   ]
  },
  {
   "cell_type": "code",
   "execution_count": null,
   "id": "344b733b",
   "metadata": {},
   "outputs": [
    {
     "name": "stdout",
     "output_type": "stream",
     "text": [
      "Create sweep with ID: d1qsxwr1\n",
      "Sweep URL: https://wandb.ai/jgammell/data_sanitization/sweeps/d1qsxwr1\n"
     ]
    },
    {
     "name": "stderr",
     "output_type": "stream",
     "text": [
      "\u001b[34m\u001b[1mwandb\u001b[0m: Agent Starting Run: nzzwqmbf with config:\n",
      "\u001b[34m\u001b[1mwandb\u001b[0m: \tatenc_bottleneck_width: 32\n",
      "\u001b[34m\u001b[1mwandb\u001b[0m: \tatenc_sn: False\n",
      "\u001b[34m\u001b[1mwandb\u001b[0m: \tbeta1_c: 0.7126041214209041\n",
      "\u001b[34m\u001b[1mwandb\u001b[0m: \tbeta1_s: 0.7080876157567757\n",
      "\u001b[34m\u001b[1mwandb\u001b[0m: \tbeta2_c: 0.999\n",
      "\u001b[34m\u001b[1mwandb\u001b[0m: \tbeta2_s: 0.999\n",
      "\u001b[34m\u001b[1mwandb\u001b[0m: \tc_pretrain_epochs: 9\n",
      "\u001b[34m\u001b[1mwandb\u001b[0m: \tclass_sn: False\n",
      "\u001b[34m\u001b[1mwandb\u001b[0m: \tlr_c: 0.0007690565185325675\n",
      "\u001b[34m\u001b[1mwandb\u001b[0m: \tlr_s: 0.00028120360660200615\n",
      "\u001b[34m\u001b[1mwandb\u001b[0m: \ts_lbd: 0.5645409499051279\n",
      "\u001b[34m\u001b[1mwandb\u001b[0m: \ts_pretrain_epochs: 12\n",
      "\u001b[34m\u001b[1mwandb\u001b[0m: \tsan_sn: True\n",
      "\u001b[34m\u001b[1mwandb\u001b[0m: \ttrain_epochs: 250\n"
     ]
    },
    {
     "data": {
      "text/html": [
       "Tracking run with wandb version 0.13.10"
      ],
      "text/plain": [
       "<IPython.core.display.HTML object>"
      ]
     },
     "metadata": {},
     "output_type": "display_data"
    },
    {
     "data": {
      "text/html": [
       "Run data is saved locally in <code>/local/scratch/a/jgammell/sca_defense/wandb/run-20230218_180034-nzzwqmbf</code>"
      ],
      "text/plain": [
       "<IPython.core.display.HTML object>"
      ]
     },
     "metadata": {},
     "output_type": "display_data"
    },
    {
     "data": {
      "text/html": [
       "Syncing run <strong><a href='https://wandb.ai/jgammell/data_sanitization/runs/nzzwqmbf' target=\"_blank\">magic-sweep-1</a></strong> to <a href='https://wandb.ai/jgammell/data_sanitization' target=\"_blank\">Weights & Biases</a> (<a href='https://wandb.me/run' target=\"_blank\">docs</a>)<br/>Sweep page: <a href='https://wandb.ai/jgammell/data_sanitization/sweeps/d1qsxwr1' target=\"_blank\">https://wandb.ai/jgammell/data_sanitization/sweeps/d1qsxwr1</a>"
      ],
      "text/plain": [
       "<IPython.core.display.HTML object>"
      ]
     },
     "metadata": {},
     "output_type": "display_data"
    },
    {
     "data": {
      "text/html": [
       " View project at <a href='https://wandb.ai/jgammell/data_sanitization' target=\"_blank\">https://wandb.ai/jgammell/data_sanitization</a>"
      ],
      "text/plain": [
       "<IPython.core.display.HTML object>"
      ]
     },
     "metadata": {},
     "output_type": "display_data"
    },
    {
     "data": {
      "text/html": [
       " View sweep at <a href='https://wandb.ai/jgammell/data_sanitization/sweeps/d1qsxwr1' target=\"_blank\">https://wandb.ai/jgammell/data_sanitization/sweeps/d1qsxwr1</a>"
      ],
      "text/plain": [
       "<IPython.core.display.HTML object>"
      ]
     },
     "metadata": {},
     "output_type": "display_data"
    },
    {
     "data": {
      "text/html": [
       " View run at <a href='https://wandb.ai/jgammell/data_sanitization/runs/nzzwqmbf' target=\"_blank\">https://wandb.ai/jgammell/data_sanitization/runs/nzzwqmbf</a>"
      ],
      "text/plain": [
       "<IPython.core.display.HTML object>"
      ]
     },
     "metadata": {},
     "output_type": "display_data"
    },
    {
     "data": {
      "text/html": [
       "Waiting for W&B process to finish... <strong style=\"color:green\">(success).</strong>"
      ],
      "text/plain": [
       "<IPython.core.display.HTML object>"
      ]
     },
     "metadata": {},
     "output_type": "display_data"
    },
    {
     "data": {
      "text/html": [
       "<style>\n",
       "    table.wandb td:nth-child(1) { padding: 0 10px; text-align: left ; width: auto;} td:nth-child(2) {text-align: left ; width: 100%}\n",
       "    .wandb-row { display: flex; flex-direction: row; flex-wrap: wrap; justify-content: flex-start; width: 100% }\n",
       "    .wandb-col { display: flex; flex-direction: column; flex-basis: 100%; flex: 1; padding: 10px; }\n",
       "    </style>\n",
       "<div class=\"wandb-row\"><div class=\"wandb-col\"><h3>Run history:</h3><br/><table class=\"wandb\"><tr><td>duration</td><td>▁▂▁▂▁▂▂▂▂▁▁█▂▂▂▂▂▃▁▂▁▁▂▁▂▂▁▁▂▂▂▁▂▂▂▂▁▂▂▁</td></tr><tr><td>te_c_acc</td><td>▁▁█▆▆▆▄▄▄▃▃▁▂▃▂▂▂▂▂▂▃▂▂▂▁▃▂▂▂▁▂▂▁▂▂▂▁▁▃▁</td></tr><tr><td>te_c_loss</td><td>██▁▄▄▄▆▆▆▇▇█▇▇███▇██▇▇▇██▇████████▇▇██▇█</td></tr><tr><td>te_c_oracle_loss</td><td>▁▁▁▂▂▃▄▄▅▅▄▄▃▄▅▄▄▅▆▆▆▅▄▆▆▅▅▆▆▅▇▇█▆▆▇▆██▆</td></tr><tr><td>te_s_em_loss</td><td>▁▁█▂▃▂▃▂▂▁▁▁▁▁▁▁▁▁▁▁▁▁▁▁▁▁▁▁▁▁▁▁▁▁▁▁▁▁▁▁</td></tr><tr><td>te_s_oracle_loss</td><td>▁▁▁▂▂▃▄▄▅▅▄▄▃▄▅▄▄▅▆▆▆▅▄▆▆▅▅▆▆▅▇▇█▆▆▇▆██▆</td></tr><tr><td>te_s_rec_loss</td><td>▁▁▁▂▂▄▄▄▄▅▅▄▃▇▄▅▄▆▆▇▅▅▆█▆█▆▆█▇▇▅▆█▆▅▅▇▆▅</td></tr><tr><td>tr_c_acc</td><td>▁▁█▆▆▅▅▄▄▃▃▂▂▂▂▂▂▂▂▂▂▂▂▁▂▂▁▂▂▁▂▂▂▁▂▂▁▂▂▁</td></tr><tr><td>tr_c_loss</td><td>██▁▅▄▅▆▆▆▇▇█████████████████████████████</td></tr><tr><td>tr_c_oracle_loss</td><td>▁▁▁▁▂▃▄▄▅▅▄▄▃▄▅▄▄▅▆▅▅▅▄▆▆▅▅▆▆▅▇▇█▇▆▇▆██▆</td></tr><tr><td>tr_s_em_loss</td><td>▁▁█▃▄▃▃▂▂▂▁▁▁▁▁▁▁▁▁▁▁▁▁▁▁▁▁▁▁▁▁▁▁▁▁▁▁▁▁▁</td></tr><tr><td>tr_s_oracle_loss</td><td>▁▁▁▁▂▃▄▄▅▅▄▄▃▄▅▄▄▅▆▅▅▅▄▆▆▅▅▆▆▅▇▇█▇▆▇▆██▆</td></tr><tr><td>tr_s_rec_loss</td><td>▁▁▁▁▂▃▄▄▄▅▄▄▃▆▃▅▃▅▅▅▄▅▅▇▅▆▆▅▆▆▆▄▅█▅▅▅▆▅▅</td></tr></table><br/></div><div class=\"wandb-col\"><h3>Run summary:</h3><br/><table class=\"wandb\"><tr><td>duration</td><td>0.66935</td></tr><tr><td>te_c_acc</td><td>0.51348</td></tr><tr><td>te_c_loss</td><td>0.69201</td></tr><tr><td>te_c_oracle_loss</td><td>0.93381</td></tr><tr><td>te_s_em_loss</td><td>0.69466</td></tr><tr><td>te_s_oracle_loss</td><td>0.93381</td></tr><tr><td>te_s_rec_loss</td><td>0.12418</td></tr><tr><td>tr_c_acc</td><td>0.52408</td></tr><tr><td>tr_c_loss</td><td>0.69039</td></tr><tr><td>tr_c_oracle_loss</td><td>1.00057</td></tr><tr><td>tr_s_em_loss</td><td>0.6983</td></tr><tr><td>tr_s_oracle_loss</td><td>1.00009</td></tr><tr><td>tr_s_rec_loss</td><td>0.12512</td></tr></table><br/></div></div>"
      ],
      "text/plain": [
       "<IPython.core.display.HTML object>"
      ]
     },
     "metadata": {},
     "output_type": "display_data"
    },
    {
     "data": {
      "text/html": [
       " View run <strong style=\"color:#cdcd00\">magic-sweep-1</strong> at: <a href='https://wandb.ai/jgammell/data_sanitization/runs/nzzwqmbf' target=\"_blank\">https://wandb.ai/jgammell/data_sanitization/runs/nzzwqmbf</a><br/>Synced 5 W&B file(s), 0 media file(s), 0 artifact file(s) and 0 other file(s)"
      ],
      "text/plain": [
       "<IPython.core.display.HTML object>"
      ]
     },
     "metadata": {},
     "output_type": "display_data"
    },
    {
     "data": {
      "text/html": [
       "Find logs at: <code>./wandb/run-20230218_180034-nzzwqmbf/logs</code>"
      ],
      "text/plain": [
       "<IPython.core.display.HTML object>"
      ]
     },
     "metadata": {},
     "output_type": "display_data"
    },
    {
     "name": "stderr",
     "output_type": "stream",
     "text": [
      "\u001b[34m\u001b[1mwandb\u001b[0m: Agent Starting Run: oesm2iaq with config:\n",
      "\u001b[34m\u001b[1mwandb\u001b[0m: \tatenc_bottleneck_width: 2\n",
      "\u001b[34m\u001b[1mwandb\u001b[0m: \tatenc_sn: True\n",
      "\u001b[34m\u001b[1mwandb\u001b[0m: \tbeta1_c: 0.7586146082883384\n",
      "\u001b[34m\u001b[1mwandb\u001b[0m: \tbeta1_s: 0.1975450685420504\n",
      "\u001b[34m\u001b[1mwandb\u001b[0m: \tbeta2_c: 0.999\n",
      "\u001b[34m\u001b[1mwandb\u001b[0m: \tbeta2_s: 0.999\n",
      "\u001b[34m\u001b[1mwandb\u001b[0m: \tc_pretrain_epochs: 1\n",
      "\u001b[34m\u001b[1mwandb\u001b[0m: \tclass_sn: True\n",
      "\u001b[34m\u001b[1mwandb\u001b[0m: \tlr_c: 0.0005771967025584875\n",
      "\u001b[34m\u001b[1mwandb\u001b[0m: \tlr_s: 0.0007061345288332683\n",
      "\u001b[34m\u001b[1mwandb\u001b[0m: \ts_lbd: 83.68866221185641\n",
      "\u001b[34m\u001b[1mwandb\u001b[0m: \ts_pretrain_epochs: 7\n",
      "\u001b[34m\u001b[1mwandb\u001b[0m: \tsan_sn: True\n",
      "\u001b[34m\u001b[1mwandb\u001b[0m: \ttrain_epochs: 250\n"
     ]
    },
    {
     "data": {
      "text/html": [
       "Tracking run with wandb version 0.13.10"
      ],
      "text/plain": [
       "<IPython.core.display.HTML object>"
      ]
     },
     "metadata": {},
     "output_type": "display_data"
    },
    {
     "data": {
      "text/html": [
       "Run data is saved locally in <code>/local/scratch/a/jgammell/sca_defense/wandb/run-20230218_182313-oesm2iaq</code>"
      ],
      "text/plain": [
       "<IPython.core.display.HTML object>"
      ]
     },
     "metadata": {},
     "output_type": "display_data"
    },
    {
     "data": {
      "text/html": [
       "Syncing run <strong><a href='https://wandb.ai/jgammell/data_sanitization/runs/oesm2iaq' target=\"_blank\">glad-sweep-2</a></strong> to <a href='https://wandb.ai/jgammell/data_sanitization' target=\"_blank\">Weights & Biases</a> (<a href='https://wandb.me/run' target=\"_blank\">docs</a>)<br/>Sweep page: <a href='https://wandb.ai/jgammell/data_sanitization/sweeps/d1qsxwr1' target=\"_blank\">https://wandb.ai/jgammell/data_sanitization/sweeps/d1qsxwr1</a>"
      ],
      "text/plain": [
       "<IPython.core.display.HTML object>"
      ]
     },
     "metadata": {},
     "output_type": "display_data"
    },
    {
     "data": {
      "text/html": [
       " View project at <a href='https://wandb.ai/jgammell/data_sanitization' target=\"_blank\">https://wandb.ai/jgammell/data_sanitization</a>"
      ],
      "text/plain": [
       "<IPython.core.display.HTML object>"
      ]
     },
     "metadata": {},
     "output_type": "display_data"
    },
    {
     "data": {
      "text/html": [
       " View sweep at <a href='https://wandb.ai/jgammell/data_sanitization/sweeps/d1qsxwr1' target=\"_blank\">https://wandb.ai/jgammell/data_sanitization/sweeps/d1qsxwr1</a>"
      ],
      "text/plain": [
       "<IPython.core.display.HTML object>"
      ]
     },
     "metadata": {},
     "output_type": "display_data"
    },
    {
     "data": {
      "text/html": [
       " View run at <a href='https://wandb.ai/jgammell/data_sanitization/runs/oesm2iaq' target=\"_blank\">https://wandb.ai/jgammell/data_sanitization/runs/oesm2iaq</a>"
      ],
      "text/plain": [
       "<IPython.core.display.HTML object>"
      ]
     },
     "metadata": {},
     "output_type": "display_data"
    },
    {
     "data": {
      "text/html": [
       "Waiting for W&B process to finish... <strong style=\"color:green\">(success).</strong>"
      ],
      "text/plain": [
       "<IPython.core.display.HTML object>"
      ]
     },
     "metadata": {},
     "output_type": "display_data"
    },
    {
     "data": {
      "application/vnd.jupyter.widget-view+json": {
       "model_id": "153ba7e5ec7f43b58fd603ba011b2920",
       "version_major": 2,
       "version_minor": 0
      },
      "text/plain": [
       "VBox(children=(Label(value='0.002 MB of 0.023 MB uploaded (0.000 MB deduped)\\r'), FloatProgress(value=0.086130…"
      ]
     },
     "metadata": {},
     "output_type": "display_data"
    },
    {
     "data": {
      "text/html": [
       "<style>\n",
       "    table.wandb td:nth-child(1) { padding: 0 10px; text-align: left ; width: auto;} td:nth-child(2) {text-align: left ; width: 100%}\n",
       "    .wandb-row { display: flex; flex-direction: row; flex-wrap: wrap; justify-content: flex-start; width: 100% }\n",
       "    .wandb-col { display: flex; flex-direction: column; flex-basis: 100%; flex: 1; padding: 10px; }\n",
       "    </style>\n",
       "<div class=\"wandb-row\"><div class=\"wandb-col\"><h3>Run history:</h3><br/><table class=\"wandb\"><tr><td>duration</td><td>▁▅▄▆▃▃█▄▅▄▄▃▄▆▂▃▄▅▄▃▃▄▃▄▂▃▂▃▆▄▄▃▃▅▆▃▅▅▂▂</td></tr><tr><td>te_c_acc</td><td>▁▁▇▆█▇▇▆▆▅▅▅▅▅▂▅▄▁▂▃▄▃▃▃▂▃▃▂▃▃▃▁▃▂▂▂▃▂▂▂</td></tr><tr><td>te_c_loss</td><td>▆▆▁▃▁▃▂▃▃▄▅▄▄▄▇▄▅█▇▅▅▆▅▆▇▆▆▇▆▆▇▇▆▇▇▇▇▇▇▇</td></tr><tr><td>te_c_oracle_loss</td><td>▁▁▄▅▄▅▅▅▆▆▆▆▆▆▇▆▇▇▇▇▇▇▇▇▇▇▇▇▇▇███▇██████</td></tr><tr><td>te_s_em_loss</td><td>▁▁▆█▅▅▄▃▃▃▅▄▃▄▇▄▄▇▆▄▄▄▄▄▆▄▅▆▄▅▆▆▅▅▅▅▆▆▅▆</td></tr><tr><td>te_s_oracle_loss</td><td>▁▁▄▅▄▅▅▅▆▆▆▆▆▆▇▆▇▇▇▇▇▇▇▇▇▇▇▇▇▇███▇██████</td></tr><tr><td>te_s_rec_loss</td><td>▁▁▆█▅▆▅▆▆▆█▆▆▇▇▆▆▇▇▆▆▆▆▆▇▆▆▇▇▆▆▇▇▇▇▆▇▇▇▇</td></tr><tr><td>tr_c_acc</td><td>▁▁██▇▆▆▆▅▅▅▅▄▄▄▄▄▄▃▃▃▃▃▃▃▂▂▂▂▂▂▂▂▂▂▂▂▂▂▂</td></tr><tr><td>tr_c_loss</td><td>██▂▃▄▄▄▄▄▄▄▄▄▄▄▄▄▄▃▃▃▃▃▃▃▃▃▂▂▂▂▂▂▂▂▂▁▁▁▁</td></tr><tr><td>tr_c_oracle_loss</td><td>▁▁▄▄▅▅▅▅▆▆▆▆▆▆▆▇▇▇▇▇▇▇▇▇▇▇▇▇▇▇▇█████████</td></tr><tr><td>tr_s_em_loss</td><td>▁▁██▅▅▄▄▄▄▄▃▃▃▃▃▃▃▃▃▃▃▃▃▃▃▃▃▄▃▃▃▄▃▃▃▃▃▃▃</td></tr><tr><td>tr_s_oracle_loss</td><td>▁▁▄▄▅▅▅▅▆▆▆▆▆▆▆▇▇▇▇▇▇▇▇▇▇▇▇▇▇▇▇█████████</td></tr><tr><td>tr_s_rec_loss</td><td>▂▁█▆▄▅▄▃▃▂▃▄▂▃▁▃▂▂▃▂▂▂▂▂▂▂▄▃▁▂▂▂▃▃▃▁▂▃▂▂</td></tr></table><br/></div><div class=\"wandb-col\"><h3>Run summary:</h3><br/><table class=\"wandb\"><tr><td>duration</td><td>0.73926</td></tr><tr><td>te_c_acc</td><td>0.51621</td></tr><tr><td>te_c_loss</td><td>0.73665</td></tr><tr><td>te_c_oracle_loss</td><td>0.66151</td></tr><tr><td>te_s_em_loss</td><td>0.7663</td></tr><tr><td>te_s_oracle_loss</td><td>0.66151</td></tr><tr><td>te_s_rec_loss</td><td>0.31809</td></tr><tr><td>tr_c_acc</td><td>0.52118</td></tr><tr><td>tr_c_loss</td><td>0.57735</td></tr><tr><td>tr_c_oracle_loss</td><td>0.65856</td></tr><tr><td>tr_s_em_loss</td><td>0.71683</td></tr><tr><td>tr_s_oracle_loss</td><td>0.65939</td></tr><tr><td>tr_s_rec_loss</td><td>0.31355</td></tr></table><br/></div></div>"
      ],
      "text/plain": [
       "<IPython.core.display.HTML object>"
      ]
     },
     "metadata": {},
     "output_type": "display_data"
    },
    {
     "data": {
      "text/html": [
       " View run <strong style=\"color:#cdcd00\">glad-sweep-2</strong> at: <a href='https://wandb.ai/jgammell/data_sanitization/runs/oesm2iaq' target=\"_blank\">https://wandb.ai/jgammell/data_sanitization/runs/oesm2iaq</a><br/>Synced 5 W&B file(s), 0 media file(s), 0 artifact file(s) and 0 other file(s)"
      ],
      "text/plain": [
       "<IPython.core.display.HTML object>"
      ]
     },
     "metadata": {},
     "output_type": "display_data"
    },
    {
     "data": {
      "text/html": [
       "Find logs at: <code>./wandb/run-20230218_182313-oesm2iaq/logs</code>"
      ],
      "text/plain": [
       "<IPython.core.display.HTML object>"
      ]
     },
     "metadata": {},
     "output_type": "display_data"
    },
    {
     "name": "stderr",
     "output_type": "stream",
     "text": [
      "\u001b[34m\u001b[1mwandb\u001b[0m: Agent Starting Run: 6ugacer2 with config:\n",
      "\u001b[34m\u001b[1mwandb\u001b[0m: \tatenc_bottleneck_width: 32\n",
      "\u001b[34m\u001b[1mwandb\u001b[0m: \tatenc_sn: True\n",
      "\u001b[34m\u001b[1mwandb\u001b[0m: \tbeta1_c: 0.6550408714048896\n",
      "\u001b[34m\u001b[1mwandb\u001b[0m: \tbeta1_s: 0.7740630265053084\n",
      "\u001b[34m\u001b[1mwandb\u001b[0m: \tbeta2_c: 0.999\n",
      "\u001b[34m\u001b[1mwandb\u001b[0m: \tbeta2_s: 0.999\n",
      "\u001b[34m\u001b[1mwandb\u001b[0m: \tc_pretrain_epochs: 8\n",
      "\u001b[34m\u001b[1mwandb\u001b[0m: \tclass_sn: True\n",
      "\u001b[34m\u001b[1mwandb\u001b[0m: \tlr_c: 0.004639816547254283\n",
      "\u001b[34m\u001b[1mwandb\u001b[0m: \tlr_s: 0.000479271417908676\n",
      "\u001b[34m\u001b[1mwandb\u001b[0m: \ts_lbd: 28.660711636939357\n",
      "\u001b[34m\u001b[1mwandb\u001b[0m: \ts_pretrain_epochs: 8\n",
      "\u001b[34m\u001b[1mwandb\u001b[0m: \tsan_sn: False\n",
      "\u001b[34m\u001b[1mwandb\u001b[0m: \ttrain_epochs: 250\n"
     ]
    },
    {
     "data": {
      "text/html": [
       "Tracking run with wandb version 0.13.10"
      ],
      "text/plain": [
       "<IPython.core.display.HTML object>"
      ]
     },
     "metadata": {},
     "output_type": "display_data"
    },
    {
     "data": {
      "text/html": [
       "Run data is saved locally in <code>/local/scratch/a/jgammell/sca_defense/wandb/run-20230218_184733-6ugacer2</code>"
      ],
      "text/plain": [
       "<IPython.core.display.HTML object>"
      ]
     },
     "metadata": {},
     "output_type": "display_data"
    },
    {
     "data": {
      "text/html": [
       "Syncing run <strong><a href='https://wandb.ai/jgammell/data_sanitization/runs/6ugacer2' target=\"_blank\">astral-sweep-3</a></strong> to <a href='https://wandb.ai/jgammell/data_sanitization' target=\"_blank\">Weights & Biases</a> (<a href='https://wandb.me/run' target=\"_blank\">docs</a>)<br/>Sweep page: <a href='https://wandb.ai/jgammell/data_sanitization/sweeps/d1qsxwr1' target=\"_blank\">https://wandb.ai/jgammell/data_sanitization/sweeps/d1qsxwr1</a>"
      ],
      "text/plain": [
       "<IPython.core.display.HTML object>"
      ]
     },
     "metadata": {},
     "output_type": "display_data"
    },
    {
     "data": {
      "text/html": [
       " View project at <a href='https://wandb.ai/jgammell/data_sanitization' target=\"_blank\">https://wandb.ai/jgammell/data_sanitization</a>"
      ],
      "text/plain": [
       "<IPython.core.display.HTML object>"
      ]
     },
     "metadata": {},
     "output_type": "display_data"
    },
    {
     "data": {
      "text/html": [
       " View sweep at <a href='https://wandb.ai/jgammell/data_sanitization/sweeps/d1qsxwr1' target=\"_blank\">https://wandb.ai/jgammell/data_sanitization/sweeps/d1qsxwr1</a>"
      ],
      "text/plain": [
       "<IPython.core.display.HTML object>"
      ]
     },
     "metadata": {},
     "output_type": "display_data"
    },
    {
     "data": {
      "text/html": [
       " View run at <a href='https://wandb.ai/jgammell/data_sanitization/runs/6ugacer2' target=\"_blank\">https://wandb.ai/jgammell/data_sanitization/runs/6ugacer2</a>"
      ],
      "text/plain": [
       "<IPython.core.display.HTML object>"
      ]
     },
     "metadata": {},
     "output_type": "display_data"
    },
    {
     "data": {
      "text/html": [
       "Waiting for W&B process to finish... <strong style=\"color:green\">(success).</strong>"
      ],
      "text/plain": [
       "<IPython.core.display.HTML object>"
      ]
     },
     "metadata": {},
     "output_type": "display_data"
    },
    {
     "data": {
      "text/html": [
       "<style>\n",
       "    table.wandb td:nth-child(1) { padding: 0 10px; text-align: left ; width: auto;} td:nth-child(2) {text-align: left ; width: 100%}\n",
       "    .wandb-row { display: flex; flex-direction: row; flex-wrap: wrap; justify-content: flex-start; width: 100% }\n",
       "    .wandb-col { display: flex; flex-direction: column; flex-basis: 100%; flex: 1; padding: 10px; }\n",
       "    </style>\n",
       "<div class=\"wandb-row\"><div class=\"wandb-col\"><h3>Run history:</h3><br/><table class=\"wandb\"><tr><td>duration</td><td>▂▁▁▁▁▂▁▁█▂▁▁▂▂▁▁▁▁▁▂▁▂▁▂▁▂▁▂▁▁▂▁▂▁▁▂▁▁▁▁</td></tr><tr><td>te_c_acc</td><td>▁▁█▃▂▂▂▃▃▃▃▃▃▃▃▂▃▂▃▂▂▂▂▂▃▂▂▂▂▂▂▂▂▂▂▂▂▂▂▂</td></tr><tr><td>te_c_loss</td><td>██▁▇██▇▇▇▇▇▇▇▇▇▇▇▇▇▇▇▇▇▇▇▇▇▇█▇█▇▇█▇▇▇█▇▇</td></tr><tr><td>te_c_oracle_loss</td><td>▁▁▁▅▅▅▅▅▅▅▅▅▆▆▆▇▇▇▇▇▇▇▇▇▇▇▇▇▇███▇▇▇▇████</td></tr><tr><td>te_s_em_loss</td><td>▁▁█▁▁▁▁▁▁▁▁▁▁▁▁▁▁▁▁▁▁▁▁▁▁▁▁▁▁▁▁▁▁▁▁▁▁▁▁▁</td></tr><tr><td>te_s_oracle_loss</td><td>▁▁▁▅▅▅▅▅▅▅▅▅▆▆▆▇▇▇▇▇▇▇▇▇▇▇▇▇▇███▇▇▇▇████</td></tr><tr><td>te_s_rec_loss</td><td>▁▁▁▆▇▇▇▇▇█████▇▇▇▇▇▆▆▆▆▆▆▆▅▆▅▅▆▆▆▅▅▅▆▅▆▆</td></tr><tr><td>tr_c_acc</td><td>▁▁█▃▃▃▃▃▃▃▃▃▃▃▃▃▃▂▃▃▂▂▂▂▂▂▂▂▂▂▂▂▂▂▂▂▂▂▂▂</td></tr><tr><td>tr_c_loss</td><td>██▁▇▇▇▇▇▇▇▇▇▇▇▇▇▇▇▇▇▇▇▇▇▇▇▇▇▇▇▇▇▇▇▇▇▇▇▇▇</td></tr><tr><td>tr_c_oracle_loss</td><td>▁▁▁▄▅▅▅▅▅▅▅▆▆▆▆▇▇▇▇▇▇▇▇▇▇▇▇▇▇████▇▇▇████</td></tr><tr><td>tr_s_em_loss</td><td>▁▁█▁▁▁▁▁▁▁▁▁▁▁▁▁▁▁▁▁▁▁▁▁▁▁▁▁▁▁▁▁▁▁▁▁▁▁▁▁</td></tr><tr><td>tr_s_oracle_loss</td><td>▁▁▁▄▅▅▅▅▅▅▅▆▆▆▆▇▇▇▇▇▇▇▇▇▇▇▇▇▇████▇▇▇████</td></tr><tr><td>tr_s_rec_loss</td><td>▁▁▁▆▇▇▇▇▇██████▇▇▇▇▆▆▆▆▆▆▆▅▆▅▆▅▆▆▅▅▅▆▅▆▆</td></tr></table><br/></div><div class=\"wandb-col\"><h3>Run summary:</h3><br/><table class=\"wandb\"><tr><td>duration</td><td>0.70845</td></tr><tr><td>te_c_acc</td><td>0.59443</td></tr><tr><td>te_c_loss</td><td>0.65326</td></tr><tr><td>te_c_oracle_loss</td><td>1.01265</td></tr><tr><td>te_s_em_loss</td><td>0.73862</td></tr><tr><td>te_s_oracle_loss</td><td>1.01265</td></tr><tr><td>te_s_rec_loss</td><td>0.13079</td></tr><tr><td>tr_c_acc</td><td>0.58157</td></tr><tr><td>tr_c_loss</td><td>0.65655</td></tr><tr><td>tr_c_oracle_loss</td><td>0.99895</td></tr><tr><td>tr_s_em_loss</td><td>0.73156</td></tr><tr><td>tr_s_oracle_loss</td><td>0.99906</td></tr><tr><td>tr_s_rec_loss</td><td>0.13087</td></tr></table><br/></div></div>"
      ],
      "text/plain": [
       "<IPython.core.display.HTML object>"
      ]
     },
     "metadata": {},
     "output_type": "display_data"
    },
    {
     "data": {
      "text/html": [
       " View run <strong style=\"color:#cdcd00\">astral-sweep-3</strong> at: <a href='https://wandb.ai/jgammell/data_sanitization/runs/6ugacer2' target=\"_blank\">https://wandb.ai/jgammell/data_sanitization/runs/6ugacer2</a><br/>Synced 5 W&B file(s), 0 media file(s), 0 artifact file(s) and 0 other file(s)"
      ],
      "text/plain": [
       "<IPython.core.display.HTML object>"
      ]
     },
     "metadata": {},
     "output_type": "display_data"
    },
    {
     "data": {
      "text/html": [
       "Find logs at: <code>./wandb/run-20230218_184733-6ugacer2/logs</code>"
      ],
      "text/plain": [
       "<IPython.core.display.HTML object>"
      ]
     },
     "metadata": {},
     "output_type": "display_data"
    },
    {
     "name": "stderr",
     "output_type": "stream",
     "text": [
      "\u001b[34m\u001b[1mwandb\u001b[0m: Agent Starting Run: 7c01xtqr with config:\n",
      "\u001b[34m\u001b[1mwandb\u001b[0m: \tatenc_bottleneck_width: 8\n",
      "\u001b[34m\u001b[1mwandb\u001b[0m: \tatenc_sn: False\n",
      "\u001b[34m\u001b[1mwandb\u001b[0m: \tbeta1_c: 0.24977897651513464\n",
      "\u001b[34m\u001b[1mwandb\u001b[0m: \tbeta1_s: 0.4621566000999142\n",
      "\u001b[34m\u001b[1mwandb\u001b[0m: \tbeta2_c: 0.999\n",
      "\u001b[34m\u001b[1mwandb\u001b[0m: \tbeta2_s: 0.999\n",
      "\u001b[34m\u001b[1mwandb\u001b[0m: \tc_pretrain_epochs: 11\n",
      "\u001b[34m\u001b[1mwandb\u001b[0m: \tclass_sn: False\n",
      "\u001b[34m\u001b[1mwandb\u001b[0m: \tlr_c: 0.0021103811389045187\n",
      "\u001b[34m\u001b[1mwandb\u001b[0m: \tlr_s: 0.00036671697674536775\n",
      "\u001b[34m\u001b[1mwandb\u001b[0m: \ts_lbd: 0.013182005333335065\n",
      "\u001b[34m\u001b[1mwandb\u001b[0m: \ts_pretrain_epochs: 7\n",
      "\u001b[34m\u001b[1mwandb\u001b[0m: \tsan_sn: True\n",
      "\u001b[34m\u001b[1mwandb\u001b[0m: \ttrain_epochs: 250\n"
     ]
    },
    {
     "data": {
      "text/html": [
       "Tracking run with wandb version 0.13.10"
      ],
      "text/plain": [
       "<IPython.core.display.HTML object>"
      ]
     },
     "metadata": {},
     "output_type": "display_data"
    },
    {
     "data": {
      "text/html": [
       "Run data is saved locally in <code>/local/scratch/a/jgammell/sca_defense/wandb/run-20230218_190935-7c01xtqr</code>"
      ],
      "text/plain": [
       "<IPython.core.display.HTML object>"
      ]
     },
     "metadata": {},
     "output_type": "display_data"
    },
    {
     "data": {
      "text/html": [
       "Syncing run <strong><a href='https://wandb.ai/jgammell/data_sanitization/runs/7c01xtqr' target=\"_blank\">ethereal-sweep-4</a></strong> to <a href='https://wandb.ai/jgammell/data_sanitization' target=\"_blank\">Weights & Biases</a> (<a href='https://wandb.me/run' target=\"_blank\">docs</a>)<br/>Sweep page: <a href='https://wandb.ai/jgammell/data_sanitization/sweeps/d1qsxwr1' target=\"_blank\">https://wandb.ai/jgammell/data_sanitization/sweeps/d1qsxwr1</a>"
      ],
      "text/plain": [
       "<IPython.core.display.HTML object>"
      ]
     },
     "metadata": {},
     "output_type": "display_data"
    },
    {
     "data": {
      "text/html": [
       " View project at <a href='https://wandb.ai/jgammell/data_sanitization' target=\"_blank\">https://wandb.ai/jgammell/data_sanitization</a>"
      ],
      "text/plain": [
       "<IPython.core.display.HTML object>"
      ]
     },
     "metadata": {},
     "output_type": "display_data"
    },
    {
     "data": {
      "text/html": [
       " View sweep at <a href='https://wandb.ai/jgammell/data_sanitization/sweeps/d1qsxwr1' target=\"_blank\">https://wandb.ai/jgammell/data_sanitization/sweeps/d1qsxwr1</a>"
      ],
      "text/plain": [
       "<IPython.core.display.HTML object>"
      ]
     },
     "metadata": {},
     "output_type": "display_data"
    },
    {
     "data": {
      "text/html": [
       " View run at <a href='https://wandb.ai/jgammell/data_sanitization/runs/7c01xtqr' target=\"_blank\">https://wandb.ai/jgammell/data_sanitization/runs/7c01xtqr</a>"
      ],
      "text/plain": [
       "<IPython.core.display.HTML object>"
      ]
     },
     "metadata": {},
     "output_type": "display_data"
    },
    {
     "data": {
      "text/html": [
       "Waiting for W&B process to finish... <strong style=\"color:green\">(success).</strong>"
      ],
      "text/plain": [
       "<IPython.core.display.HTML object>"
      ]
     },
     "metadata": {},
     "output_type": "display_data"
    },
    {
     "data": {
      "text/html": [
       "<style>\n",
       "    table.wandb td:nth-child(1) { padding: 0 10px; text-align: left ; width: auto;} td:nth-child(2) {text-align: left ; width: 100%}\n",
       "    .wandb-row { display: flex; flex-direction: row; flex-wrap: wrap; justify-content: flex-start; width: 100% }\n",
       "    .wandb-col { display: flex; flex-direction: column; flex-basis: 100%; flex: 1; padding: 10px; }\n",
       "    </style>\n",
       "<div class=\"wandb-row\"><div class=\"wandb-col\"><h3>Run history:</h3><br/><table class=\"wandb\"><tr><td>duration</td><td>▁▃▅▄▂▁▃▄▅▂▇▃▅▅▃▅▃▆▂▃▅▅▃▃▄▂▄▃▁▂▂▂█▇▄▂▅▄▄▄</td></tr><tr><td>te_c_acc</td><td>▁▁█▄▂▃▃▁▁▂▁▁▁▂▂▁▂▁▁▁▂▁▁▁▁▂▁▁▁▁▂▁▁▁▁▁▁▁▁▁</td></tr><tr><td>te_c_loss</td><td>▆▆▁▅▆▅▅▆▇▆▆▆█▆▆▆▆▆▆▆▆▆▆▆▆▆▆▆▆▆▆▆▆▆▆▆▇▇▆▆</td></tr><tr><td>te_c_oracle_loss</td><td>▁▁▁▃▄▅▆▆▇▇▇▇▆▆▆▅▆▆▆▅▆▆▇▆▆▇▆▆▆▆▆▆▆▇▇▆██▇▇</td></tr><tr><td>te_s_em_loss</td><td>▁▁█▁▁▁▁▁▁▁▁▁▁▁▁▁▁▁▁▁▁▁▁▁▁▁▁▁▁▁▁▁▁▁▁▁▁▁▁▁</td></tr><tr><td>te_s_oracle_loss</td><td>▁▁▁▃▄▅▆▆▇▇▇▇▆▆▆▅▆▆▆▅▆▆▇▆▆▇▆▆▆▆▆▆▆▇▇▆██▇▇</td></tr><tr><td>te_s_rec_loss</td><td>▁▁▁▂▂▃▃▄▅▇█▆▆▇▄▄▄▄▇▆▆▅▅▃▄▄▅▄▆▃▄▄▄▅▅▃▄▅▇▄</td></tr><tr><td>tr_c_acc</td><td>▁▁█▃▃▃▃▂▂▂▂▂▂▂▂▁▁▁▁▁▁▁▂▁▁▁▁▁▂▁▁▁▁▁▁▁▁▂▂▁</td></tr><tr><td>tr_c_loss</td><td>██▁▇▇▇▇█████████████████████████████████</td></tr><tr><td>tr_c_oracle_loss</td><td>▁▁▁▃▄▅▆▆▆▇▇▇▆▆▆▅▆▆▆▅▅▆▇▆▆▆▇▆▆▆▆▆▆▇▇▆▇██▇</td></tr><tr><td>tr_s_em_loss</td><td>▁▁█▁▁▁▁▁▁▁▁▁▁▁▁▁▁▁▁▁▁▁▁▁▁▁▁▁▁▁▁▁▁▁▁▁▁▁▁▁</td></tr><tr><td>tr_s_oracle_loss</td><td>▁▁▁▃▄▅▆▆▆▇▇▇▆▆▆▅▆▆▆▅▅▆▇▆▆▆▇▆▆▆▆▆▆▇▇▆▇██▇</td></tr><tr><td>tr_s_rec_loss</td><td>▁▁▁▂▃▃▃▄▄▇█▅▆▆▄▄▄▄▅▆▅▅▅▄▄▃▅▄▆▃▄▄▄▄▄▃▄▄▅▄</td></tr></table><br/></div><div class=\"wandb-col\"><h3>Run summary:</h3><br/><table class=\"wandb\"><tr><td>duration</td><td>0.72592</td></tr><tr><td>te_c_acc</td><td>0.51104</td></tr><tr><td>te_c_loss</td><td>0.69287</td></tr><tr><td>te_c_oracle_loss</td><td>1.28733</td></tr><tr><td>te_s_em_loss</td><td>0.71791</td></tr><tr><td>te_s_oracle_loss</td><td>1.28733</td></tr><tr><td>te_s_rec_loss</td><td>0.26892</td></tr><tr><td>tr_c_acc</td><td>0.53188</td></tr><tr><td>tr_c_loss</td><td>0.68875</td></tr><tr><td>tr_c_oracle_loss</td><td>1.29266</td></tr><tr><td>tr_s_em_loss</td><td>0.70161</td></tr><tr><td>tr_s_oracle_loss</td><td>1.29279</td></tr><tr><td>tr_s_rec_loss</td><td>0.269</td></tr></table><br/></div></div>"
      ],
      "text/plain": [
       "<IPython.core.display.HTML object>"
      ]
     },
     "metadata": {},
     "output_type": "display_data"
    },
    {
     "data": {
      "text/html": [
       " View run <strong style=\"color:#cdcd00\">ethereal-sweep-4</strong> at: <a href='https://wandb.ai/jgammell/data_sanitization/runs/7c01xtqr' target=\"_blank\">https://wandb.ai/jgammell/data_sanitization/runs/7c01xtqr</a><br/>Synced 5 W&B file(s), 0 media file(s), 0 artifact file(s) and 0 other file(s)"
      ],
      "text/plain": [
       "<IPython.core.display.HTML object>"
      ]
     },
     "metadata": {},
     "output_type": "display_data"
    },
    {
     "data": {
      "text/html": [
       "Find logs at: <code>./wandb/run-20230218_190935-7c01xtqr/logs</code>"
      ],
      "text/plain": [
       "<IPython.core.display.HTML object>"
      ]
     },
     "metadata": {},
     "output_type": "display_data"
    },
    {
     "name": "stderr",
     "output_type": "stream",
     "text": [
      "\u001b[34m\u001b[1mwandb\u001b[0m: Agent Starting Run: 3k7mvqf3 with config:\n",
      "\u001b[34m\u001b[1mwandb\u001b[0m: \tatenc_bottleneck_width: 256\n",
      "\u001b[34m\u001b[1mwandb\u001b[0m: \tatenc_sn: False\n",
      "\u001b[34m\u001b[1mwandb\u001b[0m: \tbeta1_c: 0.8993243842960591\n",
      "\u001b[34m\u001b[1mwandb\u001b[0m: \tbeta1_s: 0.5494317763268665\n",
      "\u001b[34m\u001b[1mwandb\u001b[0m: \tbeta2_c: 0.999\n",
      "\u001b[34m\u001b[1mwandb\u001b[0m: \tbeta2_s: 0.999\n",
      "\u001b[34m\u001b[1mwandb\u001b[0m: \tc_pretrain_epochs: 4\n",
      "\u001b[34m\u001b[1mwandb\u001b[0m: \tclass_sn: True\n",
      "\u001b[34m\u001b[1mwandb\u001b[0m: \tlr_c: 0.004046794747504378\n",
      "\u001b[34m\u001b[1mwandb\u001b[0m: \tlr_s: 0.004002800379678917\n",
      "\u001b[34m\u001b[1mwandb\u001b[0m: \ts_lbd: 0.04291669696591309\n",
      "\u001b[34m\u001b[1mwandb\u001b[0m: \ts_pretrain_epochs: 2\n",
      "\u001b[34m\u001b[1mwandb\u001b[0m: \tsan_sn: False\n",
      "\u001b[34m\u001b[1mwandb\u001b[0m: \ttrain_epochs: 250\n"
     ]
    },
    {
     "data": {
      "text/html": [
       "Tracking run with wandb version 0.13.10"
      ],
      "text/plain": [
       "<IPython.core.display.HTML object>"
      ]
     },
     "metadata": {},
     "output_type": "display_data"
    },
    {
     "data": {
      "text/html": [
       "Run data is saved locally in <code>/local/scratch/a/jgammell/sca_defense/wandb/run-20230218_193235-3k7mvqf3</code>"
      ],
      "text/plain": [
       "<IPython.core.display.HTML object>"
      ]
     },
     "metadata": {},
     "output_type": "display_data"
    },
    {
     "data": {
      "text/html": [
       "Syncing run <strong><a href='https://wandb.ai/jgammell/data_sanitization/runs/3k7mvqf3' target=\"_blank\">worldly-sweep-5</a></strong> to <a href='https://wandb.ai/jgammell/data_sanitization' target=\"_blank\">Weights & Biases</a> (<a href='https://wandb.me/run' target=\"_blank\">docs</a>)<br/>Sweep page: <a href='https://wandb.ai/jgammell/data_sanitization/sweeps/d1qsxwr1' target=\"_blank\">https://wandb.ai/jgammell/data_sanitization/sweeps/d1qsxwr1</a>"
      ],
      "text/plain": [
       "<IPython.core.display.HTML object>"
      ]
     },
     "metadata": {},
     "output_type": "display_data"
    },
    {
     "data": {
      "text/html": [
       " View project at <a href='https://wandb.ai/jgammell/data_sanitization' target=\"_blank\">https://wandb.ai/jgammell/data_sanitization</a>"
      ],
      "text/plain": [
       "<IPython.core.display.HTML object>"
      ]
     },
     "metadata": {},
     "output_type": "display_data"
    },
    {
     "data": {
      "text/html": [
       " View sweep at <a href='https://wandb.ai/jgammell/data_sanitization/sweeps/d1qsxwr1' target=\"_blank\">https://wandb.ai/jgammell/data_sanitization/sweeps/d1qsxwr1</a>"
      ],
      "text/plain": [
       "<IPython.core.display.HTML object>"
      ]
     },
     "metadata": {},
     "output_type": "display_data"
    },
    {
     "data": {
      "text/html": [
       " View run at <a href='https://wandb.ai/jgammell/data_sanitization/runs/3k7mvqf3' target=\"_blank\">https://wandb.ai/jgammell/data_sanitization/runs/3k7mvqf3</a>"
      ],
      "text/plain": [
       "<IPython.core.display.HTML object>"
      ]
     },
     "metadata": {},
     "output_type": "display_data"
    },
    {
     "data": {
      "text/html": [
       "Waiting for W&B process to finish... <strong style=\"color:green\">(success).</strong>"
      ],
      "text/plain": [
       "<IPython.core.display.HTML object>"
      ]
     },
     "metadata": {},
     "output_type": "display_data"
    },
    {
     "data": {
      "application/vnd.jupyter.widget-view+json": {
       "model_id": "113cb1597ff84cde90d6cd3075ab0fd1",
       "version_major": 2,
       "version_minor": 0
      },
      "text/plain": [
       "VBox(children=(Label(value='0.002 MB of 0.024 MB uploaded (0.000 MB deduped)\\r'), FloatProgress(value=0.082616…"
      ]
     },
     "metadata": {},
     "output_type": "display_data"
    },
    {
     "data": {
      "text/html": [
       "<style>\n",
       "    table.wandb td:nth-child(1) { padding: 0 10px; text-align: left ; width: auto;} td:nth-child(2) {text-align: left ; width: 100%}\n",
       "    .wandb-row { display: flex; flex-direction: row; flex-wrap: wrap; justify-content: flex-start; width: 100% }\n",
       "    .wandb-col { display: flex; flex-direction: column; flex-basis: 100%; flex: 1; padding: 10px; }\n",
       "    </style>\n",
       "<div class=\"wandb-row\"><div class=\"wandb-col\"><h3>Run history:</h3><br/><table class=\"wandb\"><tr><td>duration</td><td>▁▁▁▁▁▁▂▁▁▁▁▁▁▁▁▁█▁▁▁▁▁▁▁▁▁▁▁▁▁▁▁▁▁▁▁▁▂▂▁</td></tr><tr><td>te_c_acc</td><td>▁▁▅▆▇▇▇▇█████████▇█▇█▇█▇██▇▇██▇▇█▇▆▇▇▇▇▇</td></tr><tr><td>te_c_loss</td><td>█▇▄▄▃▂▂▂▂▁▁▁▁▁▁▂▁▂▂▂▃▂▂▃▃▃▅▃▃▄▄▄▅▆█▆▆▆▇▇</td></tr><tr><td>te_c_oracle_loss</td><td>▁███████████████████████████████████████</td></tr><tr><td>te_s_em_loss</td><td>▂▁▂▂▂▂▂▂▂▃▃▃▃▃▃▃▃▄▄▄▄▅▅▅▅▅▅▅▅▆▆▆▆▇▇▇▇▇▇█</td></tr><tr><td>te_s_oracle_loss</td><td>▁███████████████████████████████████████</td></tr><tr><td>te_s_rec_loss</td><td>▁███████████████████████████████████████</td></tr><tr><td>tr_c_acc</td><td>▁▁▆▆▇▇▇████████████████████████████▇█▇▇█</td></tr><tr><td>tr_c_loss</td><td>██▆▆▆▆▅▅▅▅▅▅▄▄▄▄▄▄▄▃▃▃▃▃▃▃▃▃▂▂▂▂▂▂▂▁▁▁▁▁</td></tr><tr><td>tr_c_oracle_loss</td><td>▁███████████████████████████████████████</td></tr><tr><td>tr_s_em_loss</td><td>▁▁▂▂▂▂▂▂▃▃▃▃▃▃▃▄▄▄▄▄▄▄▅▅▅▅▅▅▆▆▆▆▆▇▇▇▇▇██</td></tr><tr><td>tr_s_oracle_loss</td><td>▁███████████████████████████████████████</td></tr><tr><td>tr_s_rec_loss</td><td>▁███████████████████████████████████████</td></tr></table><br/></div><div class=\"wandb-col\"><h3>Run summary:</h3><br/><table class=\"wandb\"><tr><td>duration</td><td>0.73103</td></tr><tr><td>te_c_acc</td><td>0.70908</td></tr><tr><td>te_c_loss</td><td>0.71155</td></tr><tr><td>te_c_oracle_loss</td><td>0.91196</td></tr><tr><td>te_s_em_loss</td><td>1.89719</td></tr><tr><td>te_s_oracle_loss</td><td>0.91196</td></tr><tr><td>te_s_rec_loss</td><td>0.02549</td></tr><tr><td>tr_c_acc</td><td>0.70812</td></tr><tr><td>tr_c_loss</td><td>0.15785</td></tr><tr><td>tr_c_oracle_loss</td><td>0.91172</td></tr><tr><td>tr_s_em_loss</td><td>1.84098</td></tr><tr><td>tr_s_oracle_loss</td><td>0.91172</td></tr><tr><td>tr_s_rec_loss</td><td>0.0255</td></tr></table><br/></div></div>"
      ],
      "text/plain": [
       "<IPython.core.display.HTML object>"
      ]
     },
     "metadata": {},
     "output_type": "display_data"
    },
    {
     "data": {
      "text/html": [
       " View run <strong style=\"color:#cdcd00\">worldly-sweep-5</strong> at: <a href='https://wandb.ai/jgammell/data_sanitization/runs/3k7mvqf3' target=\"_blank\">https://wandb.ai/jgammell/data_sanitization/runs/3k7mvqf3</a><br/>Synced 5 W&B file(s), 0 media file(s), 0 artifact file(s) and 0 other file(s)"
      ],
      "text/plain": [
       "<IPython.core.display.HTML object>"
      ]
     },
     "metadata": {},
     "output_type": "display_data"
    },
    {
     "data": {
      "text/html": [
       "Find logs at: <code>./wandb/run-20230218_193235-3k7mvqf3/logs</code>"
      ],
      "text/plain": [
       "<IPython.core.display.HTML object>"
      ]
     },
     "metadata": {},
     "output_type": "display_data"
    },
    {
     "name": "stderr",
     "output_type": "stream",
     "text": [
      "\u001b[34m\u001b[1mwandb\u001b[0m: Agent Starting Run: fhqettf6 with config:\n",
      "\u001b[34m\u001b[1mwandb\u001b[0m: \tatenc_bottleneck_width: 256\n",
      "\u001b[34m\u001b[1mwandb\u001b[0m: \tatenc_sn: True\n",
      "\u001b[34m\u001b[1mwandb\u001b[0m: \tbeta1_c: 0.8893241461439995\n",
      "\u001b[34m\u001b[1mwandb\u001b[0m: \tbeta1_s: 0.8032492362646111\n",
      "\u001b[34m\u001b[1mwandb\u001b[0m: \tbeta2_c: 0.999\n",
      "\u001b[34m\u001b[1mwandb\u001b[0m: \tbeta2_s: 0.999\n",
      "\u001b[34m\u001b[1mwandb\u001b[0m: \tc_pretrain_epochs: 12\n",
      "\u001b[34m\u001b[1mwandb\u001b[0m: \tclass_sn: False\n",
      "\u001b[34m\u001b[1mwandb\u001b[0m: \tlr_c: 0.002054588074077465\n",
      "\u001b[34m\u001b[1mwandb\u001b[0m: \tlr_s: 0.0010091870075047717\n",
      "\u001b[34m\u001b[1mwandb\u001b[0m: \ts_lbd: 0.3059667175513407\n",
      "\u001b[34m\u001b[1mwandb\u001b[0m: \ts_pretrain_epochs: 7\n",
      "\u001b[34m\u001b[1mwandb\u001b[0m: \tsan_sn: True\n",
      "\u001b[34m\u001b[1mwandb\u001b[0m: \ttrain_epochs: 250\n"
     ]
    },
    {
     "data": {
      "text/html": [
       "Tracking run with wandb version 0.13.10"
      ],
      "text/plain": [
       "<IPython.core.display.HTML object>"
      ]
     },
     "metadata": {},
     "output_type": "display_data"
    },
    {
     "data": {
      "text/html": [
       "Run data is saved locally in <code>/local/scratch/a/jgammell/sca_defense/wandb/run-20230218_195336-fhqettf6</code>"
      ],
      "text/plain": [
       "<IPython.core.display.HTML object>"
      ]
     },
     "metadata": {},
     "output_type": "display_data"
    },
    {
     "data": {
      "text/html": [
       "Syncing run <strong><a href='https://wandb.ai/jgammell/data_sanitization/runs/fhqettf6' target=\"_blank\">dainty-sweep-6</a></strong> to <a href='https://wandb.ai/jgammell/data_sanitization' target=\"_blank\">Weights & Biases</a> (<a href='https://wandb.me/run' target=\"_blank\">docs</a>)<br/>Sweep page: <a href='https://wandb.ai/jgammell/data_sanitization/sweeps/d1qsxwr1' target=\"_blank\">https://wandb.ai/jgammell/data_sanitization/sweeps/d1qsxwr1</a>"
      ],
      "text/plain": [
       "<IPython.core.display.HTML object>"
      ]
     },
     "metadata": {},
     "output_type": "display_data"
    },
    {
     "data": {
      "text/html": [
       " View project at <a href='https://wandb.ai/jgammell/data_sanitization' target=\"_blank\">https://wandb.ai/jgammell/data_sanitization</a>"
      ],
      "text/plain": [
       "<IPython.core.display.HTML object>"
      ]
     },
     "metadata": {},
     "output_type": "display_data"
    },
    {
     "data": {
      "text/html": [
       " View sweep at <a href='https://wandb.ai/jgammell/data_sanitization/sweeps/d1qsxwr1' target=\"_blank\">https://wandb.ai/jgammell/data_sanitization/sweeps/d1qsxwr1</a>"
      ],
      "text/plain": [
       "<IPython.core.display.HTML object>"
      ]
     },
     "metadata": {},
     "output_type": "display_data"
    },
    {
     "data": {
      "text/html": [
       " View run at <a href='https://wandb.ai/jgammell/data_sanitization/runs/fhqettf6' target=\"_blank\">https://wandb.ai/jgammell/data_sanitization/runs/fhqettf6</a>"
      ],
      "text/plain": [
       "<IPython.core.display.HTML object>"
      ]
     },
     "metadata": {},
     "output_type": "display_data"
    },
    {
     "name": "stdout",
     "output_type": "stream",
     "text": [
      "No existing autoencoder found. Training a new one.\n",
      "{'init_loss': 1.2968228, 'final_loss': 0.065341406}\n"
     ]
    },
    {
     "data": {
      "text/html": [
       "Waiting for W&B process to finish... <strong style=\"color:green\">(success).</strong>"
      ],
      "text/plain": [
       "<IPython.core.display.HTML object>"
      ]
     },
     "metadata": {},
     "output_type": "display_data"
    },
    {
     "data": {
      "text/html": [
       "<style>\n",
       "    table.wandb td:nth-child(1) { padding: 0 10px; text-align: left ; width: auto;} td:nth-child(2) {text-align: left ; width: 100%}\n",
       "    .wandb-row { display: flex; flex-direction: row; flex-wrap: wrap; justify-content: flex-start; width: 100% }\n",
       "    .wandb-col { display: flex; flex-direction: column; flex-basis: 100%; flex: 1; padding: 10px; }\n",
       "    </style>\n",
       "<div class=\"wandb-row\"><div class=\"wandb-col\"><h3>Run history:</h3><br/><table class=\"wandb\"><tr><td>duration</td><td>▂▃▁▁▃▅▂▅▂▂█▄▄▃█▃▃▅▁▄▂▂▂▅▄▂▅▄▄▁▂▂▆▅▃▃▄▇▁▂</td></tr><tr><td>te_c_acc</td><td>▁▁█▆▅▅▅▅▄▄▄▄▃▂▂▂▂▂▂▂▁▂▁▁▁▁▁▁▁▁▁▁▁▁▁▁▁▁▁▁</td></tr><tr><td>te_c_loss</td><td>██▁▅▅▆▆▆▆▆▇▇▇███████████████████████████</td></tr><tr><td>te_c_oracle_loss</td><td>▁▁▁▃▄▅▅▅▅▆▆▆▆▆▆▆▆▆▆▆▆▇██████████▇▇▇▇▅▇▇▇</td></tr><tr><td>te_s_em_loss</td><td>▁▁█▁▁▁▁▁▁▁▁▁▁▁▁▁▁▁▁▁▁▁▁▁▁▁▁▁▁▁▁▁▁▁▁▁▁▁▁▁</td></tr><tr><td>te_s_oracle_loss</td><td>▁▁▁▃▄▅▅▅▅▆▆▆▆▆▆▆▆▆▆▆▆▇██████████▇▇▇▇▅▇▇▇</td></tr><tr><td>te_s_rec_loss</td><td>▁▁▁▄▄▅▆▆▆▆▆▇▇▇▇▇▆▇▇▇▇███████████▇▇▇▇▆█▇▇</td></tr><tr><td>tr_c_acc</td><td>▁▁█▆▅▅▄▅▄▄▄▄▃▃▂▂▂▂▂▂▁▂▁▁▁▁▁▁▁▁▁▁▁▁▁▁▁▁▁▁</td></tr><tr><td>tr_c_loss</td><td>██▁▅▅▅▆▆▆▆▆▇▇▇███▇▇█████████████████████</td></tr><tr><td>tr_c_oracle_loss</td><td>▁▁▁▃▄▅▅▅▅▆▆▆▆▆▆▆▅▆▆▆▇▇██████████▇▇▇▇▆▇▇▇</td></tr><tr><td>tr_s_em_loss</td><td>▁▁█▁▁▁▁▁▁▁▁▁▁▁▁▁▁▁▁▁▁▁▁▁▁▁▁▁▁▁▁▁▁▁▁▁▁▁▁▁</td></tr><tr><td>tr_s_oracle_loss</td><td>▁▁▁▃▄▅▅▅▅▆▆▆▇▆▆▆▅▆▆▆▇▇██████████▇▇▇▇▆▇▇▇</td></tr><tr><td>tr_s_rec_loss</td><td>▁▁▁▄▄▅▆▆▆▆▆▇▇▇▇▇▆▇▇▇▇▇██████████▇▇▇▇▆██▇</td></tr></table><br/></div><div class=\"wandb-col\"><h3>Run summary:</h3><br/><table class=\"wandb\"><tr><td>duration</td><td>0.76329</td></tr><tr><td>te_c_acc</td><td>0.50215</td></tr><tr><td>te_c_loss</td><td>0.69313</td></tr><tr><td>te_c_oracle_loss</td><td>0.90499</td></tr><tr><td>te_s_em_loss</td><td>0.69316</td></tr><tr><td>te_s_oracle_loss</td><td>0.90499</td></tr><tr><td>te_s_rec_loss</td><td>0.02561</td></tr><tr><td>tr_c_acc</td><td>0.4983</td></tr><tr><td>tr_c_loss</td><td>0.69317</td></tr><tr><td>tr_c_oracle_loss</td><td>0.90289</td></tr><tr><td>tr_s_em_loss</td><td>0.69318</td></tr><tr><td>tr_s_oracle_loss</td><td>0.90333</td></tr><tr><td>tr_s_rec_loss</td><td>0.02561</td></tr></table><br/></div></div>"
      ],
      "text/plain": [
       "<IPython.core.display.HTML object>"
      ]
     },
     "metadata": {},
     "output_type": "display_data"
    },
    {
     "data": {
      "text/html": [
       " View run <strong style=\"color:#cdcd00\">dainty-sweep-6</strong> at: <a href='https://wandb.ai/jgammell/data_sanitization/runs/fhqettf6' target=\"_blank\">https://wandb.ai/jgammell/data_sanitization/runs/fhqettf6</a><br/>Synced 6 W&B file(s), 0 media file(s), 0 artifact file(s) and 0 other file(s)"
      ],
      "text/plain": [
       "<IPython.core.display.HTML object>"
      ]
     },
     "metadata": {},
     "output_type": "display_data"
    },
    {
     "data": {
      "text/html": [
       "Find logs at: <code>./wandb/run-20230218_195336-fhqettf6/logs</code>"
      ],
      "text/plain": [
       "<IPython.core.display.HTML object>"
      ]
     },
     "metadata": {},
     "output_type": "display_data"
    },
    {
     "name": "stderr",
     "output_type": "stream",
     "text": [
      "\u001b[34m\u001b[1mwandb\u001b[0m: Agent Starting Run: vcva10ju with config:\n",
      "\u001b[34m\u001b[1mwandb\u001b[0m: \tatenc_bottleneck_width: 64\n",
      "\u001b[34m\u001b[1mwandb\u001b[0m: \tatenc_sn: True\n",
      "\u001b[34m\u001b[1mwandb\u001b[0m: \tbeta1_c: 0.7477856233098102\n",
      "\u001b[34m\u001b[1mwandb\u001b[0m: \tbeta1_s: 0.792508231584916\n",
      "\u001b[34m\u001b[1mwandb\u001b[0m: \tbeta2_c: 0.999\n",
      "\u001b[34m\u001b[1mwandb\u001b[0m: \tbeta2_s: 0.999\n",
      "\u001b[34m\u001b[1mwandb\u001b[0m: \tc_pretrain_epochs: 16\n",
      "\u001b[34m\u001b[1mwandb\u001b[0m: \tclass_sn: False\n",
      "\u001b[34m\u001b[1mwandb\u001b[0m: \tlr_c: 0.0005046195214024766\n",
      "\u001b[34m\u001b[1mwandb\u001b[0m: \tlr_s: 0.004362504172963943\n",
      "\u001b[34m\u001b[1mwandb\u001b[0m: \ts_lbd: 1.6333655126267568\n",
      "\u001b[34m\u001b[1mwandb\u001b[0m: \ts_pretrain_epochs: 19\n",
      "\u001b[34m\u001b[1mwandb\u001b[0m: \tsan_sn: False\n",
      "\u001b[34m\u001b[1mwandb\u001b[0m: \ttrain_epochs: 250\n"
     ]
    },
    {
     "data": {
      "text/html": [
       "Tracking run with wandb version 0.13.10"
      ],
      "text/plain": [
       "<IPython.core.display.HTML object>"
      ]
     },
     "metadata": {},
     "output_type": "display_data"
    },
    {
     "data": {
      "text/html": [
       "Run data is saved locally in <code>/local/scratch/a/jgammell/sca_defense/wandb/run-20230218_201838-vcva10ju</code>"
      ],
      "text/plain": [
       "<IPython.core.display.HTML object>"
      ]
     },
     "metadata": {},
     "output_type": "display_data"
    },
    {
     "data": {
      "text/html": [
       "Syncing run <strong><a href='https://wandb.ai/jgammell/data_sanitization/runs/vcva10ju' target=\"_blank\">cool-sweep-7</a></strong> to <a href='https://wandb.ai/jgammell/data_sanitization' target=\"_blank\">Weights & Biases</a> (<a href='https://wandb.me/run' target=\"_blank\">docs</a>)<br/>Sweep page: <a href='https://wandb.ai/jgammell/data_sanitization/sweeps/d1qsxwr1' target=\"_blank\">https://wandb.ai/jgammell/data_sanitization/sweeps/d1qsxwr1</a>"
      ],
      "text/plain": [
       "<IPython.core.display.HTML object>"
      ]
     },
     "metadata": {},
     "output_type": "display_data"
    },
    {
     "data": {
      "text/html": [
       " View project at <a href='https://wandb.ai/jgammell/data_sanitization' target=\"_blank\">https://wandb.ai/jgammell/data_sanitization</a>"
      ],
      "text/plain": [
       "<IPython.core.display.HTML object>"
      ]
     },
     "metadata": {},
     "output_type": "display_data"
    },
    {
     "data": {
      "text/html": [
       " View sweep at <a href='https://wandb.ai/jgammell/data_sanitization/sweeps/d1qsxwr1' target=\"_blank\">https://wandb.ai/jgammell/data_sanitization/sweeps/d1qsxwr1</a>"
      ],
      "text/plain": [
       "<IPython.core.display.HTML object>"
      ]
     },
     "metadata": {},
     "output_type": "display_data"
    },
    {
     "data": {
      "text/html": [
       " View run at <a href='https://wandb.ai/jgammell/data_sanitization/runs/vcva10ju' target=\"_blank\">https://wandb.ai/jgammell/data_sanitization/runs/vcva10ju</a>"
      ],
      "text/plain": [
       "<IPython.core.display.HTML object>"
      ]
     },
     "metadata": {},
     "output_type": "display_data"
    },
    {
     "data": {
      "text/html": [
       "Waiting for W&B process to finish... <strong style=\"color:green\">(success).</strong>"
      ],
      "text/plain": [
       "<IPython.core.display.HTML object>"
      ]
     },
     "metadata": {},
     "output_type": "display_data"
    },
    {
     "data": {
      "text/html": [
       "<style>\n",
       "    table.wandb td:nth-child(1) { padding: 0 10px; text-align: left ; width: auto;} td:nth-child(2) {text-align: left ; width: 100%}\n",
       "    .wandb-row { display: flex; flex-direction: row; flex-wrap: wrap; justify-content: flex-start; width: 100% }\n",
       "    .wandb-col { display: flex; flex-direction: column; flex-basis: 100%; flex: 1; padding: 10px; }\n",
       "    </style>\n",
       "<div class=\"wandb-row\"><div class=\"wandb-col\"><h3>Run history:</h3><br/><table class=\"wandb\"><tr><td>duration</td><td>▂▃▄▂▂▂▁▂▃▁▁▄▃▁▁▃▂▄▂▂▄▁▃▃▂▂▄▂▂▃▃▁▃▂▁▁▂▂█▂</td></tr><tr><td>te_c_acc</td><td>▁▁▁▆██▂▃▃▃▃▃▃▃▃▃▃▃▃▃▃▃▃▃▃▃▃▃▃▃▃▃▃▃▃▃▃▃▃▃</td></tr><tr><td>te_c_loss</td><td>▄▄▄▂▁▁▄▄▄▄▄▄▄▄▄▄▄▄▄▄▄▄▄▄▄▄▄▅▅▅▅▆▆▆▇▇█▇██</td></tr><tr><td>te_c_oracle_loss</td><td>▁▁▁▁▁▁██████████████████████████████████</td></tr><tr><td>te_s_em_loss</td><td>▁▁▁▃▆█▁▁▁▁▁▁▁▁▁▁▁▁▁▁▁▁▁▂▂▂▂▂▂▂▃▃▃▃▃▃▄▄▄▄</td></tr><tr><td>te_s_oracle_loss</td><td>▁▁▁▁▁▁██████████████████████████████████</td></tr><tr><td>te_s_rec_loss</td><td>▁▁▁▁▁▁▇▇▇▇████████▇▇▇▇▇▇▇▇▇▇▇▇▇▇▇▇▇▇▇▇▇▇</td></tr><tr><td>tr_c_acc</td><td>▁▁▁▇██▃▃▃▃▃▃▃▃▃▃▃▃▃▃▄▃▃▃▃▃▃▃▃▃▃▃▃▃▃▃▃▃▃▃</td></tr><tr><td>tr_c_loss</td><td>███▂▁▁▇▇▇▆▆▆▆▆▆▆▆▆▆▆▆▅▅▅▅▄▄▄▄▄▄▄▃▃▃▃▃▃▃▃</td></tr><tr><td>tr_c_oracle_loss</td><td>▁▁▁▁▁▁▇▇████████████████████████████████</td></tr><tr><td>tr_s_em_loss</td><td>▁▁▁▂▅█▁▁▁▁▁▁▁▁▁▁▁▁▁▁▁▁▁▂▂▂▂▂▂▃▃▃▃▃▄▄▄▄▄▄</td></tr><tr><td>tr_s_oracle_loss</td><td>▁▁▁▁▁▁▇▇████████████████████████████████</td></tr><tr><td>tr_s_rec_loss</td><td>▁▁▁▁▁▁▆▇▇▇████████▇▇▇▇▇▇▇▇▇▇▇▇▇▇▇▇▇▇▇▇▇▇</td></tr></table><br/></div><div class=\"wandb-col\"><h3>Run summary:</h3><br/><table class=\"wandb\"><tr><td>duration</td><td>0.74181</td></tr><tr><td>te_c_acc</td><td>0.63389</td></tr><tr><td>te_c_loss</td><td>1.61714</td></tr><tr><td>te_c_oracle_loss</td><td>0.80613</td></tr><tr><td>te_s_em_loss</td><td>4.60023</td></tr><tr><td>te_s_oracle_loss</td><td>0.80613</td></tr><tr><td>te_s_rec_loss</td><td>0.07905</td></tr><tr><td>tr_c_acc</td><td>0.63261</td></tr><tr><td>tr_c_loss</td><td>0.19644</td></tr><tr><td>tr_c_oracle_loss</td><td>0.80639</td></tr><tr><td>tr_s_em_loss</td><td>5.1746</td></tr><tr><td>tr_s_oracle_loss</td><td>0.8065</td></tr><tr><td>tr_s_rec_loss</td><td>0.07904</td></tr></table><br/></div></div>"
      ],
      "text/plain": [
       "<IPython.core.display.HTML object>"
      ]
     },
     "metadata": {},
     "output_type": "display_data"
    },
    {
     "data": {
      "text/html": [
       " View run <strong style=\"color:#cdcd00\">cool-sweep-7</strong> at: <a href='https://wandb.ai/jgammell/data_sanitization/runs/vcva10ju' target=\"_blank\">https://wandb.ai/jgammell/data_sanitization/runs/vcva10ju</a><br/>Synced 5 W&B file(s), 0 media file(s), 0 artifact file(s) and 0 other file(s)"
      ],
      "text/plain": [
       "<IPython.core.display.HTML object>"
      ]
     },
     "metadata": {},
     "output_type": "display_data"
    },
    {
     "data": {
      "text/html": [
       "Find logs at: <code>./wandb/run-20230218_201838-vcva10ju/logs</code>"
      ],
      "text/plain": [
       "<IPython.core.display.HTML object>"
      ]
     },
     "metadata": {},
     "output_type": "display_data"
    },
    {
     "name": "stderr",
     "output_type": "stream",
     "text": [
      "\u001b[34m\u001b[1mwandb\u001b[0m: Agent Starting Run: xrspqev7 with config:\n",
      "\u001b[34m\u001b[1mwandb\u001b[0m: \tatenc_bottleneck_width: 16\n",
      "\u001b[34m\u001b[1mwandb\u001b[0m: \tatenc_sn: True\n",
      "\u001b[34m\u001b[1mwandb\u001b[0m: \tbeta1_c: 0.14770073328845104\n",
      "\u001b[34m\u001b[1mwandb\u001b[0m: \tbeta1_s: 0.6207830132445644\n",
      "\u001b[34m\u001b[1mwandb\u001b[0m: \tbeta2_c: 0.999\n",
      "\u001b[34m\u001b[1mwandb\u001b[0m: \tbeta2_s: 0.999\n",
      "\u001b[34m\u001b[1mwandb\u001b[0m: \tc_pretrain_epochs: 6\n",
      "\u001b[34m\u001b[1mwandb\u001b[0m: \tclass_sn: True\n",
      "\u001b[34m\u001b[1mwandb\u001b[0m: \tlr_c: 0.0001818403731165307\n",
      "\u001b[34m\u001b[1mwandb\u001b[0m: \tlr_s: 0.0011520128188123415\n",
      "\u001b[34m\u001b[1mwandb\u001b[0m: \ts_lbd: 1.7618194140693757\n",
      "\u001b[34m\u001b[1mwandb\u001b[0m: \ts_pretrain_epochs: 9\n",
      "\u001b[34m\u001b[1mwandb\u001b[0m: \tsan_sn: False\n",
      "\u001b[34m\u001b[1mwandb\u001b[0m: \ttrain_epochs: 250\n"
     ]
    },
    {
     "data": {
      "text/html": [
       "Tracking run with wandb version 0.13.10"
      ],
      "text/plain": [
       "<IPython.core.display.HTML object>"
      ]
     },
     "metadata": {},
     "output_type": "display_data"
    },
    {
     "data": {
      "text/html": [
       "Run data is saved locally in <code>/local/scratch/a/jgammell/sca_defense/wandb/run-20230218_204038-xrspqev7</code>"
      ],
      "text/plain": [
       "<IPython.core.display.HTML object>"
      ]
     },
     "metadata": {},
     "output_type": "display_data"
    },
    {
     "data": {
      "text/html": [
       "Syncing run <strong><a href='https://wandb.ai/jgammell/data_sanitization/runs/xrspqev7' target=\"_blank\">lyric-sweep-8</a></strong> to <a href='https://wandb.ai/jgammell/data_sanitization' target=\"_blank\">Weights & Biases</a> (<a href='https://wandb.me/run' target=\"_blank\">docs</a>)<br/>Sweep page: <a href='https://wandb.ai/jgammell/data_sanitization/sweeps/d1qsxwr1' target=\"_blank\">https://wandb.ai/jgammell/data_sanitization/sweeps/d1qsxwr1</a>"
      ],
      "text/plain": [
       "<IPython.core.display.HTML object>"
      ]
     },
     "metadata": {},
     "output_type": "display_data"
    },
    {
     "data": {
      "text/html": [
       " View project at <a href='https://wandb.ai/jgammell/data_sanitization' target=\"_blank\">https://wandb.ai/jgammell/data_sanitization</a>"
      ],
      "text/plain": [
       "<IPython.core.display.HTML object>"
      ]
     },
     "metadata": {},
     "output_type": "display_data"
    },
    {
     "data": {
      "text/html": [
       " View sweep at <a href='https://wandb.ai/jgammell/data_sanitization/sweeps/d1qsxwr1' target=\"_blank\">https://wandb.ai/jgammell/data_sanitization/sweeps/d1qsxwr1</a>"
      ],
      "text/plain": [
       "<IPython.core.display.HTML object>"
      ]
     },
     "metadata": {},
     "output_type": "display_data"
    },
    {
     "data": {
      "text/html": [
       " View run at <a href='https://wandb.ai/jgammell/data_sanitization/runs/xrspqev7' target=\"_blank\">https://wandb.ai/jgammell/data_sanitization/runs/xrspqev7</a>"
      ],
      "text/plain": [
       "<IPython.core.display.HTML object>"
      ]
     },
     "metadata": {},
     "output_type": "display_data"
    },
    {
     "data": {
      "text/html": [
       "Waiting for W&B process to finish... <strong style=\"color:green\">(success).</strong>"
      ],
      "text/plain": [
       "<IPython.core.display.HTML object>"
      ]
     },
     "metadata": {},
     "output_type": "display_data"
    },
    {
     "data": {
      "text/html": [
       "<style>\n",
       "    table.wandb td:nth-child(1) { padding: 0 10px; text-align: left ; width: auto;} td:nth-child(2) {text-align: left ; width: 100%}\n",
       "    .wandb-row { display: flex; flex-direction: row; flex-wrap: wrap; justify-content: flex-start; width: 100% }\n",
       "    .wandb-col { display: flex; flex-direction: column; flex-basis: 100%; flex: 1; padding: 10px; }\n",
       "    </style>\n",
       "<div class=\"wandb-row\"><div class=\"wandb-col\"><h3>Run history:</h3><br/><table class=\"wandb\"><tr><td>duration</td><td>▃▂▃▄▄▆▄█▄▁▃▄▆▅▄▆▇▂▂▅▂▄▄▅▆▅▅▃▇▅▆▃▆▄▅▂▂▇▃█</td></tr><tr><td>te_c_acc</td><td>▁▁█▂▂▃▂▂▂▁▂▂▂▂▂▂▂▂▁▂▂▂▂▂▂▁▁▂▂▂▂▂▂▁▂▂▂▂▂▂</td></tr><tr><td>te_c_loss</td><td>██▁██▇█▇▇█▇█▇█▇▇▇▇███▇▇▇▇██▇▇█▇▇▇█▇▇▇▇▇▇</td></tr><tr><td>te_c_oracle_loss</td><td>▁▁▁▅▅▅▆▆▆▆▆▇▇▇▇▇▇▇▇▇▇███████████████████</td></tr><tr><td>te_s_em_loss</td><td>▁▁█▁▂▁▁▁▁▁▁▁▁▁▁▁▁▁▂▁▁▁▁▁▁▁▁▁▁▁▁▁▁▂▁▁▂▁▁▁</td></tr><tr><td>te_s_oracle_loss</td><td>▁▁▁▅▅▅▆▆▆▆▆▇▇▇▇▇▇▇▇▇▇███████████████████</td></tr><tr><td>te_s_rec_loss</td><td>▁▁▁█▇▆▅▅▅▅▅▅▄▄▄▄▅▅▅▅▅▅▄▅▅▅▅▅▅▆▅▅▅▅▆▆▆▆▆▆</td></tr><tr><td>tr_c_acc</td><td>▁▁█▂▂▃▂▂▂▂▂▂▂▂▂▂▂▂▂▂▂▂▂▂▂▂▂▂▂▂▂▂▂▂▂▂▂▂▂▂</td></tr><tr><td>tr_c_loss</td><td>██▁█▇▇████▇███▇▇▇▇▇▇▇▇▇▇▇▇▇▇▇▇▇▇▇▇▇▇▇▇▇▇</td></tr><tr><td>tr_c_oracle_loss</td><td>▁▁▁▅▅▅▆▆▆▆▇▇▇▇▇▇▇▇▇▇▇▇██████████████████</td></tr><tr><td>tr_s_em_loss</td><td>▁▁█▁▁▁▁▁▁▁▁▁▁▁▁▁▁▁▁▁▁▁▁▁▁▁▁▁▁▁▁▁▁▁▁▁▁▁▁▁</td></tr><tr><td>tr_s_oracle_loss</td><td>▁▁▁▅▅▅▆▆▆▆▇▇▇▇▇▇▇▇▇▇▇▇██████████████████</td></tr><tr><td>tr_s_rec_loss</td><td>▁▁▁█▇▇▆▆▅▅▅▅▄▄▄▄▅▅▅▅▅▅▄▅▅▅▅▅▅▅▅▅▅▅▅▆▅▆▆▆</td></tr></table><br/></div><div class=\"wandb-col\"><h3>Run summary:</h3><br/><table class=\"wandb\"><tr><td>duration</td><td>0.75035</td></tr><tr><td>te_c_acc</td><td>0.54941</td></tr><tr><td>te_c_loss</td><td>0.6848</td></tr><tr><td>te_c_oracle_loss</td><td>0.99815</td></tr><tr><td>te_s_em_loss</td><td>0.71404</td></tr><tr><td>te_s_oracle_loss</td><td>0.99815</td></tr><tr><td>te_s_rec_loss</td><td>0.18782</td></tr><tr><td>tr_c_acc</td><td>0.55503</td></tr><tr><td>tr_c_loss</td><td>0.65576</td></tr><tr><td>tr_c_oracle_loss</td><td>1.00024</td></tr><tr><td>tr_s_em_loss</td><td>0.71052</td></tr><tr><td>tr_s_oracle_loss</td><td>0.99996</td></tr><tr><td>tr_s_rec_loss</td><td>0.18671</td></tr></table><br/></div></div>"
      ],
      "text/plain": [
       "<IPython.core.display.HTML object>"
      ]
     },
     "metadata": {},
     "output_type": "display_data"
    },
    {
     "data": {
      "text/html": [
       " View run <strong style=\"color:#cdcd00\">lyric-sweep-8</strong> at: <a href='https://wandb.ai/jgammell/data_sanitization/runs/xrspqev7' target=\"_blank\">https://wandb.ai/jgammell/data_sanitization/runs/xrspqev7</a><br/>Synced 5 W&B file(s), 0 media file(s), 0 artifact file(s) and 0 other file(s)"
      ],
      "text/plain": [
       "<IPython.core.display.HTML object>"
      ]
     },
     "metadata": {},
     "output_type": "display_data"
    },
    {
     "data": {
      "text/html": [
       "Find logs at: <code>./wandb/run-20230218_204038-xrspqev7/logs</code>"
      ],
      "text/plain": [
       "<IPython.core.display.HTML object>"
      ]
     },
     "metadata": {},
     "output_type": "display_data"
    },
    {
     "name": "stderr",
     "output_type": "stream",
     "text": [
      "\u001b[34m\u001b[1mwandb\u001b[0m: Agent Starting Run: gdxedb58 with config:\n",
      "\u001b[34m\u001b[1mwandb\u001b[0m: \tatenc_bottleneck_width: 256\n",
      "\u001b[34m\u001b[1mwandb\u001b[0m: \tatenc_sn: False\n",
      "\u001b[34m\u001b[1mwandb\u001b[0m: \tbeta1_c: 0.8599488622503834\n",
      "\u001b[34m\u001b[1mwandb\u001b[0m: \tbeta1_s: 0.5621757994813483\n",
      "\u001b[34m\u001b[1mwandb\u001b[0m: \tbeta2_c: 0.999\n",
      "\u001b[34m\u001b[1mwandb\u001b[0m: \tbeta2_s: 0.999\n",
      "\u001b[34m\u001b[1mwandb\u001b[0m: \tc_pretrain_epochs: 16\n",
      "\u001b[34m\u001b[1mwandb\u001b[0m: \tclass_sn: True\n",
      "\u001b[34m\u001b[1mwandb\u001b[0m: \tlr_c: 0.0015793253056934785\n",
      "\u001b[34m\u001b[1mwandb\u001b[0m: \tlr_s: 0.00017715818031638895\n",
      "\u001b[34m\u001b[1mwandb\u001b[0m: \ts_lbd: 1.495410076503931\n",
      "\u001b[34m\u001b[1mwandb\u001b[0m: \ts_pretrain_epochs: 6\n",
      "\u001b[34m\u001b[1mwandb\u001b[0m: \tsan_sn: False\n",
      "\u001b[34m\u001b[1mwandb\u001b[0m: \ttrain_epochs: 250\n"
     ]
    },
    {
     "data": {
      "text/html": [
       "Tracking run with wandb version 0.13.10"
      ],
      "text/plain": [
       "<IPython.core.display.HTML object>"
      ]
     },
     "metadata": {},
     "output_type": "display_data"
    },
    {
     "data": {
      "text/html": [
       "Run data is saved locally in <code>/local/scratch/a/jgammell/sca_defense/wandb/run-20230218_210249-gdxedb58</code>"
      ],
      "text/plain": [
       "<IPython.core.display.HTML object>"
      ]
     },
     "metadata": {},
     "output_type": "display_data"
    },
    {
     "data": {
      "text/html": [
       "Syncing run <strong><a href='https://wandb.ai/jgammell/data_sanitization/runs/gdxedb58' target=\"_blank\">sunny-sweep-9</a></strong> to <a href='https://wandb.ai/jgammell/data_sanitization' target=\"_blank\">Weights & Biases</a> (<a href='https://wandb.me/run' target=\"_blank\">docs</a>)<br/>Sweep page: <a href='https://wandb.ai/jgammell/data_sanitization/sweeps/d1qsxwr1' target=\"_blank\">https://wandb.ai/jgammell/data_sanitization/sweeps/d1qsxwr1</a>"
      ],
      "text/plain": [
       "<IPython.core.display.HTML object>"
      ]
     },
     "metadata": {},
     "output_type": "display_data"
    },
    {
     "data": {
      "text/html": [
       " View project at <a href='https://wandb.ai/jgammell/data_sanitization' target=\"_blank\">https://wandb.ai/jgammell/data_sanitization</a>"
      ],
      "text/plain": [
       "<IPython.core.display.HTML object>"
      ]
     },
     "metadata": {},
     "output_type": "display_data"
    },
    {
     "data": {
      "text/html": [
       " View sweep at <a href='https://wandb.ai/jgammell/data_sanitization/sweeps/d1qsxwr1' target=\"_blank\">https://wandb.ai/jgammell/data_sanitization/sweeps/d1qsxwr1</a>"
      ],
      "text/plain": [
       "<IPython.core.display.HTML object>"
      ]
     },
     "metadata": {},
     "output_type": "display_data"
    },
    {
     "data": {
      "text/html": [
       " View run at <a href='https://wandb.ai/jgammell/data_sanitization/runs/gdxedb58' target=\"_blank\">https://wandb.ai/jgammell/data_sanitization/runs/gdxedb58</a>"
      ],
      "text/plain": [
       "<IPython.core.display.HTML object>"
      ]
     },
     "metadata": {},
     "output_type": "display_data"
    },
    {
     "data": {
      "text/html": [
       "Waiting for W&B process to finish... <strong style=\"color:green\">(success).</strong>"
      ],
      "text/plain": [
       "<IPython.core.display.HTML object>"
      ]
     },
     "metadata": {},
     "output_type": "display_data"
    },
    {
     "data": {
      "text/html": [
       "<style>\n",
       "    table.wandb td:nth-child(1) { padding: 0 10px; text-align: left ; width: auto;} td:nth-child(2) {text-align: left ; width: 100%}\n",
       "    .wandb-row { display: flex; flex-direction: row; flex-wrap: wrap; justify-content: flex-start; width: 100% }\n",
       "    .wandb-col { display: flex; flex-direction: column; flex-basis: 100%; flex: 1; padding: 10px; }\n",
       "    </style>\n",
       "<div class=\"wandb-row\"><div class=\"wandb-col\"><h3>Run history:</h3><br/><table class=\"wandb\"><tr><td>duration</td><td>▃▄▃▄▂▄█▄▅▃▄▅▅▃▅▄▃▃▄▄▃▃▃▂▄▅▂▃▃▃▄▃▃▄▁▄▅▃▄▂</td></tr><tr><td>te_c_acc</td><td>▁▃█▃▂▁▁▂▂▁▂▂▃▂▂▂▁▂▂▂▂▂▂▁▂▁▂▂▂▁▁▁▂▁▁▁▂▁▁▂</td></tr><tr><td>te_c_loss</td><td>▇▇▁▇▇▇▇▇▇▇▇▇▇▇▇▇▇▇▇▇▇▇▇▇▇▇▇▇▇▇▇█▇▇▇▇▇▇▇▇</td></tr><tr><td>te_c_oracle_loss</td><td>▁▁▁▄▆██▇▆▇▇▆▆▇▆▆▇▇▇▆▆▆▆▆▆▆▆▆▆▆▆▆▆▆▆▇▇▆▆▆</td></tr><tr><td>te_s_em_loss</td><td>▁▂█▁▁▁▁▁▁▁▁▁▁▁▁▁▁▁▁▁▁▁▁▁▁▁▁▁▁▁▁▁▁▁▁▁▁▁▁▁</td></tr><tr><td>te_s_oracle_loss</td><td>▁▁▁▄▆██▇▆▇▇▆▆▇▆▆▇▇▇▆▆▆▆▆▆▆▆▆▆▆▆▆▆▆▆▇▇▆▆▆</td></tr><tr><td>te_s_rec_loss</td><td>▁▁▁▃▆▇▇▆▇██▇▇▇▇▇▆▇██▇█▆▇▇▇▇▇▇▆▆▇▇▇▆▇▇▇▆▆</td></tr><tr><td>tr_c_acc</td><td>▁▃█▄▁▁▁▁▁▁▁▂▂▂▂▂▁▁▁▂▂▂▁▁▁▁▁▁▁▁▁▁▂▁▁▂▁▁▁▁</td></tr><tr><td>tr_c_loss</td><td>█▇▁▇████████████████████████████████████</td></tr><tr><td>tr_c_oracle_loss</td><td>▁▁▁▂▅██▇▆▆▇▆▆▇▆▆▇▇▇▆▆▆▆▆▆▆▆▆▆▆▆▆▆▆▆▇▇▇▆▆</td></tr><tr><td>tr_s_em_loss</td><td>▁▁█▂▁▁▁▁▁▁▁▁▁▁▁▁▁▁▁▁▁▁▁▁▁▁▁▁▁▁▁▁▁▁▁▁▁▁▁▁</td></tr><tr><td>tr_s_oracle_loss</td><td>▁▁▁▂▅██▇▆▆▇▆▆▇▆▆▇▇▇▆▆▆▆▆▆▆▆▆▆▆▆▆▆▆▆▇▇▇▆▆</td></tr><tr><td>tr_s_rec_loss</td><td>▁▁▁▂▅▇▇▆▇▆▇▇▇▇▇▇▆▇▇█▇▇▆▇▇▇▇▆▇▆▆▇▇▇▆▇▇▆▆▆</td></tr></table><br/></div><div class=\"wandb-col\"><h3>Run summary:</h3><br/><table class=\"wandb\"><tr><td>duration</td><td>0.7062</td></tr><tr><td>te_c_acc</td><td>0.52764</td></tr><tr><td>te_c_loss</td><td>0.69134</td></tr><tr><td>te_c_oracle_loss</td><td>1.15806</td></tr><tr><td>te_s_em_loss</td><td>0.69639</td></tr><tr><td>te_s_oracle_loss</td><td>1.15806</td></tr><tr><td>te_s_rec_loss</td><td>0.02594</td></tr><tr><td>tr_c_acc</td><td>0.52482</td></tr><tr><td>tr_c_loss</td><td>0.68898</td></tr><tr><td>tr_c_oracle_loss</td><td>1.17136</td></tr><tr><td>tr_s_em_loss</td><td>0.6963</td></tr><tr><td>tr_s_oracle_loss</td><td>1.17068</td></tr><tr><td>tr_s_rec_loss</td><td>0.02591</td></tr></table><br/></div></div>"
      ],
      "text/plain": [
       "<IPython.core.display.HTML object>"
      ]
     },
     "metadata": {},
     "output_type": "display_data"
    },
    {
     "data": {
      "text/html": [
       " View run <strong style=\"color:#cdcd00\">sunny-sweep-9</strong> at: <a href='https://wandb.ai/jgammell/data_sanitization/runs/gdxedb58' target=\"_blank\">https://wandb.ai/jgammell/data_sanitization/runs/gdxedb58</a><br/>Synced 5 W&B file(s), 0 media file(s), 0 artifact file(s) and 0 other file(s)"
      ],
      "text/plain": [
       "<IPython.core.display.HTML object>"
      ]
     },
     "metadata": {},
     "output_type": "display_data"
    },
    {
     "data": {
      "text/html": [
       "Find logs at: <code>./wandb/run-20230218_210249-gdxedb58/logs</code>"
      ],
      "text/plain": [
       "<IPython.core.display.HTML object>"
      ]
     },
     "metadata": {},
     "output_type": "display_data"
    },
    {
     "name": "stderr",
     "output_type": "stream",
     "text": [
      "\u001b[34m\u001b[1mwandb\u001b[0m: Sweep Agent: Waiting for job.\n",
      "\u001b[34m\u001b[1mwandb\u001b[0m: Job received.\n",
      "\u001b[34m\u001b[1mwandb\u001b[0m: Agent Starting Run: n56ca1jy with config:\n",
      "\u001b[34m\u001b[1mwandb\u001b[0m: \tatenc_bottleneck_width: 128\n",
      "\u001b[34m\u001b[1mwandb\u001b[0m: \tatenc_sn: True\n",
      "\u001b[34m\u001b[1mwandb\u001b[0m: \tbeta1_c: 0.32055395614653387\n",
      "\u001b[34m\u001b[1mwandb\u001b[0m: \tbeta1_s: 0.6164244937838027\n",
      "\u001b[34m\u001b[1mwandb\u001b[0m: \tbeta2_c: 0.999\n",
      "\u001b[34m\u001b[1mwandb\u001b[0m: \tbeta2_s: 0.999\n",
      "\u001b[34m\u001b[1mwandb\u001b[0m: \tc_pretrain_epochs: 7\n",
      "\u001b[34m\u001b[1mwandb\u001b[0m: \tclass_sn: False\n",
      "\u001b[34m\u001b[1mwandb\u001b[0m: \tlr_c: 0.004919175088657657\n",
      "\u001b[34m\u001b[1mwandb\u001b[0m: \tlr_s: 0.001404127230255103\n",
      "\u001b[34m\u001b[1mwandb\u001b[0m: \ts_lbd: 1.188578678082413\n",
      "\u001b[34m\u001b[1mwandb\u001b[0m: \ts_pretrain_epochs: 2\n",
      "\u001b[34m\u001b[1mwandb\u001b[0m: \tsan_sn: True\n",
      "\u001b[34m\u001b[1mwandb\u001b[0m: \ttrain_epochs: 250\n"
     ]
    },
    {
     "data": {
      "text/html": [
       "Tracking run with wandb version 0.13.10"
      ],
      "text/plain": [
       "<IPython.core.display.HTML object>"
      ]
     },
     "metadata": {},
     "output_type": "display_data"
    },
    {
     "data": {
      "text/html": [
       "Run data is saved locally in <code>/local/scratch/a/jgammell/sca_defense/wandb/run-20230218_212448-n56ca1jy</code>"
      ],
      "text/plain": [
       "<IPython.core.display.HTML object>"
      ]
     },
     "metadata": {},
     "output_type": "display_data"
    },
    {
     "data": {
      "text/html": [
       "Syncing run <strong><a href='https://wandb.ai/jgammell/data_sanitization/runs/n56ca1jy' target=\"_blank\">noble-sweep-10</a></strong> to <a href='https://wandb.ai/jgammell/data_sanitization' target=\"_blank\">Weights & Biases</a> (<a href='https://wandb.me/run' target=\"_blank\">docs</a>)<br/>Sweep page: <a href='https://wandb.ai/jgammell/data_sanitization/sweeps/d1qsxwr1' target=\"_blank\">https://wandb.ai/jgammell/data_sanitization/sweeps/d1qsxwr1</a>"
      ],
      "text/plain": [
       "<IPython.core.display.HTML object>"
      ]
     },
     "metadata": {},
     "output_type": "display_data"
    },
    {
     "data": {
      "text/html": [
       " View project at <a href='https://wandb.ai/jgammell/data_sanitization' target=\"_blank\">https://wandb.ai/jgammell/data_sanitization</a>"
      ],
      "text/plain": [
       "<IPython.core.display.HTML object>"
      ]
     },
     "metadata": {},
     "output_type": "display_data"
    },
    {
     "data": {
      "text/html": [
       " View sweep at <a href='https://wandb.ai/jgammell/data_sanitization/sweeps/d1qsxwr1' target=\"_blank\">https://wandb.ai/jgammell/data_sanitization/sweeps/d1qsxwr1</a>"
      ],
      "text/plain": [
       "<IPython.core.display.HTML object>"
      ]
     },
     "metadata": {},
     "output_type": "display_data"
    },
    {
     "data": {
      "text/html": [
       " View run at <a href='https://wandb.ai/jgammell/data_sanitization/runs/n56ca1jy' target=\"_blank\">https://wandb.ai/jgammell/data_sanitization/runs/n56ca1jy</a>"
      ],
      "text/plain": [
       "<IPython.core.display.HTML object>"
      ]
     },
     "metadata": {},
     "output_type": "display_data"
    },
    {
     "name": "stdout",
     "output_type": "stream",
     "text": [
      "No existing autoencoder found. Training a new one.\n",
      "{'init_loss': 1.4851879, 'final_loss': 0.06783021}\n"
     ]
    },
    {
     "data": {
      "text/html": [
       "Waiting for W&B process to finish... <strong style=\"color:green\">(success).</strong>"
      ],
      "text/plain": [
       "<IPython.core.display.HTML object>"
      ]
     },
     "metadata": {},
     "output_type": "display_data"
    },
    {
     "data": {
      "text/html": [
       "<style>\n",
       "    table.wandb td:nth-child(1) { padding: 0 10px; text-align: left ; width: auto;} td:nth-child(2) {text-align: left ; width: 100%}\n",
       "    .wandb-row { display: flex; flex-direction: row; flex-wrap: wrap; justify-content: flex-start; width: 100% }\n",
       "    .wandb-col { display: flex; flex-direction: column; flex-basis: 100%; flex: 1; padding: 10px; }\n",
       "    </style>\n",
       "<div class=\"wandb-row\"><div class=\"wandb-col\"><h3>Run history:</h3><br/><table class=\"wandb\"><tr><td>duration</td><td>█▂▂▃▃▃▂▂▂▃▂▃▄▅▇▂▃▂▃▂▂▃▅▃▂▄▂▃▂▃▂▃▃▄▂▃▅▅▃▁</td></tr><tr><td>te_c_acc</td><td>▁█▅▅▃▃▃▃▃▄▃▃▁▂▃▂▂▂▁▂▂▂▁▂▁▁▂▂▂▂▂▂▂▁▁▁▁▁▁▁</td></tr><tr><td>te_c_loss</td><td>█▁▂▂▂▂▂▂▂▂▂▂▂▂▂▂▂▂▂▂▂▂▂▂▂▂▂▂▂▂▂▂▂▂▂▂▂▂▂▂</td></tr><tr><td>te_c_oracle_loss</td><td>▁▁▄▄▅▅▅▆▆▆▆▇▇▇▇▇▇▇▇▇█▇█▇█▇███▇▇▇▇▇▇▇▇▇▇█</td></tr><tr><td>te_s_em_loss</td><td>▅█▁▁▁▁▁▁▁▁▁▁▁▁▁▁▁▁▁▁▁▁▁▁▁▁▁▁▁▁▁▁▁▁▁▁▁▁▁▁</td></tr><tr><td>te_s_oracle_loss</td><td>▁▁▄▄▅▅▅▆▆▆▆▇▇▇▇▇▇▇▇▇█▇█▇█▇███▇▇▇▇▇▇▇▇▇▇█</td></tr><tr><td>te_s_rec_loss</td><td>▁▁▅▅▅▆▆▆▆▇▇▇▇▇▇▇▇▇▇▇███▇███████████▇▇▇▇█</td></tr><tr><td>tr_c_acc</td><td>▃█▅▅▄▄▄▄▃▃▃▃▂▂▂▂▁▁▁▁▁▁▁▁▁▁▁▂▁▁▁▁▁▁▁▁▁▁▁▁</td></tr><tr><td>tr_c_loss</td><td>▇▁▅▅▆▆▇▇▇▇▇▇████████████████████████████</td></tr><tr><td>tr_c_oracle_loss</td><td>▁▁▄▄▅▅▅▆▆▆▆▇▇▇▇▇▇█▇██▇███▇███▇▇▇▇▇▇█▇▇▇█</td></tr><tr><td>tr_s_em_loss</td><td>▁█▁▁▁▁▁▁▁▁▁▁▁▁▁▁▁▁▁▁▁▁▁▁▁▁▁▁▁▁▁▁▁▁▁▁▁▁▁▁</td></tr><tr><td>tr_s_oracle_loss</td><td>▁▁▄▄▅▅▅▆▆▆▆▇▇▇▇▇▇█▇██▇███▇███▇▇▇▇▇▇█▇▇▇█</td></tr><tr><td>tr_s_rec_loss</td><td>▁▁▄▅▅▆▆▆▆▇▇▇▇▇▇▇▇▇▇▇▇██▇████████████▇▇▇█</td></tr></table><br/></div><div class=\"wandb-col\"><h3>Run summary:</h3><br/><table class=\"wandb\"><tr><td>duration</td><td>0.73263</td></tr><tr><td>te_c_acc</td><td>0.4959</td></tr><tr><td>te_c_loss</td><td>0.6934</td></tr><tr><td>te_c_oracle_loss</td><td>1.06581</td></tr><tr><td>te_s_em_loss</td><td>0.69343</td></tr><tr><td>te_s_oracle_loss</td><td>1.06581</td></tr><tr><td>te_s_rec_loss</td><td>0.04596</td></tr><tr><td>tr_c_acc</td><td>0.50552</td></tr><tr><td>tr_c_loss</td><td>0.69317</td></tr><tr><td>tr_c_oracle_loss</td><td>1.06969</td></tr><tr><td>tr_s_em_loss</td><td>0.69334</td></tr><tr><td>tr_s_oracle_loss</td><td>1.06936</td></tr><tr><td>tr_s_rec_loss</td><td>0.04597</td></tr></table><br/></div></div>"
      ],
      "text/plain": [
       "<IPython.core.display.HTML object>"
      ]
     },
     "metadata": {},
     "output_type": "display_data"
    },
    {
     "data": {
      "text/html": [
       " View run <strong style=\"color:#cdcd00\">noble-sweep-10</strong> at: <a href='https://wandb.ai/jgammell/data_sanitization/runs/n56ca1jy' target=\"_blank\">https://wandb.ai/jgammell/data_sanitization/runs/n56ca1jy</a><br/>Synced 6 W&B file(s), 0 media file(s), 0 artifact file(s) and 0 other file(s)"
      ],
      "text/plain": [
       "<IPython.core.display.HTML object>"
      ]
     },
     "metadata": {},
     "output_type": "display_data"
    },
    {
     "data": {
      "text/html": [
       "Find logs at: <code>./wandb/run-20230218_212448-n56ca1jy/logs</code>"
      ],
      "text/plain": [
       "<IPython.core.display.HTML object>"
      ]
     },
     "metadata": {},
     "output_type": "display_data"
    },
    {
     "name": "stderr",
     "output_type": "stream",
     "text": [
      "\u001b[34m\u001b[1mwandb\u001b[0m: Agent Starting Run: 6rvqjtwp with config:\n",
      "\u001b[34m\u001b[1mwandb\u001b[0m: \tatenc_bottleneck_width: 2\n",
      "\u001b[34m\u001b[1mwandb\u001b[0m: \tatenc_sn: False\n",
      "\u001b[34m\u001b[1mwandb\u001b[0m: \tbeta1_c: 0.484107209386666\n",
      "\u001b[34m\u001b[1mwandb\u001b[0m: \tbeta1_s: 0.2378821491632889\n",
      "\u001b[34m\u001b[1mwandb\u001b[0m: \tbeta2_c: 0.999\n",
      "\u001b[34m\u001b[1mwandb\u001b[0m: \tbeta2_s: 0.999\n",
      "\u001b[34m\u001b[1mwandb\u001b[0m: \tc_pretrain_epochs: 14\n",
      "\u001b[34m\u001b[1mwandb\u001b[0m: \tclass_sn: False\n",
      "\u001b[34m\u001b[1mwandb\u001b[0m: \tlr_c: 0.006739342219095871\n",
      "\u001b[34m\u001b[1mwandb\u001b[0m: \tlr_s: 0.008903052804366545\n",
      "\u001b[34m\u001b[1mwandb\u001b[0m: \ts_lbd: 11.132778842657634\n",
      "\u001b[34m\u001b[1mwandb\u001b[0m: \ts_pretrain_epochs: 0\n",
      "\u001b[34m\u001b[1mwandb\u001b[0m: \tsan_sn: True\n",
      "\u001b[34m\u001b[1mwandb\u001b[0m: \ttrain_epochs: 250\n"
     ]
    },
    {
     "data": {
      "text/html": [
       "Tracking run with wandb version 0.13.10"
      ],
      "text/plain": [
       "<IPython.core.display.HTML object>"
      ]
     },
     "metadata": {},
     "output_type": "display_data"
    },
    {
     "data": {
      "text/html": [
       "Run data is saved locally in <code>/local/scratch/a/jgammell/sca_defense/wandb/run-20230218_214910-6rvqjtwp</code>"
      ],
      "text/plain": [
       "<IPython.core.display.HTML object>"
      ]
     },
     "metadata": {},
     "output_type": "display_data"
    },
    {
     "data": {
      "text/html": [
       "Syncing run <strong><a href='https://wandb.ai/jgammell/data_sanitization/runs/6rvqjtwp' target=\"_blank\">cerulean-sweep-11</a></strong> to <a href='https://wandb.ai/jgammell/data_sanitization' target=\"_blank\">Weights & Biases</a> (<a href='https://wandb.me/run' target=\"_blank\">docs</a>)<br/>Sweep page: <a href='https://wandb.ai/jgammell/data_sanitization/sweeps/d1qsxwr1' target=\"_blank\">https://wandb.ai/jgammell/data_sanitization/sweeps/d1qsxwr1</a>"
      ],
      "text/plain": [
       "<IPython.core.display.HTML object>"
      ]
     },
     "metadata": {},
     "output_type": "display_data"
    },
    {
     "data": {
      "text/html": [
       " View project at <a href='https://wandb.ai/jgammell/data_sanitization' target=\"_blank\">https://wandb.ai/jgammell/data_sanitization</a>"
      ],
      "text/plain": [
       "<IPython.core.display.HTML object>"
      ]
     },
     "metadata": {},
     "output_type": "display_data"
    },
    {
     "data": {
      "text/html": [
       " View sweep at <a href='https://wandb.ai/jgammell/data_sanitization/sweeps/d1qsxwr1' target=\"_blank\">https://wandb.ai/jgammell/data_sanitization/sweeps/d1qsxwr1</a>"
      ],
      "text/plain": [
       "<IPython.core.display.HTML object>"
      ]
     },
     "metadata": {},
     "output_type": "display_data"
    },
    {
     "data": {
      "text/html": [
       " View run at <a href='https://wandb.ai/jgammell/data_sanitization/runs/6rvqjtwp' target=\"_blank\">https://wandb.ai/jgammell/data_sanitization/runs/6rvqjtwp</a>"
      ],
      "text/plain": [
       "<IPython.core.display.HTML object>"
      ]
     },
     "metadata": {},
     "output_type": "display_data"
    },
    {
     "data": {
      "text/html": [
       "Waiting for W&B process to finish... <strong style=\"color:green\">(success).</strong>"
      ],
      "text/plain": [
       "<IPython.core.display.HTML object>"
      ]
     },
     "metadata": {},
     "output_type": "display_data"
    },
    {
     "data": {
      "text/html": [
       "<style>\n",
       "    table.wandb td:nth-child(1) { padding: 0 10px; text-align: left ; width: auto;} td:nth-child(2) {text-align: left ; width: 100%}\n",
       "    .wandb-row { display: flex; flex-direction: row; flex-wrap: wrap; justify-content: flex-start; width: 100% }\n",
       "    .wandb-col { display: flex; flex-direction: column; flex-basis: 100%; flex: 1; padding: 10px; }\n",
       "    </style>\n",
       "<div class=\"wandb-row\"><div class=\"wandb-col\"><h3>Run history:</h3><br/><table class=\"wandb\"><tr><td>duration</td><td>▂▄▂▅▂▂▄▂▄▃▃▄▆▇▂▄▆▂█▆▃▁▃▃▅▃▃▆▂▅▃▃▃▅▁▄▅▃▃▇</td></tr><tr><td>te_c_acc</td><td>██▅▄▄▂▂▂▂▁▁▁▁▁▁▁▁▁▁▁▁▁▁▁▁▁▁▁▁▁▁▁▁▁▁▁▁▁▁▁</td></tr><tr><td>te_c_loss</td><td>▁▁▅▅▆▆▇▇▇█▇▇▇▇▇▇▇▇▇▇▇▇▇▇▇▇▇▇▇▇▇▇▇▇▇▇▇▇▇▇</td></tr><tr><td>te_c_oracle_loss</td><td>▁▁▂▄▅▆▇▇▆▇▇███▇▇▇███▇▇▇▇▇▇▇▇▇▇▇▇▇▇▇▇▇▇▇▃</td></tr><tr><td>te_s_em_loss</td><td>▅█▁▁▁▁▁▁▁▁▁▁▁▁▁▁▁▁▁▁▁▁▁▁▁▁▁▁▁▁▁▁▁▁▁▁▁▁▁▁</td></tr><tr><td>te_s_oracle_loss</td><td>▁▁▂▄▅▆▇▇▆▇▇███▇▇▇███▇▇▇▇▇▇▇▇▇▇▇▇▇▇▇▇▇▇▇▃</td></tr><tr><td>te_s_rec_loss</td><td>▁▁▇█▆▆█▄▃▄▃▂▂▂▁▂▂▁▁▁▂▁▂▂▁▁▂▃▁▁▁▁▁▁▂▁▁▁▁▁</td></tr><tr><td>tr_c_acc</td><td>██▄▅▄▃▃▂▂▂▂▂▂▁▁▁▁▁▁▁▁▁▁▁▁▁▁▁▁▁▁▁▁▁▁▁▁▁▁▁</td></tr><tr><td>tr_c_loss</td><td>▁▁▇▆▇▇▇█████████████████████████████████</td></tr><tr><td>tr_c_oracle_loss</td><td>▁▁▂▄▅▅▇▇▆▇▇▇█▇▇▇▇██▇▇▇▇▇▇▇▇▇▇▇▇▇▇▇▇▇▇▇▇▃</td></tr><tr><td>tr_s_em_loss</td><td>▄█▂▁▁▁▁▁▁▁▁▁▁▁▁▁▁▁▁▁▁▁▁▁▁▁▁▁▁▁▁▁▁▁▁▁▁▁▁▁</td></tr><tr><td>tr_s_oracle_loss</td><td>▁▁▂▄▅▅▇▇▆▇▇▇█▇▇▇▇██▇▇▇▇▇▇▇▇▇▇▇▇▇▇▇▇▇▇▇▇▃</td></tr><tr><td>tr_s_rec_loss</td><td>▂▁▇█▇▆▆▅▃▃▃▂▂▂▂▂▂▂▂▂▂▁▂▁▂▁▁▁▁▁▁▁▁▁▁▁▁▁▁▁</td></tr></table><br/></div><div class=\"wandb-col\"><h3>Run summary:</h3><br/><table class=\"wandb\"><tr><td>duration</td><td>0.75294</td></tr><tr><td>te_c_acc</td><td>0.49971</td></tr><tr><td>te_c_loss</td><td>0.69323</td></tr><tr><td>te_c_oracle_loss</td><td>0.48268</td></tr><tr><td>te_s_em_loss</td><td>0.6932</td></tr><tr><td>te_s_oracle_loss</td><td>0.48268</td></tr><tr><td>te_s_rec_loss</td><td>0.48935</td></tr><tr><td>tr_c_acc</td><td>0.50098</td></tr><tr><td>tr_c_loss</td><td>0.69329</td></tr><tr><td>tr_c_oracle_loss</td><td>0.48748</td></tr><tr><td>tr_s_em_loss</td><td>0.69324</td></tr><tr><td>tr_s_oracle_loss</td><td>0.48743</td></tr><tr><td>tr_s_rec_loss</td><td>0.49182</td></tr></table><br/></div></div>"
      ],
      "text/plain": [
       "<IPython.core.display.HTML object>"
      ]
     },
     "metadata": {},
     "output_type": "display_data"
    },
    {
     "data": {
      "text/html": [
       " View run <strong style=\"color:#cdcd00\">cerulean-sweep-11</strong> at: <a href='https://wandb.ai/jgammell/data_sanitization/runs/6rvqjtwp' target=\"_blank\">https://wandb.ai/jgammell/data_sanitization/runs/6rvqjtwp</a><br/>Synced 5 W&B file(s), 0 media file(s), 0 artifact file(s) and 0 other file(s)"
      ],
      "text/plain": [
       "<IPython.core.display.HTML object>"
      ]
     },
     "metadata": {},
     "output_type": "display_data"
    },
    {
     "data": {
      "text/html": [
       "Find logs at: <code>./wandb/run-20230218_214910-6rvqjtwp/logs</code>"
      ],
      "text/plain": [
       "<IPython.core.display.HTML object>"
      ]
     },
     "metadata": {},
     "output_type": "display_data"
    },
    {
     "name": "stderr",
     "output_type": "stream",
     "text": [
      "\u001b[34m\u001b[1mwandb\u001b[0m: Agent Starting Run: oqkf72vf with config:\n",
      "\u001b[34m\u001b[1mwandb\u001b[0m: \tatenc_bottleneck_width: 4\n",
      "\u001b[34m\u001b[1mwandb\u001b[0m: \tatenc_sn: True\n",
      "\u001b[34m\u001b[1mwandb\u001b[0m: \tbeta1_c: 0.6125075654436357\n",
      "\u001b[34m\u001b[1mwandb\u001b[0m: \tbeta1_s: 0.8233999990569784\n",
      "\u001b[34m\u001b[1mwandb\u001b[0m: \tbeta2_c: 0.999\n",
      "\u001b[34m\u001b[1mwandb\u001b[0m: \tbeta2_s: 0.999\n",
      "\u001b[34m\u001b[1mwandb\u001b[0m: \tc_pretrain_epochs: 3\n",
      "\u001b[34m\u001b[1mwandb\u001b[0m: \tclass_sn: False\n",
      "\u001b[34m\u001b[1mwandb\u001b[0m: \tlr_c: 0.0030002783335552675\n",
      "\u001b[34m\u001b[1mwandb\u001b[0m: \tlr_s: 0.0001456625524179495\n",
      "\u001b[34m\u001b[1mwandb\u001b[0m: \ts_lbd: 0.5818416703950354\n",
      "\u001b[34m\u001b[1mwandb\u001b[0m: \ts_pretrain_epochs: 11\n",
      "\u001b[34m\u001b[1mwandb\u001b[0m: \tsan_sn: True\n",
      "\u001b[34m\u001b[1mwandb\u001b[0m: \ttrain_epochs: 250\n"
     ]
    },
    {
     "data": {
      "text/html": [
       "Tracking run with wandb version 0.13.10"
      ],
      "text/plain": [
       "<IPython.core.display.HTML object>"
      ]
     },
     "metadata": {},
     "output_type": "display_data"
    },
    {
     "data": {
      "text/html": [
       "Run data is saved locally in <code>/local/scratch/a/jgammell/sca_defense/wandb/run-20230218_221222-oqkf72vf</code>"
      ],
      "text/plain": [
       "<IPython.core.display.HTML object>"
      ]
     },
     "metadata": {},
     "output_type": "display_data"
    },
    {
     "data": {
      "text/html": [
       "Syncing run <strong><a href='https://wandb.ai/jgammell/data_sanitization/runs/oqkf72vf' target=\"_blank\">crisp-sweep-12</a></strong> to <a href='https://wandb.ai/jgammell/data_sanitization' target=\"_blank\">Weights & Biases</a> (<a href='https://wandb.me/run' target=\"_blank\">docs</a>)<br/>Sweep page: <a href='https://wandb.ai/jgammell/data_sanitization/sweeps/d1qsxwr1' target=\"_blank\">https://wandb.ai/jgammell/data_sanitization/sweeps/d1qsxwr1</a>"
      ],
      "text/plain": [
       "<IPython.core.display.HTML object>"
      ]
     },
     "metadata": {},
     "output_type": "display_data"
    },
    {
     "data": {
      "text/html": [
       " View project at <a href='https://wandb.ai/jgammell/data_sanitization' target=\"_blank\">https://wandb.ai/jgammell/data_sanitization</a>"
      ],
      "text/plain": [
       "<IPython.core.display.HTML object>"
      ]
     },
     "metadata": {},
     "output_type": "display_data"
    },
    {
     "data": {
      "text/html": [
       " View sweep at <a href='https://wandb.ai/jgammell/data_sanitization/sweeps/d1qsxwr1' target=\"_blank\">https://wandb.ai/jgammell/data_sanitization/sweeps/d1qsxwr1</a>"
      ],
      "text/plain": [
       "<IPython.core.display.HTML object>"
      ]
     },
     "metadata": {},
     "output_type": "display_data"
    },
    {
     "data": {
      "text/html": [
       " View run at <a href='https://wandb.ai/jgammell/data_sanitization/runs/oqkf72vf' target=\"_blank\">https://wandb.ai/jgammell/data_sanitization/runs/oqkf72vf</a>"
      ],
      "text/plain": [
       "<IPython.core.display.HTML object>"
      ]
     },
     "metadata": {},
     "output_type": "display_data"
    },
    {
     "data": {
      "text/html": [
       "Waiting for W&B process to finish... <strong style=\"color:green\">(success).</strong>"
      ],
      "text/plain": [
       "<IPython.core.display.HTML object>"
      ]
     },
     "metadata": {},
     "output_type": "display_data"
    },
    {
     "data": {
      "text/html": [
       "<style>\n",
       "    table.wandb td:nth-child(1) { padding: 0 10px; text-align: left ; width: auto;} td:nth-child(2) {text-align: left ; width: 100%}\n",
       "    .wandb-row { display: flex; flex-direction: row; flex-wrap: wrap; justify-content: flex-start; width: 100% }\n",
       "    .wandb-col { display: flex; flex-direction: column; flex-basis: 100%; flex: 1; padding: 10px; }\n",
       "    </style>\n",
       "<div class=\"wandb-row\"><div class=\"wandb-col\"><h3>Run history:</h3><br/><table class=\"wandb\"><tr><td>duration</td><td>▆▃▄▅▅▄▆▄▃▄▆▅▄▅▄▃▃▃▃▄▅▃▃▄▃▃▆▃▄▃▂▁▂▁▅▂▄▅▃█</td></tr><tr><td>te_c_acc</td><td>▁▁██████▇▇▇▆▇▇▆▅▇▆▆▅▄▅▅▅▄▃▁▂▃▂▁▃▁▁▁▁▁▁▁▁</td></tr><tr><td>te_c_loss</td><td>▄▄▁▁▁▁▁▁▁▂▂▂▂▂▃▄▂▂▂▃▃▃▃▃▃▄█▅▄▄▅▄▄▄▄▄▄▄▄▄</td></tr><tr><td>te_c_oracle_loss</td><td>▁▁▁▃▃▃▃▃▄▄▄▄▄▄▄▄▄▄▄▄▅▅▅▅▆▆▆▆▆▇██▇▆▆▆▅▆▇▇</td></tr><tr><td>te_s_em_loss</td><td>▁▁█▅▆▆▇▇▆▅▇▆▅▅▆▇▅▃▅▃▃▃▃▂▂▂▅▃▂▂▂▁▁▁▁▁▁▁▁▁</td></tr><tr><td>te_s_oracle_loss</td><td>▁▁▁▃▃▃▃▃▄▄▄▄▄▄▄▄▄▄▄▄▅▅▅▅▆▆▆▆▆▇██▇▆▆▆▅▆▇▇</td></tr><tr><td>te_s_rec_loss</td><td>▁▁▅▆▅▅▆▆▄▅▄▅▅▅▆▆▅▆▆▇████▇▇▆▆▇▇▇▅▄▂▂▂▂▂▂▂</td></tr><tr><td>tr_c_acc</td><td>▁▁█▇▇▇▇▇▇▇▇▇▆▇▇▆▆▅▆▅▅▅▅▄▄▄▃▃▃▃▃▂▁▁▁▁▁▁▁▁</td></tr><tr><td>tr_c_loss</td><td>██▁▂▂▂▂▂▂▃▃▃▃▃▃▃▄▅▄▅▅▅▅▆▆▇▇▇▇▇▇█████████</td></tr><tr><td>tr_c_oracle_loss</td><td>▁▁▁▃▃▃▃▃▄▄▄▄▄▄▄▄▄▄▄▄▅▅▅▅▅▆▆▆▆▇██▇▆▆▆▅▅▇▇</td></tr><tr><td>tr_s_em_loss</td><td>▁▁█▆▅▆▆▆▆▅▆▆▅▅▅▅▄▃▄▃▃▂▂▂▂▁▁▁▁▁▁▁▁▁▁▁▁▁▁▁</td></tr><tr><td>tr_s_oracle_loss</td><td>▁▁▁▃▃▃▃▃▄▄▄▄▄▄▄▄▄▄▄▄▅▅▅▅▅▆▆▆▆▇██▇▆▆▆▅▅▇▇</td></tr><tr><td>tr_s_rec_loss</td><td>▁▁▃▅▆▅▆▅▄▅▄▅▅▅▆▆▅▆▆▇████▇▇▆▆▇▇▇▆▃▂▂▂▂▂▂▂</td></tr></table><br/></div><div class=\"wandb-col\"><h3>Run summary:</h3><br/><table class=\"wandb\"><tr><td>duration</td><td>0.7836</td></tr><tr><td>te_c_acc</td><td>0.49746</td></tr><tr><td>te_c_loss</td><td>0.6935</td></tr><tr><td>te_c_oracle_loss</td><td>0.75558</td></tr><tr><td>te_s_em_loss</td><td>0.69338</td></tr><tr><td>te_s_oracle_loss</td><td>0.75558</td></tr><tr><td>te_s_rec_loss</td><td>0.33059</td></tr><tr><td>tr_c_acc</td><td>0.50299</td></tr><tr><td>tr_c_loss</td><td>0.69437</td></tr><tr><td>tr_c_oracle_loss</td><td>0.77813</td></tr><tr><td>tr_s_em_loss</td><td>0.69749</td></tr><tr><td>tr_s_oracle_loss</td><td>0.77882</td></tr><tr><td>tr_s_rec_loss</td><td>0.32746</td></tr></table><br/></div></div>"
      ],
      "text/plain": [
       "<IPython.core.display.HTML object>"
      ]
     },
     "metadata": {},
     "output_type": "display_data"
    },
    {
     "data": {
      "text/html": [
       " View run <strong style=\"color:#cdcd00\">crisp-sweep-12</strong> at: <a href='https://wandb.ai/jgammell/data_sanitization/runs/oqkf72vf' target=\"_blank\">https://wandb.ai/jgammell/data_sanitization/runs/oqkf72vf</a><br/>Synced 5 W&B file(s), 0 media file(s), 0 artifact file(s) and 0 other file(s)"
      ],
      "text/plain": [
       "<IPython.core.display.HTML object>"
      ]
     },
     "metadata": {},
     "output_type": "display_data"
    },
    {
     "data": {
      "text/html": [
       "Find logs at: <code>./wandb/run-20230218_221222-oqkf72vf/logs</code>"
      ],
      "text/plain": [
       "<IPython.core.display.HTML object>"
      ]
     },
     "metadata": {},
     "output_type": "display_data"
    },
    {
     "name": "stderr",
     "output_type": "stream",
     "text": [
      "\u001b[34m\u001b[1mwandb\u001b[0m: Agent Starting Run: 0b9wrc1c with config:\n",
      "\u001b[34m\u001b[1mwandb\u001b[0m: \tatenc_bottleneck_width: 256\n",
      "\u001b[34m\u001b[1mwandb\u001b[0m: \tatenc_sn: True\n",
      "\u001b[34m\u001b[1mwandb\u001b[0m: \tbeta1_c: 0.4218095373346003\n",
      "\u001b[34m\u001b[1mwandb\u001b[0m: \tbeta1_s: 0.46317954918421744\n",
      "\u001b[34m\u001b[1mwandb\u001b[0m: \tbeta2_c: 0.999\n",
      "\u001b[34m\u001b[1mwandb\u001b[0m: \tbeta2_s: 0.999\n",
      "\u001b[34m\u001b[1mwandb\u001b[0m: \tc_pretrain_epochs: 4\n",
      "\u001b[34m\u001b[1mwandb\u001b[0m: \tclass_sn: True\n",
      "\u001b[34m\u001b[1mwandb\u001b[0m: \tlr_c: 0.0026036008086405753\n",
      "\u001b[34m\u001b[1mwandb\u001b[0m: \tlr_s: 0.0051694993275894175\n",
      "\u001b[34m\u001b[1mwandb\u001b[0m: \ts_lbd: 1.182228791769389\n",
      "\u001b[34m\u001b[1mwandb\u001b[0m: \ts_pretrain_epochs: 14\n",
      "\u001b[34m\u001b[1mwandb\u001b[0m: \tsan_sn: False\n",
      "\u001b[34m\u001b[1mwandb\u001b[0m: \ttrain_epochs: 250\n"
     ]
    },
    {
     "data": {
      "text/html": [
       "Tracking run with wandb version 0.13.10"
      ],
      "text/plain": [
       "<IPython.core.display.HTML object>"
      ]
     },
     "metadata": {},
     "output_type": "display_data"
    },
    {
     "data": {
      "text/html": [
       "Run data is saved locally in <code>/local/scratch/a/jgammell/sca_defense/wandb/run-20230218_223637-0b9wrc1c</code>"
      ],
      "text/plain": [
       "<IPython.core.display.HTML object>"
      ]
     },
     "metadata": {},
     "output_type": "display_data"
    },
    {
     "data": {
      "text/html": [
       "Syncing run <strong><a href='https://wandb.ai/jgammell/data_sanitization/runs/0b9wrc1c' target=\"_blank\">silver-sweep-13</a></strong> to <a href='https://wandb.ai/jgammell/data_sanitization' target=\"_blank\">Weights & Biases</a> (<a href='https://wandb.me/run' target=\"_blank\">docs</a>)<br/>Sweep page: <a href='https://wandb.ai/jgammell/data_sanitization/sweeps/d1qsxwr1' target=\"_blank\">https://wandb.ai/jgammell/data_sanitization/sweeps/d1qsxwr1</a>"
      ],
      "text/plain": [
       "<IPython.core.display.HTML object>"
      ]
     },
     "metadata": {},
     "output_type": "display_data"
    },
    {
     "data": {
      "text/html": [
       " View project at <a href='https://wandb.ai/jgammell/data_sanitization' target=\"_blank\">https://wandb.ai/jgammell/data_sanitization</a>"
      ],
      "text/plain": [
       "<IPython.core.display.HTML object>"
      ]
     },
     "metadata": {},
     "output_type": "display_data"
    },
    {
     "data": {
      "text/html": [
       " View sweep at <a href='https://wandb.ai/jgammell/data_sanitization/sweeps/d1qsxwr1' target=\"_blank\">https://wandb.ai/jgammell/data_sanitization/sweeps/d1qsxwr1</a>"
      ],
      "text/plain": [
       "<IPython.core.display.HTML object>"
      ]
     },
     "metadata": {},
     "output_type": "display_data"
    },
    {
     "data": {
      "text/html": [
       " View run at <a href='https://wandb.ai/jgammell/data_sanitization/runs/0b9wrc1c' target=\"_blank\">https://wandb.ai/jgammell/data_sanitization/runs/0b9wrc1c</a>"
      ],
      "text/plain": [
       "<IPython.core.display.HTML object>"
      ]
     },
     "metadata": {},
     "output_type": "display_data"
    },
    {
     "data": {
      "text/html": [
       "Waiting for W&B process to finish... <strong style=\"color:green\">(success).</strong>"
      ],
      "text/plain": [
       "<IPython.core.display.HTML object>"
      ]
     },
     "metadata": {},
     "output_type": "display_data"
    },
    {
     "data": {
      "text/html": [
       "<style>\n",
       "    table.wandb td:nth-child(1) { padding: 0 10px; text-align: left ; width: auto;} td:nth-child(2) {text-align: left ; width: 100%}\n",
       "    .wandb-row { display: flex; flex-direction: row; flex-wrap: wrap; justify-content: flex-start; width: 100% }\n",
       "    .wandb-col { display: flex; flex-direction: column; flex-basis: 100%; flex: 1; padding: 10px; }\n",
       "    </style>\n",
       "<div class=\"wandb-row\"><div class=\"wandb-col\"><h3>Run history:</h3><br/><table class=\"wandb\"><tr><td>duration</td><td>▃▁▁▅▄▃▂▂▂▃▃▁▁▃▄▃▂▂▁▁▂▃▃▂▂▂▃▂▂▅▃▁▃▆▃▆▇▇▆█</td></tr><tr><td>te_c_acc</td><td>▁▁▄▅▆▇▃▇▇▇▆▇▇█▆███▇▇▇██▇▇██▃▇███▆▅██▇▆▆▆</td></tr><tr><td>te_c_loss</td><td>▃▃▅▂▂▁▃▁▁▁▂▂▁▁▂▁▁▁▁▁▁▂▁▂▁▁▁█▂▂▁▂▃▄▂▃▂▃▇▇</td></tr><tr><td>te_c_oracle_loss</td><td>▁▁▁█████████████████████████████████████</td></tr><tr><td>te_s_em_loss</td><td>▁▁▆▁▂▂▃▂▂▂▃▃▃▃▄▃▃▃▃▃▄▃▄▄▄▄▄█▅▄▅▄▆▆▅▅▅▆▇▆</td></tr><tr><td>te_s_oracle_loss</td><td>▁▁▁█████████████████████████████████████</td></tr><tr><td>te_s_rec_loss</td><td>▁▁▁█████████████████████████████████████</td></tr><tr><td>tr_c_acc</td><td>▁▁▇▆▇▇▇█████████████████████████████▇▇▇▇</td></tr><tr><td>tr_c_loss</td><td>██▆▇▆▆▅▅▅▅▅▅▄▄▄▄▄▄▄▃▃▃▃▃▃▃▂▂▂▂▂▂▂▂▂▂▁▁▁▁</td></tr><tr><td>tr_c_oracle_loss</td><td>▁▁▁█████████████████████████████████████</td></tr><tr><td>tr_s_em_loss</td><td>▁▁▃▂▂▃▃▃▃▃▃▃▄▄▄▄▄▄▄▅▅▅▅▅▅▆▆▆▆▆▆▇▇▇▇▇▇███</td></tr><tr><td>tr_s_oracle_loss</td><td>▁▁▁█████████████████████████████████████</td></tr><tr><td>tr_s_rec_loss</td><td>▁▁▁█████████████████████████████████████</td></tr></table><br/></div><div class=\"wandb-col\"><h3>Run summary:</h3><br/><table class=\"wandb\"><tr><td>duration</td><td>0.86329</td></tr><tr><td>te_c_acc</td><td>0.61562</td></tr><tr><td>te_c_loss</td><td>0.87654</td></tr><tr><td>te_c_oracle_loss</td><td>0.8884</td></tr><tr><td>te_s_em_loss</td><td>1.75046</td></tr><tr><td>te_s_oracle_loss</td><td>0.8884</td></tr><tr><td>te_s_rec_loss</td><td>0.02554</td></tr><tr><td>tr_c_acc</td><td>0.70247</td></tr><tr><td>tr_c_loss</td><td>0.27175</td></tr><tr><td>tr_c_oracle_loss</td><td>0.88887</td></tr><tr><td>tr_s_em_loss</td><td>1.42801</td></tr><tr><td>tr_s_oracle_loss</td><td>0.88876</td></tr><tr><td>tr_s_rec_loss</td><td>0.02554</td></tr></table><br/></div></div>"
      ],
      "text/plain": [
       "<IPython.core.display.HTML object>"
      ]
     },
     "metadata": {},
     "output_type": "display_data"
    },
    {
     "data": {
      "text/html": [
       " View run <strong style=\"color:#cdcd00\">silver-sweep-13</strong> at: <a href='https://wandb.ai/jgammell/data_sanitization/runs/0b9wrc1c' target=\"_blank\">https://wandb.ai/jgammell/data_sanitization/runs/0b9wrc1c</a><br/>Synced 5 W&B file(s), 0 media file(s), 0 artifact file(s) and 0 other file(s)"
      ],
      "text/plain": [
       "<IPython.core.display.HTML object>"
      ]
     },
     "metadata": {},
     "output_type": "display_data"
    },
    {
     "data": {
      "text/html": [
       "Find logs at: <code>./wandb/run-20230218_223637-0b9wrc1c/logs</code>"
      ],
      "text/plain": [
       "<IPython.core.display.HTML object>"
      ]
     },
     "metadata": {},
     "output_type": "display_data"
    },
    {
     "name": "stderr",
     "output_type": "stream",
     "text": [
      "\u001b[34m\u001b[1mwandb\u001b[0m: Agent Starting Run: pzkpu64e with config:\n",
      "\u001b[34m\u001b[1mwandb\u001b[0m: \tatenc_bottleneck_width: 2\n",
      "\u001b[34m\u001b[1mwandb\u001b[0m: \tatenc_sn: True\n",
      "\u001b[34m\u001b[1mwandb\u001b[0m: \tbeta1_c: 0.27615762713429104\n",
      "\u001b[34m\u001b[1mwandb\u001b[0m: \tbeta1_s: 0.5247483473443624\n",
      "\u001b[34m\u001b[1mwandb\u001b[0m: \tbeta2_c: 0.999\n",
      "\u001b[34m\u001b[1mwandb\u001b[0m: \tbeta2_s: 0.999\n",
      "\u001b[34m\u001b[1mwandb\u001b[0m: \tc_pretrain_epochs: 13\n",
      "\u001b[34m\u001b[1mwandb\u001b[0m: \tclass_sn: False\n",
      "\u001b[34m\u001b[1mwandb\u001b[0m: \tlr_c: 0.0017516865901106306\n",
      "\u001b[34m\u001b[1mwandb\u001b[0m: \tlr_s: 0.00015962576144690137\n",
      "\u001b[34m\u001b[1mwandb\u001b[0m: \ts_lbd: 11.803003450834638\n",
      "\u001b[34m\u001b[1mwandb\u001b[0m: \ts_pretrain_epochs: 4\n",
      "\u001b[34m\u001b[1mwandb\u001b[0m: \tsan_sn: False\n",
      "\u001b[34m\u001b[1mwandb\u001b[0m: \ttrain_epochs: 250\n"
     ]
    },
    {
     "data": {
      "text/html": [
       "Tracking run with wandb version 0.13.10"
      ],
      "text/plain": [
       "<IPython.core.display.HTML object>"
      ]
     },
     "metadata": {},
     "output_type": "display_data"
    },
    {
     "data": {
      "text/html": [
       "Run data is saved locally in <code>/local/scratch/a/jgammell/sca_defense/wandb/run-20230218_230030-pzkpu64e</code>"
      ],
      "text/plain": [
       "<IPython.core.display.HTML object>"
      ]
     },
     "metadata": {},
     "output_type": "display_data"
    },
    {
     "data": {
      "text/html": [
       "Syncing run <strong><a href='https://wandb.ai/jgammell/data_sanitization/runs/pzkpu64e' target=\"_blank\">glowing-sweep-14</a></strong> to <a href='https://wandb.ai/jgammell/data_sanitization' target=\"_blank\">Weights & Biases</a> (<a href='https://wandb.me/run' target=\"_blank\">docs</a>)<br/>Sweep page: <a href='https://wandb.ai/jgammell/data_sanitization/sweeps/d1qsxwr1' target=\"_blank\">https://wandb.ai/jgammell/data_sanitization/sweeps/d1qsxwr1</a>"
      ],
      "text/plain": [
       "<IPython.core.display.HTML object>"
      ]
     },
     "metadata": {},
     "output_type": "display_data"
    },
    {
     "data": {
      "text/html": [
       " View project at <a href='https://wandb.ai/jgammell/data_sanitization' target=\"_blank\">https://wandb.ai/jgammell/data_sanitization</a>"
      ],
      "text/plain": [
       "<IPython.core.display.HTML object>"
      ]
     },
     "metadata": {},
     "output_type": "display_data"
    },
    {
     "data": {
      "text/html": [
       " View sweep at <a href='https://wandb.ai/jgammell/data_sanitization/sweeps/d1qsxwr1' target=\"_blank\">https://wandb.ai/jgammell/data_sanitization/sweeps/d1qsxwr1</a>"
      ],
      "text/plain": [
       "<IPython.core.display.HTML object>"
      ]
     },
     "metadata": {},
     "output_type": "display_data"
    },
    {
     "data": {
      "text/html": [
       " View run at <a href='https://wandb.ai/jgammell/data_sanitization/runs/pzkpu64e' target=\"_blank\">https://wandb.ai/jgammell/data_sanitization/runs/pzkpu64e</a>"
      ],
      "text/plain": [
       "<IPython.core.display.HTML object>"
      ]
     },
     "metadata": {},
     "output_type": "display_data"
    },
    {
     "data": {
      "text/html": [
       "Waiting for W&B process to finish... <strong style=\"color:green\">(success).</strong>"
      ],
      "text/plain": [
       "<IPython.core.display.HTML object>"
      ]
     },
     "metadata": {},
     "output_type": "display_data"
    },
    {
     "data": {
      "text/html": [
       "<style>\n",
       "    table.wandb td:nth-child(1) { padding: 0 10px; text-align: left ; width: auto;} td:nth-child(2) {text-align: left ; width: 100%}\n",
       "    .wandb-row { display: flex; flex-direction: row; flex-wrap: wrap; justify-content: flex-start; width: 100% }\n",
       "    .wandb-col { display: flex; flex-direction: column; flex-basis: 100%; flex: 1; padding: 10px; }\n",
       "    </style>\n",
       "<div class=\"wandb-row\"><div class=\"wandb-col\"><h3>Run history:</h3><br/><table class=\"wandb\"><tr><td>duration</td><td>▂▁▃▃▇▂▁▄▄█▃▃▄▄▆▃▃▂▂▂▆▂▂▃▃▂▄▂▁▂▃▃▃▃▃▅▄▃▃▆</td></tr><tr><td>te_c_acc</td><td>▁██▅▂▂▁▁▁▂▂▂▂▂▁▂▂▂▂▂▂▂▂▂▂▂▁▂▂▃▂▂▁▂▁▂▂▂▃▂</td></tr><tr><td>te_c_loss</td><td>▅▁▁▃▅▅▅▅▅▅▅▅▅▅▅▅▅▅▅▅▅▅▅▅▅▅█▅▅▅▅▅▅▅▅▅▅▅▅▅</td></tr><tr><td>te_c_oracle_loss</td><td>▁▁▁▃▄▅▆▆▇▇▇▇███████▇▇▇▇▇▇▇▇▇▇▇▇▇▇▇▇▇▇▇▇▇</td></tr><tr><td>te_s_em_loss</td><td>▁▃█▁▁▁▁▁▁▁▁▁▁▁▁▁▁▁▁▁▁▁▁▁▁▁▁▁▁▁▁▁▁▁▁▁▁▁▁▁</td></tr><tr><td>te_s_oracle_loss</td><td>▁▁▁▃▄▅▆▆▇▇▇▇███████▇▇▇▇▇▇▇▇▇▇▇▇▇▇▇▇▇▇▇▇▇</td></tr><tr><td>te_s_rec_loss</td><td>▁▁▁▇█▇▆▆▇▅▅▇▄▄▆▄▄▇▄▄▄▅▄▅▄▅▄▃▄▄▄▄▆▄▃▅▄▄▄▄</td></tr><tr><td>tr_c_acc</td><td>▁██▅▄▃▂▂▂▂▂▂▂▂▂▂▂▂▂▂▂▂▂▂▂▂▂▂▂▂▂▂▂▂▁▂▂▂▂▂</td></tr><tr><td>tr_c_loss</td><td>█▂▁▅▇████████████████████████████████▇▇▇</td></tr><tr><td>tr_c_oracle_loss</td><td>▁▁▁▂▄▅▆▆▆▇▇▇███████▇▇▇▇▇▇▇▇▇▇▇▇▇▇▇▇▇▇▇▇▇</td></tr><tr><td>tr_s_em_loss</td><td>▁▂█▁▁▁▁▁▁▁▁▁▁▁▁▁▁▁▁▁▁▁▁▁▁▁▁▁▁▁▁▁▁▁▁▁▁▁▁▁</td></tr><tr><td>tr_s_oracle_loss</td><td>▁▁▁▂▄▅▆▆▆▇▇▇███████▇▇▇▇▇▇▇▇▇▇▇▇▇▇▇▇▇▇▇▇▇</td></tr><tr><td>tr_s_rec_loss</td><td>▁▁▁▇█▇▆▆▅▅▅▄▄▃▃▃▃▃▃▃▃▃▃▂▂▂▂▂▂▂▂▂▂▂▂▂▂▂▂▂</td></tr></table><br/></div><div class=\"wandb-col\"><h3>Run summary:</h3><br/><table class=\"wandb\"><tr><td>duration</td><td>0.87096</td></tr><tr><td>te_c_acc</td><td>0.60264</td></tr><tr><td>te_c_loss</td><td>0.64576</td></tr><tr><td>te_c_oracle_loss</td><td>1.14613</td></tr><tr><td>te_s_em_loss</td><td>0.77157</td></tr><tr><td>te_s_oracle_loss</td><td>1.14613</td></tr><tr><td>te_s_rec_loss</td><td>0.32219</td></tr><tr><td>tr_c_acc</td><td>0.59763</td></tr><tr><td>tr_c_loss</td><td>0.64015</td></tr><tr><td>tr_c_oracle_loss</td><td>1.14515</td></tr><tr><td>tr_s_em_loss</td><td>0.77138</td></tr><tr><td>tr_s_oracle_loss</td><td>1.14548</td></tr><tr><td>tr_s_rec_loss</td><td>0.31773</td></tr></table><br/></div></div>"
      ],
      "text/plain": [
       "<IPython.core.display.HTML object>"
      ]
     },
     "metadata": {},
     "output_type": "display_data"
    },
    {
     "data": {
      "text/html": [
       " View run <strong style=\"color:#cdcd00\">glowing-sweep-14</strong> at: <a href='https://wandb.ai/jgammell/data_sanitization/runs/pzkpu64e' target=\"_blank\">https://wandb.ai/jgammell/data_sanitization/runs/pzkpu64e</a><br/>Synced 5 W&B file(s), 0 media file(s), 0 artifact file(s) and 0 other file(s)"
      ],
      "text/plain": [
       "<IPython.core.display.HTML object>"
      ]
     },
     "metadata": {},
     "output_type": "display_data"
    },
    {
     "data": {
      "text/html": [
       "Find logs at: <code>./wandb/run-20230218_230030-pzkpu64e/logs</code>"
      ],
      "text/plain": [
       "<IPython.core.display.HTML object>"
      ]
     },
     "metadata": {},
     "output_type": "display_data"
    },
    {
     "name": "stderr",
     "output_type": "stream",
     "text": [
      "\u001b[34m\u001b[1mwandb\u001b[0m: Sweep Agent: Waiting for job.\n",
      "\u001b[34m\u001b[1mwandb\u001b[0m: Job received.\n",
      "\u001b[34m\u001b[1mwandb\u001b[0m: Agent Starting Run: qjte83la with config:\n",
      "\u001b[34m\u001b[1mwandb\u001b[0m: \tatenc_bottleneck_width: 256\n",
      "\u001b[34m\u001b[1mwandb\u001b[0m: \tatenc_sn: True\n",
      "\u001b[34m\u001b[1mwandb\u001b[0m: \tbeta1_c: 0.6075840781335609\n",
      "\u001b[34m\u001b[1mwandb\u001b[0m: \tbeta1_s: 0.7012029121356973\n",
      "\u001b[34m\u001b[1mwandb\u001b[0m: \tbeta2_c: 0.999\n",
      "\u001b[34m\u001b[1mwandb\u001b[0m: \tbeta2_s: 0.999\n",
      "\u001b[34m\u001b[1mwandb\u001b[0m: \tc_pretrain_epochs: 7\n",
      "\u001b[34m\u001b[1mwandb\u001b[0m: \tclass_sn: False\n",
      "\u001b[34m\u001b[1mwandb\u001b[0m: \tlr_c: 0.0029288606409735886\n",
      "\u001b[34m\u001b[1mwandb\u001b[0m: \tlr_s: 0.00014392516022294696\n",
      "\u001b[34m\u001b[1mwandb\u001b[0m: \ts_lbd: 1.7310241020596315\n",
      "\u001b[34m\u001b[1mwandb\u001b[0m: \ts_pretrain_epochs: 4\n",
      "\u001b[34m\u001b[1mwandb\u001b[0m: \tsan_sn: True\n",
      "\u001b[34m\u001b[1mwandb\u001b[0m: \ttrain_epochs: 250\n"
     ]
    },
    {
     "data": {
      "text/html": [
       "Tracking run with wandb version 0.13.10"
      ],
      "text/plain": [
       "<IPython.core.display.HTML object>"
      ]
     },
     "metadata": {},
     "output_type": "display_data"
    },
    {
     "data": {
      "text/html": [
       "Run data is saved locally in <code>/local/scratch/a/jgammell/sca_defense/wandb/run-20230218_232255-qjte83la</code>"
      ],
      "text/plain": [
       "<IPython.core.display.HTML object>"
      ]
     },
     "metadata": {},
     "output_type": "display_data"
    },
    {
     "data": {
      "text/html": [
       "Syncing run <strong><a href='https://wandb.ai/jgammell/data_sanitization/runs/qjte83la' target=\"_blank\">light-sweep-15</a></strong> to <a href='https://wandb.ai/jgammell/data_sanitization' target=\"_blank\">Weights & Biases</a> (<a href='https://wandb.me/run' target=\"_blank\">docs</a>)<br/>Sweep page: <a href='https://wandb.ai/jgammell/data_sanitization/sweeps/d1qsxwr1' target=\"_blank\">https://wandb.ai/jgammell/data_sanitization/sweeps/d1qsxwr1</a>"
      ],
      "text/plain": [
       "<IPython.core.display.HTML object>"
      ]
     },
     "metadata": {},
     "output_type": "display_data"
    },
    {
     "data": {
      "text/html": [
       " View project at <a href='https://wandb.ai/jgammell/data_sanitization' target=\"_blank\">https://wandb.ai/jgammell/data_sanitization</a>"
      ],
      "text/plain": [
       "<IPython.core.display.HTML object>"
      ]
     },
     "metadata": {},
     "output_type": "display_data"
    },
    {
     "data": {
      "text/html": [
       " View sweep at <a href='https://wandb.ai/jgammell/data_sanitization/sweeps/d1qsxwr1' target=\"_blank\">https://wandb.ai/jgammell/data_sanitization/sweeps/d1qsxwr1</a>"
      ],
      "text/plain": [
       "<IPython.core.display.HTML object>"
      ]
     },
     "metadata": {},
     "output_type": "display_data"
    },
    {
     "data": {
      "text/html": [
       " View run at <a href='https://wandb.ai/jgammell/data_sanitization/runs/qjte83la' target=\"_blank\">https://wandb.ai/jgammell/data_sanitization/runs/qjte83la</a>"
      ],
      "text/plain": [
       "<IPython.core.display.HTML object>"
      ]
     },
     "metadata": {},
     "output_type": "display_data"
    },
    {
     "data": {
      "text/html": [
       "Waiting for W&B process to finish... <strong style=\"color:green\">(success).</strong>"
      ],
      "text/plain": [
       "<IPython.core.display.HTML object>"
      ]
     },
     "metadata": {},
     "output_type": "display_data"
    },
    {
     "data": {
      "text/html": [
       "<style>\n",
       "    table.wandb td:nth-child(1) { padding: 0 10px; text-align: left ; width: auto;} td:nth-child(2) {text-align: left ; width: 100%}\n",
       "    .wandb-row { display: flex; flex-direction: row; flex-wrap: wrap; justify-content: flex-start; width: 100% }\n",
       "    .wandb-col { display: flex; flex-direction: column; flex-basis: 100%; flex: 1; padding: 10px; }\n",
       "    </style>\n",
       "<div class=\"wandb-row\"><div class=\"wandb-col\"><h3>Run history:</h3><br/><table class=\"wandb\"><tr><td>duration</td><td>▁▄▃▄▇▃▃▄▇▂▄▃▄▃▄▅▃▁▅▄▃▄▅▄▄▃▄▇▇█▃▃▅▄▅▅▅▄▃▇</td></tr><tr><td>te_c_acc</td><td>▁██▇███▇▇▇▇▇▆▇▆▇▆▆▅▆▆▆▆▆▅▅▅▅▅▃▅▅▄▄▅▄▄▄▂▃</td></tr><tr><td>te_c_loss</td><td>▇▃▁▂▁▂▂▃▃▂▃▃▃▃▃▃▄▄▄▄▃▃▄▄▄▅▅▅▅▇▅▅▅▆▅▅▆▆█▆</td></tr><tr><td>te_c_oracle_loss</td><td>▁▁▂▃▄▄▄▄▅▅▄▅▅▅▅▆▆▆▆▆▆▆▆▆▆▇▇▆▆▆▆▆▇▇▇▆▇▇▇█</td></tr><tr><td>te_s_em_loss</td><td>▁█▂▂▂▂▂▂▂▂▂▂▂▂▂▁▂▁▁▁▁▂▂▁▁▁▁▁▁▁▁▁▁▁▁▁▁▁▁▁</td></tr><tr><td>te_s_oracle_loss</td><td>▁▁▂▃▄▄▄▄▅▅▄▅▅▅▅▆▆▆▆▆▆▆▆▆▆▇▇▆▆▆▆▆▇▇▇▆▇▇▇█</td></tr><tr><td>te_s_rec_loss</td><td>▁▁▂▃▃▃▃▄▄▄▄▄▄▅▅▅▆▆▆▆▆▆▆▇▆▇██▇███▇█▇▇▇▇▇█</td></tr><tr><td>tr_c_acc</td><td>▁█▇▆▆▆▆▆▆▆▅▆▅▅▅▅▅▄▅▅▅▅▅▅▅▅▄▄▄▄▄▄▄▄▄▃▄▄▄▃</td></tr><tr><td>tr_c_loss</td><td>█▁▃▄▄▄▄▄▄▄▅▅▅▅▅▅▅▆▅▅▅▅▅▅▆▅▆▆▆▆▆▆▆▆▇▇▆▆▇▇</td></tr><tr><td>tr_c_oracle_loss</td><td>▁▁▂▃▄▄▄▄▅▅▅▅▅▅▅▆▆▆▆▆▆▆▆▆▆▇▇▆▆▆▆▆▇▇▇▇▇▇▇█</td></tr><tr><td>tr_s_em_loss</td><td>▁█▃▃▃▃▃▃▂▂▂▂▂▂▂▂▂▂▂▂▂▂▂▂▂▂▂▂▂▁▁▁▁▁▁▁▁▁▁▁</td></tr><tr><td>tr_s_oracle_loss</td><td>▁▁▂▃▄▄▄▄▅▅▅▅▅▅▆▆▆▆▆▆▆▆▆▆▆▇▇▆▆▆▆▆▇▇▇▇▇▇▇█</td></tr><tr><td>tr_s_rec_loss</td><td>▁▁▂▃▃▃▃▄▄▄▄▄▄▅▅▅▆▆▆▆▆▆▆▇▇███████▇██▇▇▇▇█</td></tr></table><br/></div><div class=\"wandb-col\"><h3>Run summary:</h3><br/><table class=\"wandb\"><tr><td>duration</td><td>0.88311</td></tr><tr><td>te_c_acc</td><td>0.6249</td></tr><tr><td>te_c_loss</td><td>0.63929</td></tr><tr><td>te_c_oracle_loss</td><td>0.82328</td></tr><tr><td>te_s_em_loss</td><td>0.762</td></tr><tr><td>te_s_oracle_loss</td><td>0.82328</td></tr><tr><td>te_s_rec_loss</td><td>0.0256</td></tr><tr><td>tr_c_acc</td><td>0.62632</td></tr><tr><td>tr_c_loss</td><td>0.62456</td></tr><tr><td>tr_c_oracle_loss</td><td>0.82011</td></tr><tr><td>tr_s_em_loss</td><td>0.79291</td></tr><tr><td>tr_s_oracle_loss</td><td>0.81981</td></tr><tr><td>tr_s_rec_loss</td><td>0.0256</td></tr></table><br/></div></div>"
      ],
      "text/plain": [
       "<IPython.core.display.HTML object>"
      ]
     },
     "metadata": {},
     "output_type": "display_data"
    },
    {
     "data": {
      "text/html": [
       " View run <strong style=\"color:#cdcd00\">light-sweep-15</strong> at: <a href='https://wandb.ai/jgammell/data_sanitization/runs/qjte83la' target=\"_blank\">https://wandb.ai/jgammell/data_sanitization/runs/qjte83la</a><br/>Synced 5 W&B file(s), 0 media file(s), 0 artifact file(s) and 0 other file(s)"
      ],
      "text/plain": [
       "<IPython.core.display.HTML object>"
      ]
     },
     "metadata": {},
     "output_type": "display_data"
    },
    {
     "data": {
      "text/html": [
       "Find logs at: <code>./wandb/run-20230218_232255-qjte83la/logs</code>"
      ],
      "text/plain": [
       "<IPython.core.display.HTML object>"
      ]
     },
     "metadata": {},
     "output_type": "display_data"
    },
    {
     "name": "stderr",
     "output_type": "stream",
     "text": [
      "\u001b[34m\u001b[1mwandb\u001b[0m: Agent Starting Run: qdvwyhyr with config:\n",
      "\u001b[34m\u001b[1mwandb\u001b[0m: \tatenc_bottleneck_width: 16\n",
      "\u001b[34m\u001b[1mwandb\u001b[0m: \tatenc_sn: True\n",
      "\u001b[34m\u001b[1mwandb\u001b[0m: \tbeta1_c: 0.4345910343236453\n",
      "\u001b[34m\u001b[1mwandb\u001b[0m: \tbeta1_s: 0.37254194595270534\n",
      "\u001b[34m\u001b[1mwandb\u001b[0m: \tbeta2_c: 0.999\n",
      "\u001b[34m\u001b[1mwandb\u001b[0m: \tbeta2_s: 0.999\n",
      "\u001b[34m\u001b[1mwandb\u001b[0m: \tc_pretrain_epochs: 4\n",
      "\u001b[34m\u001b[1mwandb\u001b[0m: \tclass_sn: False\n",
      "\u001b[34m\u001b[1mwandb\u001b[0m: \tlr_c: 0.0035497641485484717\n",
      "\u001b[34m\u001b[1mwandb\u001b[0m: \tlr_s: 0.007527617228244774\n",
      "\u001b[34m\u001b[1mwandb\u001b[0m: \ts_lbd: 2.101990339616046\n",
      "\u001b[34m\u001b[1mwandb\u001b[0m: \ts_pretrain_epochs: 4\n",
      "\u001b[34m\u001b[1mwandb\u001b[0m: \tsan_sn: True\n",
      "\u001b[34m\u001b[1mwandb\u001b[0m: \ttrain_epochs: 250\n"
     ]
    },
    {
     "data": {
      "text/html": [
       "Tracking run with wandb version 0.13.10"
      ],
      "text/plain": [
       "<IPython.core.display.HTML object>"
      ]
     },
     "metadata": {},
     "output_type": "display_data"
    },
    {
     "data": {
      "text/html": [
       "Run data is saved locally in <code>/local/scratch/a/jgammell/sca_defense/wandb/run-20230218_234809-qdvwyhyr</code>"
      ],
      "text/plain": [
       "<IPython.core.display.HTML object>"
      ]
     },
     "metadata": {},
     "output_type": "display_data"
    },
    {
     "data": {
      "text/html": [
       "Syncing run <strong><a href='https://wandb.ai/jgammell/data_sanitization/runs/qdvwyhyr' target=\"_blank\">bumbling-sweep-16</a></strong> to <a href='https://wandb.ai/jgammell/data_sanitization' target=\"_blank\">Weights & Biases</a> (<a href='https://wandb.me/run' target=\"_blank\">docs</a>)<br/>Sweep page: <a href='https://wandb.ai/jgammell/data_sanitization/sweeps/d1qsxwr1' target=\"_blank\">https://wandb.ai/jgammell/data_sanitization/sweeps/d1qsxwr1</a>"
      ],
      "text/plain": [
       "<IPython.core.display.HTML object>"
      ]
     },
     "metadata": {},
     "output_type": "display_data"
    },
    {
     "data": {
      "text/html": [
       " View project at <a href='https://wandb.ai/jgammell/data_sanitization' target=\"_blank\">https://wandb.ai/jgammell/data_sanitization</a>"
      ],
      "text/plain": [
       "<IPython.core.display.HTML object>"
      ]
     },
     "metadata": {},
     "output_type": "display_data"
    },
    {
     "data": {
      "text/html": [
       " View sweep at <a href='https://wandb.ai/jgammell/data_sanitization/sweeps/d1qsxwr1' target=\"_blank\">https://wandb.ai/jgammell/data_sanitization/sweeps/d1qsxwr1</a>"
      ],
      "text/plain": [
       "<IPython.core.display.HTML object>"
      ]
     },
     "metadata": {},
     "output_type": "display_data"
    },
    {
     "data": {
      "text/html": [
       " View run at <a href='https://wandb.ai/jgammell/data_sanitization/runs/qdvwyhyr' target=\"_blank\">https://wandb.ai/jgammell/data_sanitization/runs/qdvwyhyr</a>"
      ],
      "text/plain": [
       "<IPython.core.display.HTML object>"
      ]
     },
     "metadata": {},
     "output_type": "display_data"
    },
    {
     "data": {
      "text/html": [
       "Waiting for W&B process to finish... <strong style=\"color:green\">(success).</strong>"
      ],
      "text/plain": [
       "<IPython.core.display.HTML object>"
      ]
     },
     "metadata": {},
     "output_type": "display_data"
    },
    {
     "data": {
      "text/html": [
       "<style>\n",
       "    table.wandb td:nth-child(1) { padding: 0 10px; text-align: left ; width: auto;} td:nth-child(2) {text-align: left ; width: 100%}\n",
       "    .wandb-row { display: flex; flex-direction: row; flex-wrap: wrap; justify-content: flex-start; width: 100% }\n",
       "    .wandb-col { display: flex; flex-direction: column; flex-basis: 100%; flex: 1; padding: 10px; }\n",
       "    </style>\n",
       "<div class=\"wandb-row\"><div class=\"wandb-col\"><h3>Run history:</h3><br/><table class=\"wandb\"><tr><td>duration</td><td>▂█▁▁▃▅▄▄▃▂▄▁▄▄▃▅▂▄▂▂▁▆▂▇▅▅▁▂▁█▄▅▃▂▆▁▂▅▅▂</td></tr><tr><td>te_c_acc</td><td>▁█▁▃▂▃▂▁▂▁▁▂▁▁▂▂▁▁▂▁▁▁▁▁▁▂▂▁▁▁▁▁▁▁▁▁▂▂▁▂</td></tr><tr><td>te_c_loss</td><td>▆▁▆▅▆▅▅▆▅▆▆▆▇▇▆▅▆▆▆▆▆▆▆▇▆▆▆█▆▆▇▆▆▆▆▆▆▆▆▆</td></tr><tr><td>te_c_oracle_loss</td><td>▁▁▄▆▆██▇▇▇▆▇█▇▇▆▆▇▇▇▇▇▇▇▆▇▇▇▇▇▇▆▇▇▇▆▇▆▇▇</td></tr><tr><td>te_s_em_loss</td><td>▁█▁▁▁▁▁▁▁▁▁▁▁▁▁▁▁▁▁▁▁▁▁▁▁▁▁▁▁▁▁▁▁▁▁▁▁▁▁▁</td></tr><tr><td>te_s_oracle_loss</td><td>▁▁▄▆▆██▇▇▇▆▇█▇▇▆▆▇▇▇▇▇▇▇▆▇▇▇▇▇▇▆▇▇▇▆▇▆▇▇</td></tr><tr><td>te_s_rec_loss</td><td>▁▁▄▇▅▇█▄▃▂▂▂▃▂▁▃▂▂▂▁▂▁▁▂▁▂▁▂▁▁▂▁▁▁▁▂▃▁▂▂</td></tr><tr><td>tr_c_acc</td><td>▁█▂▂▂▂▂▁▂▁▁▁▁▁▁▁▁▁▁▁▁▁▁▁▁▁▁▁▁▁▁▁▁▁▁▁▁▁▁▁</td></tr><tr><td>tr_c_loss</td><td>█▁██████████████████████████████████████</td></tr><tr><td>tr_c_oracle_loss</td><td>▁▁▄▆▆███▇▇▆▇█▇▇▆▆▇▇▇▇▇█▇▆▇▇▇▇▇▇▇▇▇▇▆▇▆▇▇</td></tr><tr><td>tr_s_em_loss</td><td>▁█▁▁▁▁▁▁▁▁▁▁▁▁▁▁▁▁▁▁▁▁▁▁▁▁▁▁▁▁▁▁▁▁▁▁▁▁▁▁</td></tr><tr><td>tr_s_oracle_loss</td><td>▁▁▄▆▆███▇▇▆▇█▇▇▆▆▇▇▇▇▇█▇▆▇▇▇▇▇▇▇▇▇▇▆▇▆▇▇</td></tr><tr><td>tr_s_rec_loss</td><td>▁▁▃▇▅██▆▃▂▂▂▂▂▂▂▂▁▂▂▁▂▁▂▁▂▁▁▁▁▁▁▁▁▁▂▂▂▂▁</td></tr></table><br/></div><div class=\"wandb-col\"><h3>Run summary:</h3><br/><table class=\"wandb\"><tr><td>duration</td><td>0.8935</td></tr><tr><td>te_c_acc</td><td>0.52227</td></tr><tr><td>te_c_loss</td><td>0.69029</td></tr><tr><td>te_c_oracle_loss</td><td>1.26663</td></tr><tr><td>te_s_em_loss</td><td>0.69697</td></tr><tr><td>te_s_oracle_loss</td><td>1.26663</td></tr><tr><td>te_s_rec_loss</td><td>0.18739</td></tr><tr><td>tr_c_acc</td><td>0.53904</td></tr><tr><td>tr_c_loss</td><td>0.68705</td></tr><tr><td>tr_c_oracle_loss</td><td>1.26703</td></tr><tr><td>tr_s_em_loss</td><td>0.70125</td></tr><tr><td>tr_s_oracle_loss</td><td>1.26708</td></tr><tr><td>tr_s_rec_loss</td><td>0.18787</td></tr></table><br/></div></div>"
      ],
      "text/plain": [
       "<IPython.core.display.HTML object>"
      ]
     },
     "metadata": {},
     "output_type": "display_data"
    },
    {
     "data": {
      "text/html": [
       " View run <strong style=\"color:#cdcd00\">bumbling-sweep-16</strong> at: <a href='https://wandb.ai/jgammell/data_sanitization/runs/qdvwyhyr' target=\"_blank\">https://wandb.ai/jgammell/data_sanitization/runs/qdvwyhyr</a><br/>Synced 5 W&B file(s), 0 media file(s), 0 artifact file(s) and 0 other file(s)"
      ],
      "text/plain": [
       "<IPython.core.display.HTML object>"
      ]
     },
     "metadata": {},
     "output_type": "display_data"
    },
    {
     "data": {
      "text/html": [
       "Find logs at: <code>./wandb/run-20230218_234809-qdvwyhyr/logs</code>"
      ],
      "text/plain": [
       "<IPython.core.display.HTML object>"
      ]
     },
     "metadata": {},
     "output_type": "display_data"
    },
    {
     "name": "stderr",
     "output_type": "stream",
     "text": [
      "\u001b[34m\u001b[1mwandb\u001b[0m: Agent Starting Run: t4n8nbdn with config:\n",
      "\u001b[34m\u001b[1mwandb\u001b[0m: \tatenc_bottleneck_width: 256\n",
      "\u001b[34m\u001b[1mwandb\u001b[0m: \tatenc_sn: False\n",
      "\u001b[34m\u001b[1mwandb\u001b[0m: \tbeta1_c: 0.5405141383251519\n",
      "\u001b[34m\u001b[1mwandb\u001b[0m: \tbeta1_s: 0.26682161751513456\n",
      "\u001b[34m\u001b[1mwandb\u001b[0m: \tbeta2_c: 0.999\n",
      "\u001b[34m\u001b[1mwandb\u001b[0m: \tbeta2_s: 0.999\n",
      "\u001b[34m\u001b[1mwandb\u001b[0m: \tc_pretrain_epochs: 15\n",
      "\u001b[34m\u001b[1mwandb\u001b[0m: \tclass_sn: True\n",
      "\u001b[34m\u001b[1mwandb\u001b[0m: \tlr_c: 0.000282278582328861\n",
      "\u001b[34m\u001b[1mwandb\u001b[0m: \tlr_s: 0.009223710842915627\n",
      "\u001b[34m\u001b[1mwandb\u001b[0m: \ts_lbd: 0.07019072545458106\n",
      "\u001b[34m\u001b[1mwandb\u001b[0m: \ts_pretrain_epochs: 14\n",
      "\u001b[34m\u001b[1mwandb\u001b[0m: \tsan_sn: True\n",
      "\u001b[34m\u001b[1mwandb\u001b[0m: \ttrain_epochs: 250\n"
     ]
    },
    {
     "data": {
      "text/html": [
       "Tracking run with wandb version 0.13.10"
      ],
      "text/plain": [
       "<IPython.core.display.HTML object>"
      ]
     },
     "metadata": {},
     "output_type": "display_data"
    },
    {
     "data": {
      "text/html": [
       "Run data is saved locally in <code>/local/scratch/a/jgammell/sca_defense/wandb/run-20230219_001301-t4n8nbdn</code>"
      ],
      "text/plain": [
       "<IPython.core.display.HTML object>"
      ]
     },
     "metadata": {},
     "output_type": "display_data"
    },
    {
     "data": {
      "text/html": [
       "Syncing run <strong><a href='https://wandb.ai/jgammell/data_sanitization/runs/t4n8nbdn' target=\"_blank\">young-sweep-17</a></strong> to <a href='https://wandb.ai/jgammell/data_sanitization' target=\"_blank\">Weights & Biases</a> (<a href='https://wandb.me/run' target=\"_blank\">docs</a>)<br/>Sweep page: <a href='https://wandb.ai/jgammell/data_sanitization/sweeps/d1qsxwr1' target=\"_blank\">https://wandb.ai/jgammell/data_sanitization/sweeps/d1qsxwr1</a>"
      ],
      "text/plain": [
       "<IPython.core.display.HTML object>"
      ]
     },
     "metadata": {},
     "output_type": "display_data"
    },
    {
     "data": {
      "text/html": [
       " View project at <a href='https://wandb.ai/jgammell/data_sanitization' target=\"_blank\">https://wandb.ai/jgammell/data_sanitization</a>"
      ],
      "text/plain": [
       "<IPython.core.display.HTML object>"
      ]
     },
     "metadata": {},
     "output_type": "display_data"
    },
    {
     "data": {
      "text/html": [
       " View sweep at <a href='https://wandb.ai/jgammell/data_sanitization/sweeps/d1qsxwr1' target=\"_blank\">https://wandb.ai/jgammell/data_sanitization/sweeps/d1qsxwr1</a>"
      ],
      "text/plain": [
       "<IPython.core.display.HTML object>"
      ]
     },
     "metadata": {},
     "output_type": "display_data"
    },
    {
     "data": {
      "text/html": [
       " View run at <a href='https://wandb.ai/jgammell/data_sanitization/runs/t4n8nbdn' target=\"_blank\">https://wandb.ai/jgammell/data_sanitization/runs/t4n8nbdn</a>"
      ],
      "text/plain": [
       "<IPython.core.display.HTML object>"
      ]
     },
     "metadata": {},
     "output_type": "display_data"
    },
    {
     "data": {
      "text/html": [
       "Waiting for W&B process to finish... <strong style=\"color:green\">(success).</strong>"
      ],
      "text/plain": [
       "<IPython.core.display.HTML object>"
      ]
     },
     "metadata": {},
     "output_type": "display_data"
    },
    {
     "data": {
      "text/html": [
       "<style>\n",
       "    table.wandb td:nth-child(1) { padding: 0 10px; text-align: left ; width: auto;} td:nth-child(2) {text-align: left ; width: 100%}\n",
       "    .wandb-row { display: flex; flex-direction: row; flex-wrap: wrap; justify-content: flex-start; width: 100% }\n",
       "    .wandb-col { display: flex; flex-direction: column; flex-basis: 100%; flex: 1; padding: 10px; }\n",
       "    </style>\n",
       "<div class=\"wandb-row\"><div class=\"wandb-col\"><h3>Run history:</h3><br/><table class=\"wandb\"><tr><td>duration</td><td>▅█▄▂▅▂▄▇▂▃▇▃█▆▇▂▃▅▆▆▄▁▄▃▃▄▄▄▃▃▄▄▅▄▅▁▆▄▁▃</td></tr><tr><td>te_c_acc</td><td>▁▁▄█▂▂▂▂▂▁▁▂▁▁▁▁▂▁▂▂▂▂▂▂▂▂▂▂▂▂▁▂▂▂▂▁▂▁▁▂</td></tr><tr><td>te_c_loss</td><td>██▇▁█▇▇▇▇▇▇▇▇▇▇▇▇█▇▇▇▇▇▇▇▇▇▇▇▇▇▇▇▇▇▇▇▇█▇</td></tr><tr><td>te_c_oracle_loss</td><td>▁▁▁▁▅▅▆▅▅▅▆▇▆▇▇▇▇████▇▇▇███▇▇▆▆▇▇▇▇▇▇▇▇▇</td></tr><tr><td>te_s_em_loss</td><td>▁▁▂█▁▁▁▁▁▁▁▁▁▁▁▁▁▁▁▁▁▁▁▁▁▁▁▁▁▁▁▁▁▁▁▁▁▁▁▁</td></tr><tr><td>te_s_oracle_loss</td><td>▁▁▁▁▅▅▆▅▅▅▆▇▆▇▇▇▇████▇▇▇███▇▇▆▆▇▇▇▇▇▇▇▇▇</td></tr><tr><td>te_s_rec_loss</td><td>▁▁▁▁▄▆▆▆▆▆▆█▇▇▇▇▇▇▇█▆▇█▇█▇█▇▇▆▆▇▇█▇▆▆▇▆▆</td></tr><tr><td>tr_c_acc</td><td>▁▁▃█▁▁▁▁▂▁▁▁▁▂▁▁▁▁▁▂▁▁▁▁▁▁▂▁▁▁▁▁▂▂▂▁▁▁▂▁</td></tr><tr><td>tr_c_loss</td><td>██▇▁████████████████████████████████████</td></tr><tr><td>tr_c_oracle_loss</td><td>▁▁▁▁▄▅▆▅▅▆▆▇▇▇▆▇▇████▇▇▇███▇▇▇▆▇▇▇▇▇▇▇▇▇</td></tr><tr><td>tr_s_em_loss</td><td>▁▁▁█▁▁▁▁▁▁▁▁▁▁▁▁▁▁▁▁▁▁▁▁▁▁▁▁▁▁▁▁▁▁▁▁▁▁▁▁</td></tr><tr><td>tr_s_oracle_loss</td><td>▁▁▁▁▄▅▆▅▅▆▆▇▇▇▆▇▇████▇▇▇███▇▇▇▆▇▇▇▇▇▇▇▇▇</td></tr><tr><td>tr_s_rec_loss</td><td>▁▁▁▁▃▆▆▆▆▆▆█▇▇▇█▇▇▇█▆▇▇█▇██▇▇▇▆▇▇█▇▆▆▇▆▇</td></tr></table><br/></div><div class=\"wandb-col\"><h3>Run summary:</h3><br/><table class=\"wandb\"><tr><td>duration</td><td>0.86772</td></tr><tr><td>te_c_acc</td><td>0.54297</td></tr><tr><td>te_c_loss</td><td>0.68948</td></tr><tr><td>te_c_oracle_loss</td><td>1.09308</td></tr><tr><td>te_s_em_loss</td><td>0.69627</td></tr><tr><td>te_s_oracle_loss</td><td>1.09308</td></tr><tr><td>te_s_rec_loss</td><td>0.02586</td></tr><tr><td>tr_c_acc</td><td>0.52248</td></tr><tr><td>tr_c_loss</td><td>0.69007</td></tr><tr><td>tr_c_oracle_loss</td><td>1.09245</td></tr><tr><td>tr_s_em_loss</td><td>0.69695</td></tr><tr><td>tr_s_oracle_loss</td><td>1.09225</td></tr><tr><td>tr_s_rec_loss</td><td>0.02586</td></tr></table><br/></div></div>"
      ],
      "text/plain": [
       "<IPython.core.display.HTML object>"
      ]
     },
     "metadata": {},
     "output_type": "display_data"
    },
    {
     "data": {
      "text/html": [
       " View run <strong style=\"color:#cdcd00\">young-sweep-17</strong> at: <a href='https://wandb.ai/jgammell/data_sanitization/runs/t4n8nbdn' target=\"_blank\">https://wandb.ai/jgammell/data_sanitization/runs/t4n8nbdn</a><br/>Synced 5 W&B file(s), 0 media file(s), 0 artifact file(s) and 0 other file(s)"
      ],
      "text/plain": [
       "<IPython.core.display.HTML object>"
      ]
     },
     "metadata": {},
     "output_type": "display_data"
    },
    {
     "data": {
      "text/html": [
       "Find logs at: <code>./wandb/run-20230219_001301-t4n8nbdn/logs</code>"
      ],
      "text/plain": [
       "<IPython.core.display.HTML object>"
      ]
     },
     "metadata": {},
     "output_type": "display_data"
    },
    {
     "name": "stderr",
     "output_type": "stream",
     "text": [
      "\u001b[34m\u001b[1mwandb\u001b[0m: Agent Starting Run: djpox9lo with config:\n",
      "\u001b[34m\u001b[1mwandb\u001b[0m: \tatenc_bottleneck_width: 8\n",
      "\u001b[34m\u001b[1mwandb\u001b[0m: \tatenc_sn: True\n",
      "\u001b[34m\u001b[1mwandb\u001b[0m: \tbeta1_c: 0.46615858639544017\n",
      "\u001b[34m\u001b[1mwandb\u001b[0m: \tbeta1_s: 0.17368277356872833\n",
      "\u001b[34m\u001b[1mwandb\u001b[0m: \tbeta2_c: 0.999\n",
      "\u001b[34m\u001b[1mwandb\u001b[0m: \tbeta2_s: 0.999\n",
      "\u001b[34m\u001b[1mwandb\u001b[0m: \tc_pretrain_epochs: 10\n",
      "\u001b[34m\u001b[1mwandb\u001b[0m: \tclass_sn: False\n",
      "\u001b[34m\u001b[1mwandb\u001b[0m: \tlr_c: 0.0011880975804338802\n",
      "\u001b[34m\u001b[1mwandb\u001b[0m: \tlr_s: 0.00015153784170566964\n",
      "\u001b[34m\u001b[1mwandb\u001b[0m: \ts_lbd: 2.582671728236277\n",
      "\u001b[34m\u001b[1mwandb\u001b[0m: \ts_pretrain_epochs: 4\n",
      "\u001b[34m\u001b[1mwandb\u001b[0m: \tsan_sn: True\n",
      "\u001b[34m\u001b[1mwandb\u001b[0m: \ttrain_epochs: 250\n"
     ]
    },
    {
     "data": {
      "text/html": [
       "Tracking run with wandb version 0.13.10"
      ],
      "text/plain": [
       "<IPython.core.display.HTML object>"
      ]
     },
     "metadata": {},
     "output_type": "display_data"
    },
    {
     "data": {
      "text/html": [
       "Run data is saved locally in <code>/local/scratch/a/jgammell/sca_defense/wandb/run-20230219_004016-djpox9lo</code>"
      ],
      "text/plain": [
       "<IPython.core.display.HTML object>"
      ]
     },
     "metadata": {},
     "output_type": "display_data"
    },
    {
     "data": {
      "text/html": [
       "Syncing run <strong><a href='https://wandb.ai/jgammell/data_sanitization/runs/djpox9lo' target=\"_blank\">trim-sweep-18</a></strong> to <a href='https://wandb.ai/jgammell/data_sanitization' target=\"_blank\">Weights & Biases</a> (<a href='https://wandb.me/run' target=\"_blank\">docs</a>)<br/>Sweep page: <a href='https://wandb.ai/jgammell/data_sanitization/sweeps/d1qsxwr1' target=\"_blank\">https://wandb.ai/jgammell/data_sanitization/sweeps/d1qsxwr1</a>"
      ],
      "text/plain": [
       "<IPython.core.display.HTML object>"
      ]
     },
     "metadata": {},
     "output_type": "display_data"
    },
    {
     "data": {
      "text/html": [
       " View project at <a href='https://wandb.ai/jgammell/data_sanitization' target=\"_blank\">https://wandb.ai/jgammell/data_sanitization</a>"
      ],
      "text/plain": [
       "<IPython.core.display.HTML object>"
      ]
     },
     "metadata": {},
     "output_type": "display_data"
    },
    {
     "data": {
      "text/html": [
       " View sweep at <a href='https://wandb.ai/jgammell/data_sanitization/sweeps/d1qsxwr1' target=\"_blank\">https://wandb.ai/jgammell/data_sanitization/sweeps/d1qsxwr1</a>"
      ],
      "text/plain": [
       "<IPython.core.display.HTML object>"
      ]
     },
     "metadata": {},
     "output_type": "display_data"
    },
    {
     "data": {
      "text/html": [
       " View run at <a href='https://wandb.ai/jgammell/data_sanitization/runs/djpox9lo' target=\"_blank\">https://wandb.ai/jgammell/data_sanitization/runs/djpox9lo</a>"
      ],
      "text/plain": [
       "<IPython.core.display.HTML object>"
      ]
     },
     "metadata": {},
     "output_type": "display_data"
    },
    {
     "name": "stdout",
     "output_type": "stream",
     "text": [
      "No existing autoencoder found. Training a new one.\n",
      "{'init_loss': 1.2843223, 'final_loss': 0.16651703}\n"
     ]
    },
    {
     "data": {
      "text/html": [
       "Waiting for W&B process to finish... <strong style=\"color:green\">(success).</strong>"
      ],
      "text/plain": [
       "<IPython.core.display.HTML object>"
      ]
     },
     "metadata": {},
     "output_type": "display_data"
    },
    {
     "data": {
      "application/vnd.jupyter.widget-view+json": {
       "model_id": "0fb6f694d2c9450593850fd29a6da27f",
       "version_major": 2,
       "version_minor": 0
      },
      "text/plain": [
       "VBox(children=(Label(value='0.024 MB of 0.024 MB uploaded (0.000 MB deduped)\\r'), FloatProgress(value=1.0, max…"
      ]
     },
     "metadata": {},
     "output_type": "display_data"
    },
    {
     "data": {
      "text/html": [
       "<style>\n",
       "    table.wandb td:nth-child(1) { padding: 0 10px; text-align: left ; width: auto;} td:nth-child(2) {text-align: left ; width: 100%}\n",
       "    .wandb-row { display: flex; flex-direction: row; flex-wrap: wrap; justify-content: flex-start; width: 100% }\n",
       "    .wandb-col { display: flex; flex-direction: column; flex-basis: 100%; flex: 1; padding: 10px; }\n",
       "    </style>\n",
       "<div class=\"wandb-row\"><div class=\"wandb-col\"><h3>Run history:</h3><br/><table class=\"wandb\"><tr><td>duration</td><td>▅▂▅▃▅▄▅▄▆▄▅▅▂▆▂▃▅▂██▂▃▄▄▁▂▂▄▇▃▆▂▆▃▂▂▇▇▃▄</td></tr><tr><td>te_c_acc</td><td>▁▅▇█▅▇▇▇████▇▆▇▇██▇█▇█▇▇▇▇▇▆▆▆▆▆▆▅▆▄▃▅▂▃</td></tr><tr><td>te_c_loss</td><td>▇▅▂▁▄▄▂▃▁▁▁▁▂▃▂▃▂▂▂▂▂▂▂▂▂▂▃▃▄▃▄▃▄▄▄▆▆▅█▆</td></tr><tr><td>te_c_oracle_loss</td><td>▁▁▂▃▄▄▄▄▄▄▄▅▅▅▅▅▅▅▅▅▅▅▅▅▅▅▆▆▆▆▅▅▆▆▆▇▇▇▇█</td></tr><tr><td>te_s_em_loss</td><td>▁▃▅▆▃▇▇▄▆█▇▇▅█▆▇▆▆▆▇▇██▆▆▅▅▃▄▃▃▃▃▃▂▃▂▂▃▁</td></tr><tr><td>te_s_oracle_loss</td><td>▁▁▂▃▄▄▄▄▄▄▄▅▅▅▅▅▅▅▅▅▅▅▅▅▅▅▆▆▆▆▅▅▆▆▆▇▇▇▇█</td></tr><tr><td>te_s_rec_loss</td><td>▁▁▃▅▆▇▆▇▇▇▇▇▇▇████▇▇███████▇▆▆▆▆▆▆▆▆▆▇▆▆</td></tr><tr><td>tr_c_acc</td><td>▁▇▇█▇██▇████▇██▇██▇▇████▇▇▇▆▆▆▆▆▆▆▆▅▅▅▄▄</td></tr><tr><td>tr_c_loss</td><td>█▄▄▂▃▂▂▄▁▁▁▁▃▂▂▂▂▂▂▂▂▂▂▂▃▂▃▄▄▄▄▄▄▅▅▅▆▆▇▇</td></tr><tr><td>tr_c_oracle_loss</td><td>▁▁▂▃▄▄▄▄▄▄▄▅▅▅▅▅▅▅▅▅▅▅▅▅▅▆▆▆▆▆▅▅▆▆▆▇▇▇▇█</td></tr><tr><td>tr_s_em_loss</td><td>▁▃▅▆▅▇▇▃▇███▆▇▆▆▇▇▇▇███▇▆▇▆▄▃▄▃▄▄▃▃▂▂▂▂▁</td></tr><tr><td>tr_s_oracle_loss</td><td>▁▁▂▃▄▄▄▄▄▄▄▅▅▅▅▅▅▅▅▅▅▅▅▅▅▆▆▆▆▆▅▅▆▆▆▇▇▇▇█</td></tr><tr><td>tr_s_rec_loss</td><td>▁▁▃▅▆▆▆▇▇▇▇▇▇▇████▇▇███████▇▆▆▆▆▆▆▆▆▆▆▆▆</td></tr></table><br/></div><div class=\"wandb-col\"><h3>Run summary:</h3><br/><table class=\"wandb\"><tr><td>duration</td><td>0.88577</td></tr><tr><td>te_c_acc</td><td>0.52373</td></tr><tr><td>te_c_loss</td><td>0.7122</td></tr><tr><td>te_c_oracle_loss</td><td>0.80624</td></tr><tr><td>te_s_em_loss</td><td>0.76255</td></tr><tr><td>te_s_oracle_loss</td><td>0.80624</td></tr><tr><td>te_s_rec_loss</td><td>0.33244</td></tr><tr><td>tr_c_acc</td><td>0.59442</td></tr><tr><td>tr_c_loss</td><td>0.66052</td></tr><tr><td>tr_c_oracle_loss</td><td>0.82319</td></tr><tr><td>tr_s_em_loss</td><td>0.7475</td></tr><tr><td>tr_s_oracle_loss</td><td>0.823</td></tr><tr><td>tr_s_rec_loss</td><td>0.33474</td></tr></table><br/></div></div>"
      ],
      "text/plain": [
       "<IPython.core.display.HTML object>"
      ]
     },
     "metadata": {},
     "output_type": "display_data"
    },
    {
     "data": {
      "text/html": [
       " View run <strong style=\"color:#cdcd00\">trim-sweep-18</strong> at: <a href='https://wandb.ai/jgammell/data_sanitization/runs/djpox9lo' target=\"_blank\">https://wandb.ai/jgammell/data_sanitization/runs/djpox9lo</a><br/>Synced 6 W&B file(s), 0 media file(s), 0 artifact file(s) and 0 other file(s)"
      ],
      "text/plain": [
       "<IPython.core.display.HTML object>"
      ]
     },
     "metadata": {},
     "output_type": "display_data"
    },
    {
     "data": {
      "text/html": [
       "Find logs at: <code>./wandb/run-20230219_004016-djpox9lo/logs</code>"
      ],
      "text/plain": [
       "<IPython.core.display.HTML object>"
      ]
     },
     "metadata": {},
     "output_type": "display_data"
    },
    {
     "name": "stderr",
     "output_type": "stream",
     "text": [
      "\u001b[34m\u001b[1mwandb\u001b[0m: Agent Starting Run: rg75ftzd with config:\n",
      "\u001b[34m\u001b[1mwandb\u001b[0m: \tatenc_bottleneck_width: 128\n",
      "\u001b[34m\u001b[1mwandb\u001b[0m: \tatenc_sn: False\n",
      "\u001b[34m\u001b[1mwandb\u001b[0m: \tbeta1_c: 0.8082663696363837\n",
      "\u001b[34m\u001b[1mwandb\u001b[0m: \tbeta1_s: 0.2934443458053179\n",
      "\u001b[34m\u001b[1mwandb\u001b[0m: \tbeta2_c: 0.999\n",
      "\u001b[34m\u001b[1mwandb\u001b[0m: \tbeta2_s: 0.999\n",
      "\u001b[34m\u001b[1mwandb\u001b[0m: \tc_pretrain_epochs: 19\n",
      "\u001b[34m\u001b[1mwandb\u001b[0m: \tclass_sn: True\n",
      "\u001b[34m\u001b[1mwandb\u001b[0m: \tlr_c: 0.003153754180368867\n",
      "\u001b[34m\u001b[1mwandb\u001b[0m: \tlr_s: 0.0014956338582108426\n",
      "\u001b[34m\u001b[1mwandb\u001b[0m: \ts_lbd: 2.473817266130025\n",
      "\u001b[34m\u001b[1mwandb\u001b[0m: \ts_pretrain_epochs: 12\n",
      "\u001b[34m\u001b[1mwandb\u001b[0m: \tsan_sn: False\n",
      "\u001b[34m\u001b[1mwandb\u001b[0m: \ttrain_epochs: 250\n"
     ]
    },
    {
     "data": {
      "text/html": [
       "Tracking run with wandb version 0.13.10"
      ],
      "text/plain": [
       "<IPython.core.display.HTML object>"
      ]
     },
     "metadata": {},
     "output_type": "display_data"
    },
    {
     "data": {
      "text/html": [
       "Run data is saved locally in <code>/local/scratch/a/jgammell/sca_defense/wandb/run-20230219_010637-rg75ftzd</code>"
      ],
      "text/plain": [
       "<IPython.core.display.HTML object>"
      ]
     },
     "metadata": {},
     "output_type": "display_data"
    },
    {
     "data": {
      "text/html": [
       "Syncing run <strong><a href='https://wandb.ai/jgammell/data_sanitization/runs/rg75ftzd' target=\"_blank\">classic-sweep-19</a></strong> to <a href='https://wandb.ai/jgammell/data_sanitization' target=\"_blank\">Weights & Biases</a> (<a href='https://wandb.me/run' target=\"_blank\">docs</a>)<br/>Sweep page: <a href='https://wandb.ai/jgammell/data_sanitization/sweeps/d1qsxwr1' target=\"_blank\">https://wandb.ai/jgammell/data_sanitization/sweeps/d1qsxwr1</a>"
      ],
      "text/plain": [
       "<IPython.core.display.HTML object>"
      ]
     },
     "metadata": {},
     "output_type": "display_data"
    },
    {
     "data": {
      "text/html": [
       " View project at <a href='https://wandb.ai/jgammell/data_sanitization' target=\"_blank\">https://wandb.ai/jgammell/data_sanitization</a>"
      ],
      "text/plain": [
       "<IPython.core.display.HTML object>"
      ]
     },
     "metadata": {},
     "output_type": "display_data"
    },
    {
     "data": {
      "text/html": [
       " View sweep at <a href='https://wandb.ai/jgammell/data_sanitization/sweeps/d1qsxwr1' target=\"_blank\">https://wandb.ai/jgammell/data_sanitization/sweeps/d1qsxwr1</a>"
      ],
      "text/plain": [
       "<IPython.core.display.HTML object>"
      ]
     },
     "metadata": {},
     "output_type": "display_data"
    },
    {
     "data": {
      "text/html": [
       " View run at <a href='https://wandb.ai/jgammell/data_sanitization/runs/rg75ftzd' target=\"_blank\">https://wandb.ai/jgammell/data_sanitization/runs/rg75ftzd</a>"
      ],
      "text/plain": [
       "<IPython.core.display.HTML object>"
      ]
     },
     "metadata": {},
     "output_type": "display_data"
    },
    {
     "data": {
      "text/html": [
       "Waiting for W&B process to finish... <strong style=\"color:green\">(success).</strong>"
      ],
      "text/plain": [
       "<IPython.core.display.HTML object>"
      ]
     },
     "metadata": {},
     "output_type": "display_data"
    },
    {
     "data": {
      "text/html": [
       "<style>\n",
       "    table.wandb td:nth-child(1) { padding: 0 10px; text-align: left ; width: auto;} td:nth-child(2) {text-align: left ; width: 100%}\n",
       "    .wandb-row { display: flex; flex-direction: row; flex-wrap: wrap; justify-content: flex-start; width: 100% }\n",
       "    .wandb-col { display: flex; flex-direction: column; flex-basis: 100%; flex: 1; padding: 10px; }\n",
       "    </style>\n",
       "<div class=\"wandb-row\"><div class=\"wandb-col\"><h3>Run history:</h3><br/><table class=\"wandb\"><tr><td>duration</td><td>▃▂▃▄▂▂▃▂▃▄▄▃▃▂▄▄▄▅▄▃▄▃▃▂▄▃▂▃▃▂▆▂█▄▃▄▁▄▂▄</td></tr><tr><td>te_c_acc</td><td>▁▁███▂▃▃▄▄▄▄▄▄▄▃▃▃▃▃▃▃▃▃▃▃▃▃▃▃▃▃▃▃▃▃▃▃▃▃</td></tr><tr><td>te_c_loss</td><td>██▁▁▁█▇▇▇▇▇▇▇▇▇▇▇▇▇▇▇▇▇▇▇▇▇█▇███████████</td></tr><tr><td>te_c_oracle_loss</td><td>▁▁▁▁▁███████████████████▇▇▇▇▇▇▇▇▇▇▇▇▇▇▇▇</td></tr><tr><td>te_s_em_loss</td><td>▁▁▄▇█▁▁▁▁▁▁▁▁▁▁▁▁▁▁▁▁▁▁▁▁▁▁▁▁▁▁▁▁▁▁▁▁▁▁▁</td></tr><tr><td>te_s_oracle_loss</td><td>▁▁▁▁▁███████████████████▇▇▇▇▇▇▇▇▇▇▇▇▇▇▇▇</td></tr><tr><td>te_s_rec_loss</td><td>▁▁▁▁▁████████████████▇███▇▇▇▇▇▇▇▇▇▇▇▇▇▇▇</td></tr><tr><td>tr_c_acc</td><td>▁▁███▂▃▄▄▄▄▄▄▄▄▄▄▃▃▃▃▃▃▃▃▃▃▃▃▃▃▃▃▃▃▃▃▃▃▃</td></tr><tr><td>tr_c_loss</td><td>██▂▁▁█▇▇▆▆▆▆▆▆▆▆▆▇▆▆▆▆▆▆▆▆▆▆▆▆▆▆▆▆▆▆▆▆▆▆</td></tr><tr><td>tr_c_oracle_loss</td><td>▁▁▁▁▁████████████████████▇▇▇▇▇▇▇▇▇▇▇▇▇▇▇</td></tr><tr><td>tr_s_em_loss</td><td>▁▁▄▇█▁▁▁▁▁▁▁▁▁▁▁▁▁▁▁▁▁▁▁▁▁▁▁▁▁▁▁▁▁▁▁▁▁▁▁</td></tr><tr><td>tr_s_oracle_loss</td><td>▁▁▁▁▁████████████████████▇▇▇▇▇▇▇▇▇▇▇▇▇▇▇</td></tr><tr><td>tr_s_rec_loss</td><td>▁▁▁▁▁▇█████████████▇█████▇▇▇▇▇▇▇▇▇▇▇▇▇▇▇</td></tr></table><br/></div><div class=\"wandb-col\"><h3>Run summary:</h3><br/><table class=\"wandb\"><tr><td>duration</td><td>0.85883</td></tr><tr><td>te_c_acc</td><td>0.62217</td></tr><tr><td>te_c_loss</td><td>0.67937</td></tr><tr><td>te_c_oracle_loss</td><td>0.97535</td></tr><tr><td>te_s_em_loss</td><td>0.90632</td></tr><tr><td>te_s_oracle_loss</td><td>0.97535</td></tr><tr><td>te_s_rec_loss</td><td>0.04499</td></tr><tr><td>tr_c_acc</td><td>0.60286</td></tr><tr><td>tr_c_loss</td><td>0.50491</td></tr><tr><td>tr_c_oracle_loss</td><td>0.97589</td></tr><tr><td>tr_s_em_loss</td><td>0.79559</td></tr><tr><td>tr_s_oracle_loss</td><td>0.97596</td></tr><tr><td>tr_s_rec_loss</td><td>0.04498</td></tr></table><br/></div></div>"
      ],
      "text/plain": [
       "<IPython.core.display.HTML object>"
      ]
     },
     "metadata": {},
     "output_type": "display_data"
    },
    {
     "data": {
      "text/html": [
       " View run <strong style=\"color:#cdcd00\">classic-sweep-19</strong> at: <a href='https://wandb.ai/jgammell/data_sanitization/runs/rg75ftzd' target=\"_blank\">https://wandb.ai/jgammell/data_sanitization/runs/rg75ftzd</a><br/>Synced 5 W&B file(s), 0 media file(s), 0 artifact file(s) and 0 other file(s)"
      ],
      "text/plain": [
       "<IPython.core.display.HTML object>"
      ]
     },
     "metadata": {},
     "output_type": "display_data"
    },
    {
     "data": {
      "text/html": [
       "Find logs at: <code>./wandb/run-20230219_010637-rg75ftzd/logs</code>"
      ],
      "text/plain": [
       "<IPython.core.display.HTML object>"
      ]
     },
     "metadata": {},
     "output_type": "display_data"
    },
    {
     "name": "stderr",
     "output_type": "stream",
     "text": [
      "\u001b[34m\u001b[1mwandb\u001b[0m: Agent Starting Run: 9h7i3vtk with config:\n",
      "\u001b[34m\u001b[1mwandb\u001b[0m: \tatenc_bottleneck_width: 64\n",
      "\u001b[34m\u001b[1mwandb\u001b[0m: \tatenc_sn: True\n",
      "\u001b[34m\u001b[1mwandb\u001b[0m: \tbeta1_c: 0.23227390211334212\n",
      "\u001b[34m\u001b[1mwandb\u001b[0m: \tbeta1_s: 0.598729556601191\n",
      "\u001b[34m\u001b[1mwandb\u001b[0m: \tbeta2_c: 0.999\n",
      "\u001b[34m\u001b[1mwandb\u001b[0m: \tbeta2_s: 0.999\n",
      "\u001b[34m\u001b[1mwandb\u001b[0m: \tc_pretrain_epochs: 16\n",
      "\u001b[34m\u001b[1mwandb\u001b[0m: \tclass_sn: False\n",
      "\u001b[34m\u001b[1mwandb\u001b[0m: \tlr_c: 0.0040306324424453106\n",
      "\u001b[34m\u001b[1mwandb\u001b[0m: \tlr_s: 0.0011940027789603177\n",
      "\u001b[34m\u001b[1mwandb\u001b[0m: \ts_lbd: 4.705024225555603\n",
      "\u001b[34m\u001b[1mwandb\u001b[0m: \ts_pretrain_epochs: 13\n",
      "\u001b[34m\u001b[1mwandb\u001b[0m: \tsan_sn: False\n",
      "\u001b[34m\u001b[1mwandb\u001b[0m: \ttrain_epochs: 250\n"
     ]
    },
    {
     "data": {
      "text/html": [
       "Tracking run with wandb version 0.13.10"
      ],
      "text/plain": [
       "<IPython.core.display.HTML object>"
      ]
     },
     "metadata": {},
     "output_type": "display_data"
    },
    {
     "data": {
      "text/html": [
       "Run data is saved locally in <code>/local/scratch/a/jgammell/sca_defense/wandb/run-20230219_013056-9h7i3vtk</code>"
      ],
      "text/plain": [
       "<IPython.core.display.HTML object>"
      ]
     },
     "metadata": {},
     "output_type": "display_data"
    },
    {
     "data": {
      "text/html": [
       "Syncing run <strong><a href='https://wandb.ai/jgammell/data_sanitization/runs/9h7i3vtk' target=\"_blank\">lively-sweep-20</a></strong> to <a href='https://wandb.ai/jgammell/data_sanitization' target=\"_blank\">Weights & Biases</a> (<a href='https://wandb.me/run' target=\"_blank\">docs</a>)<br/>Sweep page: <a href='https://wandb.ai/jgammell/data_sanitization/sweeps/d1qsxwr1' target=\"_blank\">https://wandb.ai/jgammell/data_sanitization/sweeps/d1qsxwr1</a>"
      ],
      "text/plain": [
       "<IPython.core.display.HTML object>"
      ]
     },
     "metadata": {},
     "output_type": "display_data"
    },
    {
     "data": {
      "text/html": [
       " View project at <a href='https://wandb.ai/jgammell/data_sanitization' target=\"_blank\">https://wandb.ai/jgammell/data_sanitization</a>"
      ],
      "text/plain": [
       "<IPython.core.display.HTML object>"
      ]
     },
     "metadata": {},
     "output_type": "display_data"
    },
    {
     "data": {
      "text/html": [
       " View sweep at <a href='https://wandb.ai/jgammell/data_sanitization/sweeps/d1qsxwr1' target=\"_blank\">https://wandb.ai/jgammell/data_sanitization/sweeps/d1qsxwr1</a>"
      ],
      "text/plain": [
       "<IPython.core.display.HTML object>"
      ]
     },
     "metadata": {},
     "output_type": "display_data"
    },
    {
     "data": {
      "text/html": [
       " View run at <a href='https://wandb.ai/jgammell/data_sanitization/runs/9h7i3vtk' target=\"_blank\">https://wandb.ai/jgammell/data_sanitization/runs/9h7i3vtk</a>"
      ],
      "text/plain": [
       "<IPython.core.display.HTML object>"
      ]
     },
     "metadata": {},
     "output_type": "display_data"
    },
    {
     "data": {
      "text/html": [
       "Waiting for W&B process to finish... <strong style=\"color:green\">(success).</strong>"
      ],
      "text/plain": [
       "<IPython.core.display.HTML object>"
      ]
     },
     "metadata": {},
     "output_type": "display_data"
    },
    {
     "data": {
      "text/html": [
       "<style>\n",
       "    table.wandb td:nth-child(1) { padding: 0 10px; text-align: left ; width: auto;} td:nth-child(2) {text-align: left ; width: 100%}\n",
       "    .wandb-row { display: flex; flex-direction: row; flex-wrap: wrap; justify-content: flex-start; width: 100% }\n",
       "    .wandb-col { display: flex; flex-direction: column; flex-basis: 100%; flex: 1; padding: 10px; }\n",
       "    </style>\n",
       "<div class=\"wandb-row\"><div class=\"wandb-col\"><h3>Run history:</h3><br/><table class=\"wandb\"><tr><td>duration</td><td>▂▂▄▆▄▆▆▂▄▄▃▅▂▃▄▂▅▃▅▂▄▃▅▃▂▄▃▄▃█▇▁▅▄▆▅▅▆▆▂</td></tr><tr><td>te_c_acc</td><td>▁▁▇█▂▃▃▃▃▄▄▃▃▃▃▃▄▃▃▃▄▃▃▃▄▃▃▃▄▄▃▃▄▃▃▃▃▃▃▄</td></tr><tr><td>te_c_loss</td><td>██▂▁█▇▇▇▇▇▇▇▇▇▇▇▇▇▇▇▇▇▇▇▇▇▇▇▇▇██▇▇██▇▇█▇</td></tr><tr><td>te_c_oracle_loss</td><td>▁▁▁▁▆▆▇▇▇▇▇▇▇▇▇▇▇▇▇█████████████████████</td></tr><tr><td>te_s_em_loss</td><td>▁▁▂█▁▁▁▁▁▁▁▁▁▁▁▁▁▁▁▁▁▁▁▁▁▁▁▁▁▁▁▁▁▁▁▁▁▁▁▁</td></tr><tr><td>te_s_oracle_loss</td><td>▁▁▁▁▆▆▇▇▇▇▇▇▇▇▇▇▇▇▇█████████████████████</td></tr><tr><td>te_s_rec_loss</td><td>▁▁▁▁▅▆▇▇▆▆▇▇▇▇▆▇▇▇▇▇▇▇▇▇▇▇▇███▇█████████</td></tr><tr><td>tr_c_acc</td><td>▁▁▇█▃▃▃▃▄▄▄▄▄▄▄▄▄▄▄▄▄▄▄▄▄▄▄▄▄▄▄▄▄▄▄▄▄▄▄▄</td></tr><tr><td>tr_c_loss</td><td>██▃▁█▇▇▇▆▆▆▆▆▆▆▆▆▆▆▆▆▆▆▆▆▆▆▆▆▆▆▆▆▆▆▆▆▆▆▆</td></tr><tr><td>tr_c_oracle_loss</td><td>▁▁▁▁▆▆▇▇▇▇▇▇▇▇▇▇▇▇▇█████████████████████</td></tr><tr><td>tr_s_em_loss</td><td>▁▁▂█▁▁▁▁▁▁▁▁▁▁▁▁▁▁▁▁▁▁▁▁▁▁▁▁▁▁▁▁▁▁▁▁▁▁▁▁</td></tr><tr><td>tr_s_oracle_loss</td><td>▁▁▁▁▆▆▇▇▇▇▇▇▇▇▇▇▇▇▇█████████████████████</td></tr><tr><td>tr_s_rec_loss</td><td>▁▁▁▁▄▆▇▇▆▆▇▇▇▇▆▇▇▇▇▇▇▇▇▇▇▇▇█████████████</td></tr></table><br/></div><div class=\"wandb-col\"><h3>Run summary:</h3><br/><table class=\"wandb\"><tr><td>duration</td><td>0.85588</td></tr><tr><td>te_c_acc</td><td>0.67734</td></tr><tr><td>te_c_loss</td><td>0.6124</td></tr><tr><td>te_c_oracle_loss</td><td>0.82693</td></tr><tr><td>te_s_em_loss</td><td>1.33068</td></tr><tr><td>te_s_oracle_loss</td><td>0.82693</td></tr><tr><td>te_s_rec_loss</td><td>0.07972</td></tr><tr><td>tr_c_acc</td><td>0.68098</td></tr><tr><td>tr_c_loss</td><td>0.47936</td></tr><tr><td>tr_c_oracle_loss</td><td>0.82552</td></tr><tr><td>tr_s_em_loss</td><td>1.36411</td></tr><tr><td>tr_s_oracle_loss</td><td>0.82551</td></tr><tr><td>tr_s_rec_loss</td><td>0.07973</td></tr></table><br/></div></div>"
      ],
      "text/plain": [
       "<IPython.core.display.HTML object>"
      ]
     },
     "metadata": {},
     "output_type": "display_data"
    },
    {
     "data": {
      "text/html": [
       " View run <strong style=\"color:#cdcd00\">lively-sweep-20</strong> at: <a href='https://wandb.ai/jgammell/data_sanitization/runs/9h7i3vtk' target=\"_blank\">https://wandb.ai/jgammell/data_sanitization/runs/9h7i3vtk</a><br/>Synced 5 W&B file(s), 0 media file(s), 0 artifact file(s) and 0 other file(s)"
      ],
      "text/plain": [
       "<IPython.core.display.HTML object>"
      ]
     },
     "metadata": {},
     "output_type": "display_data"
    },
    {
     "data": {
      "text/html": [
       "Find logs at: <code>./wandb/run-20230219_013056-9h7i3vtk/logs</code>"
      ],
      "text/plain": [
       "<IPython.core.display.HTML object>"
      ]
     },
     "metadata": {},
     "output_type": "display_data"
    },
    {
     "name": "stderr",
     "output_type": "stream",
     "text": [
      "\u001b[34m\u001b[1mwandb\u001b[0m: Agent Starting Run: braktrwl with config:\n",
      "\u001b[34m\u001b[1mwandb\u001b[0m: \tatenc_bottleneck_width: 64\n",
      "\u001b[34m\u001b[1mwandb\u001b[0m: \tatenc_sn: False\n",
      "\u001b[34m\u001b[1mwandb\u001b[0m: \tbeta1_c: 0.2407751542496687\n",
      "\u001b[34m\u001b[1mwandb\u001b[0m: \tbeta1_s: 0.1061886916166055\n",
      "\u001b[34m\u001b[1mwandb\u001b[0m: \tbeta2_c: 0.999\n",
      "\u001b[34m\u001b[1mwandb\u001b[0m: \tbeta2_s: 0.999\n",
      "\u001b[34m\u001b[1mwandb\u001b[0m: \tc_pretrain_epochs: 2\n",
      "\u001b[34m\u001b[1mwandb\u001b[0m: \tclass_sn: True\n",
      "\u001b[34m\u001b[1mwandb\u001b[0m: \tlr_c: 0.00011368784465625389\n",
      "\u001b[34m\u001b[1mwandb\u001b[0m: \tlr_s: 0.0026103209282365993\n",
      "\u001b[34m\u001b[1mwandb\u001b[0m: \ts_lbd: 3.1403430403282035\n",
      "\u001b[34m\u001b[1mwandb\u001b[0m: \ts_pretrain_epochs: 13\n",
      "\u001b[34m\u001b[1mwandb\u001b[0m: \tsan_sn: False\n",
      "\u001b[34m\u001b[1mwandb\u001b[0m: \ttrain_epochs: 250\n"
     ]
    },
    {
     "data": {
      "text/html": [
       "Tracking run with wandb version 0.13.10"
      ],
      "text/plain": [
       "<IPython.core.display.HTML object>"
      ]
     },
     "metadata": {},
     "output_type": "display_data"
    },
    {
     "data": {
      "text/html": [
       "Run data is saved locally in <code>/local/scratch/a/jgammell/sca_defense/wandb/run-20230219_015437-braktrwl</code>"
      ],
      "text/plain": [
       "<IPython.core.display.HTML object>"
      ]
     },
     "metadata": {},
     "output_type": "display_data"
    },
    {
     "data": {
      "text/html": [
       "Syncing run <strong><a href='https://wandb.ai/jgammell/data_sanitization/runs/braktrwl' target=\"_blank\">sleek-sweep-21</a></strong> to <a href='https://wandb.ai/jgammell/data_sanitization' target=\"_blank\">Weights & Biases</a> (<a href='https://wandb.me/run' target=\"_blank\">docs</a>)<br/>Sweep page: <a href='https://wandb.ai/jgammell/data_sanitization/sweeps/d1qsxwr1' target=\"_blank\">https://wandb.ai/jgammell/data_sanitization/sweeps/d1qsxwr1</a>"
      ],
      "text/plain": [
       "<IPython.core.display.HTML object>"
      ]
     },
     "metadata": {},
     "output_type": "display_data"
    },
    {
     "data": {
      "text/html": [
       " View project at <a href='https://wandb.ai/jgammell/data_sanitization' target=\"_blank\">https://wandb.ai/jgammell/data_sanitization</a>"
      ],
      "text/plain": [
       "<IPython.core.display.HTML object>"
      ]
     },
     "metadata": {},
     "output_type": "display_data"
    },
    {
     "data": {
      "text/html": [
       " View sweep at <a href='https://wandb.ai/jgammell/data_sanitization/sweeps/d1qsxwr1' target=\"_blank\">https://wandb.ai/jgammell/data_sanitization/sweeps/d1qsxwr1</a>"
      ],
      "text/plain": [
       "<IPython.core.display.HTML object>"
      ]
     },
     "metadata": {},
     "output_type": "display_data"
    },
    {
     "data": {
      "text/html": [
       " View run at <a href='https://wandb.ai/jgammell/data_sanitization/runs/braktrwl' target=\"_blank\">https://wandb.ai/jgammell/data_sanitization/runs/braktrwl</a>"
      ],
      "text/plain": [
       "<IPython.core.display.HTML object>"
      ]
     },
     "metadata": {},
     "output_type": "display_data"
    },
    {
     "name": "stdout",
     "output_type": "stream",
     "text": [
      "No existing autoencoder found. Training a new one.\n",
      "{'init_loss': 0.99758065, 'final_loss': 0.07482321}\n"
     ]
    },
    {
     "name": "stderr",
     "output_type": "stream",
     "text": [
      "/local/scratch/a/jgammell/sca_defense/data_sanitization_htune.py:176: RuntimeWarning: More than 20 figures have been opened. Figures created through the pyplot interface (`matplotlib.pyplot.figure`) are retained until explicitly closed and may consume too much memory. (To control this warning, see the rcParam `figure.max_open_warning`).\n",
      "  (fig, axes) = plt.subplots(n_samples_to_visualize//images_per_row, images_per_row,\n"
     ]
    },
    {
     "data": {
      "text/html": [
       "Waiting for W&B process to finish... <strong style=\"color:green\">(success).</strong>"
      ],
      "text/plain": [
       "<IPython.core.display.HTML object>"
      ]
     },
     "metadata": {},
     "output_type": "display_data"
    },
    {
     "data": {
      "text/html": [
       "<style>\n",
       "    table.wandb td:nth-child(1) { padding: 0 10px; text-align: left ; width: auto;} td:nth-child(2) {text-align: left ; width: 100%}\n",
       "    .wandb-row { display: flex; flex-direction: row; flex-wrap: wrap; justify-content: flex-start; width: 100% }\n",
       "    .wandb-col { display: flex; flex-direction: column; flex-basis: 100%; flex: 1; padding: 10px; }\n",
       "    </style>\n",
       "<div class=\"wandb-row\"><div class=\"wandb-col\"><h3>Run history:</h3><br/><table class=\"wandb\"><tr><td>duration</td><td>▁▂▆▂▇▄▂▅▃▄▅▃▇▅▂▃▅▂▃▃▃█▄▃▆▃▄▄▆▃▄▃▄▆▃▃▃▃▃▃</td></tr><tr><td>te_c_acc</td><td>▁▁▇▆▆▆▆▇▇▇▆▇▇▇▆▆▆▇█▇▆▇██████▆██▇▇█▇███▇▅</td></tr><tr><td>te_c_loss</td><td>██▂▄▄▃▃▂▂▂▆▄▂▂▅▃▃▂▁▃▇▂▁▁▃▁▁▁▂▁▁▁▄▁▂▁▂▃▂▄</td></tr><tr><td>te_c_oracle_loss</td><td>▁▁▁█████████████████████████████████████</td></tr><tr><td>te_s_em_loss</td><td>▁▁▃▂▃▃▃▃▄▄▄▄▄▄▆▅▅▅▅▆▇▆▅▅▆▅▅▅▆▅▆▆▇▆▆▆▆▇▇█</td></tr><tr><td>te_s_oracle_loss</td><td>▁▁▁█████████████████████████████████████</td></tr><tr><td>te_s_rec_loss</td><td>▁▁▁█████████████████████████████████████</td></tr><tr><td>tr_c_acc</td><td>▁▁▇▆▆▇▇▇▇▇▇▇▇███████████████████████████</td></tr><tr><td>tr_c_loss</td><td>██▆▆▅▅▅▄▄▄▅▄▄▄▄▃▃▃▃▃▃▃▃▂▂▂▂▂▂▂▂▂▂▁▁▁▁▁▁▁</td></tr><tr><td>tr_c_oracle_loss</td><td>▁▁▁█████████████████████████████████████</td></tr><tr><td>tr_s_em_loss</td><td>▁▁▂▂▃▃▄▄▄▅▄▄▅▅▅▅▅▆▆▆▆▆▆▆▇▇▇▇▇▇▇▇▇▇▇█████</td></tr><tr><td>tr_s_oracle_loss</td><td>▁▁▁█████████████████████████████████████</td></tr><tr><td>tr_s_rec_loss</td><td>▁▁▁█████████████████████████████████████</td></tr></table><br/></div><div class=\"wandb-col\"><h3>Run summary:</h3><br/><table class=\"wandb\"><tr><td>duration</td><td>0.85106</td></tr><tr><td>te_c_acc</td><td>0.63906</td></tr><tr><td>te_c_loss</td><td>0.62047</td></tr><tr><td>te_c_oracle_loss</td><td>0.65932</td></tr><tr><td>te_s_em_loss</td><td>0.91148</td></tr><tr><td>te_s_oracle_loss</td><td>0.65932</td></tr><tr><td>te_s_rec_loss</td><td>0.079</td></tr><tr><td>tr_c_acc</td><td>0.67227</td></tr><tr><td>tr_c_loss</td><td>0.4633</td></tr><tr><td>tr_c_oracle_loss</td><td>0.65939</td></tr><tr><td>tr_s_em_loss</td><td>0.87988</td></tr><tr><td>tr_s_oracle_loss</td><td>0.65962</td></tr><tr><td>tr_s_rec_loss</td><td>0.07904</td></tr></table><br/></div></div>"
      ],
      "text/plain": [
       "<IPython.core.display.HTML object>"
      ]
     },
     "metadata": {},
     "output_type": "display_data"
    },
    {
     "data": {
      "text/html": [
       " View run <strong style=\"color:#cdcd00\">sleek-sweep-21</strong> at: <a href='https://wandb.ai/jgammell/data_sanitization/runs/braktrwl' target=\"_blank\">https://wandb.ai/jgammell/data_sanitization/runs/braktrwl</a><br/>Synced 6 W&B file(s), 0 media file(s), 0 artifact file(s) and 0 other file(s)"
      ],
      "text/plain": [
       "<IPython.core.display.HTML object>"
      ]
     },
     "metadata": {},
     "output_type": "display_data"
    },
    {
     "data": {
      "text/html": [
       "Find logs at: <code>./wandb/run-20230219_015437-braktrwl/logs</code>"
      ],
      "text/plain": [
       "<IPython.core.display.HTML object>"
      ]
     },
     "metadata": {},
     "output_type": "display_data"
    },
    {
     "name": "stderr",
     "output_type": "stream",
     "text": [
      "\u001b[34m\u001b[1mwandb\u001b[0m: Agent Starting Run: hkgblwpw with config:\n",
      "\u001b[34m\u001b[1mwandb\u001b[0m: \tatenc_bottleneck_width: 2\n",
      "\u001b[34m\u001b[1mwandb\u001b[0m: \tatenc_sn: False\n",
      "\u001b[34m\u001b[1mwandb\u001b[0m: \tbeta1_c: 0.6742604473769452\n",
      "\u001b[34m\u001b[1mwandb\u001b[0m: \tbeta1_s: 0.6442211160352656\n",
      "\u001b[34m\u001b[1mwandb\u001b[0m: \tbeta2_c: 0.999\n",
      "\u001b[34m\u001b[1mwandb\u001b[0m: \tbeta2_s: 0.999\n",
      "\u001b[34m\u001b[1mwandb\u001b[0m: \tc_pretrain_epochs: 5\n",
      "\u001b[34m\u001b[1mwandb\u001b[0m: \tclass_sn: False\n",
      "\u001b[34m\u001b[1mwandb\u001b[0m: \tlr_c: 0.00021879790138665072\n",
      "\u001b[34m\u001b[1mwandb\u001b[0m: \tlr_s: 0.0011261751444417555\n",
      "\u001b[34m\u001b[1mwandb\u001b[0m: \ts_lbd: 0.02596910197716524\n",
      "\u001b[34m\u001b[1mwandb\u001b[0m: \ts_pretrain_epochs: 18\n",
      "\u001b[34m\u001b[1mwandb\u001b[0m: \tsan_sn: False\n",
      "\u001b[34m\u001b[1mwandb\u001b[0m: \ttrain_epochs: 250\n"
     ]
    },
    {
     "data": {
      "text/html": [
       "Tracking run with wandb version 0.13.10"
      ],
      "text/plain": [
       "<IPython.core.display.HTML object>"
      ]
     },
     "metadata": {},
     "output_type": "display_data"
    },
    {
     "data": {
      "text/html": [
       "Run data is saved locally in <code>/local/scratch/a/jgammell/sca_defense/wandb/run-20230219_021926-hkgblwpw</code>"
      ],
      "text/plain": [
       "<IPython.core.display.HTML object>"
      ]
     },
     "metadata": {},
     "output_type": "display_data"
    },
    {
     "data": {
      "text/html": [
       "Syncing run <strong><a href='https://wandb.ai/jgammell/data_sanitization/runs/hkgblwpw' target=\"_blank\">ethereal-sweep-22</a></strong> to <a href='https://wandb.ai/jgammell/data_sanitization' target=\"_blank\">Weights & Biases</a> (<a href='https://wandb.me/run' target=\"_blank\">docs</a>)<br/>Sweep page: <a href='https://wandb.ai/jgammell/data_sanitization/sweeps/d1qsxwr1' target=\"_blank\">https://wandb.ai/jgammell/data_sanitization/sweeps/d1qsxwr1</a>"
      ],
      "text/plain": [
       "<IPython.core.display.HTML object>"
      ]
     },
     "metadata": {},
     "output_type": "display_data"
    },
    {
     "data": {
      "text/html": [
       " View project at <a href='https://wandb.ai/jgammell/data_sanitization' target=\"_blank\">https://wandb.ai/jgammell/data_sanitization</a>"
      ],
      "text/plain": [
       "<IPython.core.display.HTML object>"
      ]
     },
     "metadata": {},
     "output_type": "display_data"
    },
    {
     "data": {
      "text/html": [
       " View sweep at <a href='https://wandb.ai/jgammell/data_sanitization/sweeps/d1qsxwr1' target=\"_blank\">https://wandb.ai/jgammell/data_sanitization/sweeps/d1qsxwr1</a>"
      ],
      "text/plain": [
       "<IPython.core.display.HTML object>"
      ]
     },
     "metadata": {},
     "output_type": "display_data"
    },
    {
     "data": {
      "text/html": [
       " View run at <a href='https://wandb.ai/jgammell/data_sanitization/runs/hkgblwpw' target=\"_blank\">https://wandb.ai/jgammell/data_sanitization/runs/hkgblwpw</a>"
      ],
      "text/plain": [
       "<IPython.core.display.HTML object>"
      ]
     },
     "metadata": {},
     "output_type": "display_data"
    },
    {
     "data": {
      "text/html": [
       "Waiting for W&B process to finish... <strong style=\"color:green\">(success).</strong>"
      ],
      "text/plain": [
       "<IPython.core.display.HTML object>"
      ]
     },
     "metadata": {},
     "output_type": "display_data"
    },
    {
     "data": {
      "text/html": [
       "<style>\n",
       "    table.wandb td:nth-child(1) { padding: 0 10px; text-align: left ; width: auto;} td:nth-child(2) {text-align: left ; width: 100%}\n",
       "    .wandb-row { display: flex; flex-direction: row; flex-wrap: wrap; justify-content: flex-start; width: 100% }\n",
       "    .wandb-col { display: flex; flex-direction: column; flex-basis: 100%; flex: 1; padding: 10px; }\n",
       "    </style>\n",
       "<div class=\"wandb-row\"><div class=\"wandb-col\"><h3>Run history:</h3><br/><table class=\"wandb\"><tr><td>duration</td><td>▁▃▃▃▄▄▂▃▃▂▅▄▂▂▄▂▄▂▄▂▅▃▄▂▂▃▂▃▂▃▂▂▂▂▃▂█▁▂▂</td></tr><tr><td>te_c_acc</td><td>▁▁▁█▂▃▃▃▃▃▄▄▄▄▄▃▄▄▄▄▄▄▄▄▄▄▄▄▄▄▄▃▄▄▄▃▄▄▄▄</td></tr><tr><td>te_c_loss</td><td>▄▄▄▁▄▄▄▄▄▄▄▄▄▄▄▄▄▄▄▄▄▄▅▅▅▅▅▆▆▆▆▇▇▇▇█▇▇▇█</td></tr><tr><td>te_c_oracle_loss</td><td>▁▁▁▁▇▇▇▇█▇▇▇████████████████████████████</td></tr><tr><td>te_s_em_loss</td><td>▁▁▁▃▁▁▁▁▁▁▂▁▂▂▂▃▃▃▃▃▄▄▅▅▄▅▅▆▅▅▅▇▇▇▇█▇▇▇▇</td></tr><tr><td>te_s_oracle_loss</td><td>▁▁▁▁▇▇▇▇█▇▇▇████████████████████████████</td></tr><tr><td>te_s_rec_loss</td><td>▁▁▁▁▅▅█▆▅▅▅▅▆▇▇▇▇▆▇█▇██▇▇▇██▇█▇▇▇▇▆▆▆▆▆▇</td></tr><tr><td>tr_c_acc</td><td>▁▁▁█▃▃▃▃▃▄▄▄▄▄▄▄▄▄▄▄▄▄▄▄▄▄▄▄▄▄▄▄▄▄▄▄▄▄▄▄</td></tr><tr><td>tr_c_loss</td><td>███▂▇▇▇▇▇▆▆▆▆▆▅▅▅▅▄▄▄▃▃▃▃▃▂▂▂▂▂▂▂▁▁▁▁▁▁▁</td></tr><tr><td>tr_c_oracle_loss</td><td>▁▁▁▁▇▇▇▇▇▇▇▇▇███████████████████████████</td></tr><tr><td>tr_s_em_loss</td><td>▁▁▁▃▁▁▁▁▁▁▂▂▂▂▃▃▃▄▄▄▅▅▅▅▅▆▆▆▆▆▇▇▇▇▇█████</td></tr><tr><td>tr_s_oracle_loss</td><td>▁▁▁▁▇▇▇▇▇▇▇▇▇███████████████████████████</td></tr><tr><td>tr_s_rec_loss</td><td>▁▁▁▁▅▅█▆▆▅▅▅▅▇▇▇▇▆▇█▇██▇▇▇█████▇▇▇▆▇▆▆▆▆</td></tr></table><br/></div><div class=\"wandb-col\"><h3>Run summary:</h3><br/><table class=\"wandb\"><tr><td>duration</td><td>0.88357</td></tr><tr><td>te_c_acc</td><td>0.62158</td></tr><tr><td>te_c_loss</td><td>1.06448</td></tr><tr><td>te_c_oracle_loss</td><td>0.76258</td></tr><tr><td>te_s_em_loss</td><td>2.71886</td></tr><tr><td>te_s_oracle_loss</td><td>0.76258</td></tr><tr><td>te_s_rec_loss</td><td>0.51194</td></tr><tr><td>tr_c_acc</td><td>0.62296</td></tr><tr><td>tr_c_loss</td><td>0.303</td></tr><tr><td>tr_c_oracle_loss</td><td>0.76151</td></tr><tr><td>tr_s_em_loss</td><td>2.58306</td></tr><tr><td>tr_s_oracle_loss</td><td>0.76181</td></tr><tr><td>tr_s_rec_loss</td><td>0.51484</td></tr></table><br/></div></div>"
      ],
      "text/plain": [
       "<IPython.core.display.HTML object>"
      ]
     },
     "metadata": {},
     "output_type": "display_data"
    },
    {
     "data": {
      "text/html": [
       " View run <strong style=\"color:#cdcd00\">ethereal-sweep-22</strong> at: <a href='https://wandb.ai/jgammell/data_sanitization/runs/hkgblwpw' target=\"_blank\">https://wandb.ai/jgammell/data_sanitization/runs/hkgblwpw</a><br/>Synced 5 W&B file(s), 0 media file(s), 0 artifact file(s) and 0 other file(s)"
      ],
      "text/plain": [
       "<IPython.core.display.HTML object>"
      ]
     },
     "metadata": {},
     "output_type": "display_data"
    },
    {
     "data": {
      "text/html": [
       "Find logs at: <code>./wandb/run-20230219_021926-hkgblwpw/logs</code>"
      ],
      "text/plain": [
       "<IPython.core.display.HTML object>"
      ]
     },
     "metadata": {},
     "output_type": "display_data"
    },
    {
     "name": "stderr",
     "output_type": "stream",
     "text": [
      "\u001b[34m\u001b[1mwandb\u001b[0m: Agent Starting Run: 62b8rm40 with config:\n",
      "\u001b[34m\u001b[1mwandb\u001b[0m: \tatenc_bottleneck_width: 64\n",
      "\u001b[34m\u001b[1mwandb\u001b[0m: \tatenc_sn: True\n",
      "\u001b[34m\u001b[1mwandb\u001b[0m: \tbeta1_c: 0.53324571633712\n",
      "\u001b[34m\u001b[1mwandb\u001b[0m: \tbeta1_s: 0.7983488210535141\n",
      "\u001b[34m\u001b[1mwandb\u001b[0m: \tbeta2_c: 0.999\n",
      "\u001b[34m\u001b[1mwandb\u001b[0m: \tbeta2_s: 0.999\n",
      "\u001b[34m\u001b[1mwandb\u001b[0m: \tc_pretrain_epochs: 10\n",
      "\u001b[34m\u001b[1mwandb\u001b[0m: \tclass_sn: True\n",
      "\u001b[34m\u001b[1mwandb\u001b[0m: \tlr_c: 0.008335606053097694\n",
      "\u001b[34m\u001b[1mwandb\u001b[0m: \tlr_s: 0.003289952648363674\n",
      "\u001b[34m\u001b[1mwandb\u001b[0m: \ts_lbd: 0.09625676938840014\n",
      "\u001b[34m\u001b[1mwandb\u001b[0m: \ts_pretrain_epochs: 7\n",
      "\u001b[34m\u001b[1mwandb\u001b[0m: \tsan_sn: False\n",
      "\u001b[34m\u001b[1mwandb\u001b[0m: \ttrain_epochs: 250\n"
     ]
    },
    {
     "data": {
      "text/html": [
       "Tracking run with wandb version 0.13.10"
      ],
      "text/plain": [
       "<IPython.core.display.HTML object>"
      ]
     },
     "metadata": {},
     "output_type": "display_data"
    },
    {
     "data": {
      "text/html": [
       "Run data is saved locally in <code>/local/scratch/a/jgammell/sca_defense/wandb/run-20230219_024221-62b8rm40</code>"
      ],
      "text/plain": [
       "<IPython.core.display.HTML object>"
      ]
     },
     "metadata": {},
     "output_type": "display_data"
    },
    {
     "data": {
      "text/html": [
       "Syncing run <strong><a href='https://wandb.ai/jgammell/data_sanitization/runs/62b8rm40' target=\"_blank\">royal-sweep-23</a></strong> to <a href='https://wandb.ai/jgammell/data_sanitization' target=\"_blank\">Weights & Biases</a> (<a href='https://wandb.me/run' target=\"_blank\">docs</a>)<br/>Sweep page: <a href='https://wandb.ai/jgammell/data_sanitization/sweeps/d1qsxwr1' target=\"_blank\">https://wandb.ai/jgammell/data_sanitization/sweeps/d1qsxwr1</a>"
      ],
      "text/plain": [
       "<IPython.core.display.HTML object>"
      ]
     },
     "metadata": {},
     "output_type": "display_data"
    },
    {
     "data": {
      "text/html": [
       " View project at <a href='https://wandb.ai/jgammell/data_sanitization' target=\"_blank\">https://wandb.ai/jgammell/data_sanitization</a>"
      ],
      "text/plain": [
       "<IPython.core.display.HTML object>"
      ]
     },
     "metadata": {},
     "output_type": "display_data"
    },
    {
     "data": {
      "text/html": [
       " View sweep at <a href='https://wandb.ai/jgammell/data_sanitization/sweeps/d1qsxwr1' target=\"_blank\">https://wandb.ai/jgammell/data_sanitization/sweeps/d1qsxwr1</a>"
      ],
      "text/plain": [
       "<IPython.core.display.HTML object>"
      ]
     },
     "metadata": {},
     "output_type": "display_data"
    },
    {
     "data": {
      "text/html": [
       " View run at <a href='https://wandb.ai/jgammell/data_sanitization/runs/62b8rm40' target=\"_blank\">https://wandb.ai/jgammell/data_sanitization/runs/62b8rm40</a>"
      ],
      "text/plain": [
       "<IPython.core.display.HTML object>"
      ]
     },
     "metadata": {},
     "output_type": "display_data"
    },
    {
     "data": {
      "text/html": [
       "Waiting for W&B process to finish... <strong style=\"color:green\">(success).</strong>"
      ],
      "text/plain": [
       "<IPython.core.display.HTML object>"
      ]
     },
     "metadata": {},
     "output_type": "display_data"
    },
    {
     "data": {
      "text/html": [
       "<style>\n",
       "    table.wandb td:nth-child(1) { padding: 0 10px; text-align: left ; width: auto;} td:nth-child(2) {text-align: left ; width: 100%}\n",
       "    .wandb-row { display: flex; flex-direction: row; flex-wrap: wrap; justify-content: flex-start; width: 100% }\n",
       "    .wandb-col { display: flex; flex-direction: column; flex-basis: 100%; flex: 1; padding: 10px; }\n",
       "    </style>\n",
       "<div class=\"wandb-row\"><div class=\"wandb-col\"><h3>Run history:</h3><br/><table class=\"wandb\"><tr><td>duration</td><td>▄▄▃▆▃▄▃▃▅▃▁▃▄▅▇▃▁▅▅▄▂▃▂▆█▃▃▅▄▃██▆▂▃▄▄▆▂▅</td></tr><tr><td>te_c_acc</td><td>▁▁█▃▃▃▃▃▃▂▃▂▃▃▃▃▃▃▃▃▂▃▃▃▃▃▂▃▃▃▃▃▃▃▂▃▃▃▃▃</td></tr><tr><td>te_c_loss</td><td>██▁▇▇▇▇▇▇█▇▇▇▇▇▇▇▇▇▇█▇▇▇▇▇█▇▇▇▇▇▇▇▇▇▇▇█▇</td></tr><tr><td>te_c_oracle_loss</td><td>▁▁▁████████████████████████████████▇▇▇▇▇</td></tr><tr><td>te_s_em_loss</td><td>▁▁█▁▁▁▁▁▁▁▁▁▁▁▁▁▁▁▁▁▁▁▁▁▁▁▁▁▁▁▁▁▁▁▁▁▁▁▁▁</td></tr><tr><td>te_s_oracle_loss</td><td>▁▁▁████████████████████████████████▇▇▇▇▇</td></tr><tr><td>te_s_rec_loss</td><td>▁▁▁▇▇▇▇▇▇▇▇▇█▇▇▇████████▇▇▇▇▇▇▇▇▇▇▇▇▇▇▇▇</td></tr><tr><td>tr_c_acc</td><td>▁▁█▃▃▃▃▃▄▄▃▃▃▃▃▃▃▃▃▃▃▃▃▃▃▃▃▃▃▃▃▃▃▃▃▃▃▃▃▃</td></tr><tr><td>tr_c_loss</td><td>██▁▇▇▇▆▆▆▆▆▆▆▆▆▆▆▆▆▆▆▆▆▆▆▆▆▆▆▆▆▆▆▆▆▆▆▆▆▆</td></tr><tr><td>tr_c_oracle_loss</td><td>▁▁▁█████████████████████████████████▇▇▇▇</td></tr><tr><td>tr_s_em_loss</td><td>▁▁█▁▁▁▁▁▁▁▁▁▁▁▁▁▁▁▁▁▁▁▁▁▁▁▁▁▁▁▁▁▁▁▁▁▁▁▁▁</td></tr><tr><td>tr_s_oracle_loss</td><td>▁▁▁█████████████████████████████████▇▇▇▇</td></tr><tr><td>tr_s_rec_loss</td><td>▁▁▁▇▇▇▇▇▇▇▇▇█▇▇▇████████▇▇▇▇▇▇▇▇▇▇▇▇▇▇▇▇</td></tr></table><br/></div><div class=\"wandb-col\"><h3>Run summary:</h3><br/><table class=\"wandb\"><tr><td>duration</td><td>0.90842</td></tr><tr><td>te_c_acc</td><td>0.61855</td></tr><tr><td>te_c_loss</td><td>0.67874</td></tr><tr><td>te_c_oracle_loss</td><td>0.99763</td></tr><tr><td>te_s_em_loss</td><td>0.90986</td></tr><tr><td>te_s_oracle_loss</td><td>0.99763</td></tr><tr><td>te_s_rec_loss</td><td>0.07937</td></tr><tr><td>tr_c_acc</td><td>0.60583</td></tr><tr><td>tr_c_loss</td><td>0.52579</td></tr><tr><td>tr_c_oracle_loss</td><td>1.00037</td></tr><tr><td>tr_s_em_loss</td><td>0.82811</td></tr><tr><td>tr_s_oracle_loss</td><td>1.00059</td></tr><tr><td>tr_s_rec_loss</td><td>0.07936</td></tr></table><br/></div></div>"
      ],
      "text/plain": [
       "<IPython.core.display.HTML object>"
      ]
     },
     "metadata": {},
     "output_type": "display_data"
    },
    {
     "data": {
      "text/html": [
       " View run <strong style=\"color:#cdcd00\">royal-sweep-23</strong> at: <a href='https://wandb.ai/jgammell/data_sanitization/runs/62b8rm40' target=\"_blank\">https://wandb.ai/jgammell/data_sanitization/runs/62b8rm40</a><br/>Synced 5 W&B file(s), 0 media file(s), 0 artifact file(s) and 0 other file(s)"
      ],
      "text/plain": [
       "<IPython.core.display.HTML object>"
      ]
     },
     "metadata": {},
     "output_type": "display_data"
    },
    {
     "data": {
      "text/html": [
       "Find logs at: <code>./wandb/run-20230219_024221-62b8rm40/logs</code>"
      ],
      "text/plain": [
       "<IPython.core.display.HTML object>"
      ]
     },
     "metadata": {},
     "output_type": "display_data"
    },
    {
     "name": "stderr",
     "output_type": "stream",
     "text": [
      "\u001b[34m\u001b[1mwandb\u001b[0m: Agent Starting Run: wxuuo46n with config:\n",
      "\u001b[34m\u001b[1mwandb\u001b[0m: \tatenc_bottleneck_width: 32\n",
      "\u001b[34m\u001b[1mwandb\u001b[0m: \tatenc_sn: False\n",
      "\u001b[34m\u001b[1mwandb\u001b[0m: \tbeta1_c: 0.5061291403121831\n",
      "\u001b[34m\u001b[1mwandb\u001b[0m: \tbeta1_s: 0.5051070641520163\n",
      "\u001b[34m\u001b[1mwandb\u001b[0m: \tbeta2_c: 0.999\n",
      "\u001b[34m\u001b[1mwandb\u001b[0m: \tbeta2_s: 0.999\n",
      "\u001b[34m\u001b[1mwandb\u001b[0m: \tc_pretrain_epochs: 9\n",
      "\u001b[34m\u001b[1mwandb\u001b[0m: \tclass_sn: True\n",
      "\u001b[34m\u001b[1mwandb\u001b[0m: \tlr_c: 0.0002609797752603223\n",
      "\u001b[34m\u001b[1mwandb\u001b[0m: \tlr_s: 0.001368307487648462\n",
      "\u001b[34m\u001b[1mwandb\u001b[0m: \ts_lbd: 2.4123243102785152\n",
      "\u001b[34m\u001b[1mwandb\u001b[0m: \ts_pretrain_epochs: 2\n",
      "\u001b[34m\u001b[1mwandb\u001b[0m: \tsan_sn: True\n",
      "\u001b[34m\u001b[1mwandb\u001b[0m: \ttrain_epochs: 250\n"
     ]
    },
    {
     "data": {
      "text/html": [
       "Tracking run with wandb version 0.13.10"
      ],
      "text/plain": [
       "<IPython.core.display.HTML object>"
      ]
     },
     "metadata": {},
     "output_type": "display_data"
    },
    {
     "data": {
      "text/html": [
       "Run data is saved locally in <code>/local/scratch/a/jgammell/sca_defense/wandb/run-20230219_030651-wxuuo46n</code>"
      ],
      "text/plain": [
       "<IPython.core.display.HTML object>"
      ]
     },
     "metadata": {},
     "output_type": "display_data"
    },
    {
     "data": {
      "text/html": [
       "Syncing run <strong><a href='https://wandb.ai/jgammell/data_sanitization/runs/wxuuo46n' target=\"_blank\">swept-sweep-24</a></strong> to <a href='https://wandb.ai/jgammell/data_sanitization' target=\"_blank\">Weights & Biases</a> (<a href='https://wandb.me/run' target=\"_blank\">docs</a>)<br/>Sweep page: <a href='https://wandb.ai/jgammell/data_sanitization/sweeps/d1qsxwr1' target=\"_blank\">https://wandb.ai/jgammell/data_sanitization/sweeps/d1qsxwr1</a>"
      ],
      "text/plain": [
       "<IPython.core.display.HTML object>"
      ]
     },
     "metadata": {},
     "output_type": "display_data"
    },
    {
     "data": {
      "text/html": [
       " View project at <a href='https://wandb.ai/jgammell/data_sanitization' target=\"_blank\">https://wandb.ai/jgammell/data_sanitization</a>"
      ],
      "text/plain": [
       "<IPython.core.display.HTML object>"
      ]
     },
     "metadata": {},
     "output_type": "display_data"
    },
    {
     "data": {
      "text/html": [
       " View sweep at <a href='https://wandb.ai/jgammell/data_sanitization/sweeps/d1qsxwr1' target=\"_blank\">https://wandb.ai/jgammell/data_sanitization/sweeps/d1qsxwr1</a>"
      ],
      "text/plain": [
       "<IPython.core.display.HTML object>"
      ]
     },
     "metadata": {},
     "output_type": "display_data"
    },
    {
     "data": {
      "text/html": [
       " View run at <a href='https://wandb.ai/jgammell/data_sanitization/runs/wxuuo46n' target=\"_blank\">https://wandb.ai/jgammell/data_sanitization/runs/wxuuo46n</a>"
      ],
      "text/plain": [
       "<IPython.core.display.HTML object>"
      ]
     },
     "metadata": {},
     "output_type": "display_data"
    },
    {
     "data": {
      "text/html": [
       "Waiting for W&B process to finish... <strong style=\"color:green\">(success).</strong>"
      ],
      "text/plain": [
       "<IPython.core.display.HTML object>"
      ]
     },
     "metadata": {},
     "output_type": "display_data"
    },
    {
     "data": {
      "text/html": [
       "<style>\n",
       "    table.wandb td:nth-child(1) { padding: 0 10px; text-align: left ; width: auto;} td:nth-child(2) {text-align: left ; width: 100%}\n",
       "    .wandb-row { display: flex; flex-direction: row; flex-wrap: wrap; justify-content: flex-start; width: 100% }\n",
       "    .wandb-col { display: flex; flex-direction: column; flex-basis: 100%; flex: 1; padding: 10px; }\n",
       "    </style>\n",
       "<div class=\"wandb-row\"><div class=\"wandb-col\"><h3>Run history:</h3><br/><table class=\"wandb\"><tr><td>duration</td><td>▄▃▄▃▇▅▂▁▂▂▃▅▂▄▃▃▁█▂▃▄▃▃▂▃▃▂▃▂▅▃▃▄▃▃▃▅▃▃▃</td></tr><tr><td>te_c_acc</td><td>▃█▂▂▁▂▂▂▂▂▂▂▃▂▂▁▂▂▂▂▃▂▂▃▂▃▃▂▃▂▂▂▁▂▂▃▂▂▂▂</td></tr><tr><td>te_c_loss</td><td>▇▁███▇██████▇█████████████▇█████████████</td></tr><tr><td>te_c_oracle_loss</td><td>▁▁▃▄▅▃▄▄▅▅▅▄▅▅▅▆▇▅▆▆▇▆▆▇▅▆▆▆▇▅▇▇█▇████▇▇</td></tr><tr><td>te_s_em_loss</td><td>▂█▁▁▁▁▁▁▁▁▁▁▁▁▁▁▁▁▁▁▁▁▁▁▁▁▁▁▁▁▁▁▁▁▁▁▁▁▁▁</td></tr><tr><td>te_s_oracle_loss</td><td>▁▁▃▄▅▃▄▄▅▅▅▄▅▅▅▆▇▅▆▆▇▆▆▇▅▆▆▆▇▅▇▇█▇████▇▇</td></tr><tr><td>te_s_rec_loss</td><td>▁▁▂▂█▂▄▂▃▃▆▃▃▃▃█▄▃▃▄▅▃▅▄▂▃▄▃▄▂▄▃▆▄▄▄▃▇▄▃</td></tr><tr><td>tr_c_acc</td><td>▃█▂▁▂▂▂▂▂▂▂▂▂▂▁▂▂▂▂▁▂▁▁▂▁▂▂▁▂▂▂▂▁▂▂▂▁▁▂▁</td></tr><tr><td>tr_c_loss</td><td>▇▁██████████████████████████████████████</td></tr><tr><td>tr_c_oracle_loss</td><td>▁▁▃▄▄▃▄▄▅▄▅▄▅▅▅▅▆▅▆▆▆▆▆▇▅▅▅▆▇▅▇▆█▆█▇▇█▇▇</td></tr><tr><td>tr_s_em_loss</td><td>▁█▁▁▁▁▁▁▁▁▁▁▁▁▁▁▁▁▁▁▁▁▁▁▁▁▁▁▁▁▁▁▁▁▁▁▁▁▁▁</td></tr><tr><td>tr_s_oracle_loss</td><td>▁▁▃▄▄▃▄▄▅▄▅▄▅▅▅▅▆▅▆▆▆▆▆▇▅▅▅▆▇▅▇▆█▆█▇▇█▇▇</td></tr><tr><td>tr_s_rec_loss</td><td>▁▁▂▂▄▂▂▃▃▃▅▄▃▄▅▄▄▃▃▇▄▄▇▄▃▃▄▄▄▂▄▄█▃▅▄▄▆▄▃</td></tr></table><br/></div><div class=\"wandb-col\"><h3>Run summary:</h3><br/><table class=\"wandb\"><tr><td>duration</td><td>0.89678</td></tr><tr><td>te_c_acc</td><td>0.54268</td></tr><tr><td>te_c_loss</td><td>0.68663</td></tr><tr><td>te_c_oracle_loss</td><td>1.18946</td></tr><tr><td>te_s_em_loss</td><td>0.69544</td></tr><tr><td>te_s_oracle_loss</td><td>1.18946</td></tr><tr><td>te_s_rec_loss</td><td>0.12128</td></tr><tr><td>tr_c_acc</td><td>0.52911</td></tr><tr><td>tr_c_loss</td><td>0.6872</td></tr><tr><td>tr_c_oracle_loss</td><td>1.18596</td></tr><tr><td>tr_s_em_loss</td><td>0.69766</td></tr><tr><td>tr_s_oracle_loss</td><td>1.18558</td></tr><tr><td>tr_s_rec_loss</td><td>0.12156</td></tr></table><br/></div></div>"
      ],
      "text/plain": [
       "<IPython.core.display.HTML object>"
      ]
     },
     "metadata": {},
     "output_type": "display_data"
    },
    {
     "data": {
      "text/html": [
       " View run <strong style=\"color:#cdcd00\">swept-sweep-24</strong> at: <a href='https://wandb.ai/jgammell/data_sanitization/runs/wxuuo46n' target=\"_blank\">https://wandb.ai/jgammell/data_sanitization/runs/wxuuo46n</a><br/>Synced 5 W&B file(s), 0 media file(s), 0 artifact file(s) and 0 other file(s)"
      ],
      "text/plain": [
       "<IPython.core.display.HTML object>"
      ]
     },
     "metadata": {},
     "output_type": "display_data"
    },
    {
     "data": {
      "text/html": [
       "Find logs at: <code>./wandb/run-20230219_030651-wxuuo46n/logs</code>"
      ],
      "text/plain": [
       "<IPython.core.display.HTML object>"
      ]
     },
     "metadata": {},
     "output_type": "display_data"
    },
    {
     "name": "stderr",
     "output_type": "stream",
     "text": [
      "\u001b[34m\u001b[1mwandb\u001b[0m: Agent Starting Run: jl0ns9tt with config:\n",
      "\u001b[34m\u001b[1mwandb\u001b[0m: \tatenc_bottleneck_width: 8\n",
      "\u001b[34m\u001b[1mwandb\u001b[0m: \tatenc_sn: False\n",
      "\u001b[34m\u001b[1mwandb\u001b[0m: \tbeta1_c: 0.4763086887547424\n",
      "\u001b[34m\u001b[1mwandb\u001b[0m: \tbeta1_s: 0.3934018900266349\n",
      "\u001b[34m\u001b[1mwandb\u001b[0m: \tbeta2_c: 0.999\n",
      "\u001b[34m\u001b[1mwandb\u001b[0m: \tbeta2_s: 0.999\n",
      "\u001b[34m\u001b[1mwandb\u001b[0m: \tc_pretrain_epochs: 4\n",
      "\u001b[34m\u001b[1mwandb\u001b[0m: \tclass_sn: False\n",
      "\u001b[34m\u001b[1mwandb\u001b[0m: \tlr_c: 0.0010150535179108953\n",
      "\u001b[34m\u001b[1mwandb\u001b[0m: \tlr_s: 0.0005224277026129924\n",
      "\u001b[34m\u001b[1mwandb\u001b[0m: \ts_lbd: 11.06302465254995\n",
      "\u001b[34m\u001b[1mwandb\u001b[0m: \ts_pretrain_epochs: 14\n",
      "\u001b[34m\u001b[1mwandb\u001b[0m: \tsan_sn: False\n",
      "\u001b[34m\u001b[1mwandb\u001b[0m: \ttrain_epochs: 250\n"
     ]
    },
    {
     "data": {
      "text/html": [
       "Tracking run with wandb version 0.13.10"
      ],
      "text/plain": [
       "<IPython.core.display.HTML object>"
      ]
     },
     "metadata": {},
     "output_type": "display_data"
    },
    {
     "data": {
      "text/html": [
       "Run data is saved locally in <code>/local/scratch/a/jgammell/sca_defense/wandb/run-20230219_033313-jl0ns9tt</code>"
      ],
      "text/plain": [
       "<IPython.core.display.HTML object>"
      ]
     },
     "metadata": {},
     "output_type": "display_data"
    },
    {
     "data": {
      "text/html": [
       "Syncing run <strong><a href='https://wandb.ai/jgammell/data_sanitization/runs/jl0ns9tt' target=\"_blank\">polar-sweep-25</a></strong> to <a href='https://wandb.ai/jgammell/data_sanitization' target=\"_blank\">Weights & Biases</a> (<a href='https://wandb.me/run' target=\"_blank\">docs</a>)<br/>Sweep page: <a href='https://wandb.ai/jgammell/data_sanitization/sweeps/d1qsxwr1' target=\"_blank\">https://wandb.ai/jgammell/data_sanitization/sweeps/d1qsxwr1</a>"
      ],
      "text/plain": [
       "<IPython.core.display.HTML object>"
      ]
     },
     "metadata": {},
     "output_type": "display_data"
    },
    {
     "data": {
      "text/html": [
       " View project at <a href='https://wandb.ai/jgammell/data_sanitization' target=\"_blank\">https://wandb.ai/jgammell/data_sanitization</a>"
      ],
      "text/plain": [
       "<IPython.core.display.HTML object>"
      ]
     },
     "metadata": {},
     "output_type": "display_data"
    },
    {
     "data": {
      "text/html": [
       " View sweep at <a href='https://wandb.ai/jgammell/data_sanitization/sweeps/d1qsxwr1' target=\"_blank\">https://wandb.ai/jgammell/data_sanitization/sweeps/d1qsxwr1</a>"
      ],
      "text/plain": [
       "<IPython.core.display.HTML object>"
      ]
     },
     "metadata": {},
     "output_type": "display_data"
    },
    {
     "data": {
      "text/html": [
       " View run at <a href='https://wandb.ai/jgammell/data_sanitization/runs/jl0ns9tt' target=\"_blank\">https://wandb.ai/jgammell/data_sanitization/runs/jl0ns9tt</a>"
      ],
      "text/plain": [
       "<IPython.core.display.HTML object>"
      ]
     },
     "metadata": {},
     "output_type": "display_data"
    },
    {
     "data": {
      "text/html": [
       "Waiting for W&B process to finish... <strong style=\"color:green\">(success).</strong>"
      ],
      "text/plain": [
       "<IPython.core.display.HTML object>"
      ]
     },
     "metadata": {},
     "output_type": "display_data"
    },
    {
     "data": {
      "application/vnd.jupyter.widget-view+json": {
       "model_id": "041dbaff9f4b43288d76f48fc943f70f",
       "version_major": 2,
       "version_minor": 0
      },
      "text/plain": [
       "VBox(children=(Label(value='0.002 MB of 0.022 MB uploaded (0.000 MB deduped)\\r'), FloatProgress(value=0.088280…"
      ]
     },
     "metadata": {},
     "output_type": "display_data"
    },
    {
     "data": {
      "text/html": [
       "<style>\n",
       "    table.wandb td:nth-child(1) { padding: 0 10px; text-align: left ; width: auto;} td:nth-child(2) {text-align: left ; width: 100%}\n",
       "    .wandb-row { display: flex; flex-direction: row; flex-wrap: wrap; justify-content: flex-start; width: 100% }\n",
       "    .wandb-col { display: flex; flex-direction: column; flex-basis: 100%; flex: 1; padding: 10px; }\n",
       "    </style>\n",
       "<div class=\"wandb-row\"><div class=\"wandb-col\"><h3>Run history:</h3><br/><table class=\"wandb\"><tr><td>duration</td><td>▃▅▄▃▆▃▃▄▆▄▆▃▅▄▅▃▃▁▅▃▇▃▅▅▃▄▅▅▆▄█▂▄▅▂▄▃▂▁▂</td></tr><tr><td>te_c_acc</td><td>▁▁█▅▅▅▂▅▅▆▆▆▆▆▅▆▆▅▆▆▆▆▆▆▆▆▆▆▆▆▅▅▅▅▅▆▅▅▅▆</td></tr><tr><td>te_c_loss</td><td>▅▅▁▃▃▃▆▃▃▃▃▃▂▂▆▃▃▆▄▅▄▆▆▆▅▅▅▆▆▅▅█▅▆▇▆▆▇▆▆</td></tr><tr><td>te_c_oracle_loss</td><td>▁▁▁▇▇█▇█████████████████████████████████</td></tr><tr><td>te_s_em_loss</td><td>▁▁▂▂▂▂▃▂▃▂▂▂▃▃▆▄▅▆▆▇▇▇██▅▅▆▆▅▅▅▇▅▆▇▅▅▅▅▅</td></tr><tr><td>te_s_oracle_loss</td><td>▁▁▁▇▇█▇█████████████████████████████████</td></tr><tr><td>te_s_rec_loss</td><td>▁▁▁▄▄▄▄▄▄▄▅▆▇▇▇▇█████▇██▇▇▆▇▆▇▆▇▇▇▇▆▆▆▆▆</td></tr><tr><td>tr_c_acc</td><td>▁▁▇▆▆▆▆▇▇▇▇▇████████▇█▇▇▇▇▇▇▇▇▇▇▇▇▇▇▇▆▇▇</td></tr><tr><td>tr_c_loss</td><td>██▆▆▆▆▆▅▅▅▅▄▄▄▄▃▃▃▃▂▂▂▂▁▂▂▂▂▁▂▁▁▁▁▁▂▂▁▁▁</td></tr><tr><td>tr_c_oracle_loss</td><td>▁▁▁▇▇█▇█████████████████████████████████</td></tr><tr><td>tr_s_em_loss</td><td>▁▁▂▂▂▂▂▂▂▃▂▃▃▄▄▅▆▅▅▆▇▇██▇▆▆▆▇▇▆▇▇▆▆▆▆▇▇▆</td></tr><tr><td>tr_s_oracle_loss</td><td>▁▁▁▇▇█▇█████████████████████████████████</td></tr><tr><td>tr_s_rec_loss</td><td>▁▁▁▄▄▄▄▄▄▄▅▆▇▆▇▇█████▇██▇▇▆▇▆▇▆▆▆▇▇▆▆▆▆▆</td></tr></table><br/></div><div class=\"wandb-col\"><h3>Run summary:</h3><br/><table class=\"wandb\"><tr><td>duration</td><td>0.90848</td></tr><tr><td>te_c_acc</td><td>0.62402</td></tr><tr><td>te_c_loss</td><td>0.75806</td></tr><tr><td>te_c_oracle_loss</td><td>0.69813</td></tr><tr><td>te_s_em_loss</td><td>1.29339</td></tr><tr><td>te_s_oracle_loss</td><td>0.69813</td></tr><tr><td>te_s_rec_loss</td><td>0.21699</td></tr><tr><td>tr_c_acc</td><td>0.63355</td></tr><tr><td>tr_c_loss</td><td>0.43614</td></tr><tr><td>tr_c_oracle_loss</td><td>0.69778</td></tr><tr><td>tr_s_em_loss</td><td>1.32984</td></tr><tr><td>tr_s_oracle_loss</td><td>0.69766</td></tr><tr><td>tr_s_rec_loss</td><td>0.21946</td></tr></table><br/></div></div>"
      ],
      "text/plain": [
       "<IPython.core.display.HTML object>"
      ]
     },
     "metadata": {},
     "output_type": "display_data"
    },
    {
     "data": {
      "text/html": [
       " View run <strong style=\"color:#cdcd00\">polar-sweep-25</strong> at: <a href='https://wandb.ai/jgammell/data_sanitization/runs/jl0ns9tt' target=\"_blank\">https://wandb.ai/jgammell/data_sanitization/runs/jl0ns9tt</a><br/>Synced 5 W&B file(s), 0 media file(s), 0 artifact file(s) and 0 other file(s)"
      ],
      "text/plain": [
       "<IPython.core.display.HTML object>"
      ]
     },
     "metadata": {},
     "output_type": "display_data"
    },
    {
     "data": {
      "text/html": [
       "Find logs at: <code>./wandb/run-20230219_033313-jl0ns9tt/logs</code>"
      ],
      "text/plain": [
       "<IPython.core.display.HTML object>"
      ]
     },
     "metadata": {},
     "output_type": "display_data"
    },
    {
     "name": "stderr",
     "output_type": "stream",
     "text": [
      "\u001b[34m\u001b[1mwandb\u001b[0m: Agent Starting Run: czz2bv2h with config:\n",
      "\u001b[34m\u001b[1mwandb\u001b[0m: \tatenc_bottleneck_width: 16\n",
      "\u001b[34m\u001b[1mwandb\u001b[0m: \tatenc_sn: True\n",
      "\u001b[34m\u001b[1mwandb\u001b[0m: \tbeta1_c: 0.36972292829873815\n",
      "\u001b[34m\u001b[1mwandb\u001b[0m: \tbeta1_s: 0.22201800288308843\n",
      "\u001b[34m\u001b[1mwandb\u001b[0m: \tbeta2_c: 0.999\n",
      "\u001b[34m\u001b[1mwandb\u001b[0m: \tbeta2_s: 0.999\n",
      "\u001b[34m\u001b[1mwandb\u001b[0m: \tc_pretrain_epochs: 15\n",
      "\u001b[34m\u001b[1mwandb\u001b[0m: \tclass_sn: False\n",
      "\u001b[34m\u001b[1mwandb\u001b[0m: \tlr_c: 0.00020689448617241285\n",
      "\u001b[34m\u001b[1mwandb\u001b[0m: \tlr_s: 0.00016519497413182394\n",
      "\u001b[34m\u001b[1mwandb\u001b[0m: \ts_lbd: 12.234770077910708\n",
      "\u001b[34m\u001b[1mwandb\u001b[0m: \ts_pretrain_epochs: 6\n",
      "\u001b[34m\u001b[1mwandb\u001b[0m: \tsan_sn: False\n",
      "\u001b[34m\u001b[1mwandb\u001b[0m: \ttrain_epochs: 250\n"
     ]
    },
    {
     "data": {
      "text/html": [
       "Tracking run with wandb version 0.13.10"
      ],
      "text/plain": [
       "<IPython.core.display.HTML object>"
      ]
     },
     "metadata": {},
     "output_type": "display_data"
    },
    {
     "data": {
      "text/html": [
       "Run data is saved locally in <code>/local/scratch/a/jgammell/sca_defense/wandb/run-20230219_035602-czz2bv2h</code>"
      ],
      "text/plain": [
       "<IPython.core.display.HTML object>"
      ]
     },
     "metadata": {},
     "output_type": "display_data"
    },
    {
     "data": {
      "text/html": [
       "Syncing run <strong><a href='https://wandb.ai/jgammell/data_sanitization/runs/czz2bv2h' target=\"_blank\">flowing-sweep-26</a></strong> to <a href='https://wandb.ai/jgammell/data_sanitization' target=\"_blank\">Weights & Biases</a> (<a href='https://wandb.me/run' target=\"_blank\">docs</a>)<br/>Sweep page: <a href='https://wandb.ai/jgammell/data_sanitization/sweeps/d1qsxwr1' target=\"_blank\">https://wandb.ai/jgammell/data_sanitization/sweeps/d1qsxwr1</a>"
      ],
      "text/plain": [
       "<IPython.core.display.HTML object>"
      ]
     },
     "metadata": {},
     "output_type": "display_data"
    },
    {
     "data": {
      "text/html": [
       " View project at <a href='https://wandb.ai/jgammell/data_sanitization' target=\"_blank\">https://wandb.ai/jgammell/data_sanitization</a>"
      ],
      "text/plain": [
       "<IPython.core.display.HTML object>"
      ]
     },
     "metadata": {},
     "output_type": "display_data"
    },
    {
     "data": {
      "text/html": [
       " View sweep at <a href='https://wandb.ai/jgammell/data_sanitization/sweeps/d1qsxwr1' target=\"_blank\">https://wandb.ai/jgammell/data_sanitization/sweeps/d1qsxwr1</a>"
      ],
      "text/plain": [
       "<IPython.core.display.HTML object>"
      ]
     },
     "metadata": {},
     "output_type": "display_data"
    },
    {
     "data": {
      "text/html": [
       " View run at <a href='https://wandb.ai/jgammell/data_sanitization/runs/czz2bv2h' target=\"_blank\">https://wandb.ai/jgammell/data_sanitization/runs/czz2bv2h</a>"
      ],
      "text/plain": [
       "<IPython.core.display.HTML object>"
      ]
     },
     "metadata": {},
     "output_type": "display_data"
    },
    {
     "data": {
      "text/html": [
       "Waiting for W&B process to finish... <strong style=\"color:green\">(success).</strong>"
      ],
      "text/plain": [
       "<IPython.core.display.HTML object>"
      ]
     },
     "metadata": {},
     "output_type": "display_data"
    },
    {
     "data": {
      "text/html": [
       "<style>\n",
       "    table.wandb td:nth-child(1) { padding: 0 10px; text-align: left ; width: auto;} td:nth-child(2) {text-align: left ; width: 100%}\n",
       "    .wandb-row { display: flex; flex-direction: row; flex-wrap: wrap; justify-content: flex-start; width: 100% }\n",
       "    .wandb-col { display: flex; flex-direction: column; flex-basis: 100%; flex: 1; padding: 10px; }\n",
       "    </style>\n",
       "<div class=\"wandb-row\"><div class=\"wandb-col\"><h3>Run history:</h3><br/><table class=\"wandb\"><tr><td>duration</td><td>▁▂▂▂▄▃▄▄▁▄▃▃▂▃▂▄▃▁▂▃▂▄█▂▄▅▄▃▂▂▂▄▂▂▄▃▃▃▃▃</td></tr><tr><td>te_c_acc</td><td>▁▂█▄▃▂▃▂▂▂▃▁▃▃▃▂▂▂▁▂▂▂▁▂▁▂▁▂▁▁▁▁▁▁▂▁▁▁▁▁</td></tr><tr><td>te_c_loss</td><td>▆▅▁▅▅▆▅▆▆▅▅█▅▅▅▇▆▆▆▆▆▆▆▆▆▆▆▆▆▆▆▆▆▆▆▆▆▆▆▆</td></tr><tr><td>te_c_oracle_loss</td><td>▁▁▁▃▄▅▆▇▇▇▇▇▇▇▇▇▆▇▆▆▇▇▇▇▇▇▇▇▇█▇█████████</td></tr><tr><td>te_s_em_loss</td><td>▁▁█▂▁▁▁▂▂▁▁▃▁▁▁▂▁▁▁▁▁▁▁▁▁▁▁▁▁▁▁▁▁▁▁▁▁▁▁▁</td></tr><tr><td>te_s_oracle_loss</td><td>▁▁▁▃▄▅▆▇▇▇▇▇▇▇▇▇▆▇▆▆▇▇▇▇▇▇▇▇▇█▇█████████</td></tr><tr><td>te_s_rec_loss</td><td>▁▁▁▄▅▆▆▇█▆▆█▆▆▅▆▃▃▃▂▂▂▂▂▂▂▂▂▂▂▂▂▂▂▂▂▂▂▂▂</td></tr><tr><td>tr_c_acc</td><td>▁▂█▅▃▂▃▃▃▃▃▃▃▃▃▃▂▂▁▁▁▁▁▁▁▁▁▁▁▁▁▁▁▁▁▁▁▁▁▁</td></tr><tr><td>tr_c_loss</td><td>██▁▆▇▇▇▇▇▇▇▇▇▇▇▇████████████████████████</td></tr><tr><td>tr_c_oracle_loss</td><td>▁▁▁▂▄▅▆▆▇▇▇▇▇▇▇▇▆▆▆▆▇▇▇▇▇▇▇▇▇▇▇███▇█████</td></tr><tr><td>tr_s_em_loss</td><td>▁▁█▂▁▁▁▁▁▁▁▁▁▁▁▁▁▁▁▁▁▁▁▁▁▁▁▁▁▁▁▁▁▁▁▁▁▁▁▁</td></tr><tr><td>tr_s_oracle_loss</td><td>▁▁▁▂▄▅▆▆▇▇▇▇▇▇▇▇▆▆▆▆▇▇▇▇▇▇▇▇▇▇▇███▇█████</td></tr><tr><td>tr_s_rec_loss</td><td>▁▁▁▄▆▇▇██▇▇▇▇▆▆▅▃▃▃▃▂▂▃▂▂▂▂▂▂▂▂▂▂▂▂▂▂▂▂▂</td></tr></table><br/></div><div class=\"wandb-col\"><h3>Run summary:</h3><br/><table class=\"wandb\"><tr><td>duration</td><td>0.93118</td></tr><tr><td>te_c_acc</td><td>0.50078</td></tr><tr><td>te_c_loss</td><td>0.69917</td></tr><tr><td>te_c_oracle_loss</td><td>1.20893</td></tr><tr><td>te_s_em_loss</td><td>0.701</td></tr><tr><td>te_s_oracle_loss</td><td>1.20893</td></tr><tr><td>te_s_rec_loss</td><td>0.18588</td></tr><tr><td>tr_c_acc</td><td>0.50714</td></tr><tr><td>tr_c_loss</td><td>0.69173</td></tr><tr><td>tr_c_oracle_loss</td><td>1.22748</td></tr><tr><td>tr_s_em_loss</td><td>0.69574</td></tr><tr><td>tr_s_oracle_loss</td><td>1.22699</td></tr><tr><td>tr_s_rec_loss</td><td>0.18389</td></tr></table><br/></div></div>"
      ],
      "text/plain": [
       "<IPython.core.display.HTML object>"
      ]
     },
     "metadata": {},
     "output_type": "display_data"
    },
    {
     "data": {
      "text/html": [
       " View run <strong style=\"color:#cdcd00\">flowing-sweep-26</strong> at: <a href='https://wandb.ai/jgammell/data_sanitization/runs/czz2bv2h' target=\"_blank\">https://wandb.ai/jgammell/data_sanitization/runs/czz2bv2h</a><br/>Synced 5 W&B file(s), 0 media file(s), 0 artifact file(s) and 0 other file(s)"
      ],
      "text/plain": [
       "<IPython.core.display.HTML object>"
      ]
     },
     "metadata": {},
     "output_type": "display_data"
    },
    {
     "data": {
      "text/html": [
       "Find logs at: <code>./wandb/run-20230219_035602-czz2bv2h/logs</code>"
      ],
      "text/plain": [
       "<IPython.core.display.HTML object>"
      ]
     },
     "metadata": {},
     "output_type": "display_data"
    },
    {
     "name": "stderr",
     "output_type": "stream",
     "text": [
      "\u001b[34m\u001b[1mwandb\u001b[0m: Agent Starting Run: txwm8glq with config:\n",
      "\u001b[34m\u001b[1mwandb\u001b[0m: \tatenc_bottleneck_width: 32\n",
      "\u001b[34m\u001b[1mwandb\u001b[0m: \tatenc_sn: True\n",
      "\u001b[34m\u001b[1mwandb\u001b[0m: \tbeta1_c: 0.509784294383293\n",
      "\u001b[34m\u001b[1mwandb\u001b[0m: \tbeta1_s: 0.634913170913666\n",
      "\u001b[34m\u001b[1mwandb\u001b[0m: \tbeta2_c: 0.999\n",
      "\u001b[34m\u001b[1mwandb\u001b[0m: \tbeta2_s: 0.999\n",
      "\u001b[34m\u001b[1mwandb\u001b[0m: \tc_pretrain_epochs: 8\n",
      "\u001b[34m\u001b[1mwandb\u001b[0m: \tclass_sn: False\n",
      "\u001b[34m\u001b[1mwandb\u001b[0m: \tlr_c: 0.0009058343084589858\n",
      "\u001b[34m\u001b[1mwandb\u001b[0m: \tlr_s: 0.00035519524839466415\n",
      "\u001b[34m\u001b[1mwandb\u001b[0m: \ts_lbd: 6.055230359936717\n",
      "\u001b[34m\u001b[1mwandb\u001b[0m: \ts_pretrain_epochs: 14\n",
      "\u001b[34m\u001b[1mwandb\u001b[0m: \tsan_sn: False\n",
      "\u001b[34m\u001b[1mwandb\u001b[0m: \ttrain_epochs: 250\n"
     ]
    },
    {
     "data": {
      "text/html": [
       "Tracking run with wandb version 0.13.10"
      ],
      "text/plain": [
       "<IPython.core.display.HTML object>"
      ]
     },
     "metadata": {},
     "output_type": "display_data"
    },
    {
     "data": {
      "text/html": [
       "Run data is saved locally in <code>/local/scratch/a/jgammell/sca_defense/wandb/run-20230219_042045-txwm8glq</code>"
      ],
      "text/plain": [
       "<IPython.core.display.HTML object>"
      ]
     },
     "metadata": {},
     "output_type": "display_data"
    },
    {
     "data": {
      "text/html": [
       "Syncing run <strong><a href='https://wandb.ai/jgammell/data_sanitization/runs/txwm8glq' target=\"_blank\">giddy-sweep-27</a></strong> to <a href='https://wandb.ai/jgammell/data_sanitization' target=\"_blank\">Weights & Biases</a> (<a href='https://wandb.me/run' target=\"_blank\">docs</a>)<br/>Sweep page: <a href='https://wandb.ai/jgammell/data_sanitization/sweeps/d1qsxwr1' target=\"_blank\">https://wandb.ai/jgammell/data_sanitization/sweeps/d1qsxwr1</a>"
      ],
      "text/plain": [
       "<IPython.core.display.HTML object>"
      ]
     },
     "metadata": {},
     "output_type": "display_data"
    },
    {
     "data": {
      "text/html": [
       " View project at <a href='https://wandb.ai/jgammell/data_sanitization' target=\"_blank\">https://wandb.ai/jgammell/data_sanitization</a>"
      ],
      "text/plain": [
       "<IPython.core.display.HTML object>"
      ]
     },
     "metadata": {},
     "output_type": "display_data"
    },
    {
     "data": {
      "text/html": [
       " View sweep at <a href='https://wandb.ai/jgammell/data_sanitization/sweeps/d1qsxwr1' target=\"_blank\">https://wandb.ai/jgammell/data_sanitization/sweeps/d1qsxwr1</a>"
      ],
      "text/plain": [
       "<IPython.core.display.HTML object>"
      ]
     },
     "metadata": {},
     "output_type": "display_data"
    },
    {
     "data": {
      "text/html": [
       " View run at <a href='https://wandb.ai/jgammell/data_sanitization/runs/txwm8glq' target=\"_blank\">https://wandb.ai/jgammell/data_sanitization/runs/txwm8glq</a>"
      ],
      "text/plain": [
       "<IPython.core.display.HTML object>"
      ]
     },
     "metadata": {},
     "output_type": "display_data"
    },
    {
     "data": {
      "text/html": [
       "Waiting for W&B process to finish... <strong style=\"color:green\">(success).</strong>"
      ],
      "text/plain": [
       "<IPython.core.display.HTML object>"
      ]
     },
     "metadata": {},
     "output_type": "display_data"
    },
    {
     "data": {
      "text/html": [
       "<style>\n",
       "    table.wandb td:nth-child(1) { padding: 0 10px; text-align: left ; width: auto;} td:nth-child(2) {text-align: left ; width: 100%}\n",
       "    .wandb-row { display: flex; flex-direction: row; flex-wrap: wrap; justify-content: flex-start; width: 100% }\n",
       "    .wandb-col { display: flex; flex-direction: column; flex-basis: 100%; flex: 1; padding: 10px; }\n",
       "    </style>\n",
       "<div class=\"wandb-row\"><div class=\"wandb-col\"><h3>Run history:</h3><br/><table class=\"wandb\"><tr><td>duration</td><td>▂▃▂▂▂▃▂▂▂▂▃▃▁▂▂▂▂▁▁▂▂█▂▂▃▂▃▃▄▂▁▂▂▁▂▃▃▂▂▂</td></tr><tr><td>te_c_acc</td><td>▁▁█▃▂▄▂▄▅▅▄▅▅▅▆▅▅▆▅▆▅▆▆▆▅▅▆▆▅▆▅▅▅▆▆▆▅▆▆▆</td></tr><tr><td>te_c_loss</td><td>██▁▇█▆▇▅▄▅▆▄▅▄▄▄▄▄▄▄▄▄▄▅▇▄▄▄▄▅▅▆▅▅▅▄▅▅▄▅</td></tr><tr><td>te_c_oracle_loss</td><td>▁▁▁▄▅▆▆▆▆▇▇▇▇▇██████████████████████████</td></tr><tr><td>te_s_em_loss</td><td>▁▁▂▁▁▂▁▂▂▂▃▃▃▄▄▃▄▆▅▅▅▇▇▇█▆▆▅▄▅▄▅▅▅▅▄▅▅▅▅</td></tr><tr><td>te_s_oracle_loss</td><td>▁▁▁▄▅▆▆▆▆▇▇▇▇▇██████████████████████████</td></tr><tr><td>te_s_rec_loss</td><td>▁▁▁▃▄▆▅▆▆▆▇▇▇▇▇▇▇██▇▇▇▇▇▇█████▇▇████████</td></tr><tr><td>tr_c_acc</td><td>▁▁▇▄▅▆▄▆▇▇▇▇▇▇▇▇████▇███▇▇▇█▇█▇▇▇▇▇███▇▇</td></tr><tr><td>tr_c_loss</td><td>██▅█▆▅▇▅▄▄▄▃▃▃▃▃▃▂▂▂▃▂▂▂▂▂▂▂▂▂▂▂▂▂▂▁▁▁▁▁</td></tr><tr><td>tr_c_oracle_loss</td><td>▁▁▁▃▅▆▆▆▆▇▇▇▇▇██████████████████████████</td></tr><tr><td>tr_s_em_loss</td><td>▁▁▂▃▁▂▁▂▂▃▃▃▃▃▄▄▅▆▆▆▆▇▇█▇▆▆▆▅▆▅▅▅▅▆▅▅▆▅▅</td></tr><tr><td>tr_s_oracle_loss</td><td>▁▁▁▃▅▆▆▆▆▇▇▇▇▇██████████████████████████</td></tr><tr><td>tr_s_rec_loss</td><td>▁▁▁▃▄▆▅▆▆▆▇▇▇▇▇▇▇███▇▇▇▇▇█████▇█████████</td></tr></table><br/></div><div class=\"wandb-col\"><h3>Run summary:</h3><br/><table class=\"wandb\"><tr><td>duration</td><td>0.93651</td></tr><tr><td>te_c_acc</td><td>0.65127</td></tr><tr><td>te_c_loss</td><td>0.66513</td></tr><tr><td>te_c_oracle_loss</td><td>1.10632</td></tr><tr><td>te_s_em_loss</td><td>1.6492</td></tr><tr><td>te_s_oracle_loss</td><td>1.10632</td></tr><tr><td>te_s_rec_loss</td><td>0.13821</td></tr><tr><td>tr_c_acc</td><td>0.66539</td></tr><tr><td>tr_c_loss</td><td>0.51226</td></tr><tr><td>tr_c_oracle_loss</td><td>1.10822</td></tr><tr><td>tr_s_em_loss</td><td>1.39837</td></tr><tr><td>tr_s_oracle_loss</td><td>1.10779</td></tr><tr><td>tr_s_rec_loss</td><td>0.13822</td></tr></table><br/></div></div>"
      ],
      "text/plain": [
       "<IPython.core.display.HTML object>"
      ]
     },
     "metadata": {},
     "output_type": "display_data"
    },
    {
     "data": {
      "text/html": [
       " View run <strong style=\"color:#cdcd00\">giddy-sweep-27</strong> at: <a href='https://wandb.ai/jgammell/data_sanitization/runs/txwm8glq' target=\"_blank\">https://wandb.ai/jgammell/data_sanitization/runs/txwm8glq</a><br/>Synced 5 W&B file(s), 0 media file(s), 0 artifact file(s) and 0 other file(s)"
      ],
      "text/plain": [
       "<IPython.core.display.HTML object>"
      ]
     },
     "metadata": {},
     "output_type": "display_data"
    },
    {
     "data": {
      "text/html": [
       "Find logs at: <code>./wandb/run-20230219_042045-txwm8glq/logs</code>"
      ],
      "text/plain": [
       "<IPython.core.display.HTML object>"
      ]
     },
     "metadata": {},
     "output_type": "display_data"
    },
    {
     "name": "stderr",
     "output_type": "stream",
     "text": [
      "\u001b[34m\u001b[1mwandb\u001b[0m: Agent Starting Run: fex0dqhk with config:\n",
      "\u001b[34m\u001b[1mwandb\u001b[0m: \tatenc_bottleneck_width: 128\n",
      "\u001b[34m\u001b[1mwandb\u001b[0m: \tatenc_sn: True\n",
      "\u001b[34m\u001b[1mwandb\u001b[0m: \tbeta1_c: 0.21202151228473048\n",
      "\u001b[34m\u001b[1mwandb\u001b[0m: \tbeta1_s: 0.20019341575395216\n",
      "\u001b[34m\u001b[1mwandb\u001b[0m: \tbeta2_c: 0.999\n",
      "\u001b[34m\u001b[1mwandb\u001b[0m: \tbeta2_s: 0.999\n",
      "\u001b[34m\u001b[1mwandb\u001b[0m: \tc_pretrain_epochs: 3\n",
      "\u001b[34m\u001b[1mwandb\u001b[0m: \tclass_sn: True\n",
      "\u001b[34m\u001b[1mwandb\u001b[0m: \tlr_c: 0.0004092905891510804\n",
      "\u001b[34m\u001b[1mwandb\u001b[0m: \tlr_s: 0.0018259833457892896\n",
      "\u001b[34m\u001b[1mwandb\u001b[0m: \ts_lbd: 10.625818458037116\n",
      "\u001b[34m\u001b[1mwandb\u001b[0m: \ts_pretrain_epochs: 8\n",
      "\u001b[34m\u001b[1mwandb\u001b[0m: \tsan_sn: False\n",
      "\u001b[34m\u001b[1mwandb\u001b[0m: \ttrain_epochs: 250\n"
     ]
    },
    {
     "data": {
      "text/html": [
       "Tracking run with wandb version 0.13.10"
      ],
      "text/plain": [
       "<IPython.core.display.HTML object>"
      ]
     },
     "metadata": {},
     "output_type": "display_data"
    },
    {
     "data": {
      "text/html": [
       "Run data is saved locally in <code>/local/scratch/a/jgammell/sca_defense/wandb/run-20230219_044458-fex0dqhk</code>"
      ],
      "text/plain": [
       "<IPython.core.display.HTML object>"
      ]
     },
     "metadata": {},
     "output_type": "display_data"
    },
    {
     "data": {
      "text/html": [
       "Syncing run <strong><a href='https://wandb.ai/jgammell/data_sanitization/runs/fex0dqhk' target=\"_blank\">crimson-sweep-28</a></strong> to <a href='https://wandb.ai/jgammell/data_sanitization' target=\"_blank\">Weights & Biases</a> (<a href='https://wandb.me/run' target=\"_blank\">docs</a>)<br/>Sweep page: <a href='https://wandb.ai/jgammell/data_sanitization/sweeps/d1qsxwr1' target=\"_blank\">https://wandb.ai/jgammell/data_sanitization/sweeps/d1qsxwr1</a>"
      ],
      "text/plain": [
       "<IPython.core.display.HTML object>"
      ]
     },
     "metadata": {},
     "output_type": "display_data"
    },
    {
     "data": {
      "text/html": [
       " View project at <a href='https://wandb.ai/jgammell/data_sanitization' target=\"_blank\">https://wandb.ai/jgammell/data_sanitization</a>"
      ],
      "text/plain": [
       "<IPython.core.display.HTML object>"
      ]
     },
     "metadata": {},
     "output_type": "display_data"
    },
    {
     "data": {
      "text/html": [
       " View sweep at <a href='https://wandb.ai/jgammell/data_sanitization/sweeps/d1qsxwr1' target=\"_blank\">https://wandb.ai/jgammell/data_sanitization/sweeps/d1qsxwr1</a>"
      ],
      "text/plain": [
       "<IPython.core.display.HTML object>"
      ]
     },
     "metadata": {},
     "output_type": "display_data"
    },
    {
     "data": {
      "text/html": [
       " View run at <a href='https://wandb.ai/jgammell/data_sanitization/runs/fex0dqhk' target=\"_blank\">https://wandb.ai/jgammell/data_sanitization/runs/fex0dqhk</a>"
      ],
      "text/plain": [
       "<IPython.core.display.HTML object>"
      ]
     },
     "metadata": {},
     "output_type": "display_data"
    },
    {
     "data": {
      "text/html": [
       "Waiting for W&B process to finish... <strong style=\"color:green\">(success).</strong>"
      ],
      "text/plain": [
       "<IPython.core.display.HTML object>"
      ]
     },
     "metadata": {},
     "output_type": "display_data"
    },
    {
     "data": {
      "text/html": [
       "<style>\n",
       "    table.wandb td:nth-child(1) { padding: 0 10px; text-align: left ; width: auto;} td:nth-child(2) {text-align: left ; width: 100%}\n",
       "    .wandb-row { display: flex; flex-direction: row; flex-wrap: wrap; justify-content: flex-start; width: 100% }\n",
       "    .wandb-col { display: flex; flex-direction: column; flex-basis: 100%; flex: 1; padding: 10px; }\n",
       "    </style>\n",
       "<div class=\"wandb-row\"><div class=\"wandb-col\"><h3>Run history:</h3><br/><table class=\"wandb\"><tr><td>duration</td><td>█▄▅▂▂▃▁▄▂▃▃▂▂▅▃▄▂▃▁▄▄▄▃▂▃▂▃▃▅▃▂▃▄▄▄▃▆▃▃▁</td></tr><tr><td>te_c_acc</td><td>▁▁▆▇▆▇█▇▆▇▇▇█▇▇▆█▄█▆██▄███▇█▇▇█▄▆█▇██▇█▇</td></tr><tr><td>te_c_loss</td><td>▇▇▄▃▃▃▂▂▂▂▂▂▂▁▂▂▁▇▁▃▂▁▇▃▃▁▄▁▂▁▁█▄▁▄▃▂▂▃▃</td></tr><tr><td>te_c_oracle_loss</td><td>▁▁██████████████████████████████████████</td></tr><tr><td>te_s_em_loss</td><td>▁▁▂▂▃▃▃▃▄▄▄▄▄▄▄▄▄▇▄▅▄▅▇▅▅▅▆▅▅▆▆█▆▆▆▆▆▆▆▆</td></tr><tr><td>te_s_oracle_loss</td><td>▁▁██████████████████████████████████████</td></tr><tr><td>te_s_rec_loss</td><td>▁▁██████████████████████████████████████</td></tr><tr><td>tr_c_acc</td><td>▁▁▆▆▇▇▇█████████████████████████████████</td></tr><tr><td>tr_c_loss</td><td>██▇▆▆▅▅▅▅▅▄▄▄▄▄▄▄▃▃▃▃▃▃▃▂▂▂▂▂▂▂▂▂▂▂▁▁▁▁▁</td></tr><tr><td>tr_c_oracle_loss</td><td>▁▁██████████████████████████████████████</td></tr><tr><td>tr_s_em_loss</td><td>▁▁▂▃▃▃▄▄▄▄▄▄▅▅▅▅▅▅▅▅▅▆▆▆▆▆▆▆▇▇▇▇▇▇▇▇████</td></tr><tr><td>tr_s_oracle_loss</td><td>▁▁██████████████████████████████████████</td></tr><tr><td>tr_s_rec_loss</td><td>▁▁██████████████████████████████████████</td></tr></table><br/></div><div class=\"wandb-col\"><h3>Run summary:</h3><br/><table class=\"wandb\"><tr><td>duration</td><td>0.95027</td></tr><tr><td>te_c_acc</td><td>0.68662</td></tr><tr><td>te_c_loss</td><td>0.58524</td></tr><tr><td>te_c_oracle_loss</td><td>0.81692</td></tr><tr><td>te_s_em_loss</td><td>1.03169</td></tr><tr><td>te_s_oracle_loss</td><td>0.81692</td></tr><tr><td>te_s_rec_loss</td><td>0.04561</td></tr><tr><td>tr_c_acc</td><td>0.68099</td></tr><tr><td>tr_c_loss</td><td>0.37349</td></tr><tr><td>tr_c_oracle_loss</td><td>0.81707</td></tr><tr><td>tr_s_em_loss</td><td>1.04791</td></tr><tr><td>tr_s_oracle_loss</td><td>0.81678</td></tr><tr><td>tr_s_rec_loss</td><td>0.04561</td></tr></table><br/></div></div>"
      ],
      "text/plain": [
       "<IPython.core.display.HTML object>"
      ]
     },
     "metadata": {},
     "output_type": "display_data"
    },
    {
     "data": {
      "text/html": [
       " View run <strong style=\"color:#cdcd00\">crimson-sweep-28</strong> at: <a href='https://wandb.ai/jgammell/data_sanitization/runs/fex0dqhk' target=\"_blank\">https://wandb.ai/jgammell/data_sanitization/runs/fex0dqhk</a><br/>Synced 5 W&B file(s), 0 media file(s), 0 artifact file(s) and 0 other file(s)"
      ],
      "text/plain": [
       "<IPython.core.display.HTML object>"
      ]
     },
     "metadata": {},
     "output_type": "display_data"
    },
    {
     "data": {
      "text/html": [
       "Find logs at: <code>./wandb/run-20230219_044458-fex0dqhk/logs</code>"
      ],
      "text/plain": [
       "<IPython.core.display.HTML object>"
      ]
     },
     "metadata": {},
     "output_type": "display_data"
    },
    {
     "name": "stderr",
     "output_type": "stream",
     "text": [
      "\u001b[34m\u001b[1mwandb\u001b[0m: Sweep Agent: Waiting for job.\n",
      "\u001b[34m\u001b[1mwandb\u001b[0m: Job received.\n",
      "\u001b[34m\u001b[1mwandb\u001b[0m: Agent Starting Run: uz2ztmlx with config:\n",
      "\u001b[34m\u001b[1mwandb\u001b[0m: \tatenc_bottleneck_width: 8\n",
      "\u001b[34m\u001b[1mwandb\u001b[0m: \tatenc_sn: True\n",
      "\u001b[34m\u001b[1mwandb\u001b[0m: \tbeta1_c: 0.8559444681339724\n",
      "\u001b[34m\u001b[1mwandb\u001b[0m: \tbeta1_s: 0.6686861995702735\n",
      "\u001b[34m\u001b[1mwandb\u001b[0m: \tbeta2_c: 0.999\n",
      "\u001b[34m\u001b[1mwandb\u001b[0m: \tbeta2_s: 0.999\n",
      "\u001b[34m\u001b[1mwandb\u001b[0m: \tc_pretrain_epochs: 1\n",
      "\u001b[34m\u001b[1mwandb\u001b[0m: \tclass_sn: False\n",
      "\u001b[34m\u001b[1mwandb\u001b[0m: \tlr_c: 0.0010525730176949423\n",
      "\u001b[34m\u001b[1mwandb\u001b[0m: \tlr_s: 0.0024314373643980736\n",
      "\u001b[34m\u001b[1mwandb\u001b[0m: \ts_lbd: 57.849033965133714\n",
      "\u001b[34m\u001b[1mwandb\u001b[0m: \ts_pretrain_epochs: 2\n",
      "\u001b[34m\u001b[1mwandb\u001b[0m: \tsan_sn: True\n",
      "\u001b[34m\u001b[1mwandb\u001b[0m: \ttrain_epochs: 250\n"
     ]
    },
    {
     "data": {
      "text/html": [
       "Tracking run with wandb version 0.13.10"
      ],
      "text/plain": [
       "<IPython.core.display.HTML object>"
      ]
     },
     "metadata": {},
     "output_type": "display_data"
    },
    {
     "data": {
      "text/html": [
       "Run data is saved locally in <code>/local/scratch/a/jgammell/sca_defense/wandb/run-20230219_050949-uz2ztmlx</code>"
      ],
      "text/plain": [
       "<IPython.core.display.HTML object>"
      ]
     },
     "metadata": {},
     "output_type": "display_data"
    },
    {
     "data": {
      "text/html": [
       "Syncing run <strong><a href='https://wandb.ai/jgammell/data_sanitization/runs/uz2ztmlx' target=\"_blank\">flowing-sweep-29</a></strong> to <a href='https://wandb.ai/jgammell/data_sanitization' target=\"_blank\">Weights & Biases</a> (<a href='https://wandb.me/run' target=\"_blank\">docs</a>)<br/>Sweep page: <a href='https://wandb.ai/jgammell/data_sanitization/sweeps/d1qsxwr1' target=\"_blank\">https://wandb.ai/jgammell/data_sanitization/sweeps/d1qsxwr1</a>"
      ],
      "text/plain": [
       "<IPython.core.display.HTML object>"
      ]
     },
     "metadata": {},
     "output_type": "display_data"
    },
    {
     "data": {
      "text/html": [
       " View project at <a href='https://wandb.ai/jgammell/data_sanitization' target=\"_blank\">https://wandb.ai/jgammell/data_sanitization</a>"
      ],
      "text/plain": [
       "<IPython.core.display.HTML object>"
      ]
     },
     "metadata": {},
     "output_type": "display_data"
    },
    {
     "data": {
      "text/html": [
       " View sweep at <a href='https://wandb.ai/jgammell/data_sanitization/sweeps/d1qsxwr1' target=\"_blank\">https://wandb.ai/jgammell/data_sanitization/sweeps/d1qsxwr1</a>"
      ],
      "text/plain": [
       "<IPython.core.display.HTML object>"
      ]
     },
     "metadata": {},
     "output_type": "display_data"
    },
    {
     "data": {
      "text/html": [
       " View run at <a href='https://wandb.ai/jgammell/data_sanitization/runs/uz2ztmlx' target=\"_blank\">https://wandb.ai/jgammell/data_sanitization/runs/uz2ztmlx</a>"
      ],
      "text/plain": [
       "<IPython.core.display.HTML object>"
      ]
     },
     "metadata": {},
     "output_type": "display_data"
    },
    {
     "data": {
      "text/html": [
       "Waiting for W&B process to finish... <strong style=\"color:green\">(success).</strong>"
      ],
      "text/plain": [
       "<IPython.core.display.HTML object>"
      ]
     },
     "metadata": {},
     "output_type": "display_data"
    },
    {
     "data": {
      "text/html": [
       "<style>\n",
       "    table.wandb td:nth-child(1) { padding: 0 10px; text-align: left ; width: auto;} td:nth-child(2) {text-align: left ; width: 100%}\n",
       "    .wandb-row { display: flex; flex-direction: row; flex-wrap: wrap; justify-content: flex-start; width: 100% }\n",
       "    .wandb-col { display: flex; flex-direction: column; flex-basis: 100%; flex: 1; padding: 10px; }\n",
       "    </style>\n",
       "<div class=\"wandb-row\"><div class=\"wandb-col\"><h3>Run history:</h3><br/><table class=\"wandb\"><tr><td>duration</td><td>▇▃▇▄▃▃▄▁▃▂▃▁▄▄▁▅▃▅▄▅▄▅▃▃▄▄▄▅▅█▄▆▃▅▃▆▆▆▄▂</td></tr><tr><td>te_c_acc</td><td>▃▇▇▆█▆▇█▆█▃▆█▅▇▁▄▅▆▅▆▂▄▇▄▃▄▅▅▅▃▄▄▃▄▄▅▄▅▅</td></tr><tr><td>te_c_loss</td><td>▄▁█▂▁▁▁▂▃▂█▃▂▃▂▆▄▃▃▃▃▄▄▂▄▄▄▄▃▄▅▄▄▄▄▄▄▄▄▄</td></tr><tr><td>te_c_oracle_loss</td><td>▁▂▂▃▄▃▅▄▆▅▆▅▅▅▅▄▅▆▅▅▅▅▇▆▆▆▇▇█▆▇▆▇▇▇█████</td></tr><tr><td>te_s_em_loss</td><td>▁▇█▂▂▂▂▂▂▁▄▃▁▂▂▁▂▂▁▁▁▁▂▁▁▁▂▁▁▂▂▁▂▁▁▁▁▁▁▁</td></tr><tr><td>te_s_oracle_loss</td><td>▁▂▂▃▄▃▅▄▆▅▆▅▅▅▅▄▅▆▅▅▅▅▇▆▆▆▇▇█▆▇▆▇▇▇█████</td></tr><tr><td>te_s_rec_loss</td><td>▁▃▅▆▅▇▅▇▇▅█▅▅▅▅▆▄▅▄▄▄▄▆▅▄▄▅▅▅▅▅▄▅▅▅▅▇▅▇▆</td></tr><tr><td>tr_c_acc</td><td>▁██▆▅▅▇▅▆▅▅▅▆▃▄▄▃▄▄▄▃▂▃▂▃▂▄▃▂▂▃▃▂▂▁▂▂▂▂▃</td></tr><tr><td>tr_c_loss</td><td>▇▄▇▂▆▅▁▅▁▂▃▂▃▆▅█▅▄▅▄▅█▆█▆▆▅▅▆▇▅▇▆▆▆▆▆▆▆▅</td></tr><tr><td>tr_c_oracle_loss</td><td>▁▂▃▄▄▅▅▄▆▅▆▅▅▆▄▆▅▆▅▅▅▅▇▇▆▆▇▇█▇▇▆▇▇▇█████</td></tr><tr><td>tr_s_em_loss</td><td>▁██▇▅▆▄▄▃▂▃▂▂▃▂▄▂▂▂▂▂▂▂▂▂▂▂▁▂▂▂▁▂▁▁▁▁▁▁▁</td></tr><tr><td>tr_s_oracle_loss</td><td>▁▂▃▄▄▅▅▄▆▅▆▅▅▆▄▆▅▆▅▅▅▅▇▇▆▆▇▇█▇▇▆▇▇▇█████</td></tr><tr><td>tr_s_rec_loss</td><td>▂▄▇▆▆█▄▆▄▃▄▃▃▄▃▄▃▂▃▂▂▂▃▃▂▂▂▂▂▄▂▂▁▂▂▂▂▂▂▁</td></tr></table><br/></div><div class=\"wandb-col\"><h3>Run summary:</h3><br/><table class=\"wandb\"><tr><td>duration</td><td>0.95596</td></tr><tr><td>te_c_acc</td><td>0.52803</td></tr><tr><td>te_c_loss</td><td>0.69278</td></tr><tr><td>te_c_oracle_loss</td><td>0.8348</td></tr><tr><td>te_s_em_loss</td><td>0.69819</td></tr><tr><td>te_s_oracle_loss</td><td>0.8348</td></tr><tr><td>te_s_rec_loss</td><td>0.24259</td></tr><tr><td>tr_c_acc</td><td>0.52782</td></tr><tr><td>tr_c_loss</td><td>0.68719</td></tr><tr><td>tr_c_oracle_loss</td><td>0.83127</td></tr><tr><td>tr_s_em_loss</td><td>0.69658</td></tr><tr><td>tr_s_oracle_loss</td><td>0.8314</td></tr><tr><td>tr_s_rec_loss</td><td>0.2419</td></tr></table><br/></div></div>"
      ],
      "text/plain": [
       "<IPython.core.display.HTML object>"
      ]
     },
     "metadata": {},
     "output_type": "display_data"
    },
    {
     "data": {
      "text/html": [
       " View run <strong style=\"color:#cdcd00\">flowing-sweep-29</strong> at: <a href='https://wandb.ai/jgammell/data_sanitization/runs/uz2ztmlx' target=\"_blank\">https://wandb.ai/jgammell/data_sanitization/runs/uz2ztmlx</a><br/>Synced 5 W&B file(s), 0 media file(s), 0 artifact file(s) and 0 other file(s)"
      ],
      "text/plain": [
       "<IPython.core.display.HTML object>"
      ]
     },
     "metadata": {},
     "output_type": "display_data"
    },
    {
     "data": {
      "text/html": [
       "Find logs at: <code>./wandb/run-20230219_050949-uz2ztmlx/logs</code>"
      ],
      "text/plain": [
       "<IPython.core.display.HTML object>"
      ]
     },
     "metadata": {},
     "output_type": "display_data"
    },
    {
     "name": "stderr",
     "output_type": "stream",
     "text": [
      "\u001b[34m\u001b[1mwandb\u001b[0m: Agent Starting Run: 6b1nvnaw with config:\n",
      "\u001b[34m\u001b[1mwandb\u001b[0m: \tatenc_bottleneck_width: 4\n",
      "\u001b[34m\u001b[1mwandb\u001b[0m: \tatenc_sn: False\n",
      "\u001b[34m\u001b[1mwandb\u001b[0m: \tbeta1_c: 0.4398056808217459\n",
      "\u001b[34m\u001b[1mwandb\u001b[0m: \tbeta1_s: 0.624475802857627\n",
      "\u001b[34m\u001b[1mwandb\u001b[0m: \tbeta2_c: 0.999\n",
      "\u001b[34m\u001b[1mwandb\u001b[0m: \tbeta2_s: 0.999\n",
      "\u001b[34m\u001b[1mwandb\u001b[0m: \tc_pretrain_epochs: 14\n",
      "\u001b[34m\u001b[1mwandb\u001b[0m: \tclass_sn: False\n",
      "\u001b[34m\u001b[1mwandb\u001b[0m: \tlr_c: 0.0003421234002906815\n",
      "\u001b[34m\u001b[1mwandb\u001b[0m: \tlr_s: 0.000722904404615501\n",
      "\u001b[34m\u001b[1mwandb\u001b[0m: \ts_lbd: 0.11312741612695904\n",
      "\u001b[34m\u001b[1mwandb\u001b[0m: \ts_pretrain_epochs: 17\n",
      "\u001b[34m\u001b[1mwandb\u001b[0m: \tsan_sn: True\n",
      "\u001b[34m\u001b[1mwandb\u001b[0m: \ttrain_epochs: 250\n"
     ]
    },
    {
     "data": {
      "text/html": [
       "Tracking run with wandb version 0.13.10"
      ],
      "text/plain": [
       "<IPython.core.display.HTML object>"
      ]
     },
     "metadata": {},
     "output_type": "display_data"
    },
    {
     "data": {
      "text/html": [
       "Run data is saved locally in <code>/local/scratch/a/jgammell/sca_defense/wandb/run-20230219_053648-6b1nvnaw</code>"
      ],
      "text/plain": [
       "<IPython.core.display.HTML object>"
      ]
     },
     "metadata": {},
     "output_type": "display_data"
    },
    {
     "data": {
      "text/html": [
       "Syncing run <strong><a href='https://wandb.ai/jgammell/data_sanitization/runs/6b1nvnaw' target=\"_blank\">smooth-sweep-30</a></strong> to <a href='https://wandb.ai/jgammell/data_sanitization' target=\"_blank\">Weights & Biases</a> (<a href='https://wandb.me/run' target=\"_blank\">docs</a>)<br/>Sweep page: <a href='https://wandb.ai/jgammell/data_sanitization/sweeps/d1qsxwr1' target=\"_blank\">https://wandb.ai/jgammell/data_sanitization/sweeps/d1qsxwr1</a>"
      ],
      "text/plain": [
       "<IPython.core.display.HTML object>"
      ]
     },
     "metadata": {},
     "output_type": "display_data"
    },
    {
     "data": {
      "text/html": [
       " View project at <a href='https://wandb.ai/jgammell/data_sanitization' target=\"_blank\">https://wandb.ai/jgammell/data_sanitization</a>"
      ],
      "text/plain": [
       "<IPython.core.display.HTML object>"
      ]
     },
     "metadata": {},
     "output_type": "display_data"
    },
    {
     "data": {
      "text/html": [
       " View sweep at <a href='https://wandb.ai/jgammell/data_sanitization/sweeps/d1qsxwr1' target=\"_blank\">https://wandb.ai/jgammell/data_sanitization/sweeps/d1qsxwr1</a>"
      ],
      "text/plain": [
       "<IPython.core.display.HTML object>"
      ]
     },
     "metadata": {},
     "output_type": "display_data"
    },
    {
     "data": {
      "text/html": [
       " View run at <a href='https://wandb.ai/jgammell/data_sanitization/runs/6b1nvnaw' target=\"_blank\">https://wandb.ai/jgammell/data_sanitization/runs/6b1nvnaw</a>"
      ],
      "text/plain": [
       "<IPython.core.display.HTML object>"
      ]
     },
     "metadata": {},
     "output_type": "display_data"
    },
    {
     "name": "stdout",
     "output_type": "stream",
     "text": [
      "No existing autoencoder found. Training a new one.\n",
      "{'init_loss': 1.0072589, 'final_loss': 0.20721912}\n"
     ]
    },
    {
     "data": {
      "text/html": [
       "Waiting for W&B process to finish... <strong style=\"color:green\">(success).</strong>"
      ],
      "text/plain": [
       "<IPython.core.display.HTML object>"
      ]
     },
     "metadata": {},
     "output_type": "display_data"
    },
    {
     "data": {
      "text/html": [
       "<style>\n",
       "    table.wandb td:nth-child(1) { padding: 0 10px; text-align: left ; width: auto;} td:nth-child(2) {text-align: left ; width: 100%}\n",
       "    .wandb-row { display: flex; flex-direction: row; flex-wrap: wrap; justify-content: flex-start; width: 100% }\n",
       "    .wandb-col { display: flex; flex-direction: column; flex-basis: 100%; flex: 1; padding: 10px; }\n",
       "    </style>\n",
       "<div class=\"wandb-row\"><div class=\"wandb-col\"><h3>Run history:</h3><br/><table class=\"wandb\"><tr><td>duration</td><td>▂▄▃▂▅▃▂▁▃▆▆▂▄▄▃▂▄▃▁▃▃▃▂▃█▆▂▃▃▃▁▄▃▅▃▂▅▅▄▄</td></tr><tr><td>te_c_acc</td><td>▁▁▁▅█▆▅▄▄▃▃▁▂▂▁▂▁▂▂▁▂▂▂▂▁▂▂▂▂▂▁▁▁▁▁▂▁▁▂▁</td></tr><tr><td>te_c_loss</td><td>▇▇▇▅▁▅▅▆▆▆▇▇▇▇█▇█▇▇█▇▇▇▇█▇▇▇▇▇█▇█▇█▇██▇█</td></tr><tr><td>te_c_oracle_loss</td><td>▁▁▁▁▁▂▃▅▆▆▆▅▅▅▄▅▅▅▅▅▅▅▅▅▅▆▅▅▅▆▆▆▆▆▆▆▅██▇</td></tr><tr><td>te_s_em_loss</td><td>▁▁▁▂█▄▃▂▁▂▁▁▁▁▁▁▁▁▁▁▁▁▁▁▁▁▁▁▁▁▁▁▁▁▁▁▁▁▁▁</td></tr><tr><td>te_s_oracle_loss</td><td>▁▁▁▁▁▂▃▅▆▆▆▅▅▅▄▅▅▅▅▅▅▅▅▅▅▆▅▅▅▆▆▆▆▆▆▆▅██▇</td></tr><tr><td>te_s_rec_loss</td><td>▁▁▁▁▁█▆▅▇▆▅▄▅▄▄▃▃▃▃▄▃▃▄▃▂▄▃▃▃▃▃▂▂▂▂▃▂▂▂▂</td></tr><tr><td>tr_c_acc</td><td>▁▁▁▆█▆▆▅▄▃▂▂▂▂▂▂▁▂▁▂▂▂▂▂▂▁▂▂▂▁▁▁▁▁▂▂▁▁▁▂</td></tr><tr><td>tr_c_loss</td><td>███▄▁▅▅▆▇▇▇█████████████████████████████</td></tr><tr><td>tr_c_oracle_loss</td><td>▁▁▁▁▁▂▃▅▆▆▆▅▅▅▅▅▅▅▅▅▅▅▅▅▅▅▅▅▅▆▆▆▆▆▆▆▅▇█▆</td></tr><tr><td>tr_s_em_loss</td><td>▁▁▁▃█▃▃▂▂▁▁▁▁▁▁▁▁▁▁▁▁▁▁▁▁▁▁▁▁▁▁▁▁▁▁▁▁▁▁▁</td></tr><tr><td>tr_s_oracle_loss</td><td>▁▁▁▁▁▂▃▅▆▆▆▅▅▅▅▅▅▅▅▅▅▅▅▅▅▅▅▅▅▆▆▆▆▆▆▆▅▇█▆</td></tr><tr><td>tr_s_rec_loss</td><td>▁▁▁▁▁█▆▅▆▆▅▄▅▄▄▃▃▃▃▄▃▃▄▃▂▃▃▃▃▃▃▃▂▂▂▃▃▂▂▂</td></tr></table><br/></div><div class=\"wandb-col\"><h3>Run summary:</h3><br/><table class=\"wandb\"><tr><td>duration</td><td>0.95368</td></tr><tr><td>te_c_acc</td><td>0.51055</td></tr><tr><td>te_c_loss</td><td>0.69591</td></tr><tr><td>te_c_oracle_loss</td><td>1.34469</td></tr><tr><td>te_s_em_loss</td><td>0.70279</td></tr><tr><td>te_s_oracle_loss</td><td>1.34469</td></tr><tr><td>te_s_rec_loss</td><td>0.48515</td></tr><tr><td>tr_c_acc</td><td>0.5153</td></tr><tr><td>tr_c_loss</td><td>0.69243</td></tr><tr><td>tr_c_oracle_loss</td><td>1.32996</td></tr><tr><td>tr_s_em_loss</td><td>0.69823</td></tr><tr><td>tr_s_oracle_loss</td><td>1.32986</td></tr><tr><td>tr_s_rec_loss</td><td>0.48522</td></tr></table><br/></div></div>"
      ],
      "text/plain": [
       "<IPython.core.display.HTML object>"
      ]
     },
     "metadata": {},
     "output_type": "display_data"
    },
    {
     "data": {
      "text/html": [
       " View run <strong style=\"color:#cdcd00\">smooth-sweep-30</strong> at: <a href='https://wandb.ai/jgammell/data_sanitization/runs/6b1nvnaw' target=\"_blank\">https://wandb.ai/jgammell/data_sanitization/runs/6b1nvnaw</a><br/>Synced 6 W&B file(s), 0 media file(s), 0 artifact file(s) and 0 other file(s)"
      ],
      "text/plain": [
       "<IPython.core.display.HTML object>"
      ]
     },
     "metadata": {},
     "output_type": "display_data"
    },
    {
     "data": {
      "text/html": [
       "Find logs at: <code>./wandb/run-20230219_053648-6b1nvnaw/logs</code>"
      ],
      "text/plain": [
       "<IPython.core.display.HTML object>"
      ]
     },
     "metadata": {},
     "output_type": "display_data"
    },
    {
     "name": "stderr",
     "output_type": "stream",
     "text": [
      "\u001b[34m\u001b[1mwandb\u001b[0m: Agent Starting Run: cjnovd12 with config:\n",
      "\u001b[34m\u001b[1mwandb\u001b[0m: \tatenc_bottleneck_width: 16\n",
      "\u001b[34m\u001b[1mwandb\u001b[0m: \tatenc_sn: True\n",
      "\u001b[34m\u001b[1mwandb\u001b[0m: \tbeta1_c: 0.5907837618994021\n",
      "\u001b[34m\u001b[1mwandb\u001b[0m: \tbeta1_s: 0.1460898979798854\n",
      "\u001b[34m\u001b[1mwandb\u001b[0m: \tbeta2_c: 0.999\n",
      "\u001b[34m\u001b[1mwandb\u001b[0m: \tbeta2_s: 0.999\n",
      "\u001b[34m\u001b[1mwandb\u001b[0m: \tc_pretrain_epochs: 15\n",
      "\u001b[34m\u001b[1mwandb\u001b[0m: \tclass_sn: True\n",
      "\u001b[34m\u001b[1mwandb\u001b[0m: \tlr_c: 0.0003418237806427161\n",
      "\u001b[34m\u001b[1mwandb\u001b[0m: \tlr_s: 0.002857788948499647\n",
      "\u001b[34m\u001b[1mwandb\u001b[0m: \ts_lbd: 0.3814261298798948\n",
      "\u001b[34m\u001b[1mwandb\u001b[0m: \ts_pretrain_epochs: 9\n",
      "\u001b[34m\u001b[1mwandb\u001b[0m: \tsan_sn: False\n",
      "\u001b[34m\u001b[1mwandb\u001b[0m: \ttrain_epochs: 250\n"
     ]
    },
    {
     "data": {
      "text/html": [
       "Tracking run with wandb version 0.13.10"
      ],
      "text/plain": [
       "<IPython.core.display.HTML object>"
      ]
     },
     "metadata": {},
     "output_type": "display_data"
    },
    {
     "data": {
      "text/html": [
       "Run data is saved locally in <code>/local/scratch/a/jgammell/sca_defense/wandb/run-20230219_060524-cjnovd12</code>"
      ],
      "text/plain": [
       "<IPython.core.display.HTML object>"
      ]
     },
     "metadata": {},
     "output_type": "display_data"
    },
    {
     "data": {
      "text/html": [
       "Syncing run <strong><a href='https://wandb.ai/jgammell/data_sanitization/runs/cjnovd12' target=\"_blank\">vivid-sweep-31</a></strong> to <a href='https://wandb.ai/jgammell/data_sanitization' target=\"_blank\">Weights & Biases</a> (<a href='https://wandb.me/run' target=\"_blank\">docs</a>)<br/>Sweep page: <a href='https://wandb.ai/jgammell/data_sanitization/sweeps/d1qsxwr1' target=\"_blank\">https://wandb.ai/jgammell/data_sanitization/sweeps/d1qsxwr1</a>"
      ],
      "text/plain": [
       "<IPython.core.display.HTML object>"
      ]
     },
     "metadata": {},
     "output_type": "display_data"
    },
    {
     "data": {
      "text/html": [
       " View project at <a href='https://wandb.ai/jgammell/data_sanitization' target=\"_blank\">https://wandb.ai/jgammell/data_sanitization</a>"
      ],
      "text/plain": [
       "<IPython.core.display.HTML object>"
      ]
     },
     "metadata": {},
     "output_type": "display_data"
    },
    {
     "data": {
      "text/html": [
       " View sweep at <a href='https://wandb.ai/jgammell/data_sanitization/sweeps/d1qsxwr1' target=\"_blank\">https://wandb.ai/jgammell/data_sanitization/sweeps/d1qsxwr1</a>"
      ],
      "text/plain": [
       "<IPython.core.display.HTML object>"
      ]
     },
     "metadata": {},
     "output_type": "display_data"
    },
    {
     "data": {
      "text/html": [
       " View run at <a href='https://wandb.ai/jgammell/data_sanitization/runs/cjnovd12' target=\"_blank\">https://wandb.ai/jgammell/data_sanitization/runs/cjnovd12</a>"
      ],
      "text/plain": [
       "<IPython.core.display.HTML object>"
      ]
     },
     "metadata": {},
     "output_type": "display_data"
    },
    {
     "data": {
      "text/html": [
       "Waiting for W&B process to finish... <strong style=\"color:green\">(success).</strong>"
      ],
      "text/plain": [
       "<IPython.core.display.HTML object>"
      ]
     },
     "metadata": {},
     "output_type": "display_data"
    },
    {
     "data": {
      "text/html": [
       "<style>\n",
       "    table.wandb td:nth-child(1) { padding: 0 10px; text-align: left ; width: auto;} td:nth-child(2) {text-align: left ; width: 100%}\n",
       "    .wandb-row { display: flex; flex-direction: row; flex-wrap: wrap; justify-content: flex-start; width: 100% }\n",
       "    .wandb-col { display: flex; flex-direction: column; flex-basis: 100%; flex: 1; padding: 10px; }\n",
       "    </style>\n",
       "<div class=\"wandb-row\"><div class=\"wandb-col\"><h3>Run history:</h3><br/><table class=\"wandb\"><tr><td>duration</td><td>▅▃▄▆▃▃▂▅▇▃▄▂▁▃▄▄▄▃▃▄▄█▃▅▂▄▂▃▄▂▄▄▅▃▄▃▃▂▅▃</td></tr><tr><td>te_c_acc</td><td>▁▁▇█▃▃▄▄▄▃▄▄▄▅▅▄▅▃▅▅▄▅▄▄▅▅▅▂▅▃▅▄▅▅▅▅▅▅▅▅</td></tr><tr><td>te_c_loss</td><td>▇▇▂▁▇▆▆▆▆▆▆▆▆▅▅▆▅▇▅▅▆▅▆▆▅▅▅█▅▇▅▆▅▆▅▅▆▅▅▅</td></tr><tr><td>te_c_oracle_loss</td><td>▁▁▁▁████████████████████████████████████</td></tr><tr><td>te_s_em_loss</td><td>▁▁▅█▁▁▁▁▂▂▂▂▂▂▂▂▂▂▂▂▂▂▂▂▂▂▂▃▂▃▂▂▂▂▂▂▂▂▂▂</td></tr><tr><td>te_s_oracle_loss</td><td>▁▁▁▁████████████████████████████████████</td></tr><tr><td>te_s_rec_loss</td><td>▁▁▁▁████████████████████████████████████</td></tr><tr><td>tr_c_acc</td><td>▁▁██▃▄▄▄▄▄▄▄▄▄▄▄▅▅▅▅▅▅▅▅▅▅▅▅▅▅▅▅▅▅▅▅▅▅▅▅</td></tr><tr><td>tr_c_loss</td><td>██▂▁▇▆▆▆▆▆▅▅▅▅▅▅▅▅▅▅▅▄▄▄▄▄▄▄▄▄▄▄▄▄▄▄▄▃▃▃</td></tr><tr><td>tr_c_oracle_loss</td><td>▁▁▁▁████████████████████████████████████</td></tr><tr><td>tr_s_em_loss</td><td>▁▁▄█▁▁▁▂▂▂▂▂▂▂▂▂▂▂▂▂▂▂▂▂▂▂▂▂▂▂▂▂▂▂▂▂▂▂▂▂</td></tr><tr><td>tr_s_oracle_loss</td><td>▁▁▁▁████████████████████████████████████</td></tr><tr><td>tr_s_rec_loss</td><td>▁▁▁▁████████████████████████████████████</td></tr></table><br/></div><div class=\"wandb-col\"><h3>Run summary:</h3><br/><table class=\"wandb\"><tr><td>duration</td><td>0.95745</td></tr><tr><td>te_c_acc</td><td>0.7334</td></tr><tr><td>te_c_loss</td><td>0.58801</td></tr><tr><td>te_c_oracle_loss</td><td>0.74906</td></tr><tr><td>te_s_em_loss</td><td>1.16627</td></tr><tr><td>te_s_oracle_loss</td><td>0.74906</td></tr><tr><td>te_s_rec_loss</td><td>0.18946</td></tr><tr><td>tr_c_acc</td><td>0.73369</td></tr><tr><td>tr_c_loss</td><td>0.29151</td></tr><tr><td>tr_c_oracle_loss</td><td>0.74905</td></tr><tr><td>tr_s_em_loss</td><td>1.11685</td></tr><tr><td>tr_s_oracle_loss</td><td>0.74902</td></tr><tr><td>tr_s_rec_loss</td><td>0.1882</td></tr></table><br/></div></div>"
      ],
      "text/plain": [
       "<IPython.core.display.HTML object>"
      ]
     },
     "metadata": {},
     "output_type": "display_data"
    },
    {
     "data": {
      "text/html": [
       " View run <strong style=\"color:#cdcd00\">vivid-sweep-31</strong> at: <a href='https://wandb.ai/jgammell/data_sanitization/runs/cjnovd12' target=\"_blank\">https://wandb.ai/jgammell/data_sanitization/runs/cjnovd12</a><br/>Synced 5 W&B file(s), 0 media file(s), 0 artifact file(s) and 0 other file(s)"
      ],
      "text/plain": [
       "<IPython.core.display.HTML object>"
      ]
     },
     "metadata": {},
     "output_type": "display_data"
    },
    {
     "data": {
      "text/html": [
       "Find logs at: <code>./wandb/run-20230219_060524-cjnovd12/logs</code>"
      ],
      "text/plain": [
       "<IPython.core.display.HTML object>"
      ]
     },
     "metadata": {},
     "output_type": "display_data"
    },
    {
     "name": "stderr",
     "output_type": "stream",
     "text": [
      "\u001b[34m\u001b[1mwandb\u001b[0m: Agent Starting Run: sg8jlc0p with config:\n",
      "\u001b[34m\u001b[1mwandb\u001b[0m: \tatenc_bottleneck_width: 16\n",
      "\u001b[34m\u001b[1mwandb\u001b[0m: \tatenc_sn: False\n",
      "\u001b[34m\u001b[1mwandb\u001b[0m: \tbeta1_c: 0.8767409759817105\n",
      "\u001b[34m\u001b[1mwandb\u001b[0m: \tbeta1_s: 0.5423022339306436\n",
      "\u001b[34m\u001b[1mwandb\u001b[0m: \tbeta2_c: 0.999\n",
      "\u001b[34m\u001b[1mwandb\u001b[0m: \tbeta2_s: 0.999\n",
      "\u001b[34m\u001b[1mwandb\u001b[0m: \tc_pretrain_epochs: 4\n",
      "\u001b[34m\u001b[1mwandb\u001b[0m: \tclass_sn: True\n",
      "\u001b[34m\u001b[1mwandb\u001b[0m: \tlr_c: 0.0007170071981770667\n",
      "\u001b[34m\u001b[1mwandb\u001b[0m: \tlr_s: 0.001271170453119554\n",
      "\u001b[34m\u001b[1mwandb\u001b[0m: \ts_lbd: 0.012800804757168363\n",
      "\u001b[34m\u001b[1mwandb\u001b[0m: \ts_pretrain_epochs: 13\n",
      "\u001b[34m\u001b[1mwandb\u001b[0m: \tsan_sn: False\n",
      "\u001b[34m\u001b[1mwandb\u001b[0m: \ttrain_epochs: 250\n"
     ]
    },
    {
     "data": {
      "text/html": [
       "Tracking run with wandb version 0.13.10"
      ],
      "text/plain": [
       "<IPython.core.display.HTML object>"
      ]
     },
     "metadata": {},
     "output_type": "display_data"
    },
    {
     "data": {
      "text/html": [
       "Run data is saved locally in <code>/local/scratch/a/jgammell/sca_defense/wandb/run-20230219_063119-sg8jlc0p</code>"
      ],
      "text/plain": [
       "<IPython.core.display.HTML object>"
      ]
     },
     "metadata": {},
     "output_type": "display_data"
    },
    {
     "data": {
      "text/html": [
       "Syncing run <strong><a href='https://wandb.ai/jgammell/data_sanitization/runs/sg8jlc0p' target=\"_blank\">deft-sweep-32</a></strong> to <a href='https://wandb.ai/jgammell/data_sanitization' target=\"_blank\">Weights & Biases</a> (<a href='https://wandb.me/run' target=\"_blank\">docs</a>)<br/>Sweep page: <a href='https://wandb.ai/jgammell/data_sanitization/sweeps/d1qsxwr1' target=\"_blank\">https://wandb.ai/jgammell/data_sanitization/sweeps/d1qsxwr1</a>"
      ],
      "text/plain": [
       "<IPython.core.display.HTML object>"
      ]
     },
     "metadata": {},
     "output_type": "display_data"
    },
    {
     "data": {
      "text/html": [
       " View project at <a href='https://wandb.ai/jgammell/data_sanitization' target=\"_blank\">https://wandb.ai/jgammell/data_sanitization</a>"
      ],
      "text/plain": [
       "<IPython.core.display.HTML object>"
      ]
     },
     "metadata": {},
     "output_type": "display_data"
    },
    {
     "data": {
      "text/html": [
       " View sweep at <a href='https://wandb.ai/jgammell/data_sanitization/sweeps/d1qsxwr1' target=\"_blank\">https://wandb.ai/jgammell/data_sanitization/sweeps/d1qsxwr1</a>"
      ],
      "text/plain": [
       "<IPython.core.display.HTML object>"
      ]
     },
     "metadata": {},
     "output_type": "display_data"
    },
    {
     "data": {
      "text/html": [
       " View run at <a href='https://wandb.ai/jgammell/data_sanitization/runs/sg8jlc0p' target=\"_blank\">https://wandb.ai/jgammell/data_sanitization/runs/sg8jlc0p</a>"
      ],
      "text/plain": [
       "<IPython.core.display.HTML object>"
      ]
     },
     "metadata": {},
     "output_type": "display_data"
    },
    {
     "data": {
      "text/html": [
       "Waiting for W&B process to finish... <strong style=\"color:green\">(success).</strong>"
      ],
      "text/plain": [
       "<IPython.core.display.HTML object>"
      ]
     },
     "metadata": {},
     "output_type": "display_data"
    },
    {
     "data": {
      "text/html": [
       "<style>\n",
       "    table.wandb td:nth-child(1) { padding: 0 10px; text-align: left ; width: auto;} td:nth-child(2) {text-align: left ; width: 100%}\n",
       "    .wandb-row { display: flex; flex-direction: row; flex-wrap: wrap; justify-content: flex-start; width: 100% }\n",
       "    .wandb-col { display: flex; flex-direction: column; flex-basis: 100%; flex: 1; padding: 10px; }\n",
       "    </style>\n",
       "<div class=\"wandb-row\"><div class=\"wandb-col\"><h3>Run history:</h3><br/><table class=\"wandb\"><tr><td>duration</td><td>▄█▂▄▃▅▅▄▇▃▄▄▅▃▁▃▃▅▄▄▂▂▄▅▃▄▁▅▄▄▂▃▂▂▃▂▁▄▃▄</td></tr><tr><td>te_c_acc</td><td>▁▁█▄▄▅▃▄▅▄▄▄▄▄▄▄▄▄▄▄▄▃▄▄▄▃▃▃▃▃▃▃▃▃▃▃▃▃▃▃</td></tr><tr><td>te_c_loss</td><td>██▁▇▇▆▇▇▆▇▇▇▇▇▇▇▇▇▇▇▇█▇▇▇▇▇▇▇▇▇▇█████▇██</td></tr><tr><td>te_c_oracle_loss</td><td>▁▁▁█████████████████████████▇▇▇▇▇▇▇▇▇▇▇▇</td></tr><tr><td>te_s_em_loss</td><td>▁▁█▁▁▁▁▁▁▁▁▁▁▁▁▁▁▁▂▁▁▂▁▁▂▁▂▂▂▂▂▂▂▂▂▂▂▂▂▂</td></tr><tr><td>te_s_oracle_loss</td><td>▁▁▁█████████████████████████▇▇▇▇▇▇▇▇▇▇▇▇</td></tr><tr><td>te_s_rec_loss</td><td>▁▁▁█▇▆▇▆▆▆▇█▇▇▇█▇▇█▇▇█▇▇▇▇▇▇▇▇▇▇▇▇▇▇▇▇▇▇</td></tr><tr><td>tr_c_acc</td><td>▁▁█▃▃▃▃▃▃▃▃▃▃▃▃▃▃▃▃▃▃▃▃▃▃▃▃▃▃▃▂▃▂▂▂▂▂▂▂▂</td></tr><tr><td>tr_c_loss</td><td>██▁▇▇▇▇▇▆▇▆▇▇▇▆▆▆▆▆▆▆▆▆▆▆▆▆▆▆▆▆▆▆▆▆▆▅▅▅▅</td></tr><tr><td>tr_c_oracle_loss</td><td>▁▁▁█████████████████████████▇▇▇▇▇▇▇▇▇▇▇▇</td></tr><tr><td>tr_s_em_loss</td><td>▁▁█▁▂▂▂▂▂▂▂▂▂▂▂▂▂▂▂▂▂▂▂▂▂▂▂▂▂▂▂▂▂▂▂▂▂▂▂▂</td></tr><tr><td>tr_s_oracle_loss</td><td>▁▁▁█████████████████████████▇▇▇▇▇▇▇▇▇▇▇▇</td></tr><tr><td>tr_s_rec_loss</td><td>▁▁▁█▇▇▇▇▆▆▇█▇▇▇█▇██▇▇▇▇▇▇▇▇▇▇▇▇▇▇▇▇▇▇▇▇▇</td></tr></table><br/></div><div class=\"wandb-col\"><h3>Run summary:</h3><br/><table class=\"wandb\"><tr><td>duration</td><td>0.96333</td></tr><tr><td>te_c_acc</td><td>0.5915</td></tr><tr><td>te_c_loss</td><td>0.67967</td></tr><tr><td>te_c_oracle_loss</td><td>0.86849</td></tr><tr><td>te_s_em_loss</td><td>0.79568</td></tr><tr><td>te_s_oracle_loss</td><td>0.86849</td></tr><tr><td>te_s_rec_loss</td><td>0.19541</td></tr><tr><td>tr_c_acc</td><td>0.56568</td></tr><tr><td>tr_c_loss</td><td>0.5515</td></tr><tr><td>tr_c_oracle_loss</td><td>0.86978</td></tr><tr><td>tr_s_em_loss</td><td>0.74262</td></tr><tr><td>tr_s_oracle_loss</td><td>0.86975</td></tr><tr><td>tr_s_rec_loss</td><td>0.19538</td></tr></table><br/></div></div>"
      ],
      "text/plain": [
       "<IPython.core.display.HTML object>"
      ]
     },
     "metadata": {},
     "output_type": "display_data"
    },
    {
     "data": {
      "text/html": [
       " View run <strong style=\"color:#cdcd00\">deft-sweep-32</strong> at: <a href='https://wandb.ai/jgammell/data_sanitization/runs/sg8jlc0p' target=\"_blank\">https://wandb.ai/jgammell/data_sanitization/runs/sg8jlc0p</a><br/>Synced 5 W&B file(s), 0 media file(s), 0 artifact file(s) and 0 other file(s)"
      ],
      "text/plain": [
       "<IPython.core.display.HTML object>"
      ]
     },
     "metadata": {},
     "output_type": "display_data"
    },
    {
     "data": {
      "text/html": [
       "Find logs at: <code>./wandb/run-20230219_063119-sg8jlc0p/logs</code>"
      ],
      "text/plain": [
       "<IPython.core.display.HTML object>"
      ]
     },
     "metadata": {},
     "output_type": "display_data"
    },
    {
     "name": "stderr",
     "output_type": "stream",
     "text": [
      "\u001b[34m\u001b[1mwandb\u001b[0m: Agent Starting Run: 38a4n2xo with config:\n",
      "\u001b[34m\u001b[1mwandb\u001b[0m: \tatenc_bottleneck_width: 128\n",
      "\u001b[34m\u001b[1mwandb\u001b[0m: \tatenc_sn: True\n",
      "\u001b[34m\u001b[1mwandb\u001b[0m: \tbeta1_c: 0.46816763035319114\n",
      "\u001b[34m\u001b[1mwandb\u001b[0m: \tbeta1_s: 0.7370333559064812\n",
      "\u001b[34m\u001b[1mwandb\u001b[0m: \tbeta2_c: 0.999\n",
      "\u001b[34m\u001b[1mwandb\u001b[0m: \tbeta2_s: 0.999\n",
      "\u001b[34m\u001b[1mwandb\u001b[0m: \tc_pretrain_epochs: 5\n",
      "\u001b[34m\u001b[1mwandb\u001b[0m: \tclass_sn: True\n",
      "\u001b[34m\u001b[1mwandb\u001b[0m: \tlr_c: 0.0008817737326710731\n",
      "\u001b[34m\u001b[1mwandb\u001b[0m: \tlr_s: 0.004946194357933184\n",
      "\u001b[34m\u001b[1mwandb\u001b[0m: \ts_lbd: 1.2911029636030094\n",
      "\u001b[34m\u001b[1mwandb\u001b[0m: \ts_pretrain_epochs: 9\n",
      "\u001b[34m\u001b[1mwandb\u001b[0m: \tsan_sn: True\n",
      "\u001b[34m\u001b[1mwandb\u001b[0m: \ttrain_epochs: 250\n"
     ]
    },
    {
     "data": {
      "text/html": [
       "Tracking run with wandb version 0.13.10"
      ],
      "text/plain": [
       "<IPython.core.display.HTML object>"
      ]
     },
     "metadata": {},
     "output_type": "display_data"
    },
    {
     "data": {
      "text/html": [
       "Run data is saved locally in <code>/local/scratch/a/jgammell/sca_defense/wandb/run-20230219_065607-38a4n2xo</code>"
      ],
      "text/plain": [
       "<IPython.core.display.HTML object>"
      ]
     },
     "metadata": {},
     "output_type": "display_data"
    },
    {
     "data": {
      "text/html": [
       "Syncing run <strong><a href='https://wandb.ai/jgammell/data_sanitization/runs/38a4n2xo' target=\"_blank\">sandy-sweep-33</a></strong> to <a href='https://wandb.ai/jgammell/data_sanitization' target=\"_blank\">Weights & Biases</a> (<a href='https://wandb.me/run' target=\"_blank\">docs</a>)<br/>Sweep page: <a href='https://wandb.ai/jgammell/data_sanitization/sweeps/d1qsxwr1' target=\"_blank\">https://wandb.ai/jgammell/data_sanitization/sweeps/d1qsxwr1</a>"
      ],
      "text/plain": [
       "<IPython.core.display.HTML object>"
      ]
     },
     "metadata": {},
     "output_type": "display_data"
    },
    {
     "data": {
      "text/html": [
       " View project at <a href='https://wandb.ai/jgammell/data_sanitization' target=\"_blank\">https://wandb.ai/jgammell/data_sanitization</a>"
      ],
      "text/plain": [
       "<IPython.core.display.HTML object>"
      ]
     },
     "metadata": {},
     "output_type": "display_data"
    },
    {
     "data": {
      "text/html": [
       " View sweep at <a href='https://wandb.ai/jgammell/data_sanitization/sweeps/d1qsxwr1' target=\"_blank\">https://wandb.ai/jgammell/data_sanitization/sweeps/d1qsxwr1</a>"
      ],
      "text/plain": [
       "<IPython.core.display.HTML object>"
      ]
     },
     "metadata": {},
     "output_type": "display_data"
    },
    {
     "data": {
      "text/html": [
       " View run at <a href='https://wandb.ai/jgammell/data_sanitization/runs/38a4n2xo' target=\"_blank\">https://wandb.ai/jgammell/data_sanitization/runs/38a4n2xo</a>"
      ],
      "text/plain": [
       "<IPython.core.display.HTML object>"
      ]
     },
     "metadata": {},
     "output_type": "display_data"
    },
    {
     "data": {
      "text/html": [
       "Waiting for W&B process to finish... <strong style=\"color:green\">(success).</strong>"
      ],
      "text/plain": [
       "<IPython.core.display.HTML object>"
      ]
     },
     "metadata": {},
     "output_type": "display_data"
    },
    {
     "data": {
      "text/html": [
       "<style>\n",
       "    table.wandb td:nth-child(1) { padding: 0 10px; text-align: left ; width: auto;} td:nth-child(2) {text-align: left ; width: 100%}\n",
       "    .wandb-row { display: flex; flex-direction: row; flex-wrap: wrap; justify-content: flex-start; width: 100% }\n",
       "    .wandb-col { display: flex; flex-direction: column; flex-basis: 100%; flex: 1; padding: 10px; }\n",
       "    </style>\n",
       "<div class=\"wandb-row\"><div class=\"wandb-col\"><h3>Run history:</h3><br/><table class=\"wandb\"><tr><td>duration</td><td>█▂▆▃▄▃▆▃█▄▇▄▂▂▅▂▃▆▆▂▂▂▂▁▄▇▆▂▂▂▂▄▂▃▄▅▇▅▅▃</td></tr><tr><td>te_c_acc</td><td>▂▂▂▁▄▁▁▁▄▄▄▄▂▃▆▃▆▅▂▂▁▂▃▄▁▅▁▆▅▆▂▄▃▅▃▃▃▄▆█</td></tr><tr><td>te_c_loss</td><td>▂▂█▃▂▂▂▃▂▁▂▂▂▂▁▂▁▂▂▂▂▂▁▂▂▁▂▁▁▁▂▂▂▁▂▂▂▂▁▁</td></tr><tr><td>te_c_oracle_loss</td><td>▁▁▃▄▅▅▅▆▇▇▇██▆█▅▆▆▅▅▅▆▆▇▆▇▅▆▇▅▅▅▄▅▆▅▇▆▆▅</td></tr><tr><td>te_s_em_loss</td><td>▁▁█▂▁▁▂▃▁▁▁▁▂▁▁▁▁▁▁▁▁▁▁▁▁▁▁▁▁▁▁▁▁▁▁▁▁▁▁▁</td></tr><tr><td>te_s_oracle_loss</td><td>▁▁▃▄▅▅▅▆▇▇▇██▆█▅▆▆▅▅▅▆▆▇▆▇▅▆▇▅▅▅▄▅▆▅▇▆▆▅</td></tr><tr><td>te_s_rec_loss</td><td>▁▁▂▄▆▅▆▆█▇▇▆▇▅▇▃▆▆▅▄▄▅█▇▄▆▃▆▇▆▄▅▄▆▅▄▆▅▆▅</td></tr><tr><td>tr_c_acc</td><td>▁▁▇▄▄▃▄▃▅▆▆▄▆▃▇▄▆▃▃▄▁▄▆▇▄▄▂▅▆▅▂▂▃▇▆▄▁▂▇█</td></tr><tr><td>tr_c_loss</td><td>██▂▄▄▅▄▄▃▃▃▄▃▅▂▄▃▅▅▅▅▄▃▂▄▄▅▄▃▄▅▅▅▂▄▅▅▅▂▁</td></tr><tr><td>tr_c_oracle_loss</td><td>▁▁▃▄▅▅▅▆▇▇▇██▆█▅▆▆▅▅▅▆▆▇▇▆▅▆▇▅▅▅▅▅▆▅▇▆▆▅</td></tr><tr><td>tr_s_em_loss</td><td>▃▃█▁▁▁▁▂▃▃▂▁▂▁▃▂▂▁▁▁▁▁▂▃▂▁▁▁▂▂▁▁▁▂▃▁▁▁▂▃</td></tr><tr><td>tr_s_oracle_loss</td><td>▁▁▃▄▅▅▅▆▇▇▇██▆█▅▆▆▅▅▅▆▆▇▇▆▅▆▇▅▅▅▅▅▆▅▇▆▆▅</td></tr><tr><td>tr_s_rec_loss</td><td>▁▁▂▄▅▅▄▅█▇▇▆▇▅▇▃▅▅▅▄▄▄▇▇▅▆▄▆▇▅▄▅▄▆▅▄▆▅▆▅</td></tr></table><br/></div><div class=\"wandb-col\"><h3>Run summary:</h3><br/><table class=\"wandb\"><tr><td>duration</td><td>0.98267</td></tr><tr><td>te_c_acc</td><td>0.58594</td></tr><tr><td>te_c_loss</td><td>0.66877</td></tr><tr><td>te_c_oracle_loss</td><td>0.99054</td></tr><tr><td>te_s_em_loss</td><td>0.70649</td></tr><tr><td>te_s_oracle_loss</td><td>0.99054</td></tr><tr><td>te_s_rec_loss</td><td>0.04595</td></tr><tr><td>tr_c_acc</td><td>0.55875</td></tr><tr><td>tr_c_loss</td><td>0.6738</td></tr><tr><td>tr_c_oracle_loss</td><td>0.97386</td></tr><tr><td>tr_s_em_loss</td><td>0.7096</td></tr><tr><td>tr_s_oracle_loss</td><td>0.9737</td></tr><tr><td>tr_s_rec_loss</td><td>0.04594</td></tr></table><br/></div></div>"
      ],
      "text/plain": [
       "<IPython.core.display.HTML object>"
      ]
     },
     "metadata": {},
     "output_type": "display_data"
    },
    {
     "data": {
      "text/html": [
       " View run <strong style=\"color:#cdcd00\">sandy-sweep-33</strong> at: <a href='https://wandb.ai/jgammell/data_sanitization/runs/38a4n2xo' target=\"_blank\">https://wandb.ai/jgammell/data_sanitization/runs/38a4n2xo</a><br/>Synced 5 W&B file(s), 0 media file(s), 0 artifact file(s) and 0 other file(s)"
      ],
      "text/plain": [
       "<IPython.core.display.HTML object>"
      ]
     },
     "metadata": {},
     "output_type": "display_data"
    },
    {
     "data": {
      "text/html": [
       "Find logs at: <code>./wandb/run-20230219_065607-38a4n2xo/logs</code>"
      ],
      "text/plain": [
       "<IPython.core.display.HTML object>"
      ]
     },
     "metadata": {},
     "output_type": "display_data"
    },
    {
     "name": "stderr",
     "output_type": "stream",
     "text": [
      "\u001b[34m\u001b[1mwandb\u001b[0m: Agent Starting Run: l5a0gai3 with config:\n",
      "\u001b[34m\u001b[1mwandb\u001b[0m: \tatenc_bottleneck_width: 4\n",
      "\u001b[34m\u001b[1mwandb\u001b[0m: \tatenc_sn: True\n",
      "\u001b[34m\u001b[1mwandb\u001b[0m: \tbeta1_c: 0.4750983555089533\n",
      "\u001b[34m\u001b[1mwandb\u001b[0m: \tbeta1_s: 0.7103362513947068\n",
      "\u001b[34m\u001b[1mwandb\u001b[0m: \tbeta2_c: 0.999\n",
      "\u001b[34m\u001b[1mwandb\u001b[0m: \tbeta2_s: 0.999\n",
      "\u001b[34m\u001b[1mwandb\u001b[0m: \tc_pretrain_epochs: 8\n",
      "\u001b[34m\u001b[1mwandb\u001b[0m: \tclass_sn: True\n",
      "\u001b[34m\u001b[1mwandb\u001b[0m: \tlr_c: 0.00034017268840998865\n",
      "\u001b[34m\u001b[1mwandb\u001b[0m: \tlr_s: 0.006347314877375928\n",
      "\u001b[34m\u001b[1mwandb\u001b[0m: \ts_lbd: 0.028312556525918377\n",
      "\u001b[34m\u001b[1mwandb\u001b[0m: \ts_pretrain_epochs: 18\n",
      "\u001b[34m\u001b[1mwandb\u001b[0m: \tsan_sn: True\n",
      "\u001b[34m\u001b[1mwandb\u001b[0m: \ttrain_epochs: 250\n"
     ]
    },
    {
     "data": {
      "text/html": [
       "Tracking run with wandb version 0.13.10"
      ],
      "text/plain": [
       "<IPython.core.display.HTML object>"
      ]
     },
     "metadata": {},
     "output_type": "display_data"
    },
    {
     "data": {
      "text/html": [
       "Run data is saved locally in <code>/local/scratch/a/jgammell/sca_defense/wandb/run-20230219_072427-l5a0gai3</code>"
      ],
      "text/plain": [
       "<IPython.core.display.HTML object>"
      ]
     },
     "metadata": {},
     "output_type": "display_data"
    },
    {
     "data": {
      "text/html": [
       "Syncing run <strong><a href='https://wandb.ai/jgammell/data_sanitization/runs/l5a0gai3' target=\"_blank\">crisp-sweep-34</a></strong> to <a href='https://wandb.ai/jgammell/data_sanitization' target=\"_blank\">Weights & Biases</a> (<a href='https://wandb.me/run' target=\"_blank\">docs</a>)<br/>Sweep page: <a href='https://wandb.ai/jgammell/data_sanitization/sweeps/d1qsxwr1' target=\"_blank\">https://wandb.ai/jgammell/data_sanitization/sweeps/d1qsxwr1</a>"
      ],
      "text/plain": [
       "<IPython.core.display.HTML object>"
      ]
     },
     "metadata": {},
     "output_type": "display_data"
    },
    {
     "data": {
      "text/html": [
       " View project at <a href='https://wandb.ai/jgammell/data_sanitization' target=\"_blank\">https://wandb.ai/jgammell/data_sanitization</a>"
      ],
      "text/plain": [
       "<IPython.core.display.HTML object>"
      ]
     },
     "metadata": {},
     "output_type": "display_data"
    },
    {
     "data": {
      "text/html": [
       " View sweep at <a href='https://wandb.ai/jgammell/data_sanitization/sweeps/d1qsxwr1' target=\"_blank\">https://wandb.ai/jgammell/data_sanitization/sweeps/d1qsxwr1</a>"
      ],
      "text/plain": [
       "<IPython.core.display.HTML object>"
      ]
     },
     "metadata": {},
     "output_type": "display_data"
    },
    {
     "data": {
      "text/html": [
       " View run at <a href='https://wandb.ai/jgammell/data_sanitization/runs/l5a0gai3' target=\"_blank\">https://wandb.ai/jgammell/data_sanitization/runs/l5a0gai3</a>"
      ],
      "text/plain": [
       "<IPython.core.display.HTML object>"
      ]
     },
     "metadata": {},
     "output_type": "display_data"
    },
    {
     "data": {
      "text/html": [
       "Waiting for W&B process to finish... <strong style=\"color:green\">(success).</strong>"
      ],
      "text/plain": [
       "<IPython.core.display.HTML object>"
      ]
     },
     "metadata": {},
     "output_type": "display_data"
    },
    {
     "data": {
      "text/html": [
       "<style>\n",
       "    table.wandb td:nth-child(1) { padding: 0 10px; text-align: left ; width: auto;} td:nth-child(2) {text-align: left ; width: 100%}\n",
       "    .wandb-row { display: flex; flex-direction: row; flex-wrap: wrap; justify-content: flex-start; width: 100% }\n",
       "    .wandb-col { display: flex; flex-direction: column; flex-basis: 100%; flex: 1; padding: 10px; }\n",
       "    </style>\n",
       "<div class=\"wandb-row\"><div class=\"wandb-col\"><h3>Run history:</h3><br/><table class=\"wandb\"><tr><td>duration</td><td>▆▂█▄▇▆▅▁▁▄▄▄▃▅▃▅▇▃▆▃▆▅▄▄▄▃▃▃▃▄▁▄▇▂▃▃▃▄▆▃</td></tr><tr><td>te_c_acc</td><td>▁▁▁█▂▂▁▁▁▁▁▁▁▂▁▁▁▁▁▁▁▂▂▁▂▁▂▃▂▃▂▁▂▂▁▁▁▂▂▁</td></tr><tr><td>te_c_loss</td><td>███▁▇████████████████▇█████▇▇▇▇█████████</td></tr><tr><td>te_c_oracle_loss</td><td>▁▁▁▁▄▅▆▆▆▆▆▆▅▅▇▆▇▇▆▇▇█▆███▅▇▇▇▇▇▆█▇▇▆▆▇▆</td></tr><tr><td>te_s_em_loss</td><td>▁▁▁█▁▁▁▁▁▁▁▁▁▁▁▁▁▁▁▁▁▁▁▁▁▁▁▁▁▁▁▁▁▁▁▁▁▁▁▁</td></tr><tr><td>te_s_oracle_loss</td><td>▁▁▁▁▄▅▆▆▆▆▆▆▅▅▇▆▇▇▆▇▇█▆███▅▇▇▇▇▇▆█▇▇▆▆▇▆</td></tr><tr><td>te_s_rec_loss</td><td>▁▁▁▁▅█▆▆▇▆▄▄▆▄▄▄▃▄▄▃▃█▄▄▅▆▄▆▇▅▅▅▆▅▇▄▄▅▄▃</td></tr><tr><td>tr_c_acc</td><td>▁▁▁█▂▁▁▁▁▁▁▁▁▁▁▁▁▁▁▁▁▂▁▁▁▁▁▂▁▂▂▂▁▁▁▁▁▁▁▁</td></tr><tr><td>tr_c_loss</td><td>███▁████████████████████████████████████</td></tr><tr><td>tr_c_oracle_loss</td><td>▁▁▁▁▃▅▆▆▆▆▆▆▆▅▇▆▇▇▆▇▇█▆███▅▇▇▇▇▇▆█▇▇▇▆▇▇</td></tr><tr><td>tr_s_em_loss</td><td>▁▁▁█▁▁▁▁▁▁▁▁▁▁▁▁▁▁▁▁▁▁▁▁▁▁▁▁▁▁▁▁▁▁▁▁▁▁▁▁</td></tr><tr><td>tr_s_oracle_loss</td><td>▁▁▁▁▃▅▆▆▆▆▆▆▆▅▇▆▇▇▆▇▇█▆███▅▇▇▇▇▇▆█▇▇▇▆▇▇</td></tr><tr><td>tr_s_rec_loss</td><td>▁▁▁▁▄▇▅▅▅▄▃▃▅▃▃▃▃▃▃▂▃▇▃▃▄▃▃▄▅▄▄▄▅▄█▃▃▄▄▃</td></tr></table><br/></div><div class=\"wandb-col\"><h3>Run summary:</h3><br/><table class=\"wandb\"><tr><td>duration</td><td>0.99288</td></tr><tr><td>te_c_acc</td><td>0.53145</td></tr><tr><td>te_c_loss</td><td>0.68922</td></tr><tr><td>te_c_oracle_loss</td><td>0.99662</td></tr><tr><td>te_s_em_loss</td><td>0.69458</td></tr><tr><td>te_s_oracle_loss</td><td>0.99662</td></tr><tr><td>te_s_rec_loss</td><td>0.33743</td></tr><tr><td>tr_c_acc</td><td>0.52474</td></tr><tr><td>tr_c_loss</td><td>0.69022</td></tr><tr><td>tr_c_oracle_loss</td><td>0.98005</td></tr><tr><td>tr_s_em_loss</td><td>0.69585</td></tr><tr><td>tr_s_oracle_loss</td><td>0.97972</td></tr><tr><td>tr_s_rec_loss</td><td>0.33381</td></tr></table><br/></div></div>"
      ],
      "text/plain": [
       "<IPython.core.display.HTML object>"
      ]
     },
     "metadata": {},
     "output_type": "display_data"
    },
    {
     "data": {
      "text/html": [
       " View run <strong style=\"color:#cdcd00\">crisp-sweep-34</strong> at: <a href='https://wandb.ai/jgammell/data_sanitization/runs/l5a0gai3' target=\"_blank\">https://wandb.ai/jgammell/data_sanitization/runs/l5a0gai3</a><br/>Synced 5 W&B file(s), 0 media file(s), 0 artifact file(s) and 0 other file(s)"
      ],
      "text/plain": [
       "<IPython.core.display.HTML object>"
      ]
     },
     "metadata": {},
     "output_type": "display_data"
    },
    {
     "data": {
      "text/html": [
       "Find logs at: <code>./wandb/run-20230219_072427-l5a0gai3/logs</code>"
      ],
      "text/plain": [
       "<IPython.core.display.HTML object>"
      ]
     },
     "metadata": {},
     "output_type": "display_data"
    },
    {
     "name": "stderr",
     "output_type": "stream",
     "text": [
      "\u001b[34m\u001b[1mwandb\u001b[0m: Agent Starting Run: 62204q2z with config:\n",
      "\u001b[34m\u001b[1mwandb\u001b[0m: \tatenc_bottleneck_width: 32\n",
      "\u001b[34m\u001b[1mwandb\u001b[0m: \tatenc_sn: False\n",
      "\u001b[34m\u001b[1mwandb\u001b[0m: \tbeta1_c: 0.5260739847653617\n",
      "\u001b[34m\u001b[1mwandb\u001b[0m: \tbeta1_s: 0.7661744294828136\n",
      "\u001b[34m\u001b[1mwandb\u001b[0m: \tbeta2_c: 0.999\n",
      "\u001b[34m\u001b[1mwandb\u001b[0m: \tbeta2_s: 0.999\n",
      "\u001b[34m\u001b[1mwandb\u001b[0m: \tc_pretrain_epochs: 3\n",
      "\u001b[34m\u001b[1mwandb\u001b[0m: \tclass_sn: False\n",
      "\u001b[34m\u001b[1mwandb\u001b[0m: \tlr_c: 0.00012241856016898865\n",
      "\u001b[34m\u001b[1mwandb\u001b[0m: \tlr_s: 0.002172635913843564\n",
      "\u001b[34m\u001b[1mwandb\u001b[0m: \ts_lbd: 0.07000394847579446\n",
      "\u001b[34m\u001b[1mwandb\u001b[0m: \ts_pretrain_epochs: 9\n",
      "\u001b[34m\u001b[1mwandb\u001b[0m: \tsan_sn: True\n",
      "\u001b[34m\u001b[1mwandb\u001b[0m: \ttrain_epochs: 250\n"
     ]
    },
    {
     "data": {
      "text/html": [
       "Tracking run with wandb version 0.13.10"
      ],
      "text/plain": [
       "<IPython.core.display.HTML object>"
      ]
     },
     "metadata": {},
     "output_type": "display_data"
    },
    {
     "data": {
      "text/html": [
       "Run data is saved locally in <code>/local/scratch/a/jgammell/sca_defense/wandb/run-20230219_075404-62204q2z</code>"
      ],
      "text/plain": [
       "<IPython.core.display.HTML object>"
      ]
     },
     "metadata": {},
     "output_type": "display_data"
    },
    {
     "data": {
      "text/html": [
       "Syncing run <strong><a href='https://wandb.ai/jgammell/data_sanitization/runs/62204q2z' target=\"_blank\">feasible-sweep-35</a></strong> to <a href='https://wandb.ai/jgammell/data_sanitization' target=\"_blank\">Weights & Biases</a> (<a href='https://wandb.me/run' target=\"_blank\">docs</a>)<br/>Sweep page: <a href='https://wandb.ai/jgammell/data_sanitization/sweeps/d1qsxwr1' target=\"_blank\">https://wandb.ai/jgammell/data_sanitization/sweeps/d1qsxwr1</a>"
      ],
      "text/plain": [
       "<IPython.core.display.HTML object>"
      ]
     },
     "metadata": {},
     "output_type": "display_data"
    },
    {
     "data": {
      "text/html": [
       " View project at <a href='https://wandb.ai/jgammell/data_sanitization' target=\"_blank\">https://wandb.ai/jgammell/data_sanitization</a>"
      ],
      "text/plain": [
       "<IPython.core.display.HTML object>"
      ]
     },
     "metadata": {},
     "output_type": "display_data"
    },
    {
     "data": {
      "text/html": [
       " View sweep at <a href='https://wandb.ai/jgammell/data_sanitization/sweeps/d1qsxwr1' target=\"_blank\">https://wandb.ai/jgammell/data_sanitization/sweeps/d1qsxwr1</a>"
      ],
      "text/plain": [
       "<IPython.core.display.HTML object>"
      ]
     },
     "metadata": {},
     "output_type": "display_data"
    },
    {
     "data": {
      "text/html": [
       " View run at <a href='https://wandb.ai/jgammell/data_sanitization/runs/62204q2z' target=\"_blank\">https://wandb.ai/jgammell/data_sanitization/runs/62204q2z</a>"
      ],
      "text/plain": [
       "<IPython.core.display.HTML object>"
      ]
     },
     "metadata": {},
     "output_type": "display_data"
    },
    {
     "data": {
      "text/html": [
       "Waiting for W&B process to finish... <strong style=\"color:green\">(success).</strong>"
      ],
      "text/plain": [
       "<IPython.core.display.HTML object>"
      ]
     },
     "metadata": {},
     "output_type": "display_data"
    },
    {
     "data": {
      "text/html": [
       "<style>\n",
       "    table.wandb td:nth-child(1) { padding: 0 10px; text-align: left ; width: auto;} td:nth-child(2) {text-align: left ; width: 100%}\n",
       "    .wandb-row { display: flex; flex-direction: row; flex-wrap: wrap; justify-content: flex-start; width: 100% }\n",
       "    .wandb-col { display: flex; flex-direction: column; flex-basis: 100%; flex: 1; padding: 10px; }\n",
       "    </style>\n",
       "<div class=\"wandb-row\"><div class=\"wandb-col\"><h3>Run history:</h3><br/><table class=\"wandb\"><tr><td>duration</td><td>▂▆▅▂▂▃▄▂▃▃▂▁▄▃▂▁▄▂▄▃▆▃▁▃▂█▃▃▂▅▄▂▂▄▂▂▃▅▃▅</td></tr><tr><td>te_c_acc</td><td>▃▃▂█▁▁▁▁▂▅▁▁▁▄▅▁▇▃▁▁▃▅▁▂▂▂▂▅▁▃▄▁▃▁▁▄▁▃▁▂</td></tr><tr><td>te_c_loss</td><td>▂▂▃▁▄▃▄█▃▂▂▄▄▂▁▂▁▂▄▃▂▂▃▂▃▃▂▂▃▂▂▄▂▄▂▂▅▂▄▂</td></tr><tr><td>te_c_oracle_loss</td><td>▁▁▄▅▅▆▅▆▄▅▆▆▅▆▆▅▅▅▆▇▆▇█████▅▅▅▆▆▇▇▇▇▆▆▆▆</td></tr><tr><td>te_s_em_loss</td><td>▁▁▂▁▃▂▄█▁▁▂▃▃▂▁▂▁▁▄▃▁▁▃▁▁▂▁▁▂▂▁▃▁▃▁▁▃▁▃▁</td></tr><tr><td>te_s_oracle_loss</td><td>▁▁▄▅▅▆▅▆▄▅▆▆▅▆▆▅▅▅▆▇▆▇█████▅▅▅▆▆▇▇▇▇▆▆▆▆</td></tr><tr><td>te_s_rec_loss</td><td>▁▁▂▄▅█▅▆▄▅▆▇▇▆▆▆▇▇▇▇▆▇███▆▇▇█▅▇▇▆▆█▇▇▇▇▇</td></tr><tr><td>tr_c_acc</td><td>▃▃▁▇▂▃▄▄▃▅▇▆▄▇▆█▇▃▄▅▁▅▅▃▄▄▄▄▇▅▃▆▃▃▅▃▂▂▅▄</td></tr><tr><td>tr_c_loss</td><td>▄▄▄▂▄▃▃▃▄▃▂▃▃▂▁▂▂▄▄▂█▃▃▃▃▃▃▄▂▅▃▃▄▄▃▄▅▄▃▃</td></tr><tr><td>tr_c_oracle_loss</td><td>▁▁▃▅▅▅▅▆▄▅▆▅▅▆▆▅▅▅▆▇▆▇█████▅▅▅▆▆▇▇▇▇▆▆▆▆</td></tr><tr><td>tr_s_em_loss</td><td>▁▁▃▂▂▄▂▂▂▂▁▂▃▃▅▃▃▂▂▃█▂▃▃▃▂▄▅▃▇▃▂▃▃▂▂▄▂▂▂</td></tr><tr><td>tr_s_oracle_loss</td><td>▁▁▃▅▅▅▅▆▄▅▆▅▅▆▆▅▅▅▆▇▆▇█████▅▅▅▆▆▇▇▇▇▆▆▆▆</td></tr><tr><td>tr_s_rec_loss</td><td>▁▁▂▄▇▇▅▇▄▄▆▇▇▅▆▆▇▇▇█▆▇███▆▇▇█▅▇▇▆▆█▇▇▇▇▇</td></tr></table><br/></div><div class=\"wandb-col\"><h3>Run summary:</h3><br/><table class=\"wandb\"><tr><td>duration</td><td>1.03228</td></tr><tr><td>te_c_acc</td><td>0.50244</td></tr><tr><td>te_c_loss</td><td>0.70485</td></tr><tr><td>te_c_oracle_loss</td><td>1.23123</td></tr><tr><td>te_s_em_loss</td><td>0.70982</td></tr><tr><td>te_s_oracle_loss</td><td>1.23123</td></tr><tr><td>te_s_rec_loss</td><td>0.13101</td></tr><tr><td>tr_c_acc</td><td>0.52851</td></tr><tr><td>tr_c_loss</td><td>0.69011</td></tr><tr><td>tr_c_oracle_loss</td><td>1.22772</td></tr><tr><td>tr_s_em_loss</td><td>0.69611</td></tr><tr><td>tr_s_oracle_loss</td><td>1.22753</td></tr><tr><td>tr_s_rec_loss</td><td>0.13102</td></tr></table><br/></div></div>"
      ],
      "text/plain": [
       "<IPython.core.display.HTML object>"
      ]
     },
     "metadata": {},
     "output_type": "display_data"
    },
    {
     "data": {
      "text/html": [
       " View run <strong style=\"color:#cdcd00\">feasible-sweep-35</strong> at: <a href='https://wandb.ai/jgammell/data_sanitization/runs/62204q2z' target=\"_blank\">https://wandb.ai/jgammell/data_sanitization/runs/62204q2z</a><br/>Synced 5 W&B file(s), 0 media file(s), 0 artifact file(s) and 0 other file(s)"
      ],
      "text/plain": [
       "<IPython.core.display.HTML object>"
      ]
     },
     "metadata": {},
     "output_type": "display_data"
    },
    {
     "data": {
      "text/html": [
       "Find logs at: <code>./wandb/run-20230219_075404-62204q2z/logs</code>"
      ],
      "text/plain": [
       "<IPython.core.display.HTML object>"
      ]
     },
     "metadata": {},
     "output_type": "display_data"
    },
    {
     "name": "stderr",
     "output_type": "stream",
     "text": [
      "\u001b[34m\u001b[1mwandb\u001b[0m: Agent Starting Run: k4l87pjs with config:\n",
      "\u001b[34m\u001b[1mwandb\u001b[0m: \tatenc_bottleneck_width: 16\n",
      "\u001b[34m\u001b[1mwandb\u001b[0m: \tatenc_sn: False\n",
      "\u001b[34m\u001b[1mwandb\u001b[0m: \tbeta1_c: 0.009575641047983075\n",
      "\u001b[34m\u001b[1mwandb\u001b[0m: \tbeta1_s: 0.5802245284987121\n",
      "\u001b[34m\u001b[1mwandb\u001b[0m: \tbeta2_c: 0.999\n",
      "\u001b[34m\u001b[1mwandb\u001b[0m: \tbeta2_s: 0.999\n",
      "\u001b[34m\u001b[1mwandb\u001b[0m: \tc_pretrain_epochs: 18\n",
      "\u001b[34m\u001b[1mwandb\u001b[0m: \tclass_sn: False\n",
      "\u001b[34m\u001b[1mwandb\u001b[0m: \tlr_c: 0.0008323358044091293\n",
      "\u001b[34m\u001b[1mwandb\u001b[0m: \tlr_s: 0.00017178791427817496\n",
      "\u001b[34m\u001b[1mwandb\u001b[0m: \ts_lbd: 0.6487620476097467\n",
      "\u001b[34m\u001b[1mwandb\u001b[0m: \ts_pretrain_epochs: 1\n",
      "\u001b[34m\u001b[1mwandb\u001b[0m: \tsan_sn: False\n",
      "\u001b[34m\u001b[1mwandb\u001b[0m: \ttrain_epochs: 250\n"
     ]
    },
    {
     "data": {
      "text/html": [
       "Tracking run with wandb version 0.13.10"
      ],
      "text/plain": [
       "<IPython.core.display.HTML object>"
      ]
     },
     "metadata": {},
     "output_type": "display_data"
    },
    {
     "data": {
      "text/html": [
       "Run data is saved locally in <code>/local/scratch/a/jgammell/sca_defense/wandb/run-20230219_082022-k4l87pjs</code>"
      ],
      "text/plain": [
       "<IPython.core.display.HTML object>"
      ]
     },
     "metadata": {},
     "output_type": "display_data"
    },
    {
     "data": {
      "text/html": [
       "Syncing run <strong><a href='https://wandb.ai/jgammell/data_sanitization/runs/k4l87pjs' target=\"_blank\">absurd-sweep-36</a></strong> to <a href='https://wandb.ai/jgammell/data_sanitization' target=\"_blank\">Weights & Biases</a> (<a href='https://wandb.me/run' target=\"_blank\">docs</a>)<br/>Sweep page: <a href='https://wandb.ai/jgammell/data_sanitization/sweeps/d1qsxwr1' target=\"_blank\">https://wandb.ai/jgammell/data_sanitization/sweeps/d1qsxwr1</a>"
      ],
      "text/plain": [
       "<IPython.core.display.HTML object>"
      ]
     },
     "metadata": {},
     "output_type": "display_data"
    },
    {
     "data": {
      "text/html": [
       " View project at <a href='https://wandb.ai/jgammell/data_sanitization' target=\"_blank\">https://wandb.ai/jgammell/data_sanitization</a>"
      ],
      "text/plain": [
       "<IPython.core.display.HTML object>"
      ]
     },
     "metadata": {},
     "output_type": "display_data"
    },
    {
     "data": {
      "text/html": [
       " View sweep at <a href='https://wandb.ai/jgammell/data_sanitization/sweeps/d1qsxwr1' target=\"_blank\">https://wandb.ai/jgammell/data_sanitization/sweeps/d1qsxwr1</a>"
      ],
      "text/plain": [
       "<IPython.core.display.HTML object>"
      ]
     },
     "metadata": {},
     "output_type": "display_data"
    },
    {
     "data": {
      "text/html": [
       " View run at <a href='https://wandb.ai/jgammell/data_sanitization/runs/k4l87pjs' target=\"_blank\">https://wandb.ai/jgammell/data_sanitization/runs/k4l87pjs</a>"
      ],
      "text/plain": [
       "<IPython.core.display.HTML object>"
      ]
     },
     "metadata": {},
     "output_type": "display_data"
    },
    {
     "data": {
      "text/html": [
       "Waiting for W&B process to finish... <strong style=\"color:green\">(success).</strong>"
      ],
      "text/plain": [
       "<IPython.core.display.HTML object>"
      ]
     },
     "metadata": {},
     "output_type": "display_data"
    },
    {
     "data": {
      "text/html": [
       "<style>\n",
       "    table.wandb td:nth-child(1) { padding: 0 10px; text-align: left ; width: auto;} td:nth-child(2) {text-align: left ; width: 100%}\n",
       "    .wandb-row { display: flex; flex-direction: row; flex-wrap: wrap; justify-content: flex-start; width: 100% }\n",
       "    .wandb-col { display: flex; flex-direction: column; flex-basis: 100%; flex: 1; padding: 10px; }\n",
       "    </style>\n",
       "<div class=\"wandb-row\"><div class=\"wandb-col\"><h3>Run history:</h3><br/><table class=\"wandb\"><tr><td>duration</td><td>▁▁▁▁▁▁▁▁▁▁▁▁▁▁▁▁▁▁▁▁▁▁▁▁▁█▁▁▁▁▁▁▁▁▁▁▁▁▁▁</td></tr><tr><td>te_c_acc</td><td>▇▇█▃▂▁▁▂▂▁▁▂▁▂▂▁▁▂▂▂▂▁▂▂▂▂▂▁▁▂▂▂▂▂▁▁▁▂▂▂</td></tr><tr><td>te_c_loss</td><td>▃▂▁▇▇▇▇▇▇▇▇▇▇▇▇▇▇▇▇▇▇█▇▇▇▇▇█▇▇▇▇▇▇▇▇█▇▇▇</td></tr><tr><td>te_c_oracle_loss</td><td>▁▁▁▃▄▅▅▆▆▇▇▇▇▇▇███████▇▇▇▇▇▇▇▇▇▇▇▇▇▇▇▇▇▇</td></tr><tr><td>te_s_em_loss</td><td>▂▄█▁▁▁▁▁▁▁▁▁▁▁▁▁▁▁▁▁▁▁▁▁▁▁▁▁▁▁▁▁▁▁▁▁▁▁▁▁</td></tr><tr><td>te_s_oracle_loss</td><td>▁▁▁▃▄▅▅▆▆▇▇▇▇▇▇███████▇▇▇▇▇▇▇▇▇▇▇▇▇▇▇▇▇▇</td></tr><tr><td>te_s_rec_loss</td><td>▁▁▁▂▂▄▄▅▅▅▅▅▅▆▆▆██▇▆▆▆▅▅▄▅▆▆▅▆▆▆▆▆▆▇▇▆▆▆</td></tr><tr><td>tr_c_acc</td><td>▆██▃▂▁▁▁▁▁▁▁▁▁▁▁▁▁▁▁▁▁▁▁▁▂▂▁▁▁▂▁▂▁▁▁▁▂▂▂</td></tr><tr><td>tr_c_loss</td><td>▄▁▁▇████████████████████████████████████</td></tr><tr><td>tr_c_oracle_loss</td><td>▁▁▁▂▄▅▅▆▆▇▇▇▇▇▇████████▇▇▇▇▇▇▇▇▇▇▇▇▇▇▇▇▇</td></tr><tr><td>tr_s_em_loss</td><td>▁▃█▁▁▁▁▁▁▁▁▁▁▁▁▁▁▁▁▁▁▁▁▁▁▁▁▁▁▁▁▁▁▁▁▁▁▁▁▁</td></tr><tr><td>tr_s_oracle_loss</td><td>▁▁▁▂▄▅▅▆▆▇▇▇▇▇▇████████▇▇▇▇▇▇▇▇▇▇▇▇▇▇▇▇▇</td></tr><tr><td>tr_s_rec_loss</td><td>▁▁▁▁▂▄▄▅▅▅▅▅▅▇▆▆██▇▆▇▆▅▅▅▅▆▆▅▆▆▆▆▆▇█▇▆▆▆</td></tr></table><br/></div><div class=\"wandb-col\"><h3>Run summary:</h3><br/><table class=\"wandb\"><tr><td>duration</td><td>0.96204</td></tr><tr><td>te_c_acc</td><td>0.56533</td></tr><tr><td>te_c_loss</td><td>0.6754</td></tr><tr><td>te_c_oracle_loss</td><td>1.2053</td></tr><tr><td>te_s_em_loss</td><td>0.7171</td></tr><tr><td>te_s_oracle_loss</td><td>1.2053</td></tr><tr><td>te_s_rec_loss</td><td>0.21605</td></tr><tr><td>tr_c_acc</td><td>0.57574</td></tr><tr><td>tr_c_loss</td><td>0.6675</td></tr><tr><td>tr_c_oracle_loss</td><td>1.20474</td></tr><tr><td>tr_s_em_loss</td><td>0.71545</td></tr><tr><td>tr_s_oracle_loss</td><td>1.20439</td></tr><tr><td>tr_s_rec_loss</td><td>0.21681</td></tr></table><br/></div></div>"
      ],
      "text/plain": [
       "<IPython.core.display.HTML object>"
      ]
     },
     "metadata": {},
     "output_type": "display_data"
    },
    {
     "data": {
      "text/html": [
       " View run <strong style=\"color:#cdcd00\">absurd-sweep-36</strong> at: <a href='https://wandb.ai/jgammell/data_sanitization/runs/k4l87pjs' target=\"_blank\">https://wandb.ai/jgammell/data_sanitization/runs/k4l87pjs</a><br/>Synced 5 W&B file(s), 0 media file(s), 0 artifact file(s) and 0 other file(s)"
      ],
      "text/plain": [
       "<IPython.core.display.HTML object>"
      ]
     },
     "metadata": {},
     "output_type": "display_data"
    },
    {
     "data": {
      "text/html": [
       "Find logs at: <code>./wandb/run-20230219_082022-k4l87pjs/logs</code>"
      ],
      "text/plain": [
       "<IPython.core.display.HTML object>"
      ]
     },
     "metadata": {},
     "output_type": "display_data"
    },
    {
     "name": "stderr",
     "output_type": "stream",
     "text": [
      "\u001b[34m\u001b[1mwandb\u001b[0m: Agent Starting Run: omo2vz8s with config:\n",
      "\u001b[34m\u001b[1mwandb\u001b[0m: \tatenc_bottleneck_width: 256\n",
      "\u001b[34m\u001b[1mwandb\u001b[0m: \tatenc_sn: True\n",
      "\u001b[34m\u001b[1mwandb\u001b[0m: \tbeta1_c: 0.47522722296227293\n",
      "\u001b[34m\u001b[1mwandb\u001b[0m: \tbeta1_s: 0.17277367470713545\n",
      "\u001b[34m\u001b[1mwandb\u001b[0m: \tbeta2_c: 0.999\n",
      "\u001b[34m\u001b[1mwandb\u001b[0m: \tbeta2_s: 0.999\n",
      "\u001b[34m\u001b[1mwandb\u001b[0m: \tc_pretrain_epochs: 16\n",
      "\u001b[34m\u001b[1mwandb\u001b[0m: \tclass_sn: False\n",
      "\u001b[34m\u001b[1mwandb\u001b[0m: \tlr_c: 0.0024065461206961964\n",
      "\u001b[34m\u001b[1mwandb\u001b[0m: \tlr_s: 0.006896354470459295\n",
      "\u001b[34m\u001b[1mwandb\u001b[0m: \ts_lbd: 0.389616242761185\n",
      "\u001b[34m\u001b[1mwandb\u001b[0m: \ts_pretrain_epochs: 10\n",
      "\u001b[34m\u001b[1mwandb\u001b[0m: \tsan_sn: False\n",
      "\u001b[34m\u001b[1mwandb\u001b[0m: \ttrain_epochs: 250\n"
     ]
    },
    {
     "data": {
      "text/html": [
       "Tracking run with wandb version 0.13.10"
      ],
      "text/plain": [
       "<IPython.core.display.HTML object>"
      ]
     },
     "metadata": {},
     "output_type": "display_data"
    },
    {
     "data": {
      "text/html": [
       "Run data is saved locally in <code>/local/scratch/a/jgammell/sca_defense/wandb/run-20230219_084656-omo2vz8s</code>"
      ],
      "text/plain": [
       "<IPython.core.display.HTML object>"
      ]
     },
     "metadata": {},
     "output_type": "display_data"
    },
    {
     "data": {
      "text/html": [
       "Syncing run <strong><a href='https://wandb.ai/jgammell/data_sanitization/runs/omo2vz8s' target=\"_blank\">light-sweep-37</a></strong> to <a href='https://wandb.ai/jgammell/data_sanitization' target=\"_blank\">Weights & Biases</a> (<a href='https://wandb.me/run' target=\"_blank\">docs</a>)<br/>Sweep page: <a href='https://wandb.ai/jgammell/data_sanitization/sweeps/d1qsxwr1' target=\"_blank\">https://wandb.ai/jgammell/data_sanitization/sweeps/d1qsxwr1</a>"
      ],
      "text/plain": [
       "<IPython.core.display.HTML object>"
      ]
     },
     "metadata": {},
     "output_type": "display_data"
    },
    {
     "data": {
      "text/html": [
       " View project at <a href='https://wandb.ai/jgammell/data_sanitization' target=\"_blank\">https://wandb.ai/jgammell/data_sanitization</a>"
      ],
      "text/plain": [
       "<IPython.core.display.HTML object>"
      ]
     },
     "metadata": {},
     "output_type": "display_data"
    },
    {
     "data": {
      "text/html": [
       " View sweep at <a href='https://wandb.ai/jgammell/data_sanitization/sweeps/d1qsxwr1' target=\"_blank\">https://wandb.ai/jgammell/data_sanitization/sweeps/d1qsxwr1</a>"
      ],
      "text/plain": [
       "<IPython.core.display.HTML object>"
      ]
     },
     "metadata": {},
     "output_type": "display_data"
    },
    {
     "data": {
      "text/html": [
       " View run at <a href='https://wandb.ai/jgammell/data_sanitization/runs/omo2vz8s' target=\"_blank\">https://wandb.ai/jgammell/data_sanitization/runs/omo2vz8s</a>"
      ],
      "text/plain": [
       "<IPython.core.display.HTML object>"
      ]
     },
     "metadata": {},
     "output_type": "display_data"
    },
    {
     "data": {
      "text/html": [
       "Waiting for W&B process to finish... <strong style=\"color:green\">(success).</strong>"
      ],
      "text/plain": [
       "<IPython.core.display.HTML object>"
      ]
     },
     "metadata": {},
     "output_type": "display_data"
    },
    {
     "data": {
      "text/html": [
       "<style>\n",
       "    table.wandb td:nth-child(1) { padding: 0 10px; text-align: left ; width: auto;} td:nth-child(2) {text-align: left ; width: 100%}\n",
       "    .wandb-row { display: flex; flex-direction: row; flex-wrap: wrap; justify-content: flex-start; width: 100% }\n",
       "    .wandb-col { display: flex; flex-direction: column; flex-basis: 100%; flex: 1; padding: 10px; }\n",
       "    </style>\n",
       "<div class=\"wandb-row\"><div class=\"wandb-col\"><h3>Run history:</h3><br/><table class=\"wandb\"><tr><td>duration</td><td>▄▄▄▄▅▄▃▄▆▄▃▅▇▅▄▆▄▆▃▄▅▃▄▂█▁▂▂▃▃▇▂▄▂▄▃▄▃▃▅</td></tr><tr><td>te_c_acc</td><td>▁▁██▁▁▁▁▁▁▁▁▁▁▁▁▁▁▁▁▁▁▁▁▁▁▁▁▁▁▁▁▁▁▁▁▁▁▁▁</td></tr><tr><td>te_c_loss</td><td>██▁▁████████████████████████████████████</td></tr><tr><td>te_c_oracle_loss</td><td>▁▁▁▁████████████████████████████████████</td></tr><tr><td>te_s_em_loss</td><td>▁▁▅█▁▁▁▁▁▁▁▁▁▁▁▁▁▁▁▁▁▁▁▁▁▁▁▁▁▁▁▁▁▁▁▁▁▁▁▁</td></tr><tr><td>te_s_oracle_loss</td><td>▁▁▁▁████████████████████████████████████</td></tr><tr><td>te_s_rec_loss</td><td>▁▁▁▁████████████████████████████████████</td></tr><tr><td>tr_c_acc</td><td>▁▁██▁▁▁▁▁▁▁▁▁▁▁▁▁▁▁▁▁▁▁▁▁▁▁▁▁▁▁▁▁▁▁▁▁▁▁▁</td></tr><tr><td>tr_c_loss</td><td>▇▇▁▁█▇▇▇▇▇▇▇▇▇▇▇▇▇▇▇▇▇▇▇▇▇▇▇▇▇▇▇▇▇▇▇▇▇▇▇</td></tr><tr><td>tr_c_oracle_loss</td><td>▁▁▁▁████████████████████████████████████</td></tr><tr><td>tr_s_em_loss</td><td>▁▁▄█▁▁▁▁▁▁▁▁▁▁▁▁▁▁▁▁▁▁▁▁▁▁▁▁▁▁▁▁▁▁▁▁▁▁▁▁</td></tr><tr><td>tr_s_oracle_loss</td><td>▁▁▁▁████████████████████████████████████</td></tr><tr><td>tr_s_rec_loss</td><td>▁▁▁▁████████████████████████████████████</td></tr></table><br/></div><div class=\"wandb-col\"><h3>Run summary:</h3><br/><table class=\"wandb\"><tr><td>duration</td><td>0.98759</td></tr><tr><td>te_c_acc</td><td>0.4915</td></tr><tr><td>te_c_loss</td><td>0.6932</td></tr><tr><td>te_c_oracle_loss</td><td>0.97906</td></tr><tr><td>te_s_em_loss</td><td>0.69315</td></tr><tr><td>te_s_oracle_loss</td><td>0.97906</td></tr><tr><td>te_s_rec_loss</td><td>0.02556</td></tr><tr><td>tr_c_acc</td><td>0.49885</td></tr><tr><td>tr_c_loss</td><td>0.6932</td></tr><tr><td>tr_c_oracle_loss</td><td>0.97977</td></tr><tr><td>tr_s_em_loss</td><td>0.69319</td></tr><tr><td>tr_s_oracle_loss</td><td>0.97967</td></tr><tr><td>tr_s_rec_loss</td><td>0.02556</td></tr></table><br/></div></div>"
      ],
      "text/plain": [
       "<IPython.core.display.HTML object>"
      ]
     },
     "metadata": {},
     "output_type": "display_data"
    },
    {
     "data": {
      "text/html": [
       " View run <strong style=\"color:#cdcd00\">light-sweep-37</strong> at: <a href='https://wandb.ai/jgammell/data_sanitization/runs/omo2vz8s' target=\"_blank\">https://wandb.ai/jgammell/data_sanitization/runs/omo2vz8s</a><br/>Synced 5 W&B file(s), 0 media file(s), 0 artifact file(s) and 0 other file(s)"
      ],
      "text/plain": [
       "<IPython.core.display.HTML object>"
      ]
     },
     "metadata": {},
     "output_type": "display_data"
    },
    {
     "data": {
      "text/html": [
       "Find logs at: <code>./wandb/run-20230219_084656-omo2vz8s/logs</code>"
      ],
      "text/plain": [
       "<IPython.core.display.HTML object>"
      ]
     },
     "metadata": {},
     "output_type": "display_data"
    },
    {
     "name": "stderr",
     "output_type": "stream",
     "text": [
      "\u001b[34m\u001b[1mwandb\u001b[0m: Agent Starting Run: okupqkmi with config:\n",
      "\u001b[34m\u001b[1mwandb\u001b[0m: \tatenc_bottleneck_width: 4\n",
      "\u001b[34m\u001b[1mwandb\u001b[0m: \tatenc_sn: False\n",
      "\u001b[34m\u001b[1mwandb\u001b[0m: \tbeta1_c: 0.7810697873430458\n",
      "\u001b[34m\u001b[1mwandb\u001b[0m: \tbeta1_s: 0.2699699488446505\n",
      "\u001b[34m\u001b[1mwandb\u001b[0m: \tbeta2_c: 0.999\n",
      "\u001b[34m\u001b[1mwandb\u001b[0m: \tbeta2_s: 0.999\n",
      "\u001b[34m\u001b[1mwandb\u001b[0m: \tc_pretrain_epochs: 12\n",
      "\u001b[34m\u001b[1mwandb\u001b[0m: \tclass_sn: True\n",
      "\u001b[34m\u001b[1mwandb\u001b[0m: \tlr_c: 0.002614257457197906\n",
      "\u001b[34m\u001b[1mwandb\u001b[0m: \tlr_s: 0.003055236522906003\n",
      "\u001b[34m\u001b[1mwandb\u001b[0m: \ts_lbd: 0.3757988872229537\n",
      "\u001b[34m\u001b[1mwandb\u001b[0m: \ts_pretrain_epochs: 18\n",
      "\u001b[34m\u001b[1mwandb\u001b[0m: \tsan_sn: False\n",
      "\u001b[34m\u001b[1mwandb\u001b[0m: \ttrain_epochs: 250\n"
     ]
    },
    {
     "data": {
      "text/html": [
       "Tracking run with wandb version 0.13.10"
      ],
      "text/plain": [
       "<IPython.core.display.HTML object>"
      ]
     },
     "metadata": {},
     "output_type": "display_data"
    },
    {
     "data": {
      "text/html": [
       "Run data is saved locally in <code>/local/scratch/a/jgammell/sca_defense/wandb/run-20230219_091157-okupqkmi</code>"
      ],
      "text/plain": [
       "<IPython.core.display.HTML object>"
      ]
     },
     "metadata": {},
     "output_type": "display_data"
    },
    {
     "data": {
      "text/html": [
       "Syncing run <strong><a href='https://wandb.ai/jgammell/data_sanitization/runs/okupqkmi' target=\"_blank\">woven-sweep-38</a></strong> to <a href='https://wandb.ai/jgammell/data_sanitization' target=\"_blank\">Weights & Biases</a> (<a href='https://wandb.me/run' target=\"_blank\">docs</a>)<br/>Sweep page: <a href='https://wandb.ai/jgammell/data_sanitization/sweeps/d1qsxwr1' target=\"_blank\">https://wandb.ai/jgammell/data_sanitization/sweeps/d1qsxwr1</a>"
      ],
      "text/plain": [
       "<IPython.core.display.HTML object>"
      ]
     },
     "metadata": {},
     "output_type": "display_data"
    },
    {
     "data": {
      "text/html": [
       " View project at <a href='https://wandb.ai/jgammell/data_sanitization' target=\"_blank\">https://wandb.ai/jgammell/data_sanitization</a>"
      ],
      "text/plain": [
       "<IPython.core.display.HTML object>"
      ]
     },
     "metadata": {},
     "output_type": "display_data"
    },
    {
     "data": {
      "text/html": [
       " View sweep at <a href='https://wandb.ai/jgammell/data_sanitization/sweeps/d1qsxwr1' target=\"_blank\">https://wandb.ai/jgammell/data_sanitization/sweeps/d1qsxwr1</a>"
      ],
      "text/plain": [
       "<IPython.core.display.HTML object>"
      ]
     },
     "metadata": {},
     "output_type": "display_data"
    },
    {
     "data": {
      "text/html": [
       " View run at <a href='https://wandb.ai/jgammell/data_sanitization/runs/okupqkmi' target=\"_blank\">https://wandb.ai/jgammell/data_sanitization/runs/okupqkmi</a>"
      ],
      "text/plain": [
       "<IPython.core.display.HTML object>"
      ]
     },
     "metadata": {},
     "output_type": "display_data"
    },
    {
     "data": {
      "text/html": [
       "Waiting for W&B process to finish... <strong style=\"color:green\">(success).</strong>"
      ],
      "text/plain": [
       "<IPython.core.display.HTML object>"
      ]
     },
     "metadata": {},
     "output_type": "display_data"
    },
    {
     "data": {
      "application/vnd.jupyter.widget-view+json": {
       "model_id": "39adb8859617449ebfb0cc3fe787ecab",
       "version_major": 2,
       "version_minor": 0
      },
      "text/plain": [
       "VBox(children=(Label(value='0.002 MB of 0.023 MB uploaded (0.000 MB deduped)\\r'), FloatProgress(value=0.086473…"
      ]
     },
     "metadata": {},
     "output_type": "display_data"
    },
    {
     "data": {
      "text/html": [
       "<style>\n",
       "    table.wandb td:nth-child(1) { padding: 0 10px; text-align: left ; width: auto;} td:nth-child(2) {text-align: left ; width: 100%}\n",
       "    .wandb-row { display: flex; flex-direction: row; flex-wrap: wrap; justify-content: flex-start; width: 100% }\n",
       "    .wandb-col { display: flex; flex-direction: column; flex-basis: 100%; flex: 1; padding: 10px; }\n",
       "    </style>\n",
       "<div class=\"wandb-row\"><div class=\"wandb-col\"><h3>Run history:</h3><br/><table class=\"wandb\"><tr><td>duration</td><td>▅▄▇█▁▃▄▃▄▃▁▃▄▃▂▄▃▇▃▃▅▂▄▂▅▄▄▃▄▃▄▄▄▅▅▄▄▅▅█</td></tr><tr><td>te_c_acc</td><td>▁▁▁█▂▃▄▄▄▄▄▄▄▄▄▄▄▄▄▄▄▄▄▄▄▄▄▄▄▄▄▄▄▄▄▄▄▄▄▄</td></tr><tr><td>te_c_loss</td><td>███▁▇▇▆▆▆▆▆▆▆▆▆▆▆▆▆▆▆▆▆▆▇▆▆▆▆▇▇▇█▇▇▇▇▇▇▇</td></tr><tr><td>te_c_oracle_loss</td><td>▁▁▁▁████████████████████████████████████</td></tr><tr><td>te_s_em_loss</td><td>▁▁▁█▁▁▁▂▂▂▂▂▂▂▂▂▂▂▂▂▂▂▂▂▂▂▂▂▂▂▂▂▃▂▃▂▃▃▃▃</td></tr><tr><td>te_s_oracle_loss</td><td>▁▁▁▁████████████████████████████████████</td></tr><tr><td>te_s_rec_loss</td><td>▁▁▁▁███████████████▇▇▇▇▇▇▇▇▇▇▇▇▇▇▇▇▇▇▇▇▇</td></tr><tr><td>tr_c_acc</td><td>▁▁▁█▂▄▄▄▄▄▄▄▄▄▄▄▄▄▄▄▄▄▄▄▄▄▄▄▄▄▄▄▄▄▄▄▄▄▄▄</td></tr><tr><td>tr_c_loss</td><td>███▁█▇▆▆▆▆▅▅▅▅▅▅▅▅▆▅▅▅▅▅▄▄▄▄▄▄▄▄▃▃▃▃▃▃▃▃</td></tr><tr><td>tr_c_oracle_loss</td><td>▁▁▁▁████████████████████████████████████</td></tr><tr><td>tr_s_em_loss</td><td>▁▁▁█▁▁▁▂▂▂▂▂▂▂▂▂▂▂▂▂▂▂▂▂▂▂▂▂▂▂▂▂▃▃▃▃▃▃▃▃</td></tr><tr><td>tr_s_oracle_loss</td><td>▁▁▁▁████████████████████████████████████</td></tr><tr><td>tr_s_rec_loss</td><td>▁▁▁▁███████████████▇█▇▇█▇▇███▇██▇▇██▇▇█▇</td></tr></table><br/></div><div class=\"wandb-col\"><h3>Run summary:</h3><br/><table class=\"wandb\"><tr><td>duration</td><td>1.00368</td></tr><tr><td>te_c_acc</td><td>0.69756</td></tr><tr><td>te_c_loss</td><td>0.71989</td></tr><tr><td>te_c_oracle_loss</td><td>0.82391</td></tr><tr><td>te_s_em_loss</td><td>1.4365</td></tr><tr><td>te_s_oracle_loss</td><td>0.82391</td></tr><tr><td>te_s_rec_loss</td><td>0.45438</td></tr><tr><td>tr_c_acc</td><td>0.69464</td></tr><tr><td>tr_c_loss</td><td>0.2269</td></tr><tr><td>tr_c_oracle_loss</td><td>0.82378</td></tr><tr><td>tr_s_em_loss</td><td>1.50199</td></tr><tr><td>tr_s_oracle_loss</td><td>0.82384</td></tr><tr><td>tr_s_rec_loss</td><td>0.45407</td></tr></table><br/></div></div>"
      ],
      "text/plain": [
       "<IPython.core.display.HTML object>"
      ]
     },
     "metadata": {},
     "output_type": "display_data"
    },
    {
     "data": {
      "text/html": [
       " View run <strong style=\"color:#cdcd00\">woven-sweep-38</strong> at: <a href='https://wandb.ai/jgammell/data_sanitization/runs/okupqkmi' target=\"_blank\">https://wandb.ai/jgammell/data_sanitization/runs/okupqkmi</a><br/>Synced 5 W&B file(s), 0 media file(s), 0 artifact file(s) and 0 other file(s)"
      ],
      "text/plain": [
       "<IPython.core.display.HTML object>"
      ]
     },
     "metadata": {},
     "output_type": "display_data"
    },
    {
     "data": {
      "text/html": [
       "Find logs at: <code>./wandb/run-20230219_091157-okupqkmi/logs</code>"
      ],
      "text/plain": [
       "<IPython.core.display.HTML object>"
      ]
     },
     "metadata": {},
     "output_type": "display_data"
    },
    {
     "name": "stderr",
     "output_type": "stream",
     "text": [
      "\u001b[34m\u001b[1mwandb\u001b[0m: Sweep Agent: Waiting for job.\n",
      "\u001b[34m\u001b[1mwandb\u001b[0m: Job received.\n",
      "\u001b[34m\u001b[1mwandb\u001b[0m: Agent Starting Run: qli2fjt6 with config:\n",
      "\u001b[34m\u001b[1mwandb\u001b[0m: \tatenc_bottleneck_width: 128\n",
      "\u001b[34m\u001b[1mwandb\u001b[0m: \tatenc_sn: False\n",
      "\u001b[34m\u001b[1mwandb\u001b[0m: \tbeta1_c: 0.6921925840260145\n",
      "\u001b[34m\u001b[1mwandb\u001b[0m: \tbeta1_s: 0.22932141367905276\n",
      "\u001b[34m\u001b[1mwandb\u001b[0m: \tbeta2_c: 0.999\n",
      "\u001b[34m\u001b[1mwandb\u001b[0m: \tbeta2_s: 0.999\n",
      "\u001b[34m\u001b[1mwandb\u001b[0m: \tc_pretrain_epochs: 19\n",
      "\u001b[34m\u001b[1mwandb\u001b[0m: \tclass_sn: False\n",
      "\u001b[34m\u001b[1mwandb\u001b[0m: \tlr_c: 0.0036822116775084247\n",
      "\u001b[34m\u001b[1mwandb\u001b[0m: \tlr_s: 0.0004775733206708387\n",
      "\u001b[34m\u001b[1mwandb\u001b[0m: \ts_lbd: 0.7304707660439178\n",
      "\u001b[34m\u001b[1mwandb\u001b[0m: \ts_pretrain_epochs: 1\n",
      "\u001b[34m\u001b[1mwandb\u001b[0m: \tsan_sn: True\n",
      "\u001b[34m\u001b[1mwandb\u001b[0m: \ttrain_epochs: 250\n"
     ]
    },
    {
     "data": {
      "application/vnd.jupyter.widget-view+json": {
       "model_id": "14afdf668bb046559d96871a2f13e3c4",
       "version_major": 2,
       "version_minor": 0
      },
      "text/plain": [
       "VBox(children=(Label(value='Waiting for wandb.init()...\\r'), FloatProgress(value=0.016673946000325183, max=1.0…"
      ]
     },
     "metadata": {},
     "output_type": "display_data"
    },
    {
     "data": {
      "text/html": [
       "Tracking run with wandb version 0.13.10"
      ],
      "text/plain": [
       "<IPython.core.display.HTML object>"
      ]
     },
     "metadata": {},
     "output_type": "display_data"
    },
    {
     "data": {
      "text/html": [
       "Run data is saved locally in <code>/local/scratch/a/jgammell/sca_defense/wandb/run-20230219_093806-qli2fjt6</code>"
      ],
      "text/plain": [
       "<IPython.core.display.HTML object>"
      ]
     },
     "metadata": {},
     "output_type": "display_data"
    },
    {
     "data": {
      "text/html": [
       "Syncing run <strong><a href='https://wandb.ai/jgammell/data_sanitization/runs/qli2fjt6' target=\"_blank\">clear-sweep-39</a></strong> to <a href='https://wandb.ai/jgammell/data_sanitization' target=\"_blank\">Weights & Biases</a> (<a href='https://wandb.me/run' target=\"_blank\">docs</a>)<br/>Sweep page: <a href='https://wandb.ai/jgammell/data_sanitization/sweeps/d1qsxwr1' target=\"_blank\">https://wandb.ai/jgammell/data_sanitization/sweeps/d1qsxwr1</a>"
      ],
      "text/plain": [
       "<IPython.core.display.HTML object>"
      ]
     },
     "metadata": {},
     "output_type": "display_data"
    },
    {
     "data": {
      "text/html": [
       " View project at <a href='https://wandb.ai/jgammell/data_sanitization' target=\"_blank\">https://wandb.ai/jgammell/data_sanitization</a>"
      ],
      "text/plain": [
       "<IPython.core.display.HTML object>"
      ]
     },
     "metadata": {},
     "output_type": "display_data"
    },
    {
     "data": {
      "text/html": [
       " View sweep at <a href='https://wandb.ai/jgammell/data_sanitization/sweeps/d1qsxwr1' target=\"_blank\">https://wandb.ai/jgammell/data_sanitization/sweeps/d1qsxwr1</a>"
      ],
      "text/plain": [
       "<IPython.core.display.HTML object>"
      ]
     },
     "metadata": {},
     "output_type": "display_data"
    },
    {
     "data": {
      "text/html": [
       " View run at <a href='https://wandb.ai/jgammell/data_sanitization/runs/qli2fjt6' target=\"_blank\">https://wandb.ai/jgammell/data_sanitization/runs/qli2fjt6</a>"
      ],
      "text/plain": [
       "<IPython.core.display.HTML object>"
      ]
     },
     "metadata": {},
     "output_type": "display_data"
    },
    {
     "data": {
      "text/html": [
       "Waiting for W&B process to finish... <strong style=\"color:green\">(success).</strong>"
      ],
      "text/plain": [
       "<IPython.core.display.HTML object>"
      ]
     },
     "metadata": {},
     "output_type": "display_data"
    },
    {
     "data": {
      "text/html": [
       "<style>\n",
       "    table.wandb td:nth-child(1) { padding: 0 10px; text-align: left ; width: auto;} td:nth-child(2) {text-align: left ; width: 100%}\n",
       "    .wandb-row { display: flex; flex-direction: row; flex-wrap: wrap; justify-content: flex-start; width: 100% }\n",
       "    .wandb-col { display: flex; flex-direction: column; flex-basis: 100%; flex: 1; padding: 10px; }\n",
       "    </style>\n",
       "<div class=\"wandb-row\"><div class=\"wandb-col\"><h3>Run history:</h3><br/><table class=\"wandb\"><tr><td>duration</td><td>▃▂▂▅▂▃▃▃▅▅▃▄▂▃▄▃▃▄▃▄█▂▃▄▃▃▃▄▅▂▃▃▄▃▁█▃▃▄▄</td></tr><tr><td>te_c_acc</td><td>▇█▇▅▆▄▄▃▃▃▃▄▂▂▂▁▂▂▁▂▂▁▁▁▁▁▁▁▁▂▁▁▁▁▁▁▁▂▁▁</td></tr><tr><td>te_c_loss</td><td>▂▁▃▅▄▆▆▆▇▇▇▆▇▇▇▇▇▇▇▇▇▇▇▇▇▇▇▇█▇▇▇▇▇▇▇▇▇▇▇</td></tr><tr><td>te_c_oracle_loss</td><td>▁▁▁▂▃▃▃▃▄▅▃▅▇▇▇▇▇▇▇▇▆▇██▆▆▇▅█▆▇▆▆▆▇▇▇▆▇█</td></tr><tr><td>te_s_em_loss</td><td>▂▇█▁▁▁▁▁▁▁▁▁▁▁▁▁▁▁▁▁▁▁▁▁▁▁▁▁▁▁▁▁▁▁▁▁▁▁▁▁</td></tr><tr><td>te_s_oracle_loss</td><td>▁▁▁▂▃▃▃▃▄▅▃▅▇▇▇▇▇▇▇▇▆▇██▆▆▇▅█▆▇▆▆▆▇▇▇▆▇█</td></tr><tr><td>te_s_rec_loss</td><td>▁▁▁▂▂▂▃▃▄▄▂▅█▇▇▇▇▇█▇▇▇██▆▅▆▃▇▅▅▆▇▄▅▆█▆▆▅</td></tr><tr><td>tr_c_acc</td><td>▇██▅▅▄▄▄▄▃▃▄▃▂▂▂▂▁▁▂▁▁▁▁▁▁▁▁▁▁▁▁▁▁▁▁▁▁▁▁</td></tr><tr><td>tr_c_loss</td><td>▃▁▁▅▅▆▆▇▇▇█▆▇███████████████████████████</td></tr><tr><td>tr_c_oracle_loss</td><td>▁▁▁▂▃▃▃▃▄▅▃▅▇▇▇▇▇▇▇▇▆▇██▇▇▇▆▇▆▇▇▆▆▇▇▇▆▇█</td></tr><tr><td>tr_s_em_loss</td><td>▂▆█▁▁▁▁▁▁▁▁▁▁▁▁▁▁▁▁▁▁▁▁▁▁▁▁▁▁▁▁▁▁▁▁▁▁▁▁▁</td></tr><tr><td>tr_s_oracle_loss</td><td>▁▁▁▂▃▃▃▃▄▅▃▅▇▇▇▇▇▇▇▇▆▇██▇▇▇▆▇▆▇▇▆▆▇▇▇▆▇█</td></tr><tr><td>tr_s_rec_loss</td><td>▁▁▁▂▂▂▃▃▄▄▂▅▇▇▇▇▆▇▇▇▇▇██▆▅▆▃▇▅▅▆▇▄▅▆▆▅▆▅</td></tr></table><br/></div><div class=\"wandb-col\"><h3>Run summary:</h3><br/><table class=\"wandb\"><tr><td>duration</td><td>0.9979</td></tr><tr><td>te_c_acc</td><td>0.50039</td></tr><tr><td>te_c_loss</td><td>0.69326</td></tr><tr><td>te_c_oracle_loss</td><td>1.11766</td></tr><tr><td>te_s_em_loss</td><td>0.69321</td></tr><tr><td>te_s_oracle_loss</td><td>1.11766</td></tr><tr><td>te_s_rec_loss</td><td>0.04545</td></tr><tr><td>tr_c_acc</td><td>0.49324</td></tr><tr><td>tr_c_loss</td><td>0.69384</td></tr><tr><td>tr_c_oracle_loss</td><td>1.11885</td></tr><tr><td>tr_s_em_loss</td><td>0.69357</td></tr><tr><td>tr_s_oracle_loss</td><td>1.11926</td></tr><tr><td>tr_s_rec_loss</td><td>0.0455</td></tr></table><br/></div></div>"
      ],
      "text/plain": [
       "<IPython.core.display.HTML object>"
      ]
     },
     "metadata": {},
     "output_type": "display_data"
    },
    {
     "data": {
      "text/html": [
       " View run <strong style=\"color:#cdcd00\">clear-sweep-39</strong> at: <a href='https://wandb.ai/jgammell/data_sanitization/runs/qli2fjt6' target=\"_blank\">https://wandb.ai/jgammell/data_sanitization/runs/qli2fjt6</a><br/>Synced 5 W&B file(s), 0 media file(s), 0 artifact file(s) and 0 other file(s)"
      ],
      "text/plain": [
       "<IPython.core.display.HTML object>"
      ]
     },
     "metadata": {},
     "output_type": "display_data"
    },
    {
     "data": {
      "text/html": [
       "Find logs at: <code>./wandb/run-20230219_093806-qli2fjt6/logs</code>"
      ],
      "text/plain": [
       "<IPython.core.display.HTML object>"
      ]
     },
     "metadata": {},
     "output_type": "display_data"
    },
    {
     "name": "stderr",
     "output_type": "stream",
     "text": [
      "\u001b[34m\u001b[1mwandb\u001b[0m: Sweep Agent: Waiting for job.\n",
      "\u001b[34m\u001b[1mwandb\u001b[0m: Job received.\n",
      "\u001b[34m\u001b[1mwandb\u001b[0m: Agent Starting Run: 7kdfe1rb with config:\n",
      "\u001b[34m\u001b[1mwandb\u001b[0m: \tatenc_bottleneck_width: 128\n",
      "\u001b[34m\u001b[1mwandb\u001b[0m: \tatenc_sn: True\n",
      "\u001b[34m\u001b[1mwandb\u001b[0m: \tbeta1_c: 0.4349847453357959\n",
      "\u001b[34m\u001b[1mwandb\u001b[0m: \tbeta1_s: 0.53730105351517\n",
      "\u001b[34m\u001b[1mwandb\u001b[0m: \tbeta2_c: 0.999\n",
      "\u001b[34m\u001b[1mwandb\u001b[0m: \tbeta2_s: 0.999\n",
      "\u001b[34m\u001b[1mwandb\u001b[0m: \tc_pretrain_epochs: 3\n",
      "\u001b[34m\u001b[1mwandb\u001b[0m: \tclass_sn: False\n",
      "\u001b[34m\u001b[1mwandb\u001b[0m: \tlr_c: 0.004316109111479329\n",
      "\u001b[34m\u001b[1mwandb\u001b[0m: \tlr_s: 0.0006309421064204438\n",
      "\u001b[34m\u001b[1mwandb\u001b[0m: \ts_lbd: 67.55137232534267\n",
      "\u001b[34m\u001b[1mwandb\u001b[0m: \ts_pretrain_epochs: 14\n",
      "\u001b[34m\u001b[1mwandb\u001b[0m: \tsan_sn: False\n",
      "\u001b[34m\u001b[1mwandb\u001b[0m: \ttrain_epochs: 250\n"
     ]
    },
    {
     "data": {
      "text/html": [
       "Tracking run with wandb version 0.13.10"
      ],
      "text/plain": [
       "<IPython.core.display.HTML object>"
      ]
     },
     "metadata": {},
     "output_type": "display_data"
    },
    {
     "data": {
      "text/html": [
       "Run data is saved locally in <code>/local/scratch/a/jgammell/sca_defense/wandb/run-20230219_100517-7kdfe1rb</code>"
      ],
      "text/plain": [
       "<IPython.core.display.HTML object>"
      ]
     },
     "metadata": {},
     "output_type": "display_data"
    },
    {
     "data": {
      "text/html": [
       "Syncing run <strong><a href='https://wandb.ai/jgammell/data_sanitization/runs/7kdfe1rb' target=\"_blank\">ethereal-sweep-40</a></strong> to <a href='https://wandb.ai/jgammell/data_sanitization' target=\"_blank\">Weights & Biases</a> (<a href='https://wandb.me/run' target=\"_blank\">docs</a>)<br/>Sweep page: <a href='https://wandb.ai/jgammell/data_sanitization/sweeps/d1qsxwr1' target=\"_blank\">https://wandb.ai/jgammell/data_sanitization/sweeps/d1qsxwr1</a>"
      ],
      "text/plain": [
       "<IPython.core.display.HTML object>"
      ]
     },
     "metadata": {},
     "output_type": "display_data"
    },
    {
     "data": {
      "text/html": [
       " View project at <a href='https://wandb.ai/jgammell/data_sanitization' target=\"_blank\">https://wandb.ai/jgammell/data_sanitization</a>"
      ],
      "text/plain": [
       "<IPython.core.display.HTML object>"
      ]
     },
     "metadata": {},
     "output_type": "display_data"
    },
    {
     "data": {
      "text/html": [
       " View sweep at <a href='https://wandb.ai/jgammell/data_sanitization/sweeps/d1qsxwr1' target=\"_blank\">https://wandb.ai/jgammell/data_sanitization/sweeps/d1qsxwr1</a>"
      ],
      "text/plain": [
       "<IPython.core.display.HTML object>"
      ]
     },
     "metadata": {},
     "output_type": "display_data"
    },
    {
     "data": {
      "text/html": [
       " View run at <a href='https://wandb.ai/jgammell/data_sanitization/runs/7kdfe1rb' target=\"_blank\">https://wandb.ai/jgammell/data_sanitization/runs/7kdfe1rb</a>"
      ],
      "text/plain": [
       "<IPython.core.display.HTML object>"
      ]
     },
     "metadata": {},
     "output_type": "display_data"
    },
    {
     "data": {
      "text/html": [
       "Waiting for W&B process to finish... <strong style=\"color:green\">(success).</strong>"
      ],
      "text/plain": [
       "<IPython.core.display.HTML object>"
      ]
     },
     "metadata": {},
     "output_type": "display_data"
    },
    {
     "data": {
      "text/html": [
       "<style>\n",
       "    table.wandb td:nth-child(1) { padding: 0 10px; text-align: left ; width: auto;} td:nth-child(2) {text-align: left ; width: 100%}\n",
       "    .wandb-row { display: flex; flex-direction: row; flex-wrap: wrap; justify-content: flex-start; width: 100% }\n",
       "    .wandb-col { display: flex; flex-direction: column; flex-basis: 100%; flex: 1; padding: 10px; }\n",
       "    </style>\n",
       "<div class=\"wandb-row\"><div class=\"wandb-col\"><h3>Run history:</h3><br/><table class=\"wandb\"><tr><td>duration</td><td>▄▂▃▂▁▇▅▃▃▄▂▃▃▄▃█▄▃▄▂▇▆▆▄▄▂▅▄▃▄▄▄▃▆▅▂▂▂▃▁</td></tr><tr><td>te_c_acc</td><td>▁▁▁▂▅▃▆▆▅▆▆▅▄▇▁███▇▇██▇▆█████▇▇█▇█▇▇▇▇▇▇</td></tr><tr><td>te_c_loss</td><td>▁▁█▁▁▁▁▁▁▁▁▁▁▁▄▁▁▁▁▁▁▁▁▁▁▁▁▁▁▁▁▁▁▁▁▁▁▁▁▁</td></tr><tr><td>te_c_oracle_loss</td><td>▁▁▁▅▆▆▆▇▇▇▇▇▇▇▇▇▇▇▇▇▇▇██████████████████</td></tr><tr><td>te_s_em_loss</td><td>▁▁█▁▁▁▁▂▂▂▂▂▃▃▇▂▃▃▃▄▃▄▃▄▃▃▃▃▂▂▂▂▂▂▂▃▂▂▃▃</td></tr><tr><td>te_s_oracle_loss</td><td>▁▁▁▅▆▆▆▇▇▇▇▇▇▇▇▇▇▇▇▇▇▇██████████████████</td></tr><tr><td>te_s_rec_loss</td><td>▁▁▁▅▇▇█▇▇▇▇▇██████████████▇█████████████</td></tr><tr><td>tr_c_acc</td><td>▁▁█▃▅▃▆▆▇▇▇▇▇▇▇▇▇▇███▇▇▇▇█▇▇▇▇▇▇▇▇▇▇▇▇▇▇</td></tr><tr><td>tr_c_loss</td><td>██▄▇▆█▅▅▄▄▃▄▃▃▂▂▂▂▁▁▁▁▁▁▂▁▁▂▂▂▂▂▂▂▂▂▂▂▁▁</td></tr><tr><td>tr_c_oracle_loss</td><td>▁▁▁▅▆▆▆▇▇▇▇▇▇▇▇▇▇▇▇▇▇▇▇█████████████████</td></tr><tr><td>tr_s_em_loss</td><td>▁▁▂▁▂▁▃▂▃▃▃▃▄▅▅▅▅▆██▇█▇▆▅▆▅▅▄▅▄▄▄▄▄▄▄▄▅▅</td></tr><tr><td>tr_s_oracle_loss</td><td>▁▁▁▅▆▆▆▇▇▇▇▇▇▇▇▇▇▇▇▇▇▇▇█████████████████</td></tr><tr><td>tr_s_rec_loss</td><td>▁▁▁▅▇▇▇▇▇▇▇▇████████████████████████████</td></tr></table><br/></div><div class=\"wandb-col\"><h3>Run summary:</h3><br/><table class=\"wandb\"><tr><td>duration</td><td>0.97513</td></tr><tr><td>te_c_acc</td><td>0.66377</td></tr><tr><td>te_c_loss</td><td>0.61066</td></tr><tr><td>te_c_oracle_loss</td><td>1.23953</td></tr><tr><td>te_s_em_loss</td><td>1.33167</td></tr><tr><td>te_s_oracle_loss</td><td>1.23953</td></tr><tr><td>te_s_rec_loss</td><td>0.04593</td></tr><tr><td>tr_c_acc</td><td>0.66211</td></tr><tr><td>tr_c_loss</td><td>0.51547</td></tr><tr><td>tr_c_oracle_loss</td><td>1.24079</td></tr><tr><td>tr_s_em_loss</td><td>1.26681</td></tr><tr><td>tr_s_oracle_loss</td><td>1.24057</td></tr><tr><td>tr_s_rec_loss</td><td>0.04593</td></tr></table><br/></div></div>"
      ],
      "text/plain": [
       "<IPython.core.display.HTML object>"
      ]
     },
     "metadata": {},
     "output_type": "display_data"
    },
    {
     "data": {
      "text/html": [
       " View run <strong style=\"color:#cdcd00\">ethereal-sweep-40</strong> at: <a href='https://wandb.ai/jgammell/data_sanitization/runs/7kdfe1rb' target=\"_blank\">https://wandb.ai/jgammell/data_sanitization/runs/7kdfe1rb</a><br/>Synced 5 W&B file(s), 0 media file(s), 0 artifact file(s) and 0 other file(s)"
      ],
      "text/plain": [
       "<IPython.core.display.HTML object>"
      ]
     },
     "metadata": {},
     "output_type": "display_data"
    },
    {
     "data": {
      "text/html": [
       "Find logs at: <code>./wandb/run-20230219_100517-7kdfe1rb/logs</code>"
      ],
      "text/plain": [
       "<IPython.core.display.HTML object>"
      ]
     },
     "metadata": {},
     "output_type": "display_data"
    },
    {
     "name": "stderr",
     "output_type": "stream",
     "text": [
      "\u001b[34m\u001b[1mwandb\u001b[0m: Agent Starting Run: 2qnxi0xj with config:\n",
      "\u001b[34m\u001b[1mwandb\u001b[0m: \tatenc_bottleneck_width: 16\n",
      "\u001b[34m\u001b[1mwandb\u001b[0m: \tatenc_sn: True\n",
      "\u001b[34m\u001b[1mwandb\u001b[0m: \tbeta1_c: 0.27985324870822864\n",
      "\u001b[34m\u001b[1mwandb\u001b[0m: \tbeta1_s: 0.6967724954979276\n",
      "\u001b[34m\u001b[1mwandb\u001b[0m: \tbeta2_c: 0.999\n",
      "\u001b[34m\u001b[1mwandb\u001b[0m: \tbeta2_s: 0.999\n",
      "\u001b[34m\u001b[1mwandb\u001b[0m: \tc_pretrain_epochs: 20\n",
      "\u001b[34m\u001b[1mwandb\u001b[0m: \tclass_sn: False\n",
      "\u001b[34m\u001b[1mwandb\u001b[0m: \tlr_c: 0.003284895062644614\n",
      "\u001b[34m\u001b[1mwandb\u001b[0m: \tlr_s: 0.007095724413202909\n",
      "\u001b[34m\u001b[1mwandb\u001b[0m: \ts_lbd: 32.509735371732475\n",
      "\u001b[34m\u001b[1mwandb\u001b[0m: \ts_pretrain_epochs: 14\n",
      "\u001b[34m\u001b[1mwandb\u001b[0m: \tsan_sn: False\n",
      "\u001b[34m\u001b[1mwandb\u001b[0m: \ttrain_epochs: 250\n"
     ]
    },
    {
     "data": {
      "text/html": [
       "Tracking run with wandb version 0.13.10"
      ],
      "text/plain": [
       "<IPython.core.display.HTML object>"
      ]
     },
     "metadata": {},
     "output_type": "display_data"
    },
    {
     "data": {
      "text/html": [
       "Run data is saved locally in <code>/local/scratch/a/jgammell/sca_defense/wandb/run-20230219_102958-2qnxi0xj</code>"
      ],
      "text/plain": [
       "<IPython.core.display.HTML object>"
      ]
     },
     "metadata": {},
     "output_type": "display_data"
    },
    {
     "data": {
      "text/html": [
       "Syncing run <strong><a href='https://wandb.ai/jgammell/data_sanitization/runs/2qnxi0xj' target=\"_blank\">bumbling-sweep-41</a></strong> to <a href='https://wandb.ai/jgammell/data_sanitization' target=\"_blank\">Weights & Biases</a> (<a href='https://wandb.me/run' target=\"_blank\">docs</a>)<br/>Sweep page: <a href='https://wandb.ai/jgammell/data_sanitization/sweeps/d1qsxwr1' target=\"_blank\">https://wandb.ai/jgammell/data_sanitization/sweeps/d1qsxwr1</a>"
      ],
      "text/plain": [
       "<IPython.core.display.HTML object>"
      ]
     },
     "metadata": {},
     "output_type": "display_data"
    },
    {
     "data": {
      "text/html": [
       " View project at <a href='https://wandb.ai/jgammell/data_sanitization' target=\"_blank\">https://wandb.ai/jgammell/data_sanitization</a>"
      ],
      "text/plain": [
       "<IPython.core.display.HTML object>"
      ]
     },
     "metadata": {},
     "output_type": "display_data"
    },
    {
     "data": {
      "text/html": [
       " View sweep at <a href='https://wandb.ai/jgammell/data_sanitization/sweeps/d1qsxwr1' target=\"_blank\">https://wandb.ai/jgammell/data_sanitization/sweeps/d1qsxwr1</a>"
      ],
      "text/plain": [
       "<IPython.core.display.HTML object>"
      ]
     },
     "metadata": {},
     "output_type": "display_data"
    },
    {
     "data": {
      "text/html": [
       " View run at <a href='https://wandb.ai/jgammell/data_sanitization/runs/2qnxi0xj' target=\"_blank\">https://wandb.ai/jgammell/data_sanitization/runs/2qnxi0xj</a>"
      ],
      "text/plain": [
       "<IPython.core.display.HTML object>"
      ]
     },
     "metadata": {},
     "output_type": "display_data"
    },
    {
     "data": {
      "text/html": [
       "Waiting for W&B process to finish... <strong style=\"color:green\">(success).</strong>"
      ],
      "text/plain": [
       "<IPython.core.display.HTML object>"
      ]
     },
     "metadata": {},
     "output_type": "display_data"
    },
    {
     "data": {
      "text/html": [
       "<style>\n",
       "    table.wandb td:nth-child(1) { padding: 0 10px; text-align: left ; width: auto;} td:nth-child(2) {text-align: left ; width: 100%}\n",
       "    .wandb-row { display: flex; flex-direction: row; flex-wrap: wrap; justify-content: flex-start; width: 100% }\n",
       "    .wandb-col { display: flex; flex-direction: column; flex-basis: 100%; flex: 1; padding: 10px; }\n",
       "    </style>\n",
       "<div class=\"wandb-row\"><div class=\"wandb-col\"><h3>Run history:</h3><br/><table class=\"wandb\"><tr><td>duration</td><td>▂▃▇▆▃▁▅▅▅▄█▂▅▂▂▅▆▅▅▇▃▅▅▃▆▄▄▅▅▄▄▆▄▃▃▂▃▇▃▅</td></tr><tr><td>te_c_acc</td><td>▁▁▄▅█▁▃▄▄▄▄▄▄▃▄▃▃▃▃▄▃▃▃▃▃▃▃▃▃▃▃▃▃▃▃▃▃▃▃▃</td></tr><tr><td>te_c_loss</td><td>▂▂▃▂▁▃▂▂▂▂▂▃▃▅▄▄▄▅▅▂▃▃▄▄▄▄▅▅▅▆▆▆▆▇▇▇▇███</td></tr><tr><td>te_c_oracle_loss</td><td>▂▁▁▁▁▇██████████████████████████████████</td></tr><tr><td>te_s_em_loss</td><td>▁▁▂▄█▁▁▁▁▁▁▂▂▃▃▃▃▃▄▁▂▂▂▂▃▃▃▃▃▄▄▄▄▄▄▄▄▄▅▅</td></tr><tr><td>te_s_oracle_loss</td><td>▂▁▁▁▁▇██████████████████████████████████</td></tr><tr><td>te_s_rec_loss</td><td>▁▁▁▁▁▄▅▆▆▆▆▆▆▆▆▆▆▆▆█████████████████████</td></tr><tr><td>tr_c_acc</td><td>▁▁▄██▂▃▄▄▄▄▄▄▄▄▄▃▃▃▄▃▃▃▃▃▃▃▃▃▃▃▃▃▃▃▃▃▃▃▃</td></tr><tr><td>tr_c_loss</td><td>██▆▁▁█▇▆▆▅▅▅▄▄▄▄▃▃▃▆▅▅▄▄▃▃▃▃▃▃▃▃▂▃▃▂▂▂▂▂</td></tr><tr><td>tr_c_oracle_loss</td><td>▂▁▁▁▁▇██████████████████████████████████</td></tr><tr><td>tr_s_em_loss</td><td>▁▁▁▆█▁▁▁▁▁▁▂▂▂▂▂▃▃▃▁▁▂▂▂▃▃▃▃▃▃▃▄▄▄▄▄▄▄▄▄</td></tr><tr><td>tr_s_oracle_loss</td><td>▂▁▁▁▁▇██████████████████████████████████</td></tr><tr><td>tr_s_rec_loss</td><td>▁▁▁▁▁▅▅▆▆▆▆▆▆▆▆▆▆▆▆█████████████████████</td></tr></table><br/></div><div class=\"wandb-col\"><h3>Run summary:</h3><br/><table class=\"wandb\"><tr><td>duration</td><td>0.99096</td></tr><tr><td>te_c_acc</td><td>0.63301</td></tr><tr><td>te_c_loss</td><td>2.95196</td></tr><tr><td>te_c_oracle_loss</td><td>0.75857</td></tr><tr><td>te_s_em_loss</td><td>9.71341</td></tr><tr><td>te_s_oracle_loss</td><td>0.75857</td></tr><tr><td>te_s_rec_loss</td><td>0.18931</td></tr><tr><td>tr_c_acc</td><td>0.64049</td></tr><tr><td>tr_c_loss</td><td>0.12229</td></tr><tr><td>tr_c_oracle_loss</td><td>0.75879</td></tr><tr><td>tr_s_em_loss</td><td>10.35454</td></tr><tr><td>tr_s_oracle_loss</td><td>0.75876</td></tr><tr><td>tr_s_rec_loss</td><td>0.18836</td></tr></table><br/></div></div>"
      ],
      "text/plain": [
       "<IPython.core.display.HTML object>"
      ]
     },
     "metadata": {},
     "output_type": "display_data"
    },
    {
     "data": {
      "text/html": [
       " View run <strong style=\"color:#cdcd00\">bumbling-sweep-41</strong> at: <a href='https://wandb.ai/jgammell/data_sanitization/runs/2qnxi0xj' target=\"_blank\">https://wandb.ai/jgammell/data_sanitization/runs/2qnxi0xj</a><br/>Synced 5 W&B file(s), 0 media file(s), 0 artifact file(s) and 0 other file(s)"
      ],
      "text/plain": [
       "<IPython.core.display.HTML object>"
      ]
     },
     "metadata": {},
     "output_type": "display_data"
    },
    {
     "data": {
      "text/html": [
       "Find logs at: <code>./wandb/run-20230219_102958-2qnxi0xj/logs</code>"
      ],
      "text/plain": [
       "<IPython.core.display.HTML object>"
      ]
     },
     "metadata": {},
     "output_type": "display_data"
    },
    {
     "name": "stderr",
     "output_type": "stream",
     "text": [
      "\u001b[34m\u001b[1mwandb\u001b[0m: Agent Starting Run: hee5thxj with config:\n",
      "\u001b[34m\u001b[1mwandb\u001b[0m: \tatenc_bottleneck_width: 64\n",
      "\u001b[34m\u001b[1mwandb\u001b[0m: \tatenc_sn: False\n",
      "\u001b[34m\u001b[1mwandb\u001b[0m: \tbeta1_c: 0.806063246902886\n",
      "\u001b[34m\u001b[1mwandb\u001b[0m: \tbeta1_s: 0.6748771550069055\n",
      "\u001b[34m\u001b[1mwandb\u001b[0m: \tbeta2_c: 0.999\n",
      "\u001b[34m\u001b[1mwandb\u001b[0m: \tbeta2_s: 0.999\n",
      "\u001b[34m\u001b[1mwandb\u001b[0m: \tc_pretrain_epochs: 19\n",
      "\u001b[34m\u001b[1mwandb\u001b[0m: \tclass_sn: True\n",
      "\u001b[34m\u001b[1mwandb\u001b[0m: \tlr_c: 0.004891757811632486\n",
      "\u001b[34m\u001b[1mwandb\u001b[0m: \tlr_s: 0.0071830602179291285\n",
      "\u001b[34m\u001b[1mwandb\u001b[0m: \ts_lbd: 0.02439289690305585\n",
      "\u001b[34m\u001b[1mwandb\u001b[0m: \ts_pretrain_epochs: 1\n",
      "\u001b[34m\u001b[1mwandb\u001b[0m: \tsan_sn: True\n",
      "\u001b[34m\u001b[1mwandb\u001b[0m: \ttrain_epochs: 250\n"
     ]
    },
    {
     "data": {
      "text/html": [
       "Tracking run with wandb version 0.13.10"
      ],
      "text/plain": [
       "<IPython.core.display.HTML object>"
      ]
     },
     "metadata": {},
     "output_type": "display_data"
    },
    {
     "data": {
      "text/html": [
       "Run data is saved locally in <code>/local/scratch/a/jgammell/sca_defense/wandb/run-20230219_105549-hee5thxj</code>"
      ],
      "text/plain": [
       "<IPython.core.display.HTML object>"
      ]
     },
     "metadata": {},
     "output_type": "display_data"
    },
    {
     "data": {
      "text/html": [
       "Syncing run <strong><a href='https://wandb.ai/jgammell/data_sanitization/runs/hee5thxj' target=\"_blank\">copper-sweep-42</a></strong> to <a href='https://wandb.ai/jgammell/data_sanitization' target=\"_blank\">Weights & Biases</a> (<a href='https://wandb.me/run' target=\"_blank\">docs</a>)<br/>Sweep page: <a href='https://wandb.ai/jgammell/data_sanitization/sweeps/d1qsxwr1' target=\"_blank\">https://wandb.ai/jgammell/data_sanitization/sweeps/d1qsxwr1</a>"
      ],
      "text/plain": [
       "<IPython.core.display.HTML object>"
      ]
     },
     "metadata": {},
     "output_type": "display_data"
    },
    {
     "data": {
      "text/html": [
       " View project at <a href='https://wandb.ai/jgammell/data_sanitization' target=\"_blank\">https://wandb.ai/jgammell/data_sanitization</a>"
      ],
      "text/plain": [
       "<IPython.core.display.HTML object>"
      ]
     },
     "metadata": {},
     "output_type": "display_data"
    },
    {
     "data": {
      "text/html": [
       " View sweep at <a href='https://wandb.ai/jgammell/data_sanitization/sweeps/d1qsxwr1' target=\"_blank\">https://wandb.ai/jgammell/data_sanitization/sweeps/d1qsxwr1</a>"
      ],
      "text/plain": [
       "<IPython.core.display.HTML object>"
      ]
     },
     "metadata": {},
     "output_type": "display_data"
    },
    {
     "data": {
      "text/html": [
       " View run at <a href='https://wandb.ai/jgammell/data_sanitization/runs/hee5thxj' target=\"_blank\">https://wandb.ai/jgammell/data_sanitization/runs/hee5thxj</a>"
      ],
      "text/plain": [
       "<IPython.core.display.HTML object>"
      ]
     },
     "metadata": {},
     "output_type": "display_data"
    },
    {
     "data": {
      "text/html": [
       "Waiting for W&B process to finish... <strong style=\"color:green\">(success).</strong>"
      ],
      "text/plain": [
       "<IPython.core.display.HTML object>"
      ]
     },
     "metadata": {},
     "output_type": "display_data"
    },
    {
     "data": {
      "application/vnd.jupyter.widget-view+json": {
       "model_id": "a7eff66a753d42399bd53ff55b6c9798",
       "version_major": 2,
       "version_minor": 0
      },
      "text/plain": [
       "VBox(children=(Label(value='0.002 MB of 0.023 MB uploaded (0.000 MB deduped)\\r'), FloatProgress(value=0.086439…"
      ]
     },
     "metadata": {},
     "output_type": "display_data"
    },
    {
     "data": {
      "text/html": [
       "<style>\n",
       "    table.wandb td:nth-child(1) { padding: 0 10px; text-align: left ; width: auto;} td:nth-child(2) {text-align: left ; width: 100%}\n",
       "    .wandb-row { display: flex; flex-direction: row; flex-wrap: wrap; justify-content: flex-start; width: 100% }\n",
       "    .wandb-col { display: flex; flex-direction: column; flex-basis: 100%; flex: 1; padding: 10px; }\n",
       "    </style>\n",
       "<div class=\"wandb-row\"><div class=\"wandb-col\"><h3>Run history:</h3><br/><table class=\"wandb\"><tr><td>duration</td><td>▅▃▄▄▄█▂▅▄▆▆▅▂▅▅▅▃▅▁▄▂▃▄▄▃▃▃▄▂▆▂▃▄▃▅▃▃▂▂▃</td></tr><tr><td>te_c_acc</td><td>▇▇█▃▂▁▂▁▁▁▂▂▂▁▁▁▁▁▂▁▁▂▁▁▁▁▁▂▁▁▁▂▁▁▁▂▁▁▂▁</td></tr><tr><td>te_c_loss</td><td>▂▂▁▇▇█▇███▇█████████████████████████████</td></tr><tr><td>te_c_oracle_loss</td><td>▁▁▁▃▄▅▅▅▆▅▆▆▇▆▇█▇▆▇▇▆▆▇▆▇▇▄▆█▇█▅▇▆▄█▇▆▆▆</td></tr><tr><td>te_s_em_loss</td><td>▂▆█▁▁▁▁▁▁▁▁▁▁▁▁▁▁▁▁▁▁▁▁▁▁▁▁▁▁▁▁▁▁▁▁▁▁▁▁▁</td></tr><tr><td>te_s_oracle_loss</td><td>▁▁▁▃▄▅▅▅▆▅▆▆▇▆▇█▇▆▇▇▆▆▇▆▇▇▄▆█▇█▅▇▆▄█▇▆▆▆</td></tr><tr><td>te_s_rec_loss</td><td>▁▁▁▂▅▆▅▆▆▅▆▆▇█████▇▇▇▇▇█▇█▆▇▆▇█▆▇▆▅▇▆▇▇▅</td></tr><tr><td>tr_c_acc</td><td>▇██▄▂▂▂▁▁▂▂▂▁▁▁▁▁▁▁▁▁▁▁▁▁▁▁▁▁▁▁▁▁▁▁▁▁▁▁▁</td></tr><tr><td>tr_c_loss</td><td>▃▁▁▆████████████████████████████████████</td></tr><tr><td>tr_c_oracle_loss</td><td>▁▁▁▃▄▅▆▅▆▆▆▆▇▆▆█▆▆▇▇▆▆▇▆▆▇▅▆█▇█▅▆▆▆█▇▆▆▆</td></tr><tr><td>tr_s_em_loss</td><td>▂▅█▁▁▁▁▁▁▁▁▁▁▁▁▁▁▁▁▁▁▁▁▁▁▁▁▁▁▁▁▁▁▁▁▁▁▁▁▁</td></tr><tr><td>tr_s_oracle_loss</td><td>▁▁▁▃▄▅▆▅▆▆▆▆▇▆▆█▆▆▇▇▆▆▇▆▆▇▅▆█▇█▅▆▆▆█▇▆▆▆</td></tr><tr><td>tr_s_rec_loss</td><td>▁▁▁▂▄▅▅▆▆▆▅▆▇█▇███▇▇█▇▇▇▇▇▇▇▇▇▇▆▇▆▆▆▇▇▇▄</td></tr></table><br/></div><div class=\"wandb-col\"><h3>Run summary:</h3><br/><table class=\"wandb\"><tr><td>duration</td><td>1.0298</td></tr><tr><td>te_c_acc</td><td>0.51445</td></tr><tr><td>te_c_loss</td><td>0.69361</td></tr><tr><td>te_c_oracle_loss</td><td>0.93009</td></tr><tr><td>te_s_em_loss</td><td>0.69455</td></tr><tr><td>te_s_oracle_loss</td><td>0.93009</td></tr><tr><td>te_s_rec_loss</td><td>0.08155</td></tr><tr><td>tr_c_acc</td><td>0.52061</td></tr><tr><td>tr_c_loss</td><td>0.69158</td></tr><tr><td>tr_c_oracle_loss</td><td>0.94467</td></tr><tr><td>tr_s_em_loss</td><td>0.69497</td></tr><tr><td>tr_s_oracle_loss</td><td>0.94509</td></tr><tr><td>tr_s_rec_loss</td><td>0.08112</td></tr></table><br/></div></div>"
      ],
      "text/plain": [
       "<IPython.core.display.HTML object>"
      ]
     },
     "metadata": {},
     "output_type": "display_data"
    },
    {
     "data": {
      "text/html": [
       " View run <strong style=\"color:#cdcd00\">copper-sweep-42</strong> at: <a href='https://wandb.ai/jgammell/data_sanitization/runs/hee5thxj' target=\"_blank\">https://wandb.ai/jgammell/data_sanitization/runs/hee5thxj</a><br/>Synced 5 W&B file(s), 0 media file(s), 0 artifact file(s) and 0 other file(s)"
      ],
      "text/plain": [
       "<IPython.core.display.HTML object>"
      ]
     },
     "metadata": {},
     "output_type": "display_data"
    },
    {
     "data": {
      "text/html": [
       "Find logs at: <code>./wandb/run-20230219_105549-hee5thxj/logs</code>"
      ],
      "text/plain": [
       "<IPython.core.display.HTML object>"
      ]
     },
     "metadata": {},
     "output_type": "display_data"
    },
    {
     "name": "stderr",
     "output_type": "stream",
     "text": [
      "\u001b[34m\u001b[1mwandb\u001b[0m: Agent Starting Run: 81ffr1bm with config:\n",
      "\u001b[34m\u001b[1mwandb\u001b[0m: \tatenc_bottleneck_width: 2\n",
      "\u001b[34m\u001b[1mwandb\u001b[0m: \tatenc_sn: True\n",
      "\u001b[34m\u001b[1mwandb\u001b[0m: \tbeta1_c: 0.2920121264201459\n",
      "\u001b[34m\u001b[1mwandb\u001b[0m: \tbeta1_s: 0.6947660626076121\n",
      "\u001b[34m\u001b[1mwandb\u001b[0m: \tbeta2_c: 0.999\n",
      "\u001b[34m\u001b[1mwandb\u001b[0m: \tbeta2_s: 0.999\n",
      "\u001b[34m\u001b[1mwandb\u001b[0m: \tc_pretrain_epochs: 13\n",
      "\u001b[34m\u001b[1mwandb\u001b[0m: \tclass_sn: True\n",
      "\u001b[34m\u001b[1mwandb\u001b[0m: \tlr_c: 0.0020303914077272195\n",
      "\u001b[34m\u001b[1mwandb\u001b[0m: \tlr_s: 0.000768416723316286\n",
      "\u001b[34m\u001b[1mwandb\u001b[0m: \ts_lbd: 47.79756173212563\n",
      "\u001b[34m\u001b[1mwandb\u001b[0m: \ts_pretrain_epochs: 19\n",
      "\u001b[34m\u001b[1mwandb\u001b[0m: \tsan_sn: False\n",
      "\u001b[34m\u001b[1mwandb\u001b[0m: \ttrain_epochs: 250\n"
     ]
    },
    {
     "data": {
      "text/html": [
       "Tracking run with wandb version 0.13.10"
      ],
      "text/plain": [
       "<IPython.core.display.HTML object>"
      ]
     },
     "metadata": {},
     "output_type": "display_data"
    },
    {
     "data": {
      "text/html": [
       "Run data is saved locally in <code>/local/scratch/a/jgammell/sca_defense/wandb/run-20230219_112440-81ffr1bm</code>"
      ],
      "text/plain": [
       "<IPython.core.display.HTML object>"
      ]
     },
     "metadata": {},
     "output_type": "display_data"
    },
    {
     "data": {
      "text/html": [
       "Syncing run <strong><a href='https://wandb.ai/jgammell/data_sanitization/runs/81ffr1bm' target=\"_blank\">wise-sweep-43</a></strong> to <a href='https://wandb.ai/jgammell/data_sanitization' target=\"_blank\">Weights & Biases</a> (<a href='https://wandb.me/run' target=\"_blank\">docs</a>)<br/>Sweep page: <a href='https://wandb.ai/jgammell/data_sanitization/sweeps/d1qsxwr1' target=\"_blank\">https://wandb.ai/jgammell/data_sanitization/sweeps/d1qsxwr1</a>"
      ],
      "text/plain": [
       "<IPython.core.display.HTML object>"
      ]
     },
     "metadata": {},
     "output_type": "display_data"
    },
    {
     "data": {
      "text/html": [
       " View project at <a href='https://wandb.ai/jgammell/data_sanitization' target=\"_blank\">https://wandb.ai/jgammell/data_sanitization</a>"
      ],
      "text/plain": [
       "<IPython.core.display.HTML object>"
      ]
     },
     "metadata": {},
     "output_type": "display_data"
    },
    {
     "data": {
      "text/html": [
       " View sweep at <a href='https://wandb.ai/jgammell/data_sanitization/sweeps/d1qsxwr1' target=\"_blank\">https://wandb.ai/jgammell/data_sanitization/sweeps/d1qsxwr1</a>"
      ],
      "text/plain": [
       "<IPython.core.display.HTML object>"
      ]
     },
     "metadata": {},
     "output_type": "display_data"
    },
    {
     "data": {
      "text/html": [
       " View run at <a href='https://wandb.ai/jgammell/data_sanitization/runs/81ffr1bm' target=\"_blank\">https://wandb.ai/jgammell/data_sanitization/runs/81ffr1bm</a>"
      ],
      "text/plain": [
       "<IPython.core.display.HTML object>"
      ]
     },
     "metadata": {},
     "output_type": "display_data"
    },
    {
     "data": {
      "text/html": [
       "Waiting for W&B process to finish... <strong style=\"color:green\">(success).</strong>"
      ],
      "text/plain": [
       "<IPython.core.display.HTML object>"
      ]
     },
     "metadata": {},
     "output_type": "display_data"
    },
    {
     "data": {
      "text/html": [
       "<style>\n",
       "    table.wandb td:nth-child(1) { padding: 0 10px; text-align: left ; width: auto;} td:nth-child(2) {text-align: left ; width: 100%}\n",
       "    .wandb-row { display: flex; flex-direction: row; flex-wrap: wrap; justify-content: flex-start; width: 100% }\n",
       "    .wandb-col { display: flex; flex-direction: column; flex-basis: 100%; flex: 1; padding: 10px; }\n",
       "    </style>\n",
       "<div class=\"wandb-row\"><div class=\"wandb-col\"><h3>Run history:</h3><br/><table class=\"wandb\"><tr><td>duration</td><td>▃▄▅▂▃▄▃▃▄▄▁▁▃▁▁▂▂▆▂▃▄▄▃▂▅▄▂▄▂▆▅▅▄█▂▂▃▃▂▁</td></tr><tr><td>te_c_acc</td><td>▁▁▁██▂▄▄▄▄▃▂▃▃▂▃▂▂▂▂▂▂▂▂▂▂▁▂▂▂▂▂▂▂▂▂▁▂▂▂</td></tr><tr><td>te_c_loss</td><td>▇▇▇▁▁█▅▆▆▆▆▆▆▆▇▆▇▇▇▇▇▇▇▇▇▇██▇▇▇▇▇▇▇▇█▇██</td></tr><tr><td>te_c_oracle_loss</td><td>▁▁▁▁▁▃▄▅▅▅▅▅▅▅▆▆▆▆▆▆▆▆▆▆▆▆▆▆▆▆▇▇▇▇▇▇████</td></tr><tr><td>te_s_em_loss</td><td>▁▁▁▅█▁▁▁▁▁▁▁▁▁▁▁▁▁▁▁▁▁▁▁▁▁▁▁▁▁▁▁▁▁▁▁▁▁▁▁</td></tr><tr><td>te_s_oracle_loss</td><td>▁▁▁▁▁▃▄▅▅▅▅▅▅▅▆▆▆▆▆▆▆▆▆▆▆▆▆▆▆▆▇▇▇▇▇▇████</td></tr><tr><td>te_s_rec_loss</td><td>▁▁▁▁▁▅▆▆▆▆▆▇▇▇▇▇▇▇▇██▇██████████████████</td></tr><tr><td>tr_c_acc</td><td>▁▁▁██▄▄▄▄▃▃▃▃▃▃▃▂▂▂▂▂▂▂▂▂▂▂▂▂▂▂▂▂▁▁▁▁▁▁▁</td></tr><tr><td>tr_c_loss</td><td>███▁▁▆▆▆▇▇▇▇▇▇▇▇▇▇▇▇▇▇▇▇▇▇▇▇▇▆▇▇▆▇▆▆▆▆▆▆</td></tr><tr><td>tr_c_oracle_loss</td><td>▁▁▁▁▁▃▄▅▅▅▅▅▅▅▆▆▆▆▆▆▆▆▆▆▆▆▆▆▆▆▇▇▇▇▇█████</td></tr><tr><td>tr_s_em_loss</td><td>▁▁▁▅█▁▁▁▁▁▁▁▁▁▁▁▁▁▁▁▁▁▁▁▁▁▁▁▁▁▁▁▁▁▁▁▁▁▁▁</td></tr><tr><td>tr_s_oracle_loss</td><td>▁▁▁▁▁▃▄▅▅▅▅▅▅▅▆▆▆▆▆▆▆▆▆▆▆▆▆▆▆▆▇▇▇▇▇█████</td></tr><tr><td>tr_s_rec_loss</td><td>▁▂▂▂▂█▇▆▅▅▅▄▃▃▃▃▃▃▃▃▃▂▃▂▂▃▂▃▃▃▂▂▂▂▃▂▂▂▂▂</td></tr></table><br/></div><div class=\"wandb-col\"><h3>Run summary:</h3><br/><table class=\"wandb\"><tr><td>duration</td><td>1.01275</td></tr><tr><td>te_c_acc</td><td>0.52715</td></tr><tr><td>te_c_loss</td><td>0.7934</td></tr><tr><td>te_c_oracle_loss</td><td>0.75808</td></tr><tr><td>te_s_em_loss</td><td>0.87058</td></tr><tr><td>te_s_oracle_loss</td><td>0.75808</td></tr><tr><td>te_s_rec_loss</td><td>0.32149</td></tr><tr><td>tr_c_acc</td><td>0.53202</td></tr><tr><td>tr_c_loss</td><td>0.53499</td></tr><tr><td>tr_c_oracle_loss</td><td>0.75545</td></tr><tr><td>tr_s_em_loss</td><td>0.73803</td></tr><tr><td>tr_s_oracle_loss</td><td>0.75536</td></tr><tr><td>tr_s_rec_loss</td><td>0.31515</td></tr></table><br/></div></div>"
      ],
      "text/plain": [
       "<IPython.core.display.HTML object>"
      ]
     },
     "metadata": {},
     "output_type": "display_data"
    },
    {
     "data": {
      "text/html": [
       " View run <strong style=\"color:#cdcd00\">wise-sweep-43</strong> at: <a href='https://wandb.ai/jgammell/data_sanitization/runs/81ffr1bm' target=\"_blank\">https://wandb.ai/jgammell/data_sanitization/runs/81ffr1bm</a><br/>Synced 5 W&B file(s), 0 media file(s), 0 artifact file(s) and 0 other file(s)"
      ],
      "text/plain": [
       "<IPython.core.display.HTML object>"
      ]
     },
     "metadata": {},
     "output_type": "display_data"
    },
    {
     "data": {
      "text/html": [
       "Find logs at: <code>./wandb/run-20230219_112440-81ffr1bm/logs</code>"
      ],
      "text/plain": [
       "<IPython.core.display.HTML object>"
      ]
     },
     "metadata": {},
     "output_type": "display_data"
    },
    {
     "name": "stderr",
     "output_type": "stream",
     "text": [
      "\u001b[34m\u001b[1mwandb\u001b[0m: Agent Starting Run: 4g14ea0x with config:\n",
      "\u001b[34m\u001b[1mwandb\u001b[0m: \tatenc_bottleneck_width: 32\n",
      "\u001b[34m\u001b[1mwandb\u001b[0m: \tatenc_sn: False\n",
      "\u001b[34m\u001b[1mwandb\u001b[0m: \tbeta1_c: 0.07256798746553582\n",
      "\u001b[34m\u001b[1mwandb\u001b[0m: \tbeta1_s: 0.22021990139814768\n",
      "\u001b[34m\u001b[1mwandb\u001b[0m: \tbeta2_c: 0.999\n",
      "\u001b[34m\u001b[1mwandb\u001b[0m: \tbeta2_s: 0.999\n",
      "\u001b[34m\u001b[1mwandb\u001b[0m: \tc_pretrain_epochs: 15\n",
      "\u001b[34m\u001b[1mwandb\u001b[0m: \tclass_sn: False\n",
      "\u001b[34m\u001b[1mwandb\u001b[0m: \tlr_c: 0.0005370834237943189\n",
      "\u001b[34m\u001b[1mwandb\u001b[0m: \tlr_s: 0.008211602664150748\n",
      "\u001b[34m\u001b[1mwandb\u001b[0m: \ts_lbd: 0.1715582548897158\n",
      "\u001b[34m\u001b[1mwandb\u001b[0m: \ts_pretrain_epochs: 17\n",
      "\u001b[34m\u001b[1mwandb\u001b[0m: \tsan_sn: True\n",
      "\u001b[34m\u001b[1mwandb\u001b[0m: \ttrain_epochs: 250\n"
     ]
    },
    {
     "data": {
      "text/html": [
       "Tracking run with wandb version 0.13.10"
      ],
      "text/plain": [
       "<IPython.core.display.HTML object>"
      ]
     },
     "metadata": {},
     "output_type": "display_data"
    },
    {
     "data": {
      "text/html": [
       "Run data is saved locally in <code>/local/scratch/a/jgammell/sca_defense/wandb/run-20230219_115212-4g14ea0x</code>"
      ],
      "text/plain": [
       "<IPython.core.display.HTML object>"
      ]
     },
     "metadata": {},
     "output_type": "display_data"
    },
    {
     "data": {
      "text/html": [
       "Syncing run <strong><a href='https://wandb.ai/jgammell/data_sanitization/runs/4g14ea0x' target=\"_blank\">major-sweep-44</a></strong> to <a href='https://wandb.ai/jgammell/data_sanitization' target=\"_blank\">Weights & Biases</a> (<a href='https://wandb.me/run' target=\"_blank\">docs</a>)<br/>Sweep page: <a href='https://wandb.ai/jgammell/data_sanitization/sweeps/d1qsxwr1' target=\"_blank\">https://wandb.ai/jgammell/data_sanitization/sweeps/d1qsxwr1</a>"
      ],
      "text/plain": [
       "<IPython.core.display.HTML object>"
      ]
     },
     "metadata": {},
     "output_type": "display_data"
    },
    {
     "data": {
      "text/html": [
       " View project at <a href='https://wandb.ai/jgammell/data_sanitization' target=\"_blank\">https://wandb.ai/jgammell/data_sanitization</a>"
      ],
      "text/plain": [
       "<IPython.core.display.HTML object>"
      ]
     },
     "metadata": {},
     "output_type": "display_data"
    },
    {
     "data": {
      "text/html": [
       " View sweep at <a href='https://wandb.ai/jgammell/data_sanitization/sweeps/d1qsxwr1' target=\"_blank\">https://wandb.ai/jgammell/data_sanitization/sweeps/d1qsxwr1</a>"
      ],
      "text/plain": [
       "<IPython.core.display.HTML object>"
      ]
     },
     "metadata": {},
     "output_type": "display_data"
    },
    {
     "data": {
      "text/html": [
       " View run at <a href='https://wandb.ai/jgammell/data_sanitization/runs/4g14ea0x' target=\"_blank\">https://wandb.ai/jgammell/data_sanitization/runs/4g14ea0x</a>"
      ],
      "text/plain": [
       "<IPython.core.display.HTML object>"
      ]
     },
     "metadata": {},
     "output_type": "display_data"
    },
    {
     "data": {
      "text/html": [
       "Waiting for W&B process to finish... <strong style=\"color:green\">(success).</strong>"
      ],
      "text/plain": [
       "<IPython.core.display.HTML object>"
      ]
     },
     "metadata": {},
     "output_type": "display_data"
    },
    {
     "data": {
      "text/html": [
       "<style>\n",
       "    table.wandb td:nth-child(1) { padding: 0 10px; text-align: left ; width: auto;} td:nth-child(2) {text-align: left ; width: 100%}\n",
       "    .wandb-row { display: flex; flex-direction: row; flex-wrap: wrap; justify-content: flex-start; width: 100% }\n",
       "    .wandb-col { display: flex; flex-direction: column; flex-basis: 100%; flex: 1; padding: 10px; }\n",
       "    </style>\n",
       "<div class=\"wandb-row\"><div class=\"wandb-col\"><h3>Run history:</h3><br/><table class=\"wandb\"><tr><td>duration</td><td>▂▆▄▄▁▃▁▄▂▄▄▄▂▄▃▅▄▅▆▆▁▁▃▂▆▄▂▆▃▃▂▄█▅▃▆█▅▃▅</td></tr><tr><td>te_c_acc</td><td>▁▁▁██▃▃▁▁▂▁▂▁▁▁▂▂▂▁▁▂▁▂▁▁▁▂▂▃▂▁▂▂▂▂▃▂▂▂▂</td></tr><tr><td>te_c_loss</td><td>▅▅▅▂▁▅▅▅▆▅▆▅▅█▆▅▅▅▅▅▅▅▅▅▅▅▅▅▅▅▅▅▅▅▅▅▆▅▅▅</td></tr><tr><td>te_c_oracle_loss</td><td>▁▁▁▁▁▃▇▇▆▆▆▆▆▆▆▆▆▆▅▅▅▆▆▆▇████▇█████▇▇▇█▇</td></tr><tr><td>te_s_em_loss</td><td>▁▁▁▂█▁▁▁▁▁▁▁▁▁▁▁▁▁▁▁▁▁▁▁▁▁▁▁▁▁▁▁▁▁▁▁▁▁▁▁</td></tr><tr><td>te_s_oracle_loss</td><td>▁▁▁▁▁▃▇▇▆▆▆▆▆▆▆▆▆▆▅▅▅▆▆▆▇████▇█████▇▇▇█▇</td></tr><tr><td>te_s_rec_loss</td><td>▁▁▁▁▁▂▄▅▅▅▆▇▇▆▆▇▇▆▅▅▅▅▄▅▄▅▇██▆▅▅▆▆▆▆▅▅▆▅</td></tr><tr><td>tr_c_acc</td><td>▁▁▁██▃▂▂▂▂▂▂▂▂▂▂▂▂▂▂▂▂▂▂▂▂▂▂▂▂▂▂▂▂▂▃▃▂▂▂</td></tr><tr><td>tr_c_loss</td><td>███▂▁▇██████████████████████████████████</td></tr><tr><td>tr_c_oracle_loss</td><td>▁▁▁▁▁▃▇▇▆▆▆▆▆▆▆▆▆▅▅▅▅▅▅▆▇████▇█████▇▇▇█▇</td></tr><tr><td>tr_s_em_loss</td><td>▁▁▁▃█▁▁▁▁▁▁▁▁▁▁▁▁▁▁▁▁▁▁▁▁▁▁▁▁▁▁▁▁▁▁▁▁▁▁▁</td></tr><tr><td>tr_s_oracle_loss</td><td>▁▁▁▁▁▃▇▇▆▆▆▆▆▆▆▆▆▅▅▅▅▅▅▆▇████▇█████▇▇▇█▇</td></tr><tr><td>tr_s_rec_loss</td><td>▁▁▁▁▁▂▄▅▅▅▆▇▇▆▆▆▆▆▅▅▅▅▄▅▄▅▆██▆▅▅▅▅▆▅▅▅▆▅</td></tr></table><br/></div><div class=\"wandb-col\"><h3>Run summary:</h3><br/><table class=\"wandb\"><tr><td>duration</td><td>1.01792</td></tr><tr><td>te_c_acc</td><td>0.52529</td></tr><tr><td>te_c_loss</td><td>0.69289</td></tr><tr><td>te_c_oracle_loss</td><td>1.15777</td></tr><tr><td>te_s_em_loss</td><td>0.70321</td></tr><tr><td>te_s_oracle_loss</td><td>1.15777</td></tr><tr><td>te_s_rec_loss</td><td>0.13227</td></tr><tr><td>tr_c_acc</td><td>0.55844</td></tr><tr><td>tr_c_loss</td><td>0.68248</td></tr><tr><td>tr_c_oracle_loss</td><td>1.1612</td></tr><tr><td>tr_s_em_loss</td><td>0.70738</td></tr><tr><td>tr_s_oracle_loss</td><td>1.16115</td></tr><tr><td>tr_s_rec_loss</td><td>0.13248</td></tr></table><br/></div></div>"
      ],
      "text/plain": [
       "<IPython.core.display.HTML object>"
      ]
     },
     "metadata": {},
     "output_type": "display_data"
    },
    {
     "data": {
      "text/html": [
       " View run <strong style=\"color:#cdcd00\">major-sweep-44</strong> at: <a href='https://wandb.ai/jgammell/data_sanitization/runs/4g14ea0x' target=\"_blank\">https://wandb.ai/jgammell/data_sanitization/runs/4g14ea0x</a><br/>Synced 5 W&B file(s), 0 media file(s), 0 artifact file(s) and 0 other file(s)"
      ],
      "text/plain": [
       "<IPython.core.display.HTML object>"
      ]
     },
     "metadata": {},
     "output_type": "display_data"
    },
    {
     "data": {
      "text/html": [
       "Find logs at: <code>./wandb/run-20230219_115212-4g14ea0x/logs</code>"
      ],
      "text/plain": [
       "<IPython.core.display.HTML object>"
      ]
     },
     "metadata": {},
     "output_type": "display_data"
    },
    {
     "name": "stderr",
     "output_type": "stream",
     "text": [
      "\u001b[34m\u001b[1mwandb\u001b[0m: Agent Starting Run: oig3gtdh with config:\n",
      "\u001b[34m\u001b[1mwandb\u001b[0m: \tatenc_bottleneck_width: 4\n",
      "\u001b[34m\u001b[1mwandb\u001b[0m: \tatenc_sn: False\n",
      "\u001b[34m\u001b[1mwandb\u001b[0m: \tbeta1_c: 0.8058662684316883\n",
      "\u001b[34m\u001b[1mwandb\u001b[0m: \tbeta1_s: 0.5588317359697329\n",
      "\u001b[34m\u001b[1mwandb\u001b[0m: \tbeta2_c: 0.999\n",
      "\u001b[34m\u001b[1mwandb\u001b[0m: \tbeta2_s: 0.999\n",
      "\u001b[34m\u001b[1mwandb\u001b[0m: \tc_pretrain_epochs: 1\n",
      "\u001b[34m\u001b[1mwandb\u001b[0m: \tclass_sn: False\n",
      "\u001b[34m\u001b[1mwandb\u001b[0m: \tlr_c: 0.0008077691319819111\n",
      "\u001b[34m\u001b[1mwandb\u001b[0m: \tlr_s: 0.002469503958116336\n",
      "\u001b[34m\u001b[1mwandb\u001b[0m: \ts_lbd: 33.0910666330712\n",
      "\u001b[34m\u001b[1mwandb\u001b[0m: \ts_pretrain_epochs: 17\n",
      "\u001b[34m\u001b[1mwandb\u001b[0m: \tsan_sn: False\n",
      "\u001b[34m\u001b[1mwandb\u001b[0m: \ttrain_epochs: 250\n"
     ]
    },
    {
     "data": {
      "text/html": [
       "Tracking run with wandb version 0.13.10"
      ],
      "text/plain": [
       "<IPython.core.display.HTML object>"
      ]
     },
     "metadata": {},
     "output_type": "display_data"
    },
    {
     "data": {
      "text/html": [
       "Run data is saved locally in <code>/local/scratch/a/jgammell/sca_defense/wandb/run-20230219_122042-oig3gtdh</code>"
      ],
      "text/plain": [
       "<IPython.core.display.HTML object>"
      ]
     },
     "metadata": {},
     "output_type": "display_data"
    },
    {
     "data": {
      "text/html": [
       "Syncing run <strong><a href='https://wandb.ai/jgammell/data_sanitization/runs/oig3gtdh' target=\"_blank\">smart-sweep-45</a></strong> to <a href='https://wandb.ai/jgammell/data_sanitization' target=\"_blank\">Weights & Biases</a> (<a href='https://wandb.me/run' target=\"_blank\">docs</a>)<br/>Sweep page: <a href='https://wandb.ai/jgammell/data_sanitization/sweeps/d1qsxwr1' target=\"_blank\">https://wandb.ai/jgammell/data_sanitization/sweeps/d1qsxwr1</a>"
      ],
      "text/plain": [
       "<IPython.core.display.HTML object>"
      ]
     },
     "metadata": {},
     "output_type": "display_data"
    },
    {
     "data": {
      "text/html": [
       " View project at <a href='https://wandb.ai/jgammell/data_sanitization' target=\"_blank\">https://wandb.ai/jgammell/data_sanitization</a>"
      ],
      "text/plain": [
       "<IPython.core.display.HTML object>"
      ]
     },
     "metadata": {},
     "output_type": "display_data"
    },
    {
     "data": {
      "text/html": [
       " View sweep at <a href='https://wandb.ai/jgammell/data_sanitization/sweeps/d1qsxwr1' target=\"_blank\">https://wandb.ai/jgammell/data_sanitization/sweeps/d1qsxwr1</a>"
      ],
      "text/plain": [
       "<IPython.core.display.HTML object>"
      ]
     },
     "metadata": {},
     "output_type": "display_data"
    },
    {
     "data": {
      "text/html": [
       " View run at <a href='https://wandb.ai/jgammell/data_sanitization/runs/oig3gtdh' target=\"_blank\">https://wandb.ai/jgammell/data_sanitization/runs/oig3gtdh</a>"
      ],
      "text/plain": [
       "<IPython.core.display.HTML object>"
      ]
     },
     "metadata": {},
     "output_type": "display_data"
    },
    {
     "data": {
      "text/html": [
       "Waiting for W&B process to finish... <strong style=\"color:green\">(success).</strong>"
      ],
      "text/plain": [
       "<IPython.core.display.HTML object>"
      ]
     },
     "metadata": {},
     "output_type": "display_data"
    },
    {
     "data": {
      "text/html": [
       "<style>\n",
       "    table.wandb td:nth-child(1) { padding: 0 10px; text-align: left ; width: auto;} td:nth-child(2) {text-align: left ; width: 100%}\n",
       "    .wandb-row { display: flex; flex-direction: row; flex-wrap: wrap; justify-content: flex-start; width: 100% }\n",
       "    .wandb-col { display: flex; flex-direction: column; flex-basis: 100%; flex: 1; padding: 10px; }\n",
       "    </style>\n",
       "<div class=\"wandb-row\"><div class=\"wandb-col\"><h3>Run history:</h3><br/><table class=\"wandb\"><tr><td>duration</td><td>▃▁▅▂▂▃▅▁▆▂▃▆▃▅▅▁▅▁▄▂▂▁▄▃█▂█▃▆▂▆▆▁▂▃▁▃▆▄▃</td></tr><tr><td>te_c_acc</td><td>▁▁▁▇█▇▆▁▁▇▅▂▃▄▆▂▄▅▄▁▅▄▂▂▄▄▃▄▅▆▆▆▄▆▇▇█▃▇█</td></tr><tr><td>te_c_loss</td><td>▂▂▂▁▁▁▂█▂▂▂▂▂▂▂▂▂▂▂▇▂▂▂▂▂▂▂▂▂▂▁▁▂▁▁▁▁▂▁▁</td></tr><tr><td>te_c_oracle_loss</td><td>▁▁▁▅▄▆▇█▇▅▇███▇▇▇█▇▇▇▇▆▇▆█▇█▇▇▇▇▇▇███▇▇▇</td></tr><tr><td>te_s_em_loss</td><td>▁▁▁▁▂▂▂█▁▁▁▁▁▁▁▁▁▁▁▅▁▁▁▁▁▁▁▁▁▂▂▂▂▂▂▂▂▁▂▂</td></tr><tr><td>te_s_oracle_loss</td><td>▁▁▁▅▄▆▇█▇▅▇███▇▇▇█▇▇▇▇▆▇▆█▇█▇▇▇▇▇▇███▇▇▇</td></tr><tr><td>te_s_rec_loss</td><td>▁▁▁▅▆▆▇█▄▅▄▄▃▅▃▅▄▅▃▅▄▃▃▃▄▃▄▄▄▄▄▄▆▄▄▄▄▇▆▆</td></tr><tr><td>tr_c_acc</td><td>▁▁▁▆█▇▆▆▄▄▅▄▄▄▄▂▄▂▃▅▄▃▄▃▃▄▄▃▅▅▆▆▆▆▇▇▇▅▇█</td></tr><tr><td>tr_c_loss</td><td>▆▆▆▄▂▁▃▃▅▇▅▅▅▅▅▆▅▆▆▅▅▇▅██▅▇▆▄▄▃▃▃▃▂▂▂▅▂▁</td></tr><tr><td>tr_c_oracle_loss</td><td>▁▁▁▅▄▆▇█▇▆▇███▇▇▇▇▇▇▇▇▆▇▆███▇▇▇▇▇▇███▇▇▇</td></tr><tr><td>tr_s_em_loss</td><td>▁▁▁▃▅▇▅▅▂▇▁▂▂▂▂▂▁▃▃▂▁▂▁▂▄▂▃▁▃▄▅▅▅▄▅▅▆▂▆█</td></tr><tr><td>tr_s_oracle_loss</td><td>▁▁▁▅▄▆▇█▇▆▇███▇▇▇▇▇▇▇▇▆▇▆███▇▇▇▇▇▇███▇▇▇</td></tr><tr><td>tr_s_rec_loss</td><td>▁▁▁▄▆▆▇▆▃▇▃▄▃▃▃▄▃▄▅▃▃▄▃▄▅▃▄▃▃▃▄▄▄▄▄▄▄█▆▆</td></tr></table><br/></div><div class=\"wandb-col\"><h3>Run summary:</h3><br/><table class=\"wandb\"><tr><td>duration</td><td>0.99513</td></tr><tr><td>te_c_acc</td><td>0.60811</td></tr><tr><td>te_c_loss</td><td>0.64736</td></tr><tr><td>te_c_oracle_loss</td><td>1.02638</td></tr><tr><td>te_s_em_loss</td><td>0.83554</td></tr><tr><td>te_s_oracle_loss</td><td>1.02638</td></tr><tr><td>te_s_rec_loss</td><td>0.4466</td></tr><tr><td>tr_c_acc</td><td>0.61558</td></tr><tr><td>tr_c_loss</td><td>0.62985</td></tr><tr><td>tr_c_oracle_loss</td><td>1.02236</td></tr><tr><td>tr_s_em_loss</td><td>0.78342</td></tr><tr><td>tr_s_oracle_loss</td><td>1.02269</td></tr><tr><td>tr_s_rec_loss</td><td>0.44584</td></tr></table><br/></div></div>"
      ],
      "text/plain": [
       "<IPython.core.display.HTML object>"
      ]
     },
     "metadata": {},
     "output_type": "display_data"
    },
    {
     "data": {
      "text/html": [
       " View run <strong style=\"color:#cdcd00\">smart-sweep-45</strong> at: <a href='https://wandb.ai/jgammell/data_sanitization/runs/oig3gtdh' target=\"_blank\">https://wandb.ai/jgammell/data_sanitization/runs/oig3gtdh</a><br/>Synced 5 W&B file(s), 0 media file(s), 0 artifact file(s) and 0 other file(s)"
      ],
      "text/plain": [
       "<IPython.core.display.HTML object>"
      ]
     },
     "metadata": {},
     "output_type": "display_data"
    },
    {
     "data": {
      "text/html": [
       "Find logs at: <code>./wandb/run-20230219_122042-oig3gtdh/logs</code>"
      ],
      "text/plain": [
       "<IPython.core.display.HTML object>"
      ]
     },
     "metadata": {},
     "output_type": "display_data"
    },
    {
     "name": "stderr",
     "output_type": "stream",
     "text": [
      "\u001b[34m\u001b[1mwandb\u001b[0m: Agent Starting Run: c5dyjatq with config:\n",
      "\u001b[34m\u001b[1mwandb\u001b[0m: \tatenc_bottleneck_width: 128\n",
      "\u001b[34m\u001b[1mwandb\u001b[0m: \tatenc_sn: True\n",
      "\u001b[34m\u001b[1mwandb\u001b[0m: \tbeta1_c: 0.6889547283969537\n",
      "\u001b[34m\u001b[1mwandb\u001b[0m: \tbeta1_s: 0.05425206306229439\n",
      "\u001b[34m\u001b[1mwandb\u001b[0m: \tbeta2_c: 0.999\n",
      "\u001b[34m\u001b[1mwandb\u001b[0m: \tbeta2_s: 0.999\n",
      "\u001b[34m\u001b[1mwandb\u001b[0m: \tc_pretrain_epochs: 6\n",
      "\u001b[34m\u001b[1mwandb\u001b[0m: \tclass_sn: False\n",
      "\u001b[34m\u001b[1mwandb\u001b[0m: \tlr_c: 0.0003224961192242558\n",
      "\u001b[34m\u001b[1mwandb\u001b[0m: \tlr_s: 0.00011449208460988944\n",
      "\u001b[34m\u001b[1mwandb\u001b[0m: \ts_lbd: 75.07243639970851\n",
      "\u001b[34m\u001b[1mwandb\u001b[0m: \ts_pretrain_epochs: 17\n",
      "\u001b[34m\u001b[1mwandb\u001b[0m: \tsan_sn: False\n",
      "\u001b[34m\u001b[1mwandb\u001b[0m: \ttrain_epochs: 250\n"
     ]
    },
    {
     "data": {
      "text/html": [
       "Tracking run with wandb version 0.13.10"
      ],
      "text/plain": [
       "<IPython.core.display.HTML object>"
      ]
     },
     "metadata": {},
     "output_type": "display_data"
    },
    {
     "data": {
      "text/html": [
       "Run data is saved locally in <code>/local/scratch/a/jgammell/sca_defense/wandb/run-20230219_124533-c5dyjatq</code>"
      ],
      "text/plain": [
       "<IPython.core.display.HTML object>"
      ]
     },
     "metadata": {},
     "output_type": "display_data"
    },
    {
     "data": {
      "text/html": [
       "Syncing run <strong><a href='https://wandb.ai/jgammell/data_sanitization/runs/c5dyjatq' target=\"_blank\">winter-sweep-46</a></strong> to <a href='https://wandb.ai/jgammell/data_sanitization' target=\"_blank\">Weights & Biases</a> (<a href='https://wandb.me/run' target=\"_blank\">docs</a>)<br/>Sweep page: <a href='https://wandb.ai/jgammell/data_sanitization/sweeps/d1qsxwr1' target=\"_blank\">https://wandb.ai/jgammell/data_sanitization/sweeps/d1qsxwr1</a>"
      ],
      "text/plain": [
       "<IPython.core.display.HTML object>"
      ]
     },
     "metadata": {},
     "output_type": "display_data"
    },
    {
     "data": {
      "text/html": [
       " View project at <a href='https://wandb.ai/jgammell/data_sanitization' target=\"_blank\">https://wandb.ai/jgammell/data_sanitization</a>"
      ],
      "text/plain": [
       "<IPython.core.display.HTML object>"
      ]
     },
     "metadata": {},
     "output_type": "display_data"
    },
    {
     "data": {
      "text/html": [
       " View sweep at <a href='https://wandb.ai/jgammell/data_sanitization/sweeps/d1qsxwr1' target=\"_blank\">https://wandb.ai/jgammell/data_sanitization/sweeps/d1qsxwr1</a>"
      ],
      "text/plain": [
       "<IPython.core.display.HTML object>"
      ]
     },
     "metadata": {},
     "output_type": "display_data"
    },
    {
     "data": {
      "text/html": [
       " View run at <a href='https://wandb.ai/jgammell/data_sanitization/runs/c5dyjatq' target=\"_blank\">https://wandb.ai/jgammell/data_sanitization/runs/c5dyjatq</a>"
      ],
      "text/plain": [
       "<IPython.core.display.HTML object>"
      ]
     },
     "metadata": {},
     "output_type": "display_data"
    },
    {
     "data": {
      "text/html": [
       "Waiting for W&B process to finish... <strong style=\"color:green\">(success).</strong>"
      ],
      "text/plain": [
       "<IPython.core.display.HTML object>"
      ]
     },
     "metadata": {},
     "output_type": "display_data"
    },
    {
     "data": {
      "text/html": [
       "<style>\n",
       "    table.wandb td:nth-child(1) { padding: 0 10px; text-align: left ; width: auto;} td:nth-child(2) {text-align: left ; width: 100%}\n",
       "    .wandb-row { display: flex; flex-direction: row; flex-wrap: wrap; justify-content: flex-start; width: 100% }\n",
       "    .wandb-col { display: flex; flex-direction: column; flex-basis: 100%; flex: 1; padding: 10px; }\n",
       "    </style>\n",
       "<div class=\"wandb-row\"><div class=\"wandb-col\"><h3>Run history:</h3><br/><table class=\"wandb\"><tr><td>duration</td><td>▁▄▂▄▂▅▂▄▁▃▂▅▃▄▂▃▄▄▄▃▃▁▄▃▃▁▂▂▁▂▅▃▂▂▁▃▁▂▆█</td></tr><tr><td>te_c_acc</td><td>▁▁▁█▂▂▂▂▂▂▂▁▂▂▁▂▂▁▁▁▁▂▂▁▁▂▂▂▁▁▁▂▂▁▁▁▁▁▁▂</td></tr><tr><td>te_c_loss</td><td>███▁█▇█▇████████████████████████████████</td></tr><tr><td>te_c_oracle_loss</td><td>▁▁▁▁▄▅▅▆▆▆▆▇▇█▇▆▇█▆▆▅▆▇▅▅▄▄▅▄▅▆▆▆▄▄▅▄▆▆▆</td></tr><tr><td>te_s_em_loss</td><td>▁▁▁█▁▁▁▁▁▁▁▁▁▁▁▁▁▁▁▁▁▁▁▁▁▁▁▁▁▁▁▁▁▁▁▁▁▁▁▁</td></tr><tr><td>te_s_oracle_loss</td><td>▁▁▁▁▄▅▅▆▆▆▆▇▇█▇▆▇█▆▆▅▆▇▅▅▄▄▅▄▅▆▆▆▄▄▅▄▆▆▆</td></tr><tr><td>te_s_rec_loss</td><td>▁▁▁▁▄▅▇▇▅▆▅▅▆▆▄▄▆▇▅▅▅▇█▄▅▃▃▄▃▇▇█▅▄▅▆▃▆▄▆</td></tr><tr><td>tr_c_acc</td><td>▁▁▁█▂▂▂▂▂▂▂▂▁▂▂▁▂▂▁▁▁▂▂▁▁▁▂▂▁▁▁▂▁▁▂▁▁▂▂▁</td></tr><tr><td>tr_c_loss</td><td>███▁████████████████████████████████████</td></tr><tr><td>tr_c_oracle_loss</td><td>▁▁▁▁▄▅▅▆▆▆▆▆▇▇▇▆▇█▇▆▆▆▇▅▅▅▄▅▅▅▆▆▆▄▄▅▄▅▆▆</td></tr><tr><td>tr_s_em_loss</td><td>▁▁▁█▁▁▁▁▁▁▁▁▁▁▁▁▁▁▁▁▁▁▁▁▁▁▁▁▁▁▁▁▁▁▁▁▁▁▁▁</td></tr><tr><td>tr_s_oracle_loss</td><td>▁▁▁▁▄▅▅▆▆▆▆▆▇▇▇▆▇█▇▆▆▆▇▅▅▅▄▅▅▅▆▆▆▄▄▅▄▅▆▆</td></tr><tr><td>tr_s_rec_loss</td><td>▁▁▁▁▄▅▇▆▅▆▆▅▆▅▃▅▅▇▆▅▅▅▇▅▄▅▃▄▄▆█▆▆▅▄▅▃▄▅▅</td></tr></table><br/></div><div class=\"wandb-col\"><h3>Run summary:</h3><br/><table class=\"wandb\"><tr><td>duration</td><td>1.02578</td></tr><tr><td>te_c_acc</td><td>0.51328</td></tr><tr><td>te_c_loss</td><td>0.69186</td></tr><tr><td>te_c_oracle_loss</td><td>1.02165</td></tr><tr><td>te_s_em_loss</td><td>0.70162</td></tr><tr><td>te_s_oracle_loss</td><td>1.02165</td></tr><tr><td>te_s_rec_loss</td><td>0.04534</td></tr><tr><td>tr_c_acc</td><td>0.53218</td></tr><tr><td>tr_c_loss</td><td>0.68896</td></tr><tr><td>tr_c_oracle_loss</td><td>1.03779</td></tr><tr><td>tr_s_em_loss</td><td>0.70014</td></tr><tr><td>tr_s_oracle_loss</td><td>1.03759</td></tr><tr><td>tr_s_rec_loss</td><td>0.04536</td></tr></table><br/></div></div>"
      ],
      "text/plain": [
       "<IPython.core.display.HTML object>"
      ]
     },
     "metadata": {},
     "output_type": "display_data"
    },
    {
     "data": {
      "text/html": [
       " View run <strong style=\"color:#cdcd00\">winter-sweep-46</strong> at: <a href='https://wandb.ai/jgammell/data_sanitization/runs/c5dyjatq' target=\"_blank\">https://wandb.ai/jgammell/data_sanitization/runs/c5dyjatq</a><br/>Synced 5 W&B file(s), 0 media file(s), 0 artifact file(s) and 0 other file(s)"
      ],
      "text/plain": [
       "<IPython.core.display.HTML object>"
      ]
     },
     "metadata": {},
     "output_type": "display_data"
    },
    {
     "data": {
      "text/html": [
       "Find logs at: <code>./wandb/run-20230219_124533-c5dyjatq/logs</code>"
      ],
      "text/plain": [
       "<IPython.core.display.HTML object>"
      ]
     },
     "metadata": {},
     "output_type": "display_data"
    },
    {
     "name": "stderr",
     "output_type": "stream",
     "text": [
      "\u001b[34m\u001b[1mwandb\u001b[0m: Agent Starting Run: yfjdv5x5 with config:\n",
      "\u001b[34m\u001b[1mwandb\u001b[0m: \tatenc_bottleneck_width: 64\n",
      "\u001b[34m\u001b[1mwandb\u001b[0m: \tatenc_sn: True\n",
      "\u001b[34m\u001b[1mwandb\u001b[0m: \tbeta1_c: 0.7153654428693645\n",
      "\u001b[34m\u001b[1mwandb\u001b[0m: \tbeta1_s: 0.3542226678876731\n",
      "\u001b[34m\u001b[1mwandb\u001b[0m: \tbeta2_c: 0.999\n",
      "\u001b[34m\u001b[1mwandb\u001b[0m: \tbeta2_s: 0.999\n",
      "\u001b[34m\u001b[1mwandb\u001b[0m: \tc_pretrain_epochs: 18\n",
      "\u001b[34m\u001b[1mwandb\u001b[0m: \tclass_sn: False\n",
      "\u001b[34m\u001b[1mwandb\u001b[0m: \tlr_c: 0.00051799356343298\n",
      "\u001b[34m\u001b[1mwandb\u001b[0m: \tlr_s: 0.007583127576732618\n",
      "\u001b[34m\u001b[1mwandb\u001b[0m: \ts_lbd: 0.01455641514266988\n",
      "\u001b[34m\u001b[1mwandb\u001b[0m: \ts_pretrain_epochs: 4\n",
      "\u001b[34m\u001b[1mwandb\u001b[0m: \tsan_sn: True\n",
      "\u001b[34m\u001b[1mwandb\u001b[0m: \ttrain_epochs: 250\n"
     ]
    },
    {
     "data": {
      "text/html": [
       "Tracking run with wandb version 0.13.10"
      ],
      "text/plain": [
       "<IPython.core.display.HTML object>"
      ]
     },
     "metadata": {},
     "output_type": "display_data"
    },
    {
     "data": {
      "text/html": [
       "Run data is saved locally in <code>/local/scratch/a/jgammell/sca_defense/wandb/run-20230219_131110-yfjdv5x5</code>"
      ],
      "text/plain": [
       "<IPython.core.display.HTML object>"
      ]
     },
     "metadata": {},
     "output_type": "display_data"
    },
    {
     "data": {
      "text/html": [
       "Syncing run <strong><a href='https://wandb.ai/jgammell/data_sanitization/runs/yfjdv5x5' target=\"_blank\">azure-sweep-47</a></strong> to <a href='https://wandb.ai/jgammell/data_sanitization' target=\"_blank\">Weights & Biases</a> (<a href='https://wandb.me/run' target=\"_blank\">docs</a>)<br/>Sweep page: <a href='https://wandb.ai/jgammell/data_sanitization/sweeps/d1qsxwr1' target=\"_blank\">https://wandb.ai/jgammell/data_sanitization/sweeps/d1qsxwr1</a>"
      ],
      "text/plain": [
       "<IPython.core.display.HTML object>"
      ]
     },
     "metadata": {},
     "output_type": "display_data"
    },
    {
     "data": {
      "text/html": [
       " View project at <a href='https://wandb.ai/jgammell/data_sanitization' target=\"_blank\">https://wandb.ai/jgammell/data_sanitization</a>"
      ],
      "text/plain": [
       "<IPython.core.display.HTML object>"
      ]
     },
     "metadata": {},
     "output_type": "display_data"
    },
    {
     "data": {
      "text/html": [
       " View sweep at <a href='https://wandb.ai/jgammell/data_sanitization/sweeps/d1qsxwr1' target=\"_blank\">https://wandb.ai/jgammell/data_sanitization/sweeps/d1qsxwr1</a>"
      ],
      "text/plain": [
       "<IPython.core.display.HTML object>"
      ]
     },
     "metadata": {},
     "output_type": "display_data"
    },
    {
     "data": {
      "text/html": [
       " View run at <a href='https://wandb.ai/jgammell/data_sanitization/runs/yfjdv5x5' target=\"_blank\">https://wandb.ai/jgammell/data_sanitization/runs/yfjdv5x5</a>"
      ],
      "text/plain": [
       "<IPython.core.display.HTML object>"
      ]
     },
     "metadata": {},
     "output_type": "display_data"
    },
    {
     "data": {
      "text/html": [
       "Waiting for W&B process to finish... <strong style=\"color:green\">(success).</strong>"
      ],
      "text/plain": [
       "<IPython.core.display.HTML object>"
      ]
     },
     "metadata": {},
     "output_type": "display_data"
    },
    {
     "data": {
      "text/html": [
       "<style>\n",
       "    table.wandb td:nth-child(1) { padding: 0 10px; text-align: left ; width: auto;} td:nth-child(2) {text-align: left ; width: 100%}\n",
       "    .wandb-row { display: flex; flex-direction: row; flex-wrap: wrap; justify-content: flex-start; width: 100% }\n",
       "    .wandb-col { display: flex; flex-direction: column; flex-basis: 100%; flex: 1; padding: 10px; }\n",
       "    </style>\n",
       "<div class=\"wandb-row\"><div class=\"wandb-col\"><h3>Run history:</h3><br/><table class=\"wandb\"><tr><td>duration</td><td>▄▆▆▇▃▅▆▄▂▃▂▁▂▄▃▇▅▆▁▇▃▄▄▂▆▃█▂▅▂▅▃▄▅▄▃▄▄▁▃</td></tr><tr><td>te_c_acc</td><td>▁▆█▄▄▄▂▃▃▂▂▁▂▃▃▃▃▂▃▁▃▃▂▁▁▁▂▂▂▁▂▂▁▂▁▁▁▁▁▁</td></tr><tr><td>te_c_loss</td><td>▆▃▁▅▅▅▆▅▅▅▅█▆▅▅▅▅▆▅▆▅▅▅▆▆▇▆▆▆▆▆▆▆▆▆▆▆▆▆▆</td></tr><tr><td>te_c_oracle_loss</td><td>▁▁▁▂▃▅▅▇▇▇▇▅▅▆▆▆▆▆▇▆▇▇▇▆▇▆▅▇▅▆▆▆▆▇▆▇▇██▇</td></tr><tr><td>te_s_em_loss</td><td>▁▁█▁▁▁▁▁▁▁▁▁▁▁▁▁▁▁▁▁▁▁▁▁▁▁▁▁▁▁▁▁▁▁▁▁▁▁▁▁</td></tr><tr><td>te_s_oracle_loss</td><td>▁▁▁▂▃▅▅▇▇▇▇▅▅▆▆▆▆▆▇▆▇▇▇▆▇▆▅▇▅▆▆▆▆▇▆▇▇██▇</td></tr><tr><td>te_s_rec_loss</td><td>▁▁▁▁▂▂▃▄▄▅▆▄▄▄▄▄▅▇▇██▇▇▅▆▆▄▆▅▅▅▆▆▆▇▇▇▇▆▆</td></tr><tr><td>tr_c_acc</td><td>▁▆█▃▄▄▄▂▂▂▂▁▂▃▃▃▃▃▂▂▂▂▂▁▁▁▁▁▂▁▂▁▂▂▁▁▁▁▁▁</td></tr><tr><td>tr_c_loss</td><td>▅▃▁▅▄▄▄▅▄▅▄█▅▄▄▄▄▄▄▄▅▄▄▅▅▅▅▅▅▅▅▅▅▅▅▅▅▅▅▅</td></tr><tr><td>tr_c_oracle_loss</td><td>▁▁▁▂▃▅▅▇▇▇▇▆▆▆▆▆▆▆▇▇▇▇▇▆▇▇▆▇▅▆▆▆▆▇▇▇▇██▇</td></tr><tr><td>tr_s_em_loss</td><td>▁▂█▂▁▁▁▁▁▁▁▂▁▁▁▁▁▁▁▁▁▁▁▁▁▁▁▁▁▁▁▁▁▁▁▁▁▁▁▁</td></tr><tr><td>tr_s_oracle_loss</td><td>▁▁▁▂▃▅▅▇▇▇▇▆▆▆▆▆▆▆▇▇▇▇▇▆▇▇▆▇▅▆▆▆▆▇▇▇▇██▇</td></tr><tr><td>tr_s_rec_loss</td><td>▁▁▁▁▂▂▃▄▄▅▆▅▄▄▄▄▅▇▇██▇▇▆▆▆▅▆▅▅▅▅▆▆▆▇▇▆▆▆</td></tr></table><br/></div><div class=\"wandb-col\"><h3>Run summary:</h3><br/><table class=\"wandb\"><tr><td>duration</td><td>1.05572</td></tr><tr><td>te_c_acc</td><td>0.52568</td></tr><tr><td>te_c_loss</td><td>0.69114</td></tr><tr><td>te_c_oracle_loss</td><td>1.28755</td></tr><tr><td>te_s_em_loss</td><td>0.69347</td></tr><tr><td>te_s_oracle_loss</td><td>1.28755</td></tr><tr><td>te_s_rec_loss</td><td>0.08254</td></tr><tr><td>tr_c_acc</td><td>0.51496</td></tr><tr><td>tr_c_loss</td><td>0.69139</td></tr><tr><td>tr_c_oracle_loss</td><td>1.23637</td></tr><tr><td>tr_s_em_loss</td><td>0.69463</td></tr><tr><td>tr_s_oracle_loss</td><td>1.23646</td></tr><tr><td>tr_s_rec_loss</td><td>0.08247</td></tr></table><br/></div></div>"
      ],
      "text/plain": [
       "<IPython.core.display.HTML object>"
      ]
     },
     "metadata": {},
     "output_type": "display_data"
    },
    {
     "data": {
      "text/html": [
       " View run <strong style=\"color:#cdcd00\">azure-sweep-47</strong> at: <a href='https://wandb.ai/jgammell/data_sanitization/runs/yfjdv5x5' target=\"_blank\">https://wandb.ai/jgammell/data_sanitization/runs/yfjdv5x5</a><br/>Synced 5 W&B file(s), 0 media file(s), 0 artifact file(s) and 0 other file(s)"
      ],
      "text/plain": [
       "<IPython.core.display.HTML object>"
      ]
     },
     "metadata": {},
     "output_type": "display_data"
    },
    {
     "data": {
      "text/html": [
       "Find logs at: <code>./wandb/run-20230219_131110-yfjdv5x5/logs</code>"
      ],
      "text/plain": [
       "<IPython.core.display.HTML object>"
      ]
     },
     "metadata": {},
     "output_type": "display_data"
    },
    {
     "name": "stderr",
     "output_type": "stream",
     "text": [
      "\u001b[34m\u001b[1mwandb\u001b[0m: Agent Starting Run: xsaxu348 with config:\n",
      "\u001b[34m\u001b[1mwandb\u001b[0m: \tatenc_bottleneck_width: 4\n",
      "\u001b[34m\u001b[1mwandb\u001b[0m: \tatenc_sn: True\n",
      "\u001b[34m\u001b[1mwandb\u001b[0m: \tbeta1_c: 0.02561736934311205\n",
      "\u001b[34m\u001b[1mwandb\u001b[0m: \tbeta1_s: 0.29952943833027\n",
      "\u001b[34m\u001b[1mwandb\u001b[0m: \tbeta2_c: 0.999\n",
      "\u001b[34m\u001b[1mwandb\u001b[0m: \tbeta2_s: 0.999\n",
      "\u001b[34m\u001b[1mwandb\u001b[0m: \tc_pretrain_epochs: 9\n",
      "\u001b[34m\u001b[1mwandb\u001b[0m: \tclass_sn: True\n",
      "\u001b[34m\u001b[1mwandb\u001b[0m: \tlr_c: 0.00018870444509977563\n",
      "\u001b[34m\u001b[1mwandb\u001b[0m: \tlr_s: 0.003162370434874075\n",
      "\u001b[34m\u001b[1mwandb\u001b[0m: \ts_lbd: 0.04796139205046546\n",
      "\u001b[34m\u001b[1mwandb\u001b[0m: \ts_pretrain_epochs: 12\n",
      "\u001b[34m\u001b[1mwandb\u001b[0m: \tsan_sn: True\n",
      "\u001b[34m\u001b[1mwandb\u001b[0m: \ttrain_epochs: 250\n"
     ]
    },
    {
     "data": {
      "text/html": [
       "Tracking run with wandb version 0.13.10"
      ],
      "text/plain": [
       "<IPython.core.display.HTML object>"
      ]
     },
     "metadata": {},
     "output_type": "display_data"
    },
    {
     "data": {
      "text/html": [
       "Run data is saved locally in <code>/local/scratch/a/jgammell/sca_defense/wandb/run-20230219_133946-xsaxu348</code>"
      ],
      "text/plain": [
       "<IPython.core.display.HTML object>"
      ]
     },
     "metadata": {},
     "output_type": "display_data"
    },
    {
     "data": {
      "text/html": [
       "Syncing run <strong><a href='https://wandb.ai/jgammell/data_sanitization/runs/xsaxu348' target=\"_blank\">helpful-sweep-48</a></strong> to <a href='https://wandb.ai/jgammell/data_sanitization' target=\"_blank\">Weights & Biases</a> (<a href='https://wandb.me/run' target=\"_blank\">docs</a>)<br/>Sweep page: <a href='https://wandb.ai/jgammell/data_sanitization/sweeps/d1qsxwr1' target=\"_blank\">https://wandb.ai/jgammell/data_sanitization/sweeps/d1qsxwr1</a>"
      ],
      "text/plain": [
       "<IPython.core.display.HTML object>"
      ]
     },
     "metadata": {},
     "output_type": "display_data"
    },
    {
     "data": {
      "text/html": [
       " View project at <a href='https://wandb.ai/jgammell/data_sanitization' target=\"_blank\">https://wandb.ai/jgammell/data_sanitization</a>"
      ],
      "text/plain": [
       "<IPython.core.display.HTML object>"
      ]
     },
     "metadata": {},
     "output_type": "display_data"
    },
    {
     "data": {
      "text/html": [
       " View sweep at <a href='https://wandb.ai/jgammell/data_sanitization/sweeps/d1qsxwr1' target=\"_blank\">https://wandb.ai/jgammell/data_sanitization/sweeps/d1qsxwr1</a>"
      ],
      "text/plain": [
       "<IPython.core.display.HTML object>"
      ]
     },
     "metadata": {},
     "output_type": "display_data"
    },
    {
     "data": {
      "text/html": [
       " View run at <a href='https://wandb.ai/jgammell/data_sanitization/runs/xsaxu348' target=\"_blank\">https://wandb.ai/jgammell/data_sanitization/runs/xsaxu348</a>"
      ],
      "text/plain": [
       "<IPython.core.display.HTML object>"
      ]
     },
     "metadata": {},
     "output_type": "display_data"
    },
    {
     "data": {
      "text/html": [
       "Waiting for W&B process to finish... <strong style=\"color:green\">(success).</strong>"
      ],
      "text/plain": [
       "<IPython.core.display.HTML object>"
      ]
     },
     "metadata": {},
     "output_type": "display_data"
    },
    {
     "data": {
      "text/html": [
       "<style>\n",
       "    table.wandb td:nth-child(1) { padding: 0 10px; text-align: left ; width: auto;} td:nth-child(2) {text-align: left ; width: 100%}\n",
       "    .wandb-row { display: flex; flex-direction: row; flex-wrap: wrap; justify-content: flex-start; width: 100% }\n",
       "    .wandb-col { display: flex; flex-direction: column; flex-basis: 100%; flex: 1; padding: 10px; }\n",
       "    </style>\n",
       "<div class=\"wandb-row\"><div class=\"wandb-col\"><h3>Run history:</h3><br/><table class=\"wandb\"><tr><td>duration</td><td>▄▅▃▃▃▁▄▅▅▃▄▅▂▄█▆▇▅▅▂▄▅▃▃▃▄▃▃▃▄▆▃█▃▄▃▅▅▃▅</td></tr><tr><td>te_c_acc</td><td>▁▁█▃▂▁▃▃▃▃▂▁▂▂▁▁▂▃▂▂▂▁▂▁▂▁▂▂▂▂▂▃▂▁▁▃▁▃▃▃</td></tr><tr><td>te_c_loss</td><td>▆▆▁▆▆▆▆▆▆▆▆▆▆██▆▆▆▇▇▆▆▆▆▆▆▆▆▆▆▆▆▆▆▆▆▆▆▆▆</td></tr><tr><td>te_c_oracle_loss</td><td>▁▁▁▄▄▅▅▅▅▅▆▆▆▆▅▅▆▅▅▆▇█████▇▇▇▇▇▆▆█▆▆▆▇██</td></tr><tr><td>te_s_em_loss</td><td>▁▁█▁▂▁▁▁▁▁▁▁▁▂▂▁▁▁▂▁▁▁▁▁▁▁▁▁▁▁▁▁▁▁▁▁▁▁▁▁</td></tr><tr><td>te_s_oracle_loss</td><td>▁▁▁▄▄▅▅▅▅▅▆▆▆▆▅▅▆▅▅▆▇█████▇▇▇▇▇▆▆█▆▆▆▇██</td></tr><tr><td>te_s_rec_loss</td><td>▁▁▁▅▅▇▇▅█▆▄▄▃▄▅▃▃▄▄▃▂▂▂▂▃▂▂▂▄▆▃▃▃▄▅▃▅▃▄▄</td></tr><tr><td>tr_c_acc</td><td>▁▁█▂▂▂▂▂▁▂▁▂▂▂▂▁▂▂▂▁▁▁▁▁▁▁▁▁▂▂▂▁▂▂▂▁▂▂▂▂</td></tr><tr><td>tr_c_loss</td><td>██▁▇████████████████████████████████████</td></tr><tr><td>tr_c_oracle_loss</td><td>▁▁▁▄▄▅▅▄▅▅▆▆▆▆▅▅▆▅▅▆▇▇███▇▇▇▇▇▇▆▆▇▇▆▆▇██</td></tr><tr><td>tr_s_em_loss</td><td>▁▁█▂▁▂▁▁▁▁▁▁▁▁▁▁▁▁▁▁▁▁▁▁▁▁▁▁▁▁▁▁▁▁▁▁▁▁▁▁</td></tr><tr><td>tr_s_oracle_loss</td><td>▁▁▁▄▄▅▅▄▅▅▆▆▆▆▅▅▆▅▅▆▇▇███▇▇▇▇▇▇▆▆▇▇▆▆▇██</td></tr><tr><td>tr_s_rec_loss</td><td>▁▁▁▄▄▅▅▅█▄▃▃▃▂▂▂▂▂▃▂▂▂▂▂▁▁▂▁▃▄▂▃▂▄▂▂▂▂▂▃</td></tr></table><br/></div><div class=\"wandb-col\"><h3>Run summary:</h3><br/><table class=\"wandb\"><tr><td>duration</td><td>1.10599</td></tr><tr><td>te_c_acc</td><td>0.55078</td></tr><tr><td>te_c_loss</td><td>0.68644</td></tr><tr><td>te_c_oracle_loss</td><td>1.38913</td></tr><tr><td>te_s_em_loss</td><td>0.69496</td></tr><tr><td>te_s_oracle_loss</td><td>1.38913</td></tr><tr><td>te_s_rec_loss</td><td>0.3367</td></tr><tr><td>tr_c_acc</td><td>0.51789</td></tr><tr><td>tr_c_loss</td><td>0.68959</td></tr><tr><td>tr_c_oracle_loss</td><td>1.39274</td></tr><tr><td>tr_s_em_loss</td><td>0.69641</td></tr><tr><td>tr_s_oracle_loss</td><td>1.39302</td></tr><tr><td>tr_s_rec_loss</td><td>0.33206</td></tr></table><br/></div></div>"
      ],
      "text/plain": [
       "<IPython.core.display.HTML object>"
      ]
     },
     "metadata": {},
     "output_type": "display_data"
    },
    {
     "data": {
      "text/html": [
       " View run <strong style=\"color:#cdcd00\">helpful-sweep-48</strong> at: <a href='https://wandb.ai/jgammell/data_sanitization/runs/xsaxu348' target=\"_blank\">https://wandb.ai/jgammell/data_sanitization/runs/xsaxu348</a><br/>Synced 5 W&B file(s), 0 media file(s), 0 artifact file(s) and 0 other file(s)"
      ],
      "text/plain": [
       "<IPython.core.display.HTML object>"
      ]
     },
     "metadata": {},
     "output_type": "display_data"
    },
    {
     "data": {
      "text/html": [
       "Find logs at: <code>./wandb/run-20230219_133946-xsaxu348/logs</code>"
      ],
      "text/plain": [
       "<IPython.core.display.HTML object>"
      ]
     },
     "metadata": {},
     "output_type": "display_data"
    },
    {
     "name": "stderr",
     "output_type": "stream",
     "text": [
      "\u001b[34m\u001b[1mwandb\u001b[0m: Agent Starting Run: ozn2blf1 with config:\n",
      "\u001b[34m\u001b[1mwandb\u001b[0m: \tatenc_bottleneck_width: 256\n",
      "\u001b[34m\u001b[1mwandb\u001b[0m: \tatenc_sn: False\n",
      "\u001b[34m\u001b[1mwandb\u001b[0m: \tbeta1_c: 0.1737732202053468\n",
      "\u001b[34m\u001b[1mwandb\u001b[0m: \tbeta1_s: 0.5870837800542879\n",
      "\u001b[34m\u001b[1mwandb\u001b[0m: \tbeta2_c: 0.999\n",
      "\u001b[34m\u001b[1mwandb\u001b[0m: \tbeta2_s: 0.999\n",
      "\u001b[34m\u001b[1mwandb\u001b[0m: \tc_pretrain_epochs: 8\n",
      "\u001b[34m\u001b[1mwandb\u001b[0m: \tclass_sn: False\n",
      "\u001b[34m\u001b[1mwandb\u001b[0m: \tlr_c: 0.008265450391830442\n",
      "\u001b[34m\u001b[1mwandb\u001b[0m: \tlr_s: 0.001443697731320647\n",
      "\u001b[34m\u001b[1mwandb\u001b[0m: \ts_lbd: 0.07911294495005353\n",
      "\u001b[34m\u001b[1mwandb\u001b[0m: \ts_pretrain_epochs: 10\n",
      "\u001b[34m\u001b[1mwandb\u001b[0m: \tsan_sn: False\n",
      "\u001b[34m\u001b[1mwandb\u001b[0m: \ttrain_epochs: 250\n"
     ]
    },
    {
     "data": {
      "text/html": [
       "Tracking run with wandb version 0.13.10"
      ],
      "text/plain": [
       "<IPython.core.display.HTML object>"
      ]
     },
     "metadata": {},
     "output_type": "display_data"
    },
    {
     "data": {
      "text/html": [
       "Run data is saved locally in <code>/local/scratch/a/jgammell/sca_defense/wandb/run-20230219_140955-ozn2blf1</code>"
      ],
      "text/plain": [
       "<IPython.core.display.HTML object>"
      ]
     },
     "metadata": {},
     "output_type": "display_data"
    },
    {
     "data": {
      "text/html": [
       "Syncing run <strong><a href='https://wandb.ai/jgammell/data_sanitization/runs/ozn2blf1' target=\"_blank\">rose-sweep-49</a></strong> to <a href='https://wandb.ai/jgammell/data_sanitization' target=\"_blank\">Weights & Biases</a> (<a href='https://wandb.me/run' target=\"_blank\">docs</a>)<br/>Sweep page: <a href='https://wandb.ai/jgammell/data_sanitization/sweeps/d1qsxwr1' target=\"_blank\">https://wandb.ai/jgammell/data_sanitization/sweeps/d1qsxwr1</a>"
      ],
      "text/plain": [
       "<IPython.core.display.HTML object>"
      ]
     },
     "metadata": {},
     "output_type": "display_data"
    },
    {
     "data": {
      "text/html": [
       " View project at <a href='https://wandb.ai/jgammell/data_sanitization' target=\"_blank\">https://wandb.ai/jgammell/data_sanitization</a>"
      ],
      "text/plain": [
       "<IPython.core.display.HTML object>"
      ]
     },
     "metadata": {},
     "output_type": "display_data"
    },
    {
     "data": {
      "text/html": [
       " View sweep at <a href='https://wandb.ai/jgammell/data_sanitization/sweeps/d1qsxwr1' target=\"_blank\">https://wandb.ai/jgammell/data_sanitization/sweeps/d1qsxwr1</a>"
      ],
      "text/plain": [
       "<IPython.core.display.HTML object>"
      ]
     },
     "metadata": {},
     "output_type": "display_data"
    },
    {
     "data": {
      "text/html": [
       " View run at <a href='https://wandb.ai/jgammell/data_sanitization/runs/ozn2blf1' target=\"_blank\">https://wandb.ai/jgammell/data_sanitization/runs/ozn2blf1</a>"
      ],
      "text/plain": [
       "<IPython.core.display.HTML object>"
      ]
     },
     "metadata": {},
     "output_type": "display_data"
    },
    {
     "data": {
      "text/html": [
       "Waiting for W&B process to finish... <strong style=\"color:green\">(success).</strong>"
      ],
      "text/plain": [
       "<IPython.core.display.HTML object>"
      ]
     },
     "metadata": {},
     "output_type": "display_data"
    },
    {
     "data": {
      "text/html": [
       "<style>\n",
       "    table.wandb td:nth-child(1) { padding: 0 10px; text-align: left ; width: auto;} td:nth-child(2) {text-align: left ; width: 100%}\n",
       "    .wandb-row { display: flex; flex-direction: row; flex-wrap: wrap; justify-content: flex-start; width: 100% }\n",
       "    .wandb-col { display: flex; flex-direction: column; flex-basis: 100%; flex: 1; padding: 10px; }\n",
       "    </style>\n",
       "<div class=\"wandb-row\"><div class=\"wandb-col\"><h3>Run history:</h3><br/><table class=\"wandb\"><tr><td>duration</td><td>▃▁▁▂▁▆▃▄▂▃▄▄▁▂▄▄▂▃█▂▂▄▂▄▃▃▃▂▃▃▃▃▃▆▆▄▄▅▃▁</td></tr><tr><td>te_c_acc</td><td>▁▁█▂▂▃▃▃▃▃▃▃▃▃▃▃▃▃▃▃▃▃▃▃▃▃▃▃▃▃▃▃▃▃▃▃▃▃▃▃</td></tr><tr><td>te_c_loss</td><td>▃▃▁▃▃▃▃▄▃▃▃▄▄▄▄▅▄▄▄▄▄▅▆▅▅█▆▅▅▅▆▅▅▆▆▆▇▆▆▆</td></tr><tr><td>te_c_oracle_loss</td><td>▁▁▁█████████████████████████████████████</td></tr><tr><td>te_s_em_loss</td><td>▁▁█▁▁▁▁▁▁▁▁▂▂▂▂▂▂▂▂▁▁▂▃▂▂▄▃▂▂▂▃▂▂▃▃▃▃▃▃▃</td></tr><tr><td>te_s_oracle_loss</td><td>▁▁▁█████████████████████████████████████</td></tr><tr><td>te_s_rec_loss</td><td>▁▁▁█████████████████████████████████████</td></tr><tr><td>tr_c_acc</td><td>▁▁█▂▂▃▃▃▃▄▃▃▃▃▃▃▃▃▃▃▃▃▃▃▃▃▃▃▃▃▃▃▃▃▃▃▃▃▃▃</td></tr><tr><td>tr_c_loss</td><td>██▁██▇▇▇▆▆▆▆▆▅▅▅▅▅▅▅▅▅▅▅▄▄▄▄▄▄▄▄▄▄▄▄▄▄▄▄</td></tr><tr><td>tr_c_oracle_loss</td><td>▁▁▁█████████████████████████████████████</td></tr><tr><td>tr_s_em_loss</td><td>▁▁█▁▁▁▁▁▁▁▁▁▁▂▂▂▂▂▂▂▂▂▂▂▂▂▂▂▂▂▂▃▂▃▃▃▃▃▃▃</td></tr><tr><td>tr_s_oracle_loss</td><td>▁▁▁█████████████████████████████████████</td></tr><tr><td>tr_s_rec_loss</td><td>▁▁▁█████████████████████████████████████</td></tr></table><br/></div><div class=\"wandb-col\"><h3>Run summary:</h3><br/><table class=\"wandb\"><tr><td>duration</td><td>1.07876</td></tr><tr><td>te_c_acc</td><td>0.64512</td></tr><tr><td>te_c_loss</td><td>1.24975</td></tr><tr><td>te_c_oracle_loss</td><td>1.20292</td></tr><tr><td>te_s_em_loss</td><td>3.91252</td></tr><tr><td>te_s_oracle_loss</td><td>1.20292</td></tr><tr><td>te_s_rec_loss</td><td>0.02564</td></tr><tr><td>tr_c_acc</td><td>0.64186</td></tr><tr><td>tr_c_loss</td><td>0.32327</td></tr><tr><td>tr_c_oracle_loss</td><td>1.20257</td></tr><tr><td>tr_s_em_loss</td><td>4.91193</td></tr><tr><td>tr_s_oracle_loss</td><td>1.20236</td></tr><tr><td>tr_s_rec_loss</td><td>0.02565</td></tr></table><br/></div></div>"
      ],
      "text/plain": [
       "<IPython.core.display.HTML object>"
      ]
     },
     "metadata": {},
     "output_type": "display_data"
    },
    {
     "data": {
      "text/html": [
       " View run <strong style=\"color:#cdcd00\">rose-sweep-49</strong> at: <a href='https://wandb.ai/jgammell/data_sanitization/runs/ozn2blf1' target=\"_blank\">https://wandb.ai/jgammell/data_sanitization/runs/ozn2blf1</a><br/>Synced 5 W&B file(s), 0 media file(s), 0 artifact file(s) and 0 other file(s)"
      ],
      "text/plain": [
       "<IPython.core.display.HTML object>"
      ]
     },
     "metadata": {},
     "output_type": "display_data"
    },
    {
     "data": {
      "text/html": [
       "Find logs at: <code>./wandb/run-20230219_140955-ozn2blf1/logs</code>"
      ],
      "text/plain": [
       "<IPython.core.display.HTML object>"
      ]
     },
     "metadata": {},
     "output_type": "display_data"
    },
    {
     "name": "stderr",
     "output_type": "stream",
     "text": [
      "\u001b[34m\u001b[1mwandb\u001b[0m: Agent Starting Run: q8zjmsl6 with config:\n",
      "\u001b[34m\u001b[1mwandb\u001b[0m: \tatenc_bottleneck_width: 256\n",
      "\u001b[34m\u001b[1mwandb\u001b[0m: \tatenc_sn: False\n",
      "\u001b[34m\u001b[1mwandb\u001b[0m: \tbeta1_c: 0.8342926574935677\n",
      "\u001b[34m\u001b[1mwandb\u001b[0m: \tbeta1_s: 0.6701895506407872\n",
      "\u001b[34m\u001b[1mwandb\u001b[0m: \tbeta2_c: 0.999\n",
      "\u001b[34m\u001b[1mwandb\u001b[0m: \tbeta2_s: 0.999\n",
      "\u001b[34m\u001b[1mwandb\u001b[0m: \tc_pretrain_epochs: 4\n",
      "\u001b[34m\u001b[1mwandb\u001b[0m: \tclass_sn: True\n",
      "\u001b[34m\u001b[1mwandb\u001b[0m: \tlr_c: 0.004462961985908447\n",
      "\u001b[34m\u001b[1mwandb\u001b[0m: \tlr_s: 0.007520462856965379\n",
      "\u001b[34m\u001b[1mwandb\u001b[0m: \ts_lbd: 1.2675429197027024\n",
      "\u001b[34m\u001b[1mwandb\u001b[0m: \ts_pretrain_epochs: 11\n",
      "\u001b[34m\u001b[1mwandb\u001b[0m: \tsan_sn: True\n",
      "\u001b[34m\u001b[1mwandb\u001b[0m: \ttrain_epochs: 250\n"
     ]
    },
    {
     "data": {
      "text/html": [
       "Tracking run with wandb version 0.13.10"
      ],
      "text/plain": [
       "<IPython.core.display.HTML object>"
      ]
     },
     "metadata": {},
     "output_type": "display_data"
    },
    {
     "data": {
      "text/html": [
       "Run data is saved locally in <code>/local/scratch/a/jgammell/sca_defense/wandb/run-20230219_143457-q8zjmsl6</code>"
      ],
      "text/plain": [
       "<IPython.core.display.HTML object>"
      ]
     },
     "metadata": {},
     "output_type": "display_data"
    },
    {
     "data": {
      "text/html": [
       "Syncing run <strong><a href='https://wandb.ai/jgammell/data_sanitization/runs/q8zjmsl6' target=\"_blank\">vibrant-sweep-50</a></strong> to <a href='https://wandb.ai/jgammell/data_sanitization' target=\"_blank\">Weights & Biases</a> (<a href='https://wandb.me/run' target=\"_blank\">docs</a>)<br/>Sweep page: <a href='https://wandb.ai/jgammell/data_sanitization/sweeps/d1qsxwr1' target=\"_blank\">https://wandb.ai/jgammell/data_sanitization/sweeps/d1qsxwr1</a>"
      ],
      "text/plain": [
       "<IPython.core.display.HTML object>"
      ]
     },
     "metadata": {},
     "output_type": "display_data"
    },
    {
     "data": {
      "text/html": [
       " View project at <a href='https://wandb.ai/jgammell/data_sanitization' target=\"_blank\">https://wandb.ai/jgammell/data_sanitization</a>"
      ],
      "text/plain": [
       "<IPython.core.display.HTML object>"
      ]
     },
     "metadata": {},
     "output_type": "display_data"
    },
    {
     "data": {
      "text/html": [
       " View sweep at <a href='https://wandb.ai/jgammell/data_sanitization/sweeps/d1qsxwr1' target=\"_blank\">https://wandb.ai/jgammell/data_sanitization/sweeps/d1qsxwr1</a>"
      ],
      "text/plain": [
       "<IPython.core.display.HTML object>"
      ]
     },
     "metadata": {},
     "output_type": "display_data"
    },
    {
     "data": {
      "text/html": [
       " View run at <a href='https://wandb.ai/jgammell/data_sanitization/runs/q8zjmsl6' target=\"_blank\">https://wandb.ai/jgammell/data_sanitization/runs/q8zjmsl6</a>"
      ],
      "text/plain": [
       "<IPython.core.display.HTML object>"
      ]
     },
     "metadata": {},
     "output_type": "display_data"
    }
   ],
   "source": [
    "from data_sanitization_htune import run_trial\n",
    "\n",
    "sweep_configuration = {\n",
    "    'method': 'random',\n",
    "    'name': 'data_sanitization_hsweep',\n",
    "    'metric': {'goal': 'minimize', 'name': 'te_s_oracle_loss'},\n",
    "    'parameters': {\n",
    "        'lr_c': {'distribution': 'log_uniform_values', 'min': 1e-4, 'max': 1e-2},\n",
    "        'lr_s': {'distribution': 'log_uniform_values', 'min': 1e-4, 'max': 1e-2},\n",
    "        'beta1_c': {'min': 0.0, 'max': 0.9},\n",
    "        'beta1_s': {'min': 0.0, 'max': 0.9},\n",
    "        'beta2_c': {'value': 0.999},\n",
    "        'beta2_s': {'value': 0.999},\n",
    "        's_lbd': {'distribution': 'log_uniform_values', 'min': 1e-2, 'max': 1e2},\n",
    "        'c_pretrain_epochs': {'min': 0, 'max': 20},\n",
    "        's_pretrain_epochs': {'min': 0, 'max': 20},\n",
    "        'train_epochs': {'value': 250},\n",
    "        'atenc_bottleneck_width': {'values': [2, 4, 8, 16, 32, 64, 128, 256]},\n",
    "        'atenc_sn': {'values': [True, False]},\n",
    "        'san_sn': {'values': [True, False]},\n",
    "        'class_sn': {'values': [True, False]}\n",
    "    }\n",
    "}\n",
    "\n",
    "sweep_id = wandb.sweep(sweep=sweep_configuration, project='data_sanitization')\n",
    "wandb.agent(sweep_id, function=run_trial, count=1000)"
   ]
  },
  {
   "cell_type": "code",
   "execution_count": null,
   "id": "cf40d473",
   "metadata": {},
   "outputs": [],
   "source": []
  }
 ],
 "metadata": {
  "kernelspec": {
   "display_name": "Python 3 (ipykernel)",
   "language": "python",
   "name": "python3"
  },
  "language_info": {
   "codemirror_mode": {
    "name": "ipython",
    "version": 3
   },
   "file_extension": ".py",
   "mimetype": "text/x-python",
   "name": "python",
   "nbconvert_exporter": "python",
   "pygments_lexer": "ipython3",
   "version": "3.8.8"
  }
 },
 "nbformat": 4,
 "nbformat_minor": 5
}
