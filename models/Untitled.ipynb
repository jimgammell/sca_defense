{
 "cells": [
  {
   "cell_type": "markdown",
   "id": "7d53edd0",
   "metadata": {},
   "source": [
    "import sys\n",
    "sys.path.append('..')\n",
    "import torch\n",
    "from resnet1d_gan import ResNet1dDiscriminator, ResNet1dGenerator\n",
    "from common import get_param_count"
   ]
  },
  {
   "cell_type": "markdown",
   "id": "aff31fb4",
   "metadata": {},
   "source": [
    "input_shape = (64, 1, 20000)\n",
    "filters = 8\n",
    "disc = ResNet1dDiscriminator(input_shape, 8)\n",
    "print(disc)\n",
    "\n",
    "eg_input = torch.randn(input_shape)\n",
    "eg_output = disc(eg_input)\n",
    "print('Input shape:', eg_input.shape, '-> Output shape:', eg_output.shape)\n",
    "print('Param count:', get_param_count(disc))"
   ]
  },
  {
   "cell_type": "markdown",
   "id": "12be2ebf",
   "metadata": {},
   "source": [
    "label_dims = 256\n",
    "latent_dims = 100\n",
    "output_shape = (64, 1, 20000)\n",
    "\n",
    "gen = ResNet1dGenerator(label_dims, latent_dims, output_shape)\n",
    "print(gen)\n",
    "\n",
    "eg_label = torch.randint(0, 256, (64,))\n",
    "eg_latent = torch.randn(64, latent_dims)\n",
    "eg_output = gen(eg_latent, eg_label)\n",
    "print('Label shape:', eg_label.shape.__repr__()+',', 'Latent shape:', eg_latent.shape, '-> Output shape:', eg_output.shape)\n",
    "print('Param count:', get_param_count(gen))"
   ]
  },
  {
   "cell_type": "code",
   "execution_count": 1,
   "id": "5a7f1a6d",
   "metadata": {},
   "outputs": [],
   "source": [
    "import numpy as np\n",
    "import torch\n",
    "import sys\n",
    "sys.path.append('..')\n",
    "from lenet_gan import LeNet5Gen, LeNet5Disc\n",
    "from common import get_param_count"
   ]
  },
  {
   "cell_type": "code",
   "execution_count": 2,
   "id": "d79be566",
   "metadata": {},
   "outputs": [
    {
     "name": "stdout",
     "output_type": "stream",
     "text": [
      "LeNet5Disc(\n",
      "  (feature_extractor): Sequential(\n",
      "    (0): Conv2d(1, 6, kernel_size=(5, 5), stride=(1, 1), padding=(2, 2))\n",
      "    (1): BatchNorm2d(6, eps=1e-05, momentum=0.1, affine=True, track_running_stats=True)\n",
      "    (2): LeakyReLU(negative_slope=0.2)\n",
      "    (3): MaxPool2d(kernel_size=2, stride=2, padding=0, dilation=1, ceil_mode=False)\n",
      "    (4): Conv2d(6, 16, kernel_size=(5, 5), stride=(1, 1))\n",
      "    (5): BatchNorm2d(16, eps=1e-05, momentum=0.1, affine=True, track_running_stats=True)\n",
      "    (6): LeakyReLU(negative_slope=0.2)\n",
      "    (7): MaxPool2d(kernel_size=2, stride=2, padding=0, dilation=1, ceil_mode=False)\n",
      "  )\n",
      "  (dense_probe): Sequential(\n",
      "    (0): Linear(in_features=400, out_features=120, bias=True)\n",
      "    (1): LeakyReLU(negative_slope=0.2)\n",
      "    (2): Linear(in_features=120, out_features=84, bias=True)\n",
      "    (3): LeakyReLU(negative_slope=0.2)\n",
      "    (4): Linear(in_features=84, out_features=10, bias=True)\n",
      "  )\n",
      ")\n",
      "Disc param count: 61750\n",
      "Map dimensions: (torch.Size([64, 1, 28, 28])) -> (torch.Size([64, 10]))\n"
     ]
    }
   ],
   "source": [
    "input_shape = (64, 1, 28, 28)\n",
    "disc = LeNet5Disc(input_shape)\n",
    "print(disc)\n",
    "print('Disc param count:', get_param_count(disc))\n",
    "\n",
    "eg_input = torch.randn(input_shape)\n",
    "eg_output = disc(eg_input)\n",
    "print('Map dimensions: ({}) -> ({})'.format(eg_input.shape, eg_output.shape))"
   ]
  },
  {
   "cell_type": "code",
   "execution_count": 3,
   "id": "08d6a7e2",
   "metadata": {},
   "outputs": [
    {
     "name": "stdout",
     "output_type": "stream",
     "text": [
      "LeNet5Gen(\n",
      "  (label_embedding): Embedding(10, 10)\n",
      "  (dense_upsampling): Sequential(\n",
      "    (0): Linear(in_features=110, out_features=84, bias=True)\n",
      "    (1): ReLU()\n",
      "    (2): Linear(in_features=84, out_features=120, bias=True)\n",
      "    (3): ReLU()\n",
      "    (4): Linear(in_features=120, out_features=400, bias=True)\n",
      "  )\n",
      "  (feature_constructor): Sequential(\n",
      "    (0): Upsample(scale_factor=2.0, mode=nearest)\n",
      "    (1): BatchNorm2d(16, eps=1e-05, momentum=0.1, affine=True, track_running_stats=True)\n",
      "    (2): ReLU()\n",
      "    (3): ConvTranspose2d(16, 6, kernel_size=(5, 5), stride=(1, 1))\n",
      "    (4): Upsample(scale_factor=2.0, mode=nearest)\n",
      "    (5): BatchNorm2d(6, eps=1e-05, momentum=0.1, affine=True, track_running_stats=True)\n",
      "    (6): ReLU()\n",
      "    (7): ConvTranspose2d(6, 1, kernel_size=(5, 5), stride=(1, 1), padding=(2, 2))\n",
      "  )\n",
      ")\n",
      "Gen param count: 70625\n",
      "Map dimensions: (torch.Size([64, 100])) x (torch.Size([64])) -> (torch.Size([64, 1, 28, 28]))\n"
     ]
    }
   ],
   "source": [
    "latent_dims = 100\n",
    "label_dims = 10\n",
    "feature_dims = 0\n",
    "output_shape = (64, 1, 28, 28)\n",
    "gen = LeNet5Gen(latent_dims, label_dims, feature_dims, output_shape)\n",
    "print(gen)\n",
    "print('Gen param count:', get_param_count(gen))\n",
    "\n",
    "eg_latent = torch.randn((64, latent_dims))\n",
    "eg_label = torch.randint(0, 10, (64,))\n",
    "eg_output = gen(eg_latent, eg_label)\n",
    "print('Map dimensions: ({}) x ({}) -> ({})'.format(eg_latent.shape, eg_label.shape, eg_output.shape))"
   ]
  }
 ],
 "metadata": {
  "kernelspec": {
   "display_name": "Python 3 (ipykernel)",
   "language": "python",
   "name": "python3"
  },
  "language_info": {
   "codemirror_mode": {
    "name": "ipython",
    "version": 3
   },
   "file_extension": ".py",
   "mimetype": "text/x-python",
   "name": "python",
   "nbconvert_exporter": "python",
   "pygments_lexer": "ipython3",
   "version": "3.8.8"
  }
 },
 "nbformat": 4,
 "nbformat_minor": 5
}
