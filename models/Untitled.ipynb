{
 "cells": [
  {
   "cell_type": "code",
   "execution_count": 1,
   "id": "2b811188",
   "metadata": {},
   "outputs": [],
   "source": [
    "import torch\n",
    "from dcgan_1d import DCGenerator1d, DCDiscriminator1d"
   ]
  },
  {
   "cell_type": "code",
   "execution_count": 2,
   "id": "49adead3",
   "metadata": {},
   "outputs": [
    {
     "name": "stdout",
     "output_type": "stream",
     "text": [
      "DCGenerator1d(\n",
      "  (feature_creator): Sequential(\n",
      "    (0): ConvTranspose1d(356, 2048, kernel_size=(8,), stride=(1,), bias=False)\n",
      "    (1): BatchNorm1d(2048, eps=1e-05, momentum=0.1, affine=True, track_running_stats=True)\n",
      "    (2): ReLU()\n",
      "    (3): ConvTranspose1d(2048, 1024, kernel_size=(8,), stride=(4,), padding=(2,), bias=False)\n",
      "    (4): BatchNorm1d(1024, eps=1e-05, momentum=0.1, affine=True, track_running_stats=True)\n",
      "    (5): ReLU()\n",
      "    (6): ConvTranspose1d(1024, 512, kernel_size=(8,), stride=(4,), padding=(2,), bias=False)\n",
      "    (7): BatchNorm1d(512, eps=1e-05, momentum=0.1, affine=True, track_running_stats=True)\n",
      "    (8): ReLU()\n",
      "    (9): ConvTranspose1d(512, 256, kernel_size=(8,), stride=(4,), padding=(2,), bias=False)\n",
      "    (10): BatchNorm1d(256, eps=1e-05, momentum=0.1, affine=True, track_running_stats=True)\n",
      "    (11): ReLU()\n",
      "    (12): ConvTranspose1d(256, 128, kernel_size=(8,), stride=(4,), padding=(2,), bias=False)\n",
      "    (13): BatchNorm1d(128, eps=1e-05, momentum=0.1, affine=True, track_running_stats=True)\n",
      "    (14): ReLU()\n",
      "    (15): ConvTranspose1d(128, 64, kernel_size=(8,), stride=(4,), padding=(2,), bias=False)\n",
      "    (16): BatchNorm1d(64, eps=1e-05, momentum=0.1, affine=True, track_running_stats=True)\n",
      "    (17): ReLU()\n",
      "    (18): ConvTranspose1d(64, 32, kernel_size=(8,), stride=(4,), padding=(2,), bias=False)\n",
      "    (19): BatchNorm1d(32, eps=1e-05, momentum=0.1, affine=True, track_running_stats=True)\n",
      "    (20): ReLU()\n",
      "    (21): ConvTranspose1d(32, 1, kernel_size=(8,), stride=(1,), bias=False)\n",
      "  )\n",
      "  (label_embedding): Embedding(256, 256)\n",
      "  (output_transform): Hardtanh(min_val=-1.0, max_val=1.0)\n",
      ")\n",
      "torch.Size([5, 1, 20000])\n"
     ]
    }
   ],
   "source": [
    "gen = DCGenerator1d(100, 256, (1, 1, 20000))\n",
    "print(gen)\n",
    "latent_vars = torch.randn(5, 100)\n",
    "labels = torch.tensor([1, 2, 3, 4, 5])\n",
    "print(gen(latent_vars, labels).shape)"
   ]
  },
  {
   "cell_type": "code",
   "execution_count": 3,
   "id": "3dcb08a7",
   "metadata": {},
   "outputs": [
    {
     "name": "stdout",
     "output_type": "stream",
     "text": [
      "DCDiscriminator1d(\n",
      "  (feature_extractor): Sequential(\n",
      "    (0): Conv1d(1, 256, kernel_size=(8,), stride=(4,), bias=False)\n",
      "    (1): LeakyReLU(negative_slope=0.2)\n",
      "    (2): Conv1d(256, 512, kernel_size=(8,), stride=(1,), bias=False)\n",
      "    (3): BatchNorm1d(512, eps=1e-05, momentum=0.1, affine=True, track_running_stats=True)\n",
      "    (4): LeakyReLU(negative_slope=0.2)\n",
      "    (5): Conv1d(512, 1024, kernel_size=(8,), stride=(1,), bias=False)\n",
      "    (6): BatchNorm1d(1024, eps=1e-05, momentum=0.1, affine=True, track_running_stats=True)\n",
      "    (7): LeakyReLU(negative_slope=0.2)\n",
      "    (8): Conv1d(1024, 2048, kernel_size=(8,), stride=(1,), bias=False)\n",
      "    (9): BatchNorm1d(2048, eps=1e-05, momentum=0.1, affine=True, track_running_stats=True)\n",
      "    (10): LeakyReLU(negative_slope=0.2)\n",
      "    (11): Conv1d(2048, 256, kernel_size=(8,), stride=(1,), bias=False)\n",
      "  )\n",
      "  (pooling_layer): AvgPool1d(kernel_size=(4971,), stride=(4971,), padding=(0,))\n",
      ")\n",
      "torch.Size([1, 256])\n"
     ]
    }
   ],
   "source": [
    "disc = DCDiscriminator1d((1, 1, 20000), 256)\n",
    "print(disc)\n",
    "eg_input = torch.randn(1, 1, 20000)\n",
    "print(disc(eg_input).shape)"
   ]
  }
 ],
 "metadata": {
  "kernelspec": {
   "display_name": "Python 3 (ipykernel)",
   "language": "python",
   "name": "python3"
  },
  "language_info": {
   "codemirror_mode": {
    "name": "ipython",
    "version": 3
   },
   "file_extension": ".py",
   "mimetype": "text/x-python",
   "name": "python",
   "nbconvert_exporter": "python",
   "pygments_lexer": "ipython3",
   "version": "3.8.8"
  }
 },
 "nbformat": 4,
 "nbformat_minor": 5
}
