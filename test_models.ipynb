{
 "cells": [
  {
   "cell_type": "code",
   "execution_count": null,
   "id": "2e9e706d",
   "metadata": {},
   "outputs": [],
   "source": [
    "import numpy as np\n",
    "import torch\n",
    "from models.multitask_resnet1d import LeakageDiscriminator as Discriminator\n",
    "\n",
    "discriminator = Discriminator((1, 5000), {'0': 8, '1': 8, '2': 8, '3': 8})\n",
    "print('Discriminator with {} parameters:'.format(sum(p.numel() for p in discriminator.parameters() if p.requires_grad)))\n",
    "print(discriminator)\n",
    "eg_input = torch.randn(16, 1, 5000)\n",
    "eg_features = discriminator.extract_features(eg_input)\n",
    "print('Disc. feature extractor: {} -> {}'.format(eg_input.shape, eg_features.shape))\n",
    "eg_features_realism = discriminator.get_realism_features(eg_features)\n",
    "eg_output_realism = discriminator.classify_realism(eg_features_realism)\n",
    "print('Disc. realism classifier: {} -> {} -> {}'.format(eg_features.shape, eg_features_realism.shape, eg_output_realism.shape))\n",
    "eg_features_leakage = discriminator.get_leakage_features(eg_features)\n",
    "eg_output_leakage = discriminator.classify_leakage(eg_features_leakage)\n",
    "print('Disc. leakage classifier: {} -> {} -> {}'.format(eg_features.shape, eg_features_leakage.shape, {key: item.shape for key, item in eg_output_leakage.items()}))"
   ]
  },
  {
   "cell_type": "code",
   "execution_count": null,
   "id": "dba6a55e",
   "metadata": {},
   "outputs": [],
   "source": [
    "import numpy as np\n",
    "import torch\n",
    "from models.unet_v2 import Generator\n",
    "\n",
    "generator = Generator((1, 28, 28))\n",
    "print('Generator with {} parameters:'.format(sum(p.numel() for p in generator.parameters() if p.requires_grad)))\n",
    "print(generator)\n",
    "eg_input = torch.randn(16, 1, 28, 28)\n",
    "eg_output = generator(eg_input)\n",
    "print('Generator: {} -> {}'.format(eg_input.shape, eg_output.shape))"
   ]
  }
 ],
 "metadata": {
  "kernelspec": {
   "display_name": "Python 3 (ipykernel)",
   "language": "python",
   "name": "python3"
  },
  "language_info": {
   "codemirror_mode": {
    "name": "ipython",
    "version": 3
   },
   "file_extension": ".py",
   "mimetype": "text/x-python",
   "name": "python",
   "nbconvert_exporter": "python",
   "pygments_lexer": "ipython3",
   "version": "3.8.8"
  }
 },
 "nbformat": 4,
 "nbformat_minor": 5
}
