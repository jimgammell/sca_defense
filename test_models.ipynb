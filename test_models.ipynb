{
 "cells": [
  {
   "cell_type": "code",
   "execution_count": 1,
   "id": "a6f7da35",
   "metadata": {},
   "outputs": [
    {
     "name": "stdout",
     "output_type": "stream",
     "text": [
      "MultilayerPerceptron(\n",
      "  (model): Sequential(\n",
      "    (0): Linear(in_features=700, out_features=500, bias=True)\n",
      "    (1): ReLU()\n",
      "    (2): Linear(in_features=500, out_features=500, bias=True)\n",
      "    (3): ReLU()\n",
      "    (4): Linear(in_features=500, out_features=500, bias=True)\n",
      "    (5): ReLU()\n",
      "    (6): Linear(in_features=500, out_features=256, bias=True)\n",
      "    (7): Identity()\n",
      "  )\n",
      ")\n",
      "torch.Size([64, 700])\n",
      "torch.Size([64, 256])\n"
     ]
    }
   ],
   "source": [
    "import torch\n",
    "from torchvision import transforms\n",
    "from datasets.ascad_datasets import AscadDataset\n",
    "from models.multilayer_perceptron import MultilayerPerceptron\n",
    "\n",
    "transform = None\n",
    "target_transform = None\n",
    "dataset = AscadDataset(transform=transform, target_transform=target_transform)\n",
    "dataloader = torch.utils.data.DataLoader(dataset, batch_size=64)\n",
    "\n",
    "input_shape = dataset.trace_shape\n",
    "output_shape = (dataset.num_classes,)\n",
    "model = MultilayerPerceptron(input_shape, output_shape, hidden_layer_sizes=[500, 500, 500])\n",
    "print(model)\n",
    "\n",
    "trace, label = next(iter(dataloader))\n",
    "print(trace.shape)\n",
    "logits = model(trace)\n",
    "print(logits.shape)"
   ]
  },
  {
   "cell_type": "code",
   "execution_count": 2,
   "id": "7822816c",
   "metadata": {},
   "outputs": [
    {
     "name": "stdout",
     "output_type": "stream",
     "text": [
      "LstmModel(\n",
      "  (recurrent_model): LSTM(1, 64, batch_first=True)\n",
      "  (output_transform): Linear(in_features=64, out_features=1, bias=True)\n",
      ")\n",
      "torch.Size([64, 700])\n",
      "torch.Size([64, 700])\n"
     ]
    }
   ],
   "source": [
    "from models.lstm import LstmModel\n",
    "\n",
    "model = LstmModel(64, 1)\n",
    "print(model)\n",
    "print(trace.shape)\n",
    "print(model(trace).shape)"
   ]
  }
 ],
 "metadata": {
  "kernelspec": {
   "display_name": "Python 3 (ipykernel)",
   "language": "python",
   "name": "python3"
  },
  "language_info": {
   "codemirror_mode": {
    "name": "ipython",
    "version": 3
   },
   "file_extension": ".py",
   "mimetype": "text/x-python",
   "name": "python",
   "nbconvert_exporter": "python",
   "pygments_lexer": "ipython3",
   "version": "3.8.8"
  }
 },
 "nbformat": 4,
 "nbformat_minor": 5
}
