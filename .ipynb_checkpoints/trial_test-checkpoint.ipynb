{
 "cells": [
  {
   "cell_type": "code",
   "execution_count": null,
   "id": "afa9a054",
   "metadata": {},
   "outputs": [],
   "source": [
    "import numpy as np\n",
    "import torch\n",
    "from torch import optim, nn\n",
    "from trial import run_trial\n",
    "from losses import get_negative_loss\n",
    "from datasets import BinaryDataset"
   ]
  },
  {
   "cell_type": "code",
   "execution_count": null,
   "id": "b4d16867",
   "metadata": {},
   "outputs": [],
   "source": [
    "g_model = MultilayerPerceptron\n",
    "g_model_kwargs = {'n_inputs': 1,\n",
    "                  'n_outputs': 1}\n",
    "d_model = MultilayerPerceptron\n",
    "d_model_kwargs = {'n_inputs': 1,\n",
    "                  'n_outputs': 1}\n",
    "d_loss_fn = nn.MSELoss\n",
    "d_loss_kwargs = {}\n",
    "g_loss_fn = get_negative_loss(d_loss_fn)\n",
    "g_loss_kwargs = {}\n",
    "d_optimizer = optim.Adam\n",
    "d_optimizer_kwargs = {}\n",
    "g_optimizer = optim.Adam\n",
    "g_optimizer_kwargs = {}\n",
    "device = 'cpu'\n",
    "trial_kwargs = {'d_pretrain_epochs': 0,\n",
    "                'g_pretrain_epochs': 0,\n",
    "                'gan_train_epochs': 1000,\n",
    "                'd_posttrain_epochs': 0,\n",
    "                'g_posttrain_epochs': 0}\n",
    "train_dataset = BinaryDataset()\n",
    "val_dataset = None\n",
    "train_dataloader_kwargs = {}\n",
    "val_dataloader_kwargs = {}"
   ]
  },
  {
   "cell_type": "code",
   "execution_count": null,
   "id": "bf8ebbf4",
   "metadata": {},
   "outputs": [],
   "source": [
    "run_trial(g_model, d_model, g_model_kwargs, d_model_kwargs,\n",
    "          g_loss_fn, d_loss_fn, g_loss_fn_kwargs, d_loss_fn_kwargs,\n",
    "          g_optimizer, d_optimizer, g_optimizer_kwargs, d_optimizer_kwargs,\n",
    "          train_dataset, train_dataloader_kwargs, val_dataset, val_dataloader_kwargs,\n",
    "          device, trial_kwargs)"
   ]
  }
 ],
 "metadata": {
  "kernelspec": {
   "display_name": "Python 3 (ipykernel)",
   "language": "python",
   "name": "python3"
  },
  "language_info": {
   "codemirror_mode": {
    "name": "ipython",
    "version": 3
   },
   "file_extension": ".py",
   "mimetype": "text/x-python",
   "name": "python",
   "nbconvert_exporter": "python",
   "pygments_lexer": "ipython3",
   "version": "3.8.8"
  }
 },
 "nbformat": 4,
 "nbformat_minor": 5
}
