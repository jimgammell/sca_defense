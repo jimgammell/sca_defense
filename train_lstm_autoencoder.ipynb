{
 "cells": [
  {
   "cell_type": "code",
   "execution_count": 1,
   "id": "108782c6",
   "metadata": {},
   "outputs": [],
   "source": [
    "from tqdm import tqdm\n",
    "import numpy as np\n",
    "import torch\n",
    "from matplotlib import pyplot as plt\n",
    "from torch import nn, optim\n",
    "from torch.utils.data import DataLoader\n",
    "from datasets.ascad import AscadDataset\n",
    "from models.recurrent import LstmModel\n",
    "from datasets.transforms import ToTensor\n",
    "from training.training import execute_epoch, train_batch, eval_batch\n",
    "from training.metrics import get_loss"
   ]
  },
  {
   "cell_type": "code",
   "execution_count": 2,
   "id": "4040860a",
   "metadata": {},
   "outputs": [],
   "source": [
    "num_epochs = 10\n",
    "batch_size = 256\n",
    "grad_clip_norm = 1.0\n",
    "metrics = {'loss': get_loss}"
   ]
  },
  {
   "cell_type": "code",
   "execution_count": 3,
   "id": "09214c9e",
   "metadata": {},
   "outputs": [],
   "source": [
    "train_dataset = AscadDataset(train=True, transform=ToTensor())\n",
    "test_dataset = AscadDataset(train=False, transform=ToTensor())\n",
    "train_dataloader = DataLoader(train_dataset, batch_size=batch_size, shuffle=True)\n",
    "test_dataloader = DataLoader(test_dataset, batch_size=batch_size, shuffle=False)"
   ]
  },
  {
   "cell_type": "code",
   "execution_count": 4,
   "id": "19506999",
   "metadata": {},
   "outputs": [
    {
     "name": "stdout",
     "output_type": "stream",
     "text": [
      "Model: LstmModel(\n",
      "  (recurrent_layers): ModuleList(\n",
      "    (0): LSTMCell(1, 64)\n",
      "    (1): LSTMCell(64, 64)\n",
      "    (2): LSTMCell(64, 64)\n",
      "    (3): Linear(in_features=64, out_features=1, bias=True)\n",
      "  )\n",
      ")\n",
      "Loss function: MSELoss()\n",
      "Optimizer: Adam (\n",
      "Parameter Group 0\n",
      "    amsgrad: False\n",
      "    betas: (0.9, 0.999)\n",
      "    eps: 1e-08\n",
      "    lr: 0.001\n",
      "    weight_decay: 0\n",
      ")\n",
      "Device: cuda\n"
     ]
    }
   ],
   "source": [
    "model = LstmModel()\n",
    "loss_fn = nn.MSELoss()\n",
    "optimizer = optim.Adam(model.parameters())\n",
    "device = 'cuda'\n",
    "model = model.to(device)\n",
    "\n",
    "print('Model:', model)\n",
    "print('Loss function:', loss_fn)\n",
    "print('Optimizer:', optimizer)\n",
    "print('Device:', device)"
   ]
  },
  {
   "cell_type": "code",
   "execution_count": 5,
   "id": "b1bdb251",
   "metadata": {},
   "outputs": [
    {
     "name": "stderr",
     "output_type": "stream",
     "text": [
      "100%|█████████████████████████████████████████████████████████████████████████████████████████████████████████████████████████████████████████████████████████████████████████| 10/10 [15:19<00:00, 91.92s/it]\n"
     ]
    }
   ],
   "source": [
    "train_results = {}\n",
    "test_results = {}\n",
    "\n",
    "def train_epoch(update_params=True):\n",
    "    if update_params:\n",
    "        results = execute_epoch(train_batch, train_dataloader, model, loss_fn, optimizer, device,\n",
    "                                batch_metric_fns=metrics, autoencoder=True, grad_clip_val=1.0)\n",
    "    else:\n",
    "        results = execute_epoch(eval_batch, train_dataloader, model, loss_fn, device,\n",
    "                                batch_metric_fns=metrics, autoencoder=True)\n",
    "    for key in results.keys():\n",
    "        if not(key in train_results):\n",
    "            train_results[key] = []\n",
    "        train_results[key].append(results[key])\n",
    "\n",
    "def test_epoch():\n",
    "    results = execute_epoch(eval_batch, test_dataloader, model, loss_fn, device,\n",
    "                            batch_metric_fns=metrics, autoencoder=True)\n",
    "    for key in results.keys():\n",
    "        if not(key in test_results):\n",
    "            test_results[key] = []\n",
    "        test_results[key].append(results[key])\n",
    "\n",
    "train_epoch(update_params=False)\n",
    "test_epoch()\n",
    "for epoch in tqdm(range(num_epochs)):\n",
    "    train_epoch()\n",
    "    test_epoch()"
   ]
  },
  {
   "cell_type": "code",
   "execution_count": 10,
   "id": "29ac8bf6",
   "metadata": {},
   "outputs": [
    {
     "data": {
      "image/png": "[encoded data removed]",
      "text/plain": [
       "<Figure size 432x288 with 1 Axes>"
      ]
     },
     "metadata": {
      "needs_background": "light"
     },
     "output_type": "display_data"
    }
   ],
   "source": [
    "for k in train_results.keys():\n",
    "    train_results[k] = [np.mean(x) for x in train_results[k]]\n",
    "for k in test_results.keys():\n",
    "    test_results[k] = [np.mean(x) for x in test_results[k]]\n",
    "plt.plot(train_results['loss'])\n",
    "plt.plot(test_results['loss'])\n",
    "plt.yscale('log')"
   ]
  }
 ],
 "metadata": {
  "kernelspec": {
   "display_name": "Python 3 (ipykernel)",
   "language": "python",
   "name": "python3"
  },
  "language_info": {
   "codemirror_mode": {
    "name": "ipython",
    "version": 3
   },
   "file_extension": ".py",
   "mimetype": "text/x-python",
   "name": "python",
   "nbconvert_exporter": "python",
   "pygments_lexer": "ipython3",
   "version": "3.8.8"
  }
 },
 "nbformat": 4,
 "nbformat_minor": 5
}
