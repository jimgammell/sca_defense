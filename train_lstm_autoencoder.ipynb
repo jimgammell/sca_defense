{
 "cells": [
  {
   "cell_type": "code",
   "execution_count": 1,
   "id": "85e4fcb9",
   "metadata": {},
   "outputs": [],
   "source": [
    "import os\n",
    "import pickle\n",
    "from tqdm import tqdm\n",
    "import numpy as np\n",
    "import torch\n",
    "from matplotlib import pyplot as plt\n",
    "from torch import nn, optim\n",
    "from torch.utils.data import DataLoader\n",
    "from datasets.ascad import AscadDataset\n",
    "from models.recurrent import LstmModel\n",
    "from datasets.transforms import ToTensor\n",
    "from training.training import execute_epoch, train_batch, eval_batch\n",
    "from training.metrics import get_loss"
   ]
  },
  {
   "cell_type": "code",
   "execution_count": 2,
   "id": "a1840ec6",
   "metadata": {},
   "outputs": [],
   "source": [
    "retrain = False\n",
    "num_epochs = 10\n",
    "batch_size = 256\n",
    "grad_clip_norm = 1.0\n",
    "metrics = {'loss': get_loss}\n",
    "results_dir = os.path.join('.', 'results', 'lstm_autoencoder')"
   ]
  },
  {
   "cell_type": "code",
   "execution_count": 3,
   "id": "b86e8b92",
   "metadata": {},
   "outputs": [],
   "source": [
    "train_dataset = AscadDataset(train=True, transform=ToTensor())\n",
    "test_dataset = AscadDataset(train=False, transform=ToTensor())\n",
    "train_dataloader = DataLoader(train_dataset, batch_size=batch_size, shuffle=True)\n",
    "test_dataloader = DataLoader(test_dataset, batch_size=batch_size, shuffle=False)"
   ]
  },
  {
   "cell_type": "code",
   "execution_count": null,
   "id": "50487bd5",
   "metadata": {
    "scrolled": true
   },
   "outputs": [
    {
     "name": "stdout",
     "output_type": "stream",
     "text": [
      "Realistic hindsight: True, Delay: 0\n"
     ]
    },
    {
     "name": "stderr",
     "output_type": "stream",
     "text": [
      "100%|█████████████████████████████████████████████████████████████████████████████████████████████████████████████████████████████████████████████████████████████████████████| 10/10 [16:28<00:00, 98.85s/it]\n"
     ]
    },
    {
     "name": "stdout",
     "output_type": "stream",
     "text": [
      "Realistic hindsight: True, Delay: 1\n"
     ]
    },
    {
     "name": "stderr",
     "output_type": "stream",
     "text": [
      "100%|█████████████████████████████████████████████████████████████████████████████████████████████████████████████████████████████████████████████████████████████████████████| 10/10 [16:33<00:00, 99.32s/it]\n"
     ]
    },
    {
     "name": "stdout",
     "output_type": "stream",
     "text": [
      "Realistic hindsight: True, Delay: 2\n"
     ]
    },
    {
     "name": "stderr",
     "output_type": "stream",
     "text": [
      "100%|█████████████████████████████████████████████████████████████████████████████████████████████████████████████████████████████████████████████████████████████████████████| 10/10 [16:39<00:00, 99.97s/it]\n"
     ]
    },
    {
     "name": "stdout",
     "output_type": "stream",
     "text": [
      "Realistic hindsight: True, Delay: 4\n"
     ]
    },
    {
     "name": "stderr",
     "output_type": "stream",
     "text": [
      "100%|████████████████████████████████████████████████████████████████████████████████████████████████████████████████████████████████████████████████████████████████████████| 10/10 [16:45<00:00, 100.52s/it]\n"
     ]
    },
    {
     "name": "stdout",
     "output_type": "stream",
     "text": [
      "Realistic hindsight: True, Delay: 8\n"
     ]
    },
    {
     "name": "stderr",
     "output_type": "stream",
     "text": [
      "100%|████████████████████████████████████████████████████████████████████████████████████████████████████████████████████████████████████████████████████████████████████████| 10/10 [16:44<00:00, 100.48s/it]\n"
     ]
    },
    {
     "name": "stdout",
     "output_type": "stream",
     "text": [
      "Realistic hindsight: True, Delay: 16\n"
     ]
    },
    {
     "name": "stderr",
     "output_type": "stream",
     "text": [
      "100%|████████████████████████████████████████████████████████████████████████████████████████████████████████████████████████████████████████████████████████████████████████| 10/10 [16:53<00:00, 101.31s/it]\n"
     ]
    },
    {
     "name": "stdout",
     "output_type": "stream",
     "text": [
      "Realistic hindsight: False, Delay: 0\n"
     ]
    },
    {
     "name": "stderr",
     "output_type": "stream",
     "text": [
      "\r",
      "  0%|                                                                                                                                                                                  | 0/10 [00:00<?, ?it/s]"
     ]
    }
   ],
   "source": [
    "realistic_hindsight_values = [True, False]\n",
    "delay_values = [0, 1, 2, 4, 8, 16]\n",
    "train_results = {(hs, d): {} for hs in realistic_hindsight_values for d in delay_values}\n",
    "test_results = {(hs, d): {} for hs in realistic_hindsight_values for d in delay_values}\n",
    "\n",
    "if retrain:\n",
    "    for realistic_hindsight in realistic_hindsight_values:\n",
    "        for delay in delay_values:\n",
    "            model = LstmModel(delay=delay, realistic_hindsight=realistic_hindsight)\n",
    "            loss_fn = nn.MSELoss()\n",
    "            optimizer = optim.Adam(model.parameters())\n",
    "            device = 'cuda'\n",
    "            model = model.to(device)\n",
    "            print('Realistic hindsight: {}, Delay: {}'.format(realistic_hindsight, delay))\n",
    "\n",
    "            def train_epoch(update_params=True):\n",
    "                if update_params:\n",
    "                    results = execute_epoch(train_batch, train_dataloader, model, loss_fn, optimizer, device,\n",
    "                                            batch_metric_fns=metrics, autoencoder=True, grad_clip_val=1.0)\n",
    "                else:\n",
    "                    results = execute_epoch(eval_batch, train_dataloader, model, loss_fn, device,\n",
    "                                            batch_metric_fns=metrics, autoencoder=True)\n",
    "                for key in results.keys():\n",
    "                    if not(key in train_results[(realistic_hindsight, delay)].keys()):\n",
    "                        train_results[(realistic_hindsight, delay)][key] = []\n",
    "                    train_results[(realistic_hindsight, delay)][key].append(results[key])\n",
    "\n",
    "\n",
    "            def test_epoch():\n",
    "                results = execute_epoch(eval_batch, test_dataloader, model, loss_fn, device,\n",
    "                                        batch_metric_fns=metrics, autoencoder=True)\n",
    "                for key in results.keys():\n",
    "                    if not(key in test_results[(realistic_hindsight, delay)].keys()):\n",
    "                        test_results[(realistic_hindsight, delay)][key] = []\n",
    "                    test_results[(realistic_hindsight, delay)][key].append(results[key])\n",
    "\n",
    "            #train_epoch(update_params=False)\n",
    "            test_epoch()\n",
    "            for epoch in tqdm(range(num_epochs)):\n",
    "                train_epoch()\n",
    "                test_epoch()\n",
    "            torch.save(model, os.path.join(results_dir, 'trained_model__{}_{}.pt'.format(realistic_hindsight, delay)))"
   ]
  },
  {
   "cell_type": "code",
   "execution_count": null,
   "id": "454d2a3a",
   "metadata": {},
   "outputs": [],
   "source": [
    "if retrain:\n",
    "    with open(os.path.join(results_dir, 'train_results.pickle'), 'wb') as F:\n",
    "        pickle.dump(train_results, F)\n",
    "    with open(os.path.join(results_dir, 'test_results.pickle'), 'wb') as F:\n",
    "        pickle.dump(test_results, F)"
   ]
  },
  {
   "cell_type": "code",
   "execution_count": null,
   "id": "3e66dedc",
   "metadata": {},
   "outputs": [],
   "source": [
    "with open(os.path.join(results_dir, 'train_results.pickle'), 'rb') as F:\n",
    "    train_results = pickle.load(F)\n",
    "with open(os.path.join(results_dir, 'test_results.pickle'), 'rb') as F:\n",
    "    test_results = pickle.load(F)"
   ]
  },
  {
   "cell_type": "code",
   "execution_count": null,
   "id": "83c2e2c0",
   "metadata": {},
   "outputs": [],
   "source": [
    "with open(os.path.join(results_dir, 'delay_sweep.pickle'), 'wb') as F:\n",
    "    pickle.dump(test_losses, F)"
   ]
  },
  {
   "cell_type": "code",
   "execution_count": null,
   "id": "5dbe35c9",
   "metadata": {},
   "outputs": [],
   "source": [
    "with open(os.path.join(results_dir, 'delay_sweep.pickle'), 'rb') as F:\n",
    "    test_losses = pickle.load(F)\n",
    "\n",
    "print(test_losses)\n",
    "    \n",
    "plt.plot([np.min(test_losses[(False, d)]) for d in delay_values], color='blue', label='Oracle hindsight')\n",
    "plt.plot([np.min(test_losses[(True, d)]) for d in delay_values], color='red', label='Realistic hindsight')\n",
    "assert False"
   ]
  },
  {
   "cell_type": "code",
   "execution_count": null,
   "id": "5a2178a8",
   "metadata": {},
   "outputs": [],
   "source": [
    "model = LstmModel(delay=1, realistic_hindsight=True)\n",
    "loss_fn = nn.MSELoss()\n",
    "optimizer = optim.Adam(model.parameters())\n",
    "device = 'cuda'\n",
    "model = model.to(device)\n",
    "\n",
    "print('Model:', model)\n",
    "print('Loss function:', loss_fn)\n",
    "print('Optimizer:', optimizer)\n",
    "print('Device:', device)"
   ]
  },
  {
   "cell_type": "code",
   "execution_count": null,
   "id": "c5d793e9",
   "metadata": {},
   "outputs": [],
   "source": [
    "train_results = {}\n",
    "test_results = {}\n",
    "\n",
    "def train_epoch(update_params=True):\n",
    "    if update_params:\n",
    "        results = execute_epoch(train_batch, train_dataloader, model, loss_fn, optimizer, device,\n",
    "                                batch_metric_fns=metrics, autoencoder=True, grad_clip_val=1.0)\n",
    "    else:\n",
    "        results = execute_epoch(eval_batch, train_dataloader, model, loss_fn, device,\n",
    "                                batch_metric_fns=metrics, autoencoder=True)\n",
    "    for key in results.keys():\n",
    "        if not(key in train_results):\n",
    "            train_results[key] = []\n",
    "        train_results[key].append(results[key])\n",
    "\n",
    "def test_epoch():\n",
    "    results = execute_epoch(eval_batch, test_dataloader, model, loss_fn, device,\n",
    "                            batch_metric_fns=metrics, autoencoder=True)\n",
    "    for key in results.keys():\n",
    "        if not(key in test_results):\n",
    "            test_results[key] = []\n",
    "        test_results[key].append(results[key])\n",
    "\n",
    "if retrain:\n",
    "    train_epoch(update_params=False)\n",
    "    test_epoch()\n",
    "    for epoch in tqdm(range(num_epochs)):\n",
    "        train_epoch()\n",
    "        test_epoch()"
   ]
  },
  {
   "cell_type": "code",
   "execution_count": null,
   "id": "05bcb32a",
   "metadata": {},
   "outputs": [],
   "source": [
    "if retrain:\n",
    "    os.makedirs(results_dir, exist_ok=True)\n",
    "    with open(os.path.join(results_dir, 'train_results.pickle'), 'wb') as F:\n",
    "        pickle.dump(train_results, F)\n",
    "    with open(os.path.join(results_dir, 'test_results.pickle'), 'wb') as F:\n",
    "        pickle.dump(test_results, F)\n",
    "    torch.save(model, os.path.join(results_dir, 'trained_model.pt'))"
   ]
  },
  {
   "cell_type": "code",
   "execution_count": null,
   "id": "bc5091f3",
   "metadata": {},
   "outputs": [],
   "source": [
    "with open(os.path.join(results_dir, 'train_results.pickle'), 'rb') as F:\n",
    "    train_results = pickle.load(F)\n",
    "with open(os.path.join(results_dir, 'test_results.pickle'), 'rb') as F:\n",
    "    test_results = pickle.load(F)\n",
    "model = torch.load(os.path.join(results_dir, 'trained_model.pt'))"
   ]
  },
  {
   "cell_type": "code",
   "execution_count": null,
   "id": "0caefeb5",
   "metadata": {},
   "outputs": [],
   "source": [
    "for k in train_results.keys():\n",
    "    train_results[k] = [np.mean(x) for x in train_results[k]]\n",
    "for k in test_results.keys():\n",
    "    test_results[k] = [np.mean(x) for x in test_results[k]]\n",
    "plt.plot(train_results['loss'])\n",
    "plt.plot(test_results['loss'])\n",
    "plt.yscale('log')"
   ]
  },
  {
   "cell_type": "code",
   "execution_count": null,
   "id": "c7ec6af9",
   "metadata": {},
   "outputs": [],
   "source": [
    "from display_results import plot_autoencoder_traces\n",
    "traces = next(iter(test_dataloader))[0][:4]\n",
    "plot_autoencoder_traces(traces, model, device)"
   ]
  }
 ],
 "metadata": {
  "kernelspec": {
   "display_name": "Python 3 (ipykernel)",
   "language": "python",
   "name": "python3"
  },
  "language_info": {
   "codemirror_mode": {
    "name": "ipython",
    "version": 3
   },
   "file_extension": ".py",
   "mimetype": "text/x-python",
   "name": "python",
   "nbconvert_exporter": "python",
   "pygments_lexer": "ipython3",
   "version": "3.8.8"
  }
 },
 "nbformat": 4,
 "nbformat_minor": 5
}
